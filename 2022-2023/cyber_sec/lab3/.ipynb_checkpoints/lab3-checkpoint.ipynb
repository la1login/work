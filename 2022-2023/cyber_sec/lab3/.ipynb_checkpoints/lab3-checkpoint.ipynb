{
 "cells": [
  {
   "cell_type": "code",
   "execution_count": 88,
   "id": "8dedd5f2",
   "metadata": {},
   "outputs": [],
   "source": [
    "# задаем алфавит\n",
    "alph = 'абвгдежзийклмнопрстуфхцчшщъыьэюя'"
   ]
  },
  {
   "cell_type": "code",
   "execution_count": 89,
   "id": "7160c019",
   "metadata": {},
   "outputs": [],
   "source": [
    "# создаем словари формата число-буква и буква-число\n",
    "dict = {}\n",
    "for i in range(1, 33):\n",
    "    dict[i] = alph[i - 1]"
   ]
  },
  {
   "cell_type": "code",
   "execution_count": 90,
   "id": "8dd5d3ff",
   "metadata": {},
   "outputs": [],
   "source": [
    "dict1 = {v: k for k, v in dict.items()}"
   ]
  },
  {
   "cell_type": "code",
   "execution_count": 91,
   "id": "343e011d",
   "metadata": {},
   "outputs": [],
   "source": [
    "# меняем местами для удобства\n",
    "dict, dict1 = dict1, dict"
   ]
  },
  {
   "cell_type": "code",
   "execution_count": 92,
   "id": "1322371c",
   "metadata": {},
   "outputs": [],
   "source": [
    "# функция шифрования\n",
    "def crypt_gamma(word, key):\n",
    "    a = []\n",
    "    for i in range(len(word)):\n",
    "        try:\n",
    "            a.append(dict[word[i]] + dict[key[i]])\n",
    "        except:\n",
    "            a.append(dict[word[i]] + dict[key[i % len(key)]])\n",
    "    print('Числовое представление:', a)\n",
    "    crypto = ''\n",
    "    for i in a:\n",
    "        crypto += dict1[i]\n",
    "    print('Буквенное представление:', crypto)"
   ]
  },
  {
   "cell_type": "code",
   "execution_count": 93,
   "id": "b8b60feb",
   "metadata": {},
   "outputs": [
    {
     "name": "stdout",
     "output_type": "stream",
     "text": [
      "Числовое представление: [20, 18, 22, 24, 2, 12]\n",
      "Буквенное представление: усхчбл\n"
     ]
    }
   ],
   "source": [
    "crypt_gamma('приказ', 'гамма')"
   ]
  },
  {
   "cell_type": "code",
   "execution_count": 94,
   "id": "c9e6e78d",
   "metadata": {},
   "outputs": [],
   "source": [
    "# функция дешифровки\n",
    "def decrypt_gamma(crypto, key):\n",
    "    a = []\n",
    "    for i in range(len(word)):\n",
    "        try:\n",
    "            a.append(dict[word[i]] - dict[key[i]])\n",
    "        except:\n",
    "            a.append(dict[word[i]] - dict[key[i % len(key)]])\n",
    "    print('Числовое представление:', a)\n",
    "    crypto = ''\n",
    "    for i in a:\n",
    "        crypto += dict1[i]\n",
    "    print('Буквенное представление:', crypto)"
   ]
  },
  {
   "cell_type": "code",
   "execution_count": 95,
   "id": "65738fd2",
   "metadata": {},
   "outputs": [
    {
     "name": "stdout",
     "output_type": "stream",
     "text": [
      "Числовое представление: [16, 17, 9, 11, 1, 8]\n",
      "Буквенное представление: приказ\n"
     ]
    }
   ],
   "source": [
    "decrypt_gamma('усхчбл', 'гамма')"
   ]
  },
  {
   "cell_type": "code",
   "execution_count": null,
   "id": "6445c4df",
   "metadata": {},
   "outputs": [],
   "source": []
  }
 ],
 "metadata": {
  "kernelspec": {
   "display_name": "Python 3 (ipykernel)",
   "language": "python",
   "name": "python3"
  },
  "language_info": {
   "codemirror_mode": {
    "name": "ipython",
    "version": 3
   },
   "file_extension": ".py",
   "mimetype": "text/x-python",
   "name": "python",
   "nbconvert_exporter": "python",
   "pygments_lexer": "ipython3",
   "version": "3.9.12"
  }
 },
 "nbformat": 4,
 "nbformat_minor": 5
}
