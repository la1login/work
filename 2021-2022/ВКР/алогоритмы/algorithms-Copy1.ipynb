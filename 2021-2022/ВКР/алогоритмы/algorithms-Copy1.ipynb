{
 "cells": [
  {
   "cell_type": "code",
   "execution_count": 1,
   "id": "f76a3ff3",
   "metadata": {},
   "outputs": [],
   "source": [
    "import pandas as pd\n",
    "import numpy as np\n",
    "import matplotlib.pyplot as plt\n",
    "from scipy import stats"
   ]
  },
  {
   "cell_type": "code",
   "execution_count": 2,
   "id": "871044c7",
   "metadata": {},
   "outputs": [],
   "source": [
    "np.random.seed(123)\n",
    "df = pd.DataFrame(np.random.randint(0, 100, size=(100000, 4)), columns=['g1', 'g2', 'g3', 'g4'])"
   ]
  },
  {
   "cell_type": "code",
   "execution_count": 3,
   "id": "17bbbbd2",
   "metadata": {},
   "outputs": [
    {
     "data": {
      "text/html": [
       "<div>\n",
       "<style scoped>\n",
       "    .dataframe tbody tr th:only-of-type {\n",
       "        vertical-align: middle;\n",
       "    }\n",
       "\n",
       "    .dataframe tbody tr th {\n",
       "        vertical-align: top;\n",
       "    }\n",
       "\n",
       "    .dataframe thead th {\n",
       "        text-align: right;\n",
       "    }\n",
       "</style>\n",
       "<table border=\"1\" class=\"dataframe\">\n",
       "  <thead>\n",
       "    <tr style=\"text-align: right;\">\n",
       "      <th></th>\n",
       "      <th>g1</th>\n",
       "      <th>g2</th>\n",
       "      <th>g3</th>\n",
       "      <th>g4</th>\n",
       "    </tr>\n",
       "  </thead>\n",
       "  <tbody>\n",
       "    <tr>\n",
       "      <th>0</th>\n",
       "      <td>66</td>\n",
       "      <td>92</td>\n",
       "      <td>98</td>\n",
       "      <td>17</td>\n",
       "    </tr>\n",
       "    <tr>\n",
       "      <th>1</th>\n",
       "      <td>83</td>\n",
       "      <td>57</td>\n",
       "      <td>86</td>\n",
       "      <td>97</td>\n",
       "    </tr>\n",
       "    <tr>\n",
       "      <th>2</th>\n",
       "      <td>96</td>\n",
       "      <td>47</td>\n",
       "      <td>73</td>\n",
       "      <td>32</td>\n",
       "    </tr>\n",
       "    <tr>\n",
       "      <th>3</th>\n",
       "      <td>46</td>\n",
       "      <td>96</td>\n",
       "      <td>25</td>\n",
       "      <td>83</td>\n",
       "    </tr>\n",
       "    <tr>\n",
       "      <th>4</th>\n",
       "      <td>78</td>\n",
       "      <td>36</td>\n",
       "      <td>96</td>\n",
       "      <td>80</td>\n",
       "    </tr>\n",
       "    <tr>\n",
       "      <th>...</th>\n",
       "      <td>...</td>\n",
       "      <td>...</td>\n",
       "      <td>...</td>\n",
       "      <td>...</td>\n",
       "    </tr>\n",
       "    <tr>\n",
       "      <th>99995</th>\n",
       "      <td>2</td>\n",
       "      <td>51</td>\n",
       "      <td>25</td>\n",
       "      <td>32</td>\n",
       "    </tr>\n",
       "    <tr>\n",
       "      <th>99996</th>\n",
       "      <td>70</td>\n",
       "      <td>46</td>\n",
       "      <td>21</td>\n",
       "      <td>30</td>\n",
       "    </tr>\n",
       "    <tr>\n",
       "      <th>99997</th>\n",
       "      <td>4</td>\n",
       "      <td>13</td>\n",
       "      <td>33</td>\n",
       "      <td>7</td>\n",
       "    </tr>\n",
       "    <tr>\n",
       "      <th>99998</th>\n",
       "      <td>84</td>\n",
       "      <td>7</td>\n",
       "      <td>7</td>\n",
       "      <td>5</td>\n",
       "    </tr>\n",
       "    <tr>\n",
       "      <th>99999</th>\n",
       "      <td>75</td>\n",
       "      <td>80</td>\n",
       "      <td>85</td>\n",
       "      <td>71</td>\n",
       "    </tr>\n",
       "  </tbody>\n",
       "</table>\n",
       "<p>100000 rows × 4 columns</p>\n",
       "</div>"
      ],
      "text/plain": [
       "       g1  g2  g3  g4\n",
       "0      66  92  98  17\n",
       "1      83  57  86  97\n",
       "2      96  47  73  32\n",
       "3      46  96  25  83\n",
       "4      78  36  96  80\n",
       "...    ..  ..  ..  ..\n",
       "99995   2  51  25  32\n",
       "99996  70  46  21  30\n",
       "99997   4  13  33   7\n",
       "99998  84   7   7   5\n",
       "99999  75  80  85  71\n",
       "\n",
       "[100000 rows x 4 columns]"
      ]
     },
     "execution_count": 3,
     "metadata": {},
     "output_type": "execute_result"
    }
   ],
   "source": [
    "df"
   ]
  },
  {
   "cell_type": "markdown",
   "id": "01275790",
   "metadata": {},
   "source": [
    "# Выборочное среднее / матожидание"
   ]
  },
  {
   "cell_type": "code",
   "execution_count": 4,
   "id": "e0939b48",
   "metadata": {},
   "outputs": [
    {
     "data": {
      "text/plain": [
       "g1    49.55396\n",
       "g2    49.47636\n",
       "g3    49.50545\n",
       "g4    49.48957\n",
       "dtype: float64"
      ]
     },
     "execution_count": 4,
     "metadata": {},
     "output_type": "execute_result"
    }
   ],
   "source": [
    "df.mean()"
   ]
  },
  {
   "cell_type": "markdown",
   "id": "3c7a70d9",
   "metadata": {},
   "source": [
    "# Медиана"
   ]
  },
  {
   "cell_type": "code",
   "execution_count": 5,
   "id": "3d3d7588",
   "metadata": {},
   "outputs": [
    {
     "data": {
      "text/plain": [
       "g1    50.0\n",
       "g2    49.0\n",
       "g3    50.0\n",
       "g4    50.0\n",
       "dtype: float64"
      ]
     },
     "execution_count": 5,
     "metadata": {},
     "output_type": "execute_result"
    }
   ],
   "source": [
    "df.median()"
   ]
  },
  {
   "cell_type": "markdown",
   "id": "ad6da37c",
   "metadata": {},
   "source": [
    "# Дисперсия"
   ]
  },
  {
   "cell_type": "code",
   "execution_count": 6,
   "id": "4b6449ab",
   "metadata": {},
   "outputs": [
    {
     "data": {
      "text/plain": [
       "g1    834.097649\n",
       "g2    834.581327\n",
       "g3    832.021531\n",
       "g4    833.361845\n",
       "dtype: float64"
      ]
     },
     "execution_count": 6,
     "metadata": {},
     "output_type": "execute_result"
    }
   ],
   "source": [
    "df.var()"
   ]
  },
  {
   "cell_type": "markdown",
   "id": "77976058",
   "metadata": {},
   "source": [
    "# Стандартное отклонение / среднеквадратическое отклонение"
   ]
  },
  {
   "cell_type": "code",
   "execution_count": 7,
   "id": "bfe13e78",
   "metadata": {},
   "outputs": [
    {
     "data": {
      "text/plain": [
       "g1    28.880749\n",
       "g2    28.889121\n",
       "g3    28.844783\n",
       "g4    28.868007\n",
       "dtype: float64"
      ]
     },
     "execution_count": 7,
     "metadata": {},
     "output_type": "execute_result"
    }
   ],
   "source": [
    "df.std()"
   ]
  },
  {
   "cell_type": "markdown",
   "id": "c926fed5",
   "metadata": {},
   "source": [
    "# Мода"
   ]
  },
  {
   "cell_type": "code",
   "execution_count": 8,
   "id": "d84d3d47",
   "metadata": {},
   "outputs": [
    {
     "data": {
      "text/plain": [
       "0    30\n",
       "dtype: int64"
      ]
     },
     "execution_count": 8,
     "metadata": {},
     "output_type": "execute_result"
    }
   ],
   "source": [
    "df.g1.mode()"
   ]
  },
  {
   "cell_type": "markdown",
   "id": "b7e35ea9",
   "metadata": {},
   "source": [
    "# Размах"
   ]
  },
  {
   "cell_type": "code",
   "execution_count": 9,
   "id": "11e322d5",
   "metadata": {},
   "outputs": [],
   "source": [
    "def st_range(df, name):\n",
    "    \"\"\"\n",
    "    Вычисление размаха - разность максимального и минимального значения признака\n",
    "    \"\"\"\n",
    "    return df[name].max() - df[name].min()"
   ]
  },
  {
   "cell_type": "markdown",
   "id": "f670fab9",
   "metadata": {},
   "source": [
    "# Квантили / квартили"
   ]
  },
  {
   "cell_type": "code",
   "execution_count": 10,
   "id": "a8c6d0f4",
   "metadata": {},
   "outputs": [
    {
     "data": {
      "text/plain": [
       "g1    50.0\n",
       "g2    49.0\n",
       "g3    50.0\n",
       "g4    50.0\n",
       "Name: 0.5, dtype: float64"
      ]
     },
     "execution_count": 10,
     "metadata": {},
     "output_type": "execute_result"
    }
   ],
   "source": [
    "df.quantile(0.5)"
   ]
  },
  {
   "cell_type": "markdown",
   "id": "fc4df826",
   "metadata": {},
   "source": [
    "# Z-стандартизация для дф"
   ]
  },
  {
   "cell_type": "code",
   "execution_count": 11,
   "id": "2649fd2b",
   "metadata": {},
   "outputs": [],
   "source": [
    "df_z = pd.DataFrame(stats.zscore(df), columns=['g1', 'g2', 'g3', 'g4'])"
   ]
  },
  {
   "cell_type": "code",
   "execution_count": 12,
   "id": "1867548f",
   "metadata": {},
   "outputs": [
    {
     "data": {
      "text/html": [
       "<div>\n",
       "<style scoped>\n",
       "    .dataframe tbody tr th:only-of-type {\n",
       "        vertical-align: middle;\n",
       "    }\n",
       "\n",
       "    .dataframe tbody tr th {\n",
       "        vertical-align: top;\n",
       "    }\n",
       "\n",
       "    .dataframe thead th {\n",
       "        text-align: right;\n",
       "    }\n",
       "</style>\n",
       "<table border=\"1\" class=\"dataframe\">\n",
       "  <thead>\n",
       "    <tr style=\"text-align: right;\">\n",
       "      <th></th>\n",
       "      <th>g1</th>\n",
       "      <th>g2</th>\n",
       "      <th>g3</th>\n",
       "      <th>g4</th>\n",
       "    </tr>\n",
       "  </thead>\n",
       "  <tbody>\n",
       "    <tr>\n",
       "      <th>0</th>\n",
       "      <td>0.569449</td>\n",
       "      <td>1.471968</td>\n",
       "      <td>1.681233</td>\n",
       "      <td>-1.125458</td>\n",
       "    </tr>\n",
       "    <tr>\n",
       "      <th>1</th>\n",
       "      <td>1.158080</td>\n",
       "      <td>0.260433</td>\n",
       "      <td>1.265211</td>\n",
       "      <td>1.645790</td>\n",
       "    </tr>\n",
       "    <tr>\n",
       "      <th>2</th>\n",
       "      <td>1.608209</td>\n",
       "      <td>-0.085720</td>\n",
       "      <td>0.814521</td>\n",
       "      <td>-0.605849</td>\n",
       "    </tr>\n",
       "    <tr>\n",
       "      <th>3</th>\n",
       "      <td>-0.123057</td>\n",
       "      <td>1.610429</td>\n",
       "      <td>-0.849567</td>\n",
       "      <td>1.160821</td>\n",
       "    </tr>\n",
       "    <tr>\n",
       "      <th>4</th>\n",
       "      <td>0.984953</td>\n",
       "      <td>-0.466488</td>\n",
       "      <td>1.611896</td>\n",
       "      <td>1.056900</td>\n",
       "    </tr>\n",
       "    <tr>\n",
       "      <th>...</th>\n",
       "      <td>...</td>\n",
       "      <td>...</td>\n",
       "      <td>...</td>\n",
       "      <td>...</td>\n",
       "    </tr>\n",
       "    <tr>\n",
       "      <th>99995</th>\n",
       "      <td>-1.646571</td>\n",
       "      <td>0.052741</td>\n",
       "      <td>-0.849567</td>\n",
       "      <td>-0.605849</td>\n",
       "    </tr>\n",
       "    <tr>\n",
       "      <th>99996</th>\n",
       "      <td>0.707951</td>\n",
       "      <td>-0.120335</td>\n",
       "      <td>-0.988241</td>\n",
       "      <td>-0.675130</td>\n",
       "    </tr>\n",
       "    <tr>\n",
       "      <th>99997</th>\n",
       "      <td>-1.577320</td>\n",
       "      <td>-1.262639</td>\n",
       "      <td>-0.572219</td>\n",
       "      <td>-1.471864</td>\n",
       "    </tr>\n",
       "    <tr>\n",
       "      <th>99998</th>\n",
       "      <td>1.192705</td>\n",
       "      <td>-1.470331</td>\n",
       "      <td>-1.473600</td>\n",
       "      <td>-1.541145</td>\n",
       "    </tr>\n",
       "    <tr>\n",
       "      <th>99999</th>\n",
       "      <td>0.881077</td>\n",
       "      <td>1.056584</td>\n",
       "      <td>1.230542</td>\n",
       "      <td>0.745134</td>\n",
       "    </tr>\n",
       "  </tbody>\n",
       "</table>\n",
       "<p>100000 rows × 4 columns</p>\n",
       "</div>"
      ],
      "text/plain": [
       "             g1        g2        g3        g4\n",
       "0      0.569449  1.471968  1.681233 -1.125458\n",
       "1      1.158080  0.260433  1.265211  1.645790\n",
       "2      1.608209 -0.085720  0.814521 -0.605849\n",
       "3     -0.123057  1.610429 -0.849567  1.160821\n",
       "4      0.984953 -0.466488  1.611896  1.056900\n",
       "...         ...       ...       ...       ...\n",
       "99995 -1.646571  0.052741 -0.849567 -0.605849\n",
       "99996  0.707951 -0.120335 -0.988241 -0.675130\n",
       "99997 -1.577320 -1.262639 -0.572219 -1.471864\n",
       "99998  1.192705 -1.470331 -1.473600 -1.541145\n",
       "99999  0.881077  1.056584  1.230542  0.745134\n",
       "\n",
       "[100000 rows x 4 columns]"
      ]
     },
     "execution_count": 12,
     "metadata": {},
     "output_type": "execute_result"
    }
   ],
   "source": [
    "df_z"
   ]
  },
  {
   "cell_type": "markdown",
   "id": "88b9d46f",
   "metadata": {},
   "source": [
    "# Z-значение для отдельного значения"
   ]
  },
  {
   "cell_type": "code",
   "execution_count": 13,
   "id": "ca3a00c7",
   "metadata": {},
   "outputs": [],
   "source": [
    "def z_scr_v(value, mean, sd):\n",
    "    return (value - mean) / sd"
   ]
  },
  {
   "cell_type": "markdown",
   "id": "de659af2",
   "metadata": {},
   "source": [
    "# Z-статистика для оценки среднего при многократных выборках"
   ]
  },
  {
   "cell_type": "code",
   "execution_count": 14,
   "id": "006bc22a",
   "metadata": {},
   "outputs": [],
   "source": [
    "def z_scr_mean(mean, mean_gs, sem):\n",
    "    return (mean - mean_gs) / sem"
   ]
  },
  {
   "cell_type": "markdown",
   "id": "21d8ca47",
   "metadata": {},
   "source": [
    "# Стандартная ошибка среднего"
   ]
  },
  {
   "cell_type": "code",
   "execution_count": 15,
   "id": "6f2be578",
   "metadata": {},
   "outputs": [
    {
     "data": {
      "text/plain": [
       "g1    0.091329\n",
       "g2    0.091355\n",
       "g3    0.091215\n",
       "g4    0.091289\n",
       "dtype: float64"
      ]
     },
     "execution_count": 15,
     "metadata": {},
     "output_type": "execute_result"
    }
   ],
   "source": [
    "df.sem()"
   ]
  },
  {
   "cell_type": "markdown",
   "id": "df5e0906",
   "metadata": {},
   "source": [
    "# Доверительные интервалы"
   ]
  },
  {
   "cell_type": "code",
   "execution_count": 16,
   "id": "414d9683",
   "metadata": {},
   "outputs": [],
   "source": [
    "def conf_int(df, name, acc=95):\n",
    "    \"\"\"\n",
    "    Рассчет доверительного интервала для среднего значения.\n",
    "    Можно рассчитать 95%(по умолчанию) и 99% интервал.\n",
    "    \"\"\"\n",
    "    if acc == 99:\n",
    "        return df[name].mean() - df[name].sem() * 2.58, df[name].mean() + df[name].sem() * 2.58\n",
    "    elif acc == 95:\n",
    "        return df[name].mean() - df[name].sem() * 1.96, df[name].mean() + df[name].sem() * 1.96\n",
    "    else:\n",
    "        print('Рассчитываются только 95% и 99% интервалы, проверьте ввод')"
   ]
  },
  {
   "cell_type": "code",
   "execution_count": 17,
   "id": "bb2a4d74",
   "metadata": {},
   "outputs": [
    {
     "data": {
      "text/plain": [
       "(49.37495526460087, 49.73296473539912)"
      ]
     },
     "execution_count": 17,
     "metadata": {},
     "output_type": "execute_result"
    }
   ],
   "source": [
    "conf_int(df, 'g1', 95)"
   ]
  },
  {
   "cell_type": "code",
   "execution_count": 18,
   "id": "3e8bc02e",
   "metadata": {},
   "outputs": [
    {
     "data": {
      "text/plain": [
       "49.37495526460087"
      ]
     },
     "execution_count": 18,
     "metadata": {},
     "output_type": "execute_result"
    }
   ],
   "source": [
    "df.g1.mean() - df.g1.sem() * 1.96"
   ]
  },
  {
   "cell_type": "markdown",
   "id": "810e8a4c",
   "metadata": {},
   "source": [
    "# P-value for Z-score (односторонний и двухсторонний интервал)"
   ]
  },
  {
   "cell_type": "code",
   "execution_count": 19,
   "id": "87c9e981",
   "metadata": {},
   "outputs": [],
   "source": [
    "def find_pval_zscore_single(df, name, value):\n",
    "    z_value = z_scr_v(value, df[name].mean(), df[name].std())\n",
    "    return stats.norm.sf(abs(z_value))"
   ]
  },
  {
   "cell_type": "code",
   "execution_count": 20,
   "id": "7b37e563",
   "metadata": {},
   "outputs": [],
   "source": [
    "def find_pval_zscore_double(df, name, value):\n",
    "    z_value = z_scr_v(value, df[name].mean(), df[name].std())\n",
    "    return stats.norm.sf(abs(z_value))*2"
   ]
  },
  {
   "cell_type": "markdown",
   "id": "3016b3ee",
   "metadata": {},
   "source": [
    "# Генерация нормального распределения"
   ]
  },
  {
   "cell_type": "code",
   "execution_count": 21,
   "id": "34cdaca9",
   "metadata": {},
   "outputs": [],
   "source": [
    "df_norm = pd.DataFrame(stats.norm(loc=2, scale=1).rvs(size=10000))"
   ]
  },
  {
   "cell_type": "code",
   "execution_count": 22,
   "id": "c1b9d2d7",
   "metadata": {},
   "outputs": [
    {
     "data": {
      "text/html": [
       "<div>\n",
       "<style scoped>\n",
       "    .dataframe tbody tr th:only-of-type {\n",
       "        vertical-align: middle;\n",
       "    }\n",
       "\n",
       "    .dataframe tbody tr th {\n",
       "        vertical-align: top;\n",
       "    }\n",
       "\n",
       "    .dataframe thead th {\n",
       "        text-align: right;\n",
       "    }\n",
       "</style>\n",
       "<table border=\"1\" class=\"dataframe\">\n",
       "  <thead>\n",
       "    <tr style=\"text-align: right;\">\n",
       "      <th></th>\n",
       "      <th>0</th>\n",
       "    </tr>\n",
       "  </thead>\n",
       "  <tbody>\n",
       "    <tr>\n",
       "      <th>0</th>\n",
       "      <td>0.665715</td>\n",
       "    </tr>\n",
       "    <tr>\n",
       "      <th>1</th>\n",
       "      <td>2.440107</td>\n",
       "    </tr>\n",
       "    <tr>\n",
       "      <th>2</th>\n",
       "      <td>2.297040</td>\n",
       "    </tr>\n",
       "    <tr>\n",
       "      <th>3</th>\n",
       "      <td>2.627981</td>\n",
       "    </tr>\n",
       "    <tr>\n",
       "      <th>4</th>\n",
       "      <td>2.489569</td>\n",
       "    </tr>\n",
       "    <tr>\n",
       "      <th>...</th>\n",
       "      <td>...</td>\n",
       "    </tr>\n",
       "    <tr>\n",
       "      <th>9995</th>\n",
       "      <td>1.693142</td>\n",
       "    </tr>\n",
       "    <tr>\n",
       "      <th>9996</th>\n",
       "      <td>2.887732</td>\n",
       "    </tr>\n",
       "    <tr>\n",
       "      <th>9997</th>\n",
       "      <td>2.539336</td>\n",
       "    </tr>\n",
       "    <tr>\n",
       "      <th>9998</th>\n",
       "      <td>2.476195</td>\n",
       "    </tr>\n",
       "    <tr>\n",
       "      <th>9999</th>\n",
       "      <td>3.150107</td>\n",
       "    </tr>\n",
       "  </tbody>\n",
       "</table>\n",
       "<p>10000 rows × 1 columns</p>\n",
       "</div>"
      ],
      "text/plain": [
       "             0\n",
       "0     0.665715\n",
       "1     2.440107\n",
       "2     2.297040\n",
       "3     2.627981\n",
       "4     2.489569\n",
       "...        ...\n",
       "9995  1.693142\n",
       "9996  2.887732\n",
       "9997  2.539336\n",
       "9998  2.476195\n",
       "9999  3.150107\n",
       "\n",
       "[10000 rows x 1 columns]"
      ]
     },
     "execution_count": 22,
     "metadata": {},
     "output_type": "execute_result"
    }
   ],
   "source": [
    "df_norm"
   ]
  },
  {
   "cell_type": "code",
   "execution_count": 23,
   "id": "3ff7a2a8",
   "metadata": {},
   "outputs": [
    {
     "data": {
      "text/plain": [
       "0.046108888080326794"
      ]
     },
     "execution_count": 23,
     "metadata": {},
     "output_type": "execute_result"
    }
   ],
   "source": [
    "find_pval_zscore_double(df_norm, 0, 4)"
   ]
  },
  {
   "cell_type": "code",
   "execution_count": 24,
   "id": "80e19d72",
   "metadata": {},
   "outputs": [
    {
     "data": {
      "text/plain": [
       "[]"
      ]
     },
     "execution_count": 24,
     "metadata": {},
     "output_type": "execute_result"
    },
    {
     "data": {
      "image/png": "[encoded data removed]",
      "text/plain": [
       "<Figure size 432x288 with 1 Axes>"
      ]
     },
     "metadata": {
      "needs_background": "light"
     },
     "output_type": "display_data"
    }
   ],
   "source": [
    "plt.hist(df_norm)\n",
    "plt.plot()"
   ]
  },
  {
   "cell_type": "markdown",
   "id": "cf183c96",
   "metadata": {},
   "source": [
    "# Расчет степеней свободы"
   ]
  },
  {
   "cell_type": "code",
   "execution_count": 25,
   "id": "6cb35172",
   "metadata": {},
   "outputs": [],
   "source": [
    "def calc_df(sample, groups=1):\n",
    "    \"\"\"\n",
    "    Расчет степеней свободы для выборки. По умолчанию - для одной группы,\n",
    "    при наличии большего количества групп указать второй аргумент\n",
    "    \"\"\"\n",
    "    return sample.size - groups"
   ]
  },
  {
   "cell_type": "markdown",
   "id": "1d2abb30",
   "metadata": {},
   "source": [
    "# T-критерий. Сравнение двух средних"
   ]
  },
  {
   "cell_type": "code",
   "execution_count": 26,
   "id": "70be7cfa",
   "metadata": {},
   "outputs": [],
   "source": [
    "def t_criteria(sample1, sample2, general_mean1, general_mean2):\n",
    "    a = ((sample1.mean() - sample2.mean()) - (general_mean1 - general_mean2))\n",
    "    b = (sample1.std() ** 2 / sample1.size + sample2.std() ** 2 / sample2.size) ** 0.5\n",
    "    return a / b"
   ]
  },
  {
   "cell_type": "code",
   "execution_count": 27,
   "id": "0b9aa74b",
   "metadata": {},
   "outputs": [
    {
     "data": {
      "text/plain": [
       "2.529439633102561"
      ]
     },
     "execution_count": 27,
     "metadata": {},
     "output_type": "execute_result"
    }
   ],
   "source": [
    "a = (89.9 - 80.7) - (0 - 0)\n",
    "b = (11.3 ** 2 / 20 + 11.7 ** 2 / 20) ** 0.5\n",
    "a / b"
   ]
  },
  {
   "cell_type": "code",
   "execution_count": 28,
   "id": "7b3972f8",
   "metadata": {},
   "outputs": [],
   "source": [
    "def t_criteria_test(sample1_mean, sample2_mean, general_mean1, general_mean2, sd1, sd2, size1, size2):\n",
    "    a = ((sample1_mean - sample2_mean) - (general_mean1 - general_mean2))\n",
    "    b = (sd1 ** 2 / size1 + sd2 ** 2 / size2) ** 0.5\n",
    "    return a / b"
   ]
  },
  {
   "cell_type": "code",
   "execution_count": 29,
   "id": "e9b4638b",
   "metadata": {},
   "outputs": [
    {
     "data": {
      "text/plain": [
       "2.529439633102561"
      ]
     },
     "execution_count": 29,
     "metadata": {},
     "output_type": "execute_result"
    }
   ],
   "source": [
    "t_criteria_test(89.9, 80.7, 0, 0, 11.3, 11.7, 20, 20)"
   ]
  },
  {
   "cell_type": "markdown",
   "id": "7e225fb1",
   "metadata": {},
   "source": [
    "# One-way ANOVA"
   ]
  },
  {
   "cell_type": "markdown",
   "id": "af5ffee8",
   "metadata": {},
   "source": [
    "## Prepare data"
   ]
  },
  {
   "cell_type": "code",
   "execution_count": 30,
   "id": "0d06c3c2",
   "metadata": {},
   "outputs": [],
   "source": [
    "df_a = pd.DataFrame(stats.norm(loc=99.7, scale=4.1).rvs(size=15))"
   ]
  },
  {
   "cell_type": "code",
   "execution_count": 31,
   "id": "fd6b20b7",
   "metadata": {},
   "outputs": [],
   "source": [
    "df_a['group'] = 'a'"
   ]
  },
  {
   "cell_type": "code",
   "execution_count": 32,
   "id": "6ced5273",
   "metadata": {},
   "outputs": [],
   "source": [
    "df_b = pd.DataFrame(stats.norm(loc=98.8, scale=5.8).rvs(size=15))"
   ]
  },
  {
   "cell_type": "code",
   "execution_count": 33,
   "id": "cb22258b",
   "metadata": {},
   "outputs": [],
   "source": [
    "df_b['group'] = 'b'"
   ]
  },
  {
   "cell_type": "code",
   "execution_count": 34,
   "id": "d58961ee",
   "metadata": {},
   "outputs": [],
   "source": [
    "df_c = pd.DataFrame(stats.norm(loc=94.4, scale=5.1).rvs(size=15))\n",
    "df_c['group'] = 'c'"
   ]
  },
  {
   "cell_type": "code",
   "execution_count": 35,
   "id": "9db740d3",
   "metadata": {},
   "outputs": [],
   "source": [
    "df_d = pd.DataFrame(stats.norm(loc=92.3, scale=3.8).rvs(size=15))\n",
    "df_d['group'] = 'd'"
   ]
  },
  {
   "cell_type": "code",
   "execution_count": 36,
   "id": "cd81f515",
   "metadata": {},
   "outputs": [
    {
     "data": {
      "text/html": [
       "<div>\n",
       "<style scoped>\n",
       "    .dataframe tbody tr th:only-of-type {\n",
       "        vertical-align: middle;\n",
       "    }\n",
       "\n",
       "    .dataframe tbody tr th {\n",
       "        vertical-align: top;\n",
       "    }\n",
       "\n",
       "    .dataframe thead th {\n",
       "        text-align: right;\n",
       "    }\n",
       "</style>\n",
       "<table border=\"1\" class=\"dataframe\">\n",
       "  <thead>\n",
       "    <tr style=\"text-align: right;\">\n",
       "      <th></th>\n",
       "      <th>0</th>\n",
       "      <th>group</th>\n",
       "    </tr>\n",
       "  </thead>\n",
       "  <tbody>\n",
       "    <tr>\n",
       "      <th>0</th>\n",
       "      <td>97.793770</td>\n",
       "      <td>a</td>\n",
       "    </tr>\n",
       "    <tr>\n",
       "      <th>1</th>\n",
       "      <td>105.727899</td>\n",
       "      <td>a</td>\n",
       "    </tr>\n",
       "    <tr>\n",
       "      <th>2</th>\n",
       "      <td>98.733219</td>\n",
       "      <td>a</td>\n",
       "    </tr>\n",
       "    <tr>\n",
       "      <th>3</th>\n",
       "      <td>104.258487</td>\n",
       "      <td>a</td>\n",
       "    </tr>\n",
       "    <tr>\n",
       "      <th>4</th>\n",
       "      <td>110.711235</td>\n",
       "      <td>a</td>\n",
       "    </tr>\n",
       "  </tbody>\n",
       "</table>\n",
       "</div>"
      ],
      "text/plain": [
       "            0 group\n",
       "0   97.793770     a\n",
       "1  105.727899     a\n",
       "2   98.733219     a\n",
       "3  104.258487     a\n",
       "4  110.711235     a"
      ]
     },
     "execution_count": 36,
     "metadata": {},
     "output_type": "execute_result"
    }
   ],
   "source": [
    "df_test = pd.concat([df_a, df_b, df_c, df_d], ignore_index=True)\n",
    "df_test.head()"
   ]
  },
  {
   "cell_type": "code",
   "execution_count": 37,
   "id": "cc813dc0",
   "metadata": {},
   "outputs": [
    {
     "data": {
      "text/html": [
       "<div>\n",
       "<style scoped>\n",
       "    .dataframe tbody tr th:only-of-type {\n",
       "        vertical-align: middle;\n",
       "    }\n",
       "\n",
       "    .dataframe tbody tr th {\n",
       "        vertical-align: top;\n",
       "    }\n",
       "\n",
       "    .dataframe thead th {\n",
       "        text-align: right;\n",
       "    }\n",
       "</style>\n",
       "<table border=\"1\" class=\"dataframe\">\n",
       "  <thead>\n",
       "    <tr style=\"text-align: right;\">\n",
       "      <th></th>\n",
       "      <th>0</th>\n",
       "      <th>group</th>\n",
       "    </tr>\n",
       "  </thead>\n",
       "  <tbody>\n",
       "    <tr>\n",
       "      <th>55</th>\n",
       "      <td>88.891091</td>\n",
       "      <td>d</td>\n",
       "    </tr>\n",
       "    <tr>\n",
       "      <th>56</th>\n",
       "      <td>94.637344</td>\n",
       "      <td>d</td>\n",
       "    </tr>\n",
       "    <tr>\n",
       "      <th>57</th>\n",
       "      <td>87.732082</td>\n",
       "      <td>d</td>\n",
       "    </tr>\n",
       "    <tr>\n",
       "      <th>58</th>\n",
       "      <td>94.686545</td>\n",
       "      <td>d</td>\n",
       "    </tr>\n",
       "    <tr>\n",
       "      <th>59</th>\n",
       "      <td>94.828021</td>\n",
       "      <td>d</td>\n",
       "    </tr>\n",
       "  </tbody>\n",
       "</table>\n",
       "</div>"
      ],
      "text/plain": [
       "            0 group\n",
       "55  88.891091     d\n",
       "56  94.637344     d\n",
       "57  87.732082     d\n",
       "58  94.686545     d\n",
       "59  94.828021     d"
      ]
     },
     "execution_count": 37,
     "metadata": {},
     "output_type": "execute_result"
    }
   ],
   "source": [
    "df_test.tail()"
   ]
  },
  {
   "cell_type": "markdown",
   "id": "b7c4b93e",
   "metadata": {},
   "source": [
    "# Algorithm"
   ]
  },
  {
   "cell_type": "code",
   "execution_count": 38,
   "id": "72864284",
   "metadata": {},
   "outputs": [],
   "source": [
    "def one_way_anova(df, group):\n",
    "    \"\"\"\n",
    "    Аргументы: df - выборка с разделением на группы, \n",
    "    group - столбец, определяющий группу\n",
    "    \n",
    "    Производится сравнение нескольких групп между собой.\n",
    "    H0 - средние в группах не отличаются\n",
    "    H1 - хотя бы одно среднее значительно отличается\n",
    "    \n",
    "    Вывод: f-value, p-value(т.е. P(>f))\n",
    "    \"\"\"\n",
    "    df_bg = len(df[group].unique()) - 1\n",
    "    df_wg = len(df[group]) - df_bg - 1\n",
    "    \n",
    "    # Вычисляем размеры и количество групп\n",
    "    group_sizes = []\n",
    "    groups = df[group].unique()\n",
    "    for gr in groups:\n",
    "        group_sizes.append(len(df[df[group] == gr]))\n",
    "    group_amount = len(group_sizes)\n",
    "    \n",
    "    # Вычисляем среднее значение в группах\n",
    "    means = []\n",
    "    for gr in df[group].unique():\n",
    "        means.append(df[df[group] == gr].mean())\n",
    "    average = sum(means) / len(means)\n",
    "    \n",
    "    # Вычисляем межгрупповую сумму квадратов \n",
    "    ssb = 0\n",
    "    for i in range(group_amount):\n",
    "        ssb += (means[i][0] - average) ** 2 * 15\n",
    "    \n",
    "    # Вычисляем межгрупповой средний квадрат    \n",
    "    ms_bg = ssb / a\n",
    "    \n",
    "    # Вычисляем групповые дисперсии\n",
    "    variances = []\n",
    "    for gr in df[group].unique():\n",
    "        variances.append(df[df[group] == gr].var())\n",
    "    # Вычисляем внутригрупповую сумму квадратов\n",
    "    ssw = 0\n",
    "    for i in range(group_amount):\n",
    "        ssw += variances[i] * (group_size[i] - 1)\n",
    "    \n",
    "    # Вычисляем внутригрупповой средний квадрат\n",
    "    ms_wg = ssw / b\n",
    "    \n",
    "    # Вычисляем f-value\n",
    "    f_value = ms_bg / ms_wg\n",
    "    \n",
    "    # Вычисляем p-value для соответствующего f-value\n",
    "    p_value = round(1 - stats.f.cdf(f_value, df_bg, df_wg)[0], 5)\n",
    "    return f_value[0], p_value"
   ]
  },
  {
   "cell_type": "code",
   "execution_count": 39,
   "id": "3c6a2084",
   "metadata": {},
   "outputs": [
    {
     "ename": "NameError",
     "evalue": "name 'group_size' is not defined",
     "output_type": "error",
     "traceback": [
      "\u001b[0;31m---------------------------------------------------------------------------\u001b[0m",
      "\u001b[0;31mNameError\u001b[0m                                 Traceback (most recent call last)",
      "\u001b[0;32m<ipython-input-39-cd73a13cc3f4>\u001b[0m in \u001b[0;36m<module>\u001b[0;34m\u001b[0m\n\u001b[0;32m----> 1\u001b[0;31m \u001b[0mf\u001b[0m\u001b[0;34m,\u001b[0m \u001b[0mp\u001b[0m \u001b[0;34m=\u001b[0m \u001b[0mone_way_anova\u001b[0m\u001b[0;34m(\u001b[0m\u001b[0mdf_test\u001b[0m\u001b[0;34m,\u001b[0m \u001b[0;34m'group'\u001b[0m\u001b[0;34m)\u001b[0m\u001b[0;34m\u001b[0m\u001b[0;34m\u001b[0m\u001b[0m\n\u001b[0m",
      "\u001b[0;32m<ipython-input-38-28efe1da6865>\u001b[0m in \u001b[0;36mone_way_anova\u001b[0;34m(df, group)\u001b[0m\n\u001b[1;32m     41\u001b[0m     \u001b[0mssw\u001b[0m \u001b[0;34m=\u001b[0m \u001b[0;36m0\u001b[0m\u001b[0;34m\u001b[0m\u001b[0;34m\u001b[0m\u001b[0m\n\u001b[1;32m     42\u001b[0m     \u001b[0;32mfor\u001b[0m \u001b[0mi\u001b[0m \u001b[0;32min\u001b[0m \u001b[0mrange\u001b[0m\u001b[0;34m(\u001b[0m\u001b[0mgroup_amount\u001b[0m\u001b[0;34m)\u001b[0m\u001b[0;34m:\u001b[0m\u001b[0;34m\u001b[0m\u001b[0;34m\u001b[0m\u001b[0m\n\u001b[0;32m---> 43\u001b[0;31m         \u001b[0mssw\u001b[0m \u001b[0;34m+=\u001b[0m \u001b[0mvariances\u001b[0m\u001b[0;34m[\u001b[0m\u001b[0mi\u001b[0m\u001b[0;34m]\u001b[0m \u001b[0;34m*\u001b[0m \u001b[0;34m(\u001b[0m\u001b[0mgroup_size\u001b[0m\u001b[0;34m[\u001b[0m\u001b[0mi\u001b[0m\u001b[0;34m]\u001b[0m \u001b[0;34m-\u001b[0m \u001b[0;36m1\u001b[0m\u001b[0;34m)\u001b[0m\u001b[0;34m\u001b[0m\u001b[0;34m\u001b[0m\u001b[0m\n\u001b[0m\u001b[1;32m     44\u001b[0m \u001b[0;34m\u001b[0m\u001b[0m\n\u001b[1;32m     45\u001b[0m     \u001b[0;31m# Вычисляем внутригрупповой средний квадрат\u001b[0m\u001b[0;34m\u001b[0m\u001b[0;34m\u001b[0m\u001b[0;34m\u001b[0m\u001b[0m\n",
      "\u001b[0;31mNameError\u001b[0m: name 'group_size' is not defined"
     ]
    }
   ],
   "source": [
    "f, p = one_way_anova(df_test, 'group')"
   ]
  },
  {
   "cell_type": "code",
   "execution_count": 40,
   "id": "d9de7b28",
   "metadata": {},
   "outputs": [
    {
     "ename": "NameError",
     "evalue": "name 'f' is not defined",
     "output_type": "error",
     "traceback": [
      "\u001b[0;31m---------------------------------------------------------------------------\u001b[0m",
      "\u001b[0;31mNameError\u001b[0m                                 Traceback (most recent call last)",
      "\u001b[0;32m<ipython-input-40-292caf82af0d>\u001b[0m in \u001b[0;36m<module>\u001b[0;34m\u001b[0m\n\u001b[0;32m----> 1\u001b[0;31m \u001b[0mprint\u001b[0m\u001b[0;34m(\u001b[0m\u001b[0mf\u001b[0m\u001b[0;34m,\u001b[0m \u001b[0mp\u001b[0m\u001b[0;34m)\u001b[0m\u001b[0;34m\u001b[0m\u001b[0;34m\u001b[0m\u001b[0m\n\u001b[0m",
      "\u001b[0;31mNameError\u001b[0m: name 'f' is not defined"
     ]
    }
   ],
   "source": [
    "print(f, p)"
   ]
  },
  {
   "cell_type": "markdown",
   "id": "22e73869",
   "metadata": {},
   "source": [
    "# Two-way ANOVA"
   ]
  },
  {
   "cell_type": "markdown",
   "id": "7a15f06e",
   "metadata": {},
   "source": [
    "# Generate data"
   ]
  },
  {
   "cell_type": "code",
   "execution_count": 41,
   "id": "4a4fbaa7",
   "metadata": {},
   "outputs": [],
   "source": [
    "df_a = pd.DataFrame(stats.norm(loc=104.8, scale=5.8).rvs(size=16))\n",
    "df_a['group1'] = 'y'\n",
    "df_a['group2'] = 'high'"
   ]
  },
  {
   "cell_type": "code",
   "execution_count": 42,
   "id": "fc423dce",
   "metadata": {},
   "outputs": [],
   "source": [
    "df_b = pd.DataFrame(stats.norm(loc=105.5, scale=4.4).rvs(size=16))\n",
    "df_b['group1'] = 'y'\n",
    "df_b['group2'] = 'low'"
   ]
  },
  {
   "cell_type": "code",
   "execution_count": 43,
   "id": "10603dc8",
   "metadata": {},
   "outputs": [],
   "source": [
    "df_c = pd.DataFrame(stats.norm(loc=101, scale=5.1).rvs(size=16))\n",
    "df_c['group1'] = 'o'\n",
    "df_c['group2'] = 'high'"
   ]
  },
  {
   "cell_type": "code",
   "execution_count": 44,
   "id": "0063c187",
   "metadata": {},
   "outputs": [],
   "source": [
    "df_d = pd.DataFrame(stats.norm(loc=102.3, scale=5.1).rvs(size=16))\n",
    "df_d['group1'] = 'o'\n",
    "df_d['group2'] = 'low'"
   ]
  },
  {
   "cell_type": "code",
   "execution_count": 45,
   "id": "fef89425",
   "metadata": {},
   "outputs": [
    {
     "data": {
      "text/html": [
       "<div>\n",
       "<style scoped>\n",
       "    .dataframe tbody tr th:only-of-type {\n",
       "        vertical-align: middle;\n",
       "    }\n",
       "\n",
       "    .dataframe tbody tr th {\n",
       "        vertical-align: top;\n",
       "    }\n",
       "\n",
       "    .dataframe thead th {\n",
       "        text-align: right;\n",
       "    }\n",
       "</style>\n",
       "<table border=\"1\" class=\"dataframe\">\n",
       "  <thead>\n",
       "    <tr style=\"text-align: right;\">\n",
       "      <th></th>\n",
       "      <th>0</th>\n",
       "      <th>group1</th>\n",
       "      <th>group2</th>\n",
       "    </tr>\n",
       "  </thead>\n",
       "  <tbody>\n",
       "    <tr>\n",
       "      <th>0</th>\n",
       "      <td>108.963982</td>\n",
       "      <td>y</td>\n",
       "      <td>high</td>\n",
       "    </tr>\n",
       "    <tr>\n",
       "      <th>1</th>\n",
       "      <td>106.898368</td>\n",
       "      <td>y</td>\n",
       "      <td>high</td>\n",
       "    </tr>\n",
       "    <tr>\n",
       "      <th>2</th>\n",
       "      <td>110.246601</td>\n",
       "      <td>y</td>\n",
       "      <td>high</td>\n",
       "    </tr>\n",
       "    <tr>\n",
       "      <th>3</th>\n",
       "      <td>103.278662</td>\n",
       "      <td>y</td>\n",
       "      <td>high</td>\n",
       "    </tr>\n",
       "    <tr>\n",
       "      <th>4</th>\n",
       "      <td>98.224078</td>\n",
       "      <td>y</td>\n",
       "      <td>high</td>\n",
       "    </tr>\n",
       "    <tr>\n",
       "      <th>...</th>\n",
       "      <td>...</td>\n",
       "      <td>...</td>\n",
       "      <td>...</td>\n",
       "    </tr>\n",
       "    <tr>\n",
       "      <th>59</th>\n",
       "      <td>106.112093</td>\n",
       "      <td>o</td>\n",
       "      <td>low</td>\n",
       "    </tr>\n",
       "    <tr>\n",
       "      <th>60</th>\n",
       "      <td>100.091102</td>\n",
       "      <td>o</td>\n",
       "      <td>low</td>\n",
       "    </tr>\n",
       "    <tr>\n",
       "      <th>61</th>\n",
       "      <td>105.821289</td>\n",
       "      <td>o</td>\n",
       "      <td>low</td>\n",
       "    </tr>\n",
       "    <tr>\n",
       "      <th>62</th>\n",
       "      <td>102.263683</td>\n",
       "      <td>o</td>\n",
       "      <td>low</td>\n",
       "    </tr>\n",
       "    <tr>\n",
       "      <th>63</th>\n",
       "      <td>103.884797</td>\n",
       "      <td>o</td>\n",
       "      <td>low</td>\n",
       "    </tr>\n",
       "  </tbody>\n",
       "</table>\n",
       "<p>64 rows × 3 columns</p>\n",
       "</div>"
      ],
      "text/plain": [
       "             0 group1 group2\n",
       "0   108.963982      y   high\n",
       "1   106.898368      y   high\n",
       "2   110.246601      y   high\n",
       "3   103.278662      y   high\n",
       "4    98.224078      y   high\n",
       "..         ...    ...    ...\n",
       "59  106.112093      o    low\n",
       "60  100.091102      o    low\n",
       "61  105.821289      o    low\n",
       "62  102.263683      o    low\n",
       "63  103.884797      o    low\n",
       "\n",
       "[64 rows x 3 columns]"
      ]
     },
     "execution_count": 45,
     "metadata": {},
     "output_type": "execute_result"
    }
   ],
   "source": [
    "df_test = pd.concat([df_a, df_b, df_c, df_d], ignore_index=True)\n",
    "df_test"
   ]
  },
  {
   "cell_type": "code",
   "execution_count": 46,
   "id": "073ed8f9",
   "metadata": {},
   "outputs": [
    {
     "data": {
      "text/plain": [
       "1"
      ]
     },
     "execution_count": 46,
     "metadata": {},
     "output_type": "execute_result"
    }
   ],
   "source": [
    "groups = ['group1', 'group2']\n",
    "groups_amount = len(groups)\n",
    "df_first = len(df_test[groups[0]].unique()) - 1\n",
    "df_first\n",
    "df_second = len(df_test[groups[1]].unique()) - 1\n",
    "df_second"
   ]
  },
  {
   "cell_type": "code",
   "execution_count": 74,
   "id": "c9be1e1e",
   "metadata": {},
   "outputs": [],
   "source": [
    "metki = []\n",
    "dictt = {}\n",
    "for gr in groups:\n",
    "    dictt[gr] = df_test[gr].unique()\n",
    "    metki.append(df_test[gr].unique())\n",
    "average1 = []\n",
    "average2 = []\n",
    "group_sizes1 = []\n",
    "group_sizes2 = []\n",
    "\n",
    "group_values = []\n",
    "for gr in dictt.keys():\n",
    "    group_values.append(len(dictt[gr])) # metki\n",
    "for gr in dictt.keys():\n",
    "    for val in dictt[gr]:\n",
    "        average1.append(df_test[df_test[gr] == val].mean())"
   ]
  },
  {
   "cell_type": "code",
   "execution_count": 65,
   "id": "e7a00f21",
   "metadata": {},
   "outputs": [],
   "source": [
    "ave1 = []\n",
    "a = 0\n",
    "b = 0\n",
    "for i in range(len(groups)):\n",
    "    b += group_values[i]\n",
    "    ave1.append(sum(average1[a:b]) / len(average1[a:b]))\n",
    "    a = b"
   ]
  },
  {
   "cell_type": "code",
   "execution_count": 77,
   "id": "7bc2cc03",
   "metadata": {},
   "outputs": [
    {
     "data": {
      "text/plain": [
       "2"
      ]
     },
     "execution_count": 77,
     "metadata": {},
     "output_type": "execute_result"
    }
   ],
   "source": []
  },
  {
   "cell_type": "code",
   "execution_count": 72,
   "id": "c832de1a",
   "metadata": {},
   "outputs": [
    {
     "data": {
      "text/plain": [
       "[0, 0, 32, 0, 0, 0, 0, 0, 0, 0, 0, 0]"
      ]
     },
     "execution_count": 72,
     "metadata": {},
     "output_type": "execute_result"
    }
   ],
   "source": []
  },
  {
   "cell_type": "code",
   "execution_count": 48,
   "id": "466d7bbb",
   "metadata": {},
   "outputs": [
    {
     "data": {
      "text/plain": [
       "[2, 2]"
      ]
     },
     "execution_count": 48,
     "metadata": {},
     "output_type": "execute_result"
    }
   ],
   "source": [
    "group_values"
   ]
  },
  {
   "cell_type": "code",
   "execution_count": 49,
   "id": "0284a14c",
   "metadata": {},
   "outputs": [
    {
     "data": {
      "text/plain": [
       "2"
      ]
     },
     "execution_count": 49,
     "metadata": {},
     "output_type": "execute_result"
    }
   ],
   "source": [
    "len(dictt['group1'])"
   ]
  },
  {
   "cell_type": "code",
   "execution_count": 50,
   "id": "c6721d6d",
   "metadata": {},
   "outputs": [
    {
     "data": {
      "text/plain": [
       "[0    105.217892\n",
       " dtype: float64,\n",
       " 0    101.256168\n",
       " dtype: float64,\n",
       " 0    102.427474\n",
       " dtype: float64,\n",
       " 0    104.046586\n",
       " dtype: float64]"
      ]
     },
     "execution_count": 50,
     "metadata": {},
     "output_type": "execute_result"
    }
   ],
   "source": [
    "average1"
   ]
  },
  {
   "cell_type": "code",
   "execution_count": 89,
   "id": "6b5ae3ca",
   "metadata": {},
   "outputs": [
    {
     "data": {
      "text/plain": [
       "0    104.046586\n",
       "dtype: float64"
      ]
     },
     "execution_count": 89,
     "metadata": {},
     "output_type": "execute_result"
    }
   ],
   "source": [
    "df_test[df_test['group2'] == 'high'].mean()\n",
    "df_test[df_test['group2'] == 'low'].mean()"
   ]
  },
  {
   "cell_type": "code",
   "execution_count": 83,
   "id": "cb35495e",
   "metadata": {
    "scrolled": true
   },
   "outputs": [
    {
     "data": {
      "text/plain": [
       "array(['y', 'o'], dtype=object)"
      ]
     },
     "execution_count": 83,
     "metadata": {},
     "output_type": "execute_result"
    }
   ],
   "source": [
    "dictt['group1']"
   ]
  },
  {
   "cell_type": "code",
   "execution_count": 76,
   "id": "30d94764",
   "metadata": {},
   "outputs": [
    {
     "data": {
      "text/plain": [
       "'o'"
      ]
     },
     "execution_count": 76,
     "metadata": {},
     "output_type": "execute_result"
    }
   ],
   "source": [
    "dictt['group1'][1]"
   ]
  },
  {
   "cell_type": "code",
   "execution_count": 47,
   "id": "6c595795",
   "metadata": {},
   "outputs": [
    {
     "name": "stdout",
     "output_type": "stream",
     "text": [
      "[32, 32] \n",
      " [32, 32] \n",
      " [0    105.217892\n",
      "dtype: float64, 0    101.256168\n",
      "dtype: float64] \n",
      " [0    102.427474\n",
      "dtype: float64, 0    104.046586\n",
      "dtype: float64] \n",
      " 0    103.23703\n",
      "dtype: float64 \n",
      " 0    103.23703\n",
      "dtype: float64\n"
     ]
    }
   ],
   "source": [
    "print(group_sizes1, '\\n',group_sizes2, '\\n', average1, '\\n', average2, '\\n', average_global1, '\\n', average_global2)"
   ]
  },
  {
   "cell_type": "code",
   "execution_count": 48,
   "id": "b56eecce",
   "metadata": {},
   "outputs": [],
   "source": [
    "ssb1 = 0\n",
    "ssb1 = group_sizes1[0] * (average1[0][0] - average_global1[0]) ** 2\n",
    "ssb1 += group_sizes1[1] * (average1[1][0] - average_global1[0]) ** 2\n",
    "ms_bg1 = ssb1 / df_first\n",
    "\n",
    "ssb2 = 0\n",
    "ssb2 = group_sizes2[0] * (average2[0][0] - average_global2[0]) ** 2\n",
    "ssb2 += group_sizes2[1] * (average2[1][0] - average_global2[0]) ** 2\n",
    "ms_bg2 = ssb2 / df_second"
   ]
  },
  {
   "cell_type": "code",
   "execution_count": 49,
   "id": "033ce231",
   "metadata": {},
   "outputs": [],
   "source": [
    "def_global = len(df_test) - len(group_sizes1) - len(group_sizes2)"
   ]
  },
  {
   "cell_type": "code",
   "execution_count": 50,
   "id": "ea00d008",
   "metadata": {},
   "outputs": [],
   "source": [
    "variances = []\n",
    "group_sizes_global = []\n",
    "for val in first_group:\n",
    "    for gr in second_group:\n",
    "        variances.append(df_test[(df_test['group1'] == val) & (df_test['group2'] == gr)].var())\n",
    "        group_sizes_global.append(len(df_test[(df_test['group1'] == val) & (df_test['group2'] == gr)]))"
   ]
  },
  {
   "cell_type": "code",
   "execution_count": 51,
   "id": "29a87e73",
   "metadata": {},
   "outputs": [],
   "source": [
    "variances = np.array(variances)"
   ]
  },
  {
   "cell_type": "code",
   "execution_count": 52,
   "id": "0e7abc30",
   "metadata": {},
   "outputs": [
    {
     "data": {
      "text/plain": [
       "[16, 16, 16, 16]"
      ]
     },
     "execution_count": 52,
     "metadata": {},
     "output_type": "execute_result"
    }
   ],
   "source": [
    "group_sizes_global"
   ]
  },
  {
   "cell_type": "code",
   "execution_count": 53,
   "id": "439f8625",
   "metadata": {},
   "outputs": [],
   "source": [
    "ssw = 0\n",
    "for i in range(len(group_sizes_global)):\n",
    "    ssw += (group_sizes_global[i] - 1) * variances[i]\n",
    "ssw = ssw[0]\n",
    "ms_wg = ssw / def_global"
   ]
  },
  {
   "cell_type": "code",
   "execution_count": 54,
   "id": "5c8e2775",
   "metadata": {},
   "outputs": [
    {
     "data": {
      "text/plain": [
       "20.628060183130668"
      ]
     },
     "execution_count": 54,
     "metadata": {},
     "output_type": "execute_result"
    }
   ],
   "source": [
    "ms_wg"
   ]
  },
  {
   "cell_type": "code",
   "execution_count": 55,
   "id": "38139d04",
   "metadata": {},
   "outputs": [],
   "source": [
    "f_first = ms_bg1 / ms_wg\n",
    "f_second = ms_bg2 / ms_wg\n",
    "p_value1 = round(1 - stats.f.cdf(f_first, df_first, def_global), 5)\n",
    "p_value2 = round(1 - stats.f.cdf(f_second, df_second, def_global), 5)"
   ]
  },
  {
   "cell_type": "code",
   "execution_count": 56,
   "id": "f3a127c7",
   "metadata": {},
   "outputs": [
    {
     "data": {
      "text/plain": [
       "0.00091"
      ]
     },
     "execution_count": 56,
     "metadata": {},
     "output_type": "execute_result"
    }
   ],
   "source": [
    "p_value1"
   ]
  },
  {
   "cell_type": "code",
   "execution_count": 57,
   "id": "b1908491",
   "metadata": {},
   "outputs": [
    {
     "data": {
      "text/plain": [
       "0.15906"
      ]
     },
     "execution_count": 57,
     "metadata": {},
     "output_type": "execute_result"
    }
   ],
   "source": [
    "p_value2"
   ]
  },
  {
   "cell_type": "code",
   "execution_count": 78,
   "id": "5b41c9fe",
   "metadata": {},
   "outputs": [],
   "source": [
    "a = np.array([1, 2, 3])"
   ]
  },
  {
   "cell_type": "code",
   "execution_count": 91,
   "id": "a6221c38",
   "metadata": {},
   "outputs": [],
   "source": [
    "groups = ['group1', 'group2']\n",
    "n_global = len(groups)\n",
    "n_local = 0\n",
    "for gr in groups:\n",
    "    n_local += len(df_test[gr].unique())\n",
    "metki = n_local / n_global"
   ]
  },
  {
   "cell_type": "code",
   "execution_count": 103,
   "id": "85996e0c",
   "metadata": {},
   "outputs": [],
   "source": [
    "average_local = []\n",
    "for gr in groups:\n",
    "    for val in df_test[gr].unique():\n",
    "        average_local.append(df_test[df_test[gr] == val].mean()[0])"
   ]
  },
  {
   "cell_type": "code",
   "execution_count": 104,
   "id": "dfce29a6",
   "metadata": {},
   "outputs": [
    {
     "data": {
      "text/plain": [
       "[105.21789226215701,\n",
       " 101.25616789534841,\n",
       " 102.42747423363681,\n",
       " 104.04658592386859]"
      ]
     },
     "execution_count": 104,
     "metadata": {},
     "output_type": "execute_result"
    }
   ],
   "source": [
    "average_local"
   ]
  },
  {
   "cell_type": "code",
   "execution_count": 102,
   "id": "4c7396b8",
   "metadata": {},
   "outputs": [
    {
     "data": {
      "text/plain": [
       "0    105.217892\n",
       "dtype: float64"
      ]
     },
     "execution_count": 102,
     "metadata": {},
     "output_type": "execute_result"
    }
   ],
   "source": [
    "average_global = []\n",
    "for i in range(0, n_local, metki):\n",
    "    "
   ]
  },
  {
   "cell_type": "code",
   "execution_count": null,
   "id": "86f5640c",
   "metadata": {},
   "outputs": [],
   "source": []
  }
 ],
 "metadata": {
  "kernelspec": {
   "display_name": "Python 3",
   "language": "python",
   "name": "python3"
  },
  "language_info": {
   "codemirror_mode": {
    "name": "ipython",
    "version": 3
   },
   "file_extension": ".py",
   "mimetype": "text/x-python",
   "name": "python",
   "nbconvert_exporter": "python",
   "pygments_lexer": "ipython3",
   "version": "3.8.8"
  }
 },
 "nbformat": 4,
 "nbformat_minor": 5
}
