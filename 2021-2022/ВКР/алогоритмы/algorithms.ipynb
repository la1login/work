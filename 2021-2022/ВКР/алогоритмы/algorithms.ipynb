{
 "cells": [
  {
   "cell_type": "code",
   "execution_count": 16,
   "id": "dd2c1a7c",
   "metadata": {},
   "outputs": [],
   "source": [
    "import pandas as pd\n",
    "import numpy as np\n",
    "import matplotlib.pyplot as plt\n",
    "from scipy import stats"
   ]
  },
  {
   "cell_type": "code",
   "execution_count": 168,
   "id": "d4986158",
   "metadata": {},
   "outputs": [],
   "source": [
    "np.random.seed(123)\n",
    "df = pd.DataFrame(np.random.randint(0, 100, size=(100000, 4)), columns=['g1', 'g2', 'g3', 'g4'])"
   ]
  },
  {
   "cell_type": "code",
   "execution_count": 145,
   "id": "7860352d",
   "metadata": {},
   "outputs": [
    {
     "data": {
      "text/html": [
       "<div>\n",
       "<style scoped>\n",
       "    .dataframe tbody tr th:only-of-type {\n",
       "        vertical-align: middle;\n",
       "    }\n",
       "\n",
       "    .dataframe tbody tr th {\n",
       "        vertical-align: top;\n",
       "    }\n",
       "\n",
       "    .dataframe thead th {\n",
       "        text-align: right;\n",
       "    }\n",
       "</style>\n",
       "<table border=\"1\" class=\"dataframe\">\n",
       "  <thead>\n",
       "    <tr style=\"text-align: right;\">\n",
       "      <th></th>\n",
       "      <th>g1</th>\n",
       "      <th>g2</th>\n",
       "      <th>g3</th>\n",
       "      <th>g4</th>\n",
       "    </tr>\n",
       "  </thead>\n",
       "  <tbody>\n",
       "    <tr>\n",
       "      <th>0</th>\n",
       "      <td>66</td>\n",
       "      <td>92</td>\n",
       "      <td>98</td>\n",
       "      <td>17</td>\n",
       "    </tr>\n",
       "    <tr>\n",
       "      <th>1</th>\n",
       "      <td>83</td>\n",
       "      <td>57</td>\n",
       "      <td>86</td>\n",
       "      <td>97</td>\n",
       "    </tr>\n",
       "    <tr>\n",
       "      <th>2</th>\n",
       "      <td>96</td>\n",
       "      <td>47</td>\n",
       "      <td>73</td>\n",
       "      <td>32</td>\n",
       "    </tr>\n",
       "    <tr>\n",
       "      <th>3</th>\n",
       "      <td>46</td>\n",
       "      <td>96</td>\n",
       "      <td>25</td>\n",
       "      <td>83</td>\n",
       "    </tr>\n",
       "    <tr>\n",
       "      <th>4</th>\n",
       "      <td>78</td>\n",
       "      <td>36</td>\n",
       "      <td>96</td>\n",
       "      <td>80</td>\n",
       "    </tr>\n",
       "    <tr>\n",
       "      <th>...</th>\n",
       "      <td>...</td>\n",
       "      <td>...</td>\n",
       "      <td>...</td>\n",
       "      <td>...</td>\n",
       "    </tr>\n",
       "    <tr>\n",
       "      <th>995</th>\n",
       "      <td>54</td>\n",
       "      <td>72</td>\n",
       "      <td>59</td>\n",
       "      <td>82</td>\n",
       "    </tr>\n",
       "    <tr>\n",
       "      <th>996</th>\n",
       "      <td>96</td>\n",
       "      <td>81</td>\n",
       "      <td>25</td>\n",
       "      <td>61</td>\n",
       "    </tr>\n",
       "    <tr>\n",
       "      <th>997</th>\n",
       "      <td>38</td>\n",
       "      <td>32</td>\n",
       "      <td>77</td>\n",
       "      <td>51</td>\n",
       "    </tr>\n",
       "    <tr>\n",
       "      <th>998</th>\n",
       "      <td>33</td>\n",
       "      <td>22</td>\n",
       "      <td>31</td>\n",
       "      <td>70</td>\n",
       "    </tr>\n",
       "    <tr>\n",
       "      <th>999</th>\n",
       "      <td>38</td>\n",
       "      <td>75</td>\n",
       "      <td>69</td>\n",
       "      <td>4</td>\n",
       "    </tr>\n",
       "  </tbody>\n",
       "</table>\n",
       "<p>1000 rows × 4 columns</p>\n",
       "</div>"
      ],
      "text/plain": [
       "     g1  g2  g3  g4\n",
       "0    66  92  98  17\n",
       "1    83  57  86  97\n",
       "2    96  47  73  32\n",
       "3    46  96  25  83\n",
       "4    78  36  96  80\n",
       "..   ..  ..  ..  ..\n",
       "995  54  72  59  82\n",
       "996  96  81  25  61\n",
       "997  38  32  77  51\n",
       "998  33  22  31  70\n",
       "999  38  75  69   4\n",
       "\n",
       "[1000 rows x 4 columns]"
      ]
     },
     "execution_count": 145,
     "metadata": {},
     "output_type": "execute_result"
    }
   ],
   "source": [
    "df"
   ]
  },
  {
   "cell_type": "markdown",
   "id": "55b9be15",
   "metadata": {},
   "source": [
    "# Выборочное среднее / матожидание"
   ]
  },
  {
   "cell_type": "code",
   "execution_count": 146,
   "id": "68492c98",
   "metadata": {},
   "outputs": [
    {
     "data": {
      "text/plain": [
       "g1    48.929\n",
       "g2    48.629\n",
       "g3    50.630\n",
       "g4    49.862\n",
       "dtype: float64"
      ]
     },
     "execution_count": 146,
     "metadata": {},
     "output_type": "execute_result"
    }
   ],
   "source": [
    "df.mean()"
   ]
  },
  {
   "cell_type": "markdown",
   "id": "57fbc3d4",
   "metadata": {},
   "source": [
    "# Медиана"
   ]
  },
  {
   "cell_type": "code",
   "execution_count": 147,
   "id": "720b9553",
   "metadata": {},
   "outputs": [
    {
     "data": {
      "text/plain": [
       "g1    48.0\n",
       "g2    48.0\n",
       "g3    51.0\n",
       "g4    50.0\n",
       "dtype: float64"
      ]
     },
     "execution_count": 147,
     "metadata": {},
     "output_type": "execute_result"
    }
   ],
   "source": [
    "df.median()"
   ]
  },
  {
   "cell_type": "markdown",
   "id": "51b3cb30",
   "metadata": {},
   "source": [
    "# Дисперсия"
   ]
  },
  {
   "cell_type": "code",
   "execution_count": 148,
   "id": "0eb14cd0",
   "metadata": {},
   "outputs": [
    {
     "data": {
      "text/plain": [
       "g1    799.883843\n",
       "g2    870.786145\n",
       "g3    852.027127\n",
       "g4    832.083039\n",
       "dtype: float64"
      ]
     },
     "execution_count": 148,
     "metadata": {},
     "output_type": "execute_result"
    }
   ],
   "source": [
    "df.var()"
   ]
  },
  {
   "cell_type": "markdown",
   "id": "240af663",
   "metadata": {},
   "source": [
    "# Стандартное отклонение / среднеквадратическое отклонение"
   ]
  },
  {
   "cell_type": "code",
   "execution_count": 149,
   "id": "a52d86d7",
   "metadata": {},
   "outputs": [
    {
     "data": {
      "text/plain": [
       "g1    28.282218\n",
       "g2    29.509086\n",
       "g3    29.189504\n",
       "g4    28.845850\n",
       "dtype: float64"
      ]
     },
     "execution_count": 149,
     "metadata": {},
     "output_type": "execute_result"
    }
   ],
   "source": [
    "df.std()"
   ]
  },
  {
   "cell_type": "markdown",
   "id": "6347b4e6",
   "metadata": {},
   "source": [
    "# Мода"
   ]
  },
  {
   "cell_type": "code",
   "execution_count": 150,
   "id": "df59c5df",
   "metadata": {},
   "outputs": [
    {
     "data": {
      "text/plain": [
       "0    22\n",
       "dtype: int64"
      ]
     },
     "execution_count": 150,
     "metadata": {},
     "output_type": "execute_result"
    }
   ],
   "source": [
    "df.g1.mode()"
   ]
  },
  {
   "cell_type": "markdown",
   "id": "56339854",
   "metadata": {},
   "source": [
    "# Размах"
   ]
  },
  {
   "cell_type": "code",
   "execution_count": 151,
   "id": "f2ba6dd6",
   "metadata": {},
   "outputs": [],
   "source": [
    "def st_range(df, name):\n",
    "    \"\"\"\n",
    "    Вычисление размаха - разность максимального и минимального значения признака\n",
    "    \"\"\"\n",
    "    return df[name].max() - df[name].min()"
   ]
  },
  {
   "cell_type": "markdown",
   "id": "f65aea9a",
   "metadata": {},
   "source": [
    "# Квантили / квартили"
   ]
  },
  {
   "cell_type": "code",
   "execution_count": 152,
   "id": "07537539",
   "metadata": {},
   "outputs": [
    {
     "data": {
      "text/plain": [
       "g1    48.0\n",
       "g2    48.0\n",
       "g3    51.0\n",
       "g4    50.0\n",
       "Name: 0.5, dtype: float64"
      ]
     },
     "execution_count": 152,
     "metadata": {},
     "output_type": "execute_result"
    }
   ],
   "source": [
    "df.quantile(0.5)"
   ]
  },
  {
   "cell_type": "markdown",
   "id": "f0a37d12",
   "metadata": {},
   "source": [
    "# Z-стандартизация для дф"
   ]
  },
  {
   "cell_type": "code",
   "execution_count": 153,
   "id": "48e53f8a",
   "metadata": {},
   "outputs": [],
   "source": [
    "df_z = pd.DataFrame(stats.zscore(df), columns=['g1', 'g2', 'g3', 'g4'])"
   ]
  },
  {
   "cell_type": "code",
   "execution_count": 154,
   "id": "bd869daf",
   "metadata": {},
   "outputs": [
    {
     "data": {
      "text/html": [
       "<div>\n",
       "<style scoped>\n",
       "    .dataframe tbody tr th:only-of-type {\n",
       "        vertical-align: middle;\n",
       "    }\n",
       "\n",
       "    .dataframe tbody tr th {\n",
       "        vertical-align: top;\n",
       "    }\n",
       "\n",
       "    .dataframe thead th {\n",
       "        text-align: right;\n",
       "    }\n",
       "</style>\n",
       "<table border=\"1\" class=\"dataframe\">\n",
       "  <thead>\n",
       "    <tr style=\"text-align: right;\">\n",
       "      <th></th>\n",
       "      <th>g1</th>\n",
       "      <th>g2</th>\n",
       "      <th>g3</th>\n",
       "      <th>g4</th>\n",
       "    </tr>\n",
       "  </thead>\n",
       "  <tbody>\n",
       "    <tr>\n",
       "      <th>0</th>\n",
       "      <td>0.603897</td>\n",
       "      <td>1.470486</td>\n",
       "      <td>1.623656</td>\n",
       "      <td>-1.139798</td>\n",
       "    </tr>\n",
       "    <tr>\n",
       "      <th>1</th>\n",
       "      <td>1.205282</td>\n",
       "      <td>0.283817</td>\n",
       "      <td>1.212343</td>\n",
       "      <td>1.634952</td>\n",
       "    </tr>\n",
       "    <tr>\n",
       "      <th>2</th>\n",
       "      <td>1.665165</td>\n",
       "      <td>-0.055231</td>\n",
       "      <td>0.766755</td>\n",
       "      <td>-0.619532</td>\n",
       "    </tr>\n",
       "    <tr>\n",
       "      <th>3</th>\n",
       "      <td>-0.103615</td>\n",
       "      <td>1.606105</td>\n",
       "      <td>-0.878495</td>\n",
       "      <td>1.149371</td>\n",
       "    </tr>\n",
       "    <tr>\n",
       "      <th>4</th>\n",
       "      <td>1.028404</td>\n",
       "      <td>-0.428184</td>\n",
       "      <td>1.555104</td>\n",
       "      <td>1.045318</td>\n",
       "    </tr>\n",
       "    <tr>\n",
       "      <th>...</th>\n",
       "      <td>...</td>\n",
       "      <td>...</td>\n",
       "      <td>...</td>\n",
       "      <td>...</td>\n",
       "    </tr>\n",
       "    <tr>\n",
       "      <th>995</th>\n",
       "      <td>0.179390</td>\n",
       "      <td>0.792390</td>\n",
       "      <td>0.286890</td>\n",
       "      <td>1.114687</td>\n",
       "    </tr>\n",
       "    <tr>\n",
       "      <th>996</th>\n",
       "      <td>1.665165</td>\n",
       "      <td>1.097533</td>\n",
       "      <td>-0.878495</td>\n",
       "      <td>0.386315</td>\n",
       "    </tr>\n",
       "    <tr>\n",
       "      <th>997</th>\n",
       "      <td>-0.386620</td>\n",
       "      <td>-0.563803</td>\n",
       "      <td>0.903859</td>\n",
       "      <td>0.039471</td>\n",
       "    </tr>\n",
       "    <tr>\n",
       "      <th>998</th>\n",
       "      <td>-0.563498</td>\n",
       "      <td>-0.902852</td>\n",
       "      <td>-0.672839</td>\n",
       "      <td>0.698474</td>\n",
       "    </tr>\n",
       "    <tr>\n",
       "      <th>999</th>\n",
       "      <td>-0.386620</td>\n",
       "      <td>0.894104</td>\n",
       "      <td>0.629651</td>\n",
       "      <td>-1.590695</td>\n",
       "    </tr>\n",
       "  </tbody>\n",
       "</table>\n",
       "<p>1000 rows × 4 columns</p>\n",
       "</div>"
      ],
      "text/plain": [
       "           g1        g2        g3        g4\n",
       "0    0.603897  1.470486  1.623656 -1.139798\n",
       "1    1.205282  0.283817  1.212343  1.634952\n",
       "2    1.665165 -0.055231  0.766755 -0.619532\n",
       "3   -0.103615  1.606105 -0.878495  1.149371\n",
       "4    1.028404 -0.428184  1.555104  1.045318\n",
       "..        ...       ...       ...       ...\n",
       "995  0.179390  0.792390  0.286890  1.114687\n",
       "996  1.665165  1.097533 -0.878495  0.386315\n",
       "997 -0.386620 -0.563803  0.903859  0.039471\n",
       "998 -0.563498 -0.902852 -0.672839  0.698474\n",
       "999 -0.386620  0.894104  0.629651 -1.590695\n",
       "\n",
       "[1000 rows x 4 columns]"
      ]
     },
     "execution_count": 154,
     "metadata": {},
     "output_type": "execute_result"
    }
   ],
   "source": [
    "df_z"
   ]
  },
  {
   "cell_type": "markdown",
   "id": "e13df00d",
   "metadata": {},
   "source": [
    "# Z-значение для отдельного значения"
   ]
  },
  {
   "cell_type": "code",
   "execution_count": 155,
   "id": "139102d9",
   "metadata": {},
   "outputs": [],
   "source": [
    "def z_scr_v(value, mean, sd):\n",
    "    return (value - mean) / sd"
   ]
  },
  {
   "cell_type": "markdown",
   "id": "df8c0674",
   "metadata": {},
   "source": [
    "# Z-статистика для оценки среднего при многократных выборках"
   ]
  },
  {
   "cell_type": "code",
   "execution_count": 156,
   "id": "698ba8a6",
   "metadata": {},
   "outputs": [],
   "source": [
    "def z_scr_mean(mean, mean_gs, sem):\n",
    "    return (mean - mean_gs) / sem"
   ]
  },
  {
   "cell_type": "markdown",
   "id": "c2df5227",
   "metadata": {},
   "source": [
    "# Стандартная ошибка среднего"
   ]
  },
  {
   "cell_type": "code",
   "execution_count": 157,
   "id": "e0945adb",
   "metadata": {},
   "outputs": [
    {
     "data": {
      "text/plain": [
       "g1    0.894362\n",
       "g2    0.933159\n",
       "g3    0.923053\n",
       "g4    0.912186\n",
       "dtype: float64"
      ]
     },
     "execution_count": 157,
     "metadata": {},
     "output_type": "execute_result"
    }
   ],
   "source": [
    "df.sem()"
   ]
  },
  {
   "cell_type": "markdown",
   "id": "23da2b10",
   "metadata": {},
   "source": [
    "# Доверительные интервалы"
   ]
  },
  {
   "cell_type": "code",
   "execution_count": 158,
   "id": "f43f47d5",
   "metadata": {},
   "outputs": [],
   "source": [
    "def conf_int(df, name, acc=95):\n",
    "    \"\"\"\n",
    "    Рассчет доверительного интервала для среднего значения.\n",
    "    Можно рассчитать 95%(по умолчанию) и 99% интервал.\n",
    "    \"\"\"\n",
    "    if acc == 99:\n",
    "        return df[name].mean() - df[name].sem() * 2.58, df[name].mean() + df[name].sem() * 2.58\n",
    "    elif acc == 95:\n",
    "        return df[name].mean() - df[name].sem() * 1.96, df[name].mean() + df[name].sem() * 1.96\n",
    "    else:\n",
    "        print('Рассчитываются только 95% и 99% интервалы, проверьте ввод')"
   ]
  },
  {
   "cell_type": "code",
   "execution_count": 159,
   "id": "5f7b3c3e",
   "metadata": {},
   "outputs": [
    {
     "data": {
      "text/plain": [
       "(47.176049980557046, 50.68195001944296)"
      ]
     },
     "execution_count": 159,
     "metadata": {},
     "output_type": "execute_result"
    }
   ],
   "source": [
    "conf_int(df, 'g1', 95)"
   ]
  },
  {
   "cell_type": "code",
   "execution_count": 160,
   "id": "f4341ff8",
   "metadata": {},
   "outputs": [
    {
     "data": {
      "text/plain": [
       "47.176049980557046"
      ]
     },
     "execution_count": 160,
     "metadata": {},
     "output_type": "execute_result"
    }
   ],
   "source": [
    "df.g1.mean() - df.g1.sem() * 1.96"
   ]
  },
  {
   "cell_type": "markdown",
   "id": "29f60762",
   "metadata": {},
   "source": [
    "# P-value for Z-score (односторонний и двухсторонний интервал)"
   ]
  },
  {
   "cell_type": "code",
   "execution_count": 163,
   "id": "97762267",
   "metadata": {},
   "outputs": [],
   "source": [
    "def find_pval_zscore_single(df, name, value):\n",
    "    z_value = z_scr_v(value, df[name].mean(), df[name].std())\n",
    "    return stats.norm.sf(abs(z_value))"
   ]
  },
  {
   "cell_type": "code",
   "execution_count": 164,
   "id": "3aa0ea31",
   "metadata": {},
   "outputs": [],
   "source": [
    "def find_pval_zscore_double(df, name, value):\n",
    "    z_value = z_scr_v(value, df[name].mean(), df[name].std())\n",
    "    return stats.norm.sf(abs(z_value))*2"
   ]
  },
  {
   "cell_type": "markdown",
   "id": "1f52e810",
   "metadata": {},
   "source": [
    "# Генерация нормального распределения"
   ]
  },
  {
   "cell_type": "code",
   "execution_count": 243,
   "id": "f3c811aa",
   "metadata": {},
   "outputs": [],
   "source": [
    "df_norm = pd.DataFrame(stats.norm(loc=2, scale=1).rvs(size=10000))"
   ]
  },
  {
   "cell_type": "code",
   "execution_count": 244,
   "id": "efa47aed",
   "metadata": {},
   "outputs": [
    {
     "data": {
      "text/html": [
       "<div>\n",
       "<style scoped>\n",
       "    .dataframe tbody tr th:only-of-type {\n",
       "        vertical-align: middle;\n",
       "    }\n",
       "\n",
       "    .dataframe tbody tr th {\n",
       "        vertical-align: top;\n",
       "    }\n",
       "\n",
       "    .dataframe thead th {\n",
       "        text-align: right;\n",
       "    }\n",
       "</style>\n",
       "<table border=\"1\" class=\"dataframe\">\n",
       "  <thead>\n",
       "    <tr style=\"text-align: right;\">\n",
       "      <th></th>\n",
       "      <th>0</th>\n",
       "    </tr>\n",
       "  </thead>\n",
       "  <tbody>\n",
       "    <tr>\n",
       "      <th>0</th>\n",
       "      <td>2.130720</td>\n",
       "    </tr>\n",
       "    <tr>\n",
       "      <th>1</th>\n",
       "      <td>3.054488</td>\n",
       "    </tr>\n",
       "    <tr>\n",
       "      <th>2</th>\n",
       "      <td>4.055368</td>\n",
       "    </tr>\n",
       "    <tr>\n",
       "      <th>3</th>\n",
       "      <td>2.930080</td>\n",
       "    </tr>\n",
       "    <tr>\n",
       "      <th>4</th>\n",
       "      <td>1.345107</td>\n",
       "    </tr>\n",
       "    <tr>\n",
       "      <th>...</th>\n",
       "      <td>...</td>\n",
       "    </tr>\n",
       "    <tr>\n",
       "      <th>9995</th>\n",
       "      <td>1.868538</td>\n",
       "    </tr>\n",
       "    <tr>\n",
       "      <th>9996</th>\n",
       "      <td>2.436459</td>\n",
       "    </tr>\n",
       "    <tr>\n",
       "      <th>9997</th>\n",
       "      <td>1.409902</td>\n",
       "    </tr>\n",
       "    <tr>\n",
       "      <th>9998</th>\n",
       "      <td>2.327947</td>\n",
       "    </tr>\n",
       "    <tr>\n",
       "      <th>9999</th>\n",
       "      <td>1.481378</td>\n",
       "    </tr>\n",
       "  </tbody>\n",
       "</table>\n",
       "<p>10000 rows × 1 columns</p>\n",
       "</div>"
      ],
      "text/plain": [
       "             0\n",
       "0     2.130720\n",
       "1     3.054488\n",
       "2     4.055368\n",
       "3     2.930080\n",
       "4     1.345107\n",
       "...        ...\n",
       "9995  1.868538\n",
       "9996  2.436459\n",
       "9997  1.409902\n",
       "9998  2.327947\n",
       "9999  1.481378\n",
       "\n",
       "[10000 rows x 1 columns]"
      ]
     },
     "execution_count": 244,
     "metadata": {},
     "output_type": "execute_result"
    }
   ],
   "source": [
    "df_norm"
   ]
  },
  {
   "cell_type": "code",
   "execution_count": 256,
   "id": "9f3bf9cc",
   "metadata": {},
   "outputs": [
    {
     "data": {
      "text/plain": [
       "0.04611279243416529"
      ]
     },
     "execution_count": 256,
     "metadata": {},
     "output_type": "execute_result"
    }
   ],
   "source": [
    "find_pval_zscore_double(df_norm, 0, 4)"
   ]
  },
  {
   "cell_type": "code",
   "execution_count": 246,
   "id": "3f7cd2fb",
   "metadata": {},
   "outputs": [
    {
     "data": {
      "text/plain": [
       "[]"
      ]
     },
     "execution_count": 246,
     "metadata": {},
     "output_type": "execute_result"
    },
    {
     "data": {
      "image/png": "[encoded data removed]",
      "text/plain": [
       "<Figure size 432x288 with 1 Axes>"
      ]
     },
     "metadata": {
      "needs_background": "light"
     },
     "output_type": "display_data"
    }
   ],
   "source": [
    "plt.hist(df_norm)\n",
    "plt.plot()"
   ]
  },
  {
   "cell_type": "markdown",
   "id": "21b4f8ff",
   "metadata": {},
   "source": [
    "# Расчет степеней свободы"
   ]
  },
  {
   "cell_type": "code",
   "execution_count": 263,
   "id": "9312370b",
   "metadata": {},
   "outputs": [],
   "source": [
    "def calc_df(sample, groups=1):\n",
    "    \"\"\"\n",
    "    Расчет степеней свободы для выборки. По умолчанию - для одной группы,\n",
    "    при наличии большего количества групп указать второй аргумент\n",
    "    \"\"\"\n",
    "    return sample.size - groups"
   ]
  },
  {
   "cell_type": "markdown",
   "id": "8f823442",
   "metadata": {},
   "source": [
    "# T-критерий. Сравнение двух средних"
   ]
  },
  {
   "cell_type": "code",
   "execution_count": 273,
   "id": "d00849aa",
   "metadata": {},
   "outputs": [],
   "source": [
    "def t_criteria(sample1, sample2, general_mean1, general_mean2):\n",
    "    a = ((sample1.mean() - sample2.mean()) - (general_mean1 - general_mean2))\n",
    "    b = (sample1.std() ** 2 / sample1.size + sample2.std() ** 2 / sample2.size) ** 0.5\n",
    "    return a / b"
   ]
  },
  {
   "cell_type": "code",
   "execution_count": 272,
   "id": "7533922f",
   "metadata": {},
   "outputs": [
    {
     "data": {
      "text/plain": [
       "2.529439633102561"
      ]
     },
     "execution_count": 272,
     "metadata": {},
     "output_type": "execute_result"
    }
   ],
   "source": [
    "a = (89.9 - 80.7) - (0 - 0)\n",
    "b = (11.3 ** 2 / 20 + 11.7 ** 2 / 20) ** 0.5\n",
    "a / b"
   ]
  },
  {
   "cell_type": "code",
   "execution_count": 275,
   "id": "e20937bc",
   "metadata": {},
   "outputs": [],
   "source": [
    "def t_criteria_test(sample1_mean, sample2_mean, general_mean1, general_mean2, sd1, sd2, size1, size2):\n",
    "    a = ((sample1_mean - sample2_mean) - (general_mean1 - general_mean2))\n",
    "    b = (sd1 ** 2 / size1 + sd2 ** 2 / size2) ** 0.5\n",
    "    return a / b"
   ]
  },
  {
   "cell_type": "code",
   "execution_count": 276,
   "id": "c10a4e81",
   "metadata": {},
   "outputs": [
    {
     "data": {
      "text/plain": [
       "2.529439633102561"
      ]
     },
     "execution_count": 276,
     "metadata": {},
     "output_type": "execute_result"
    }
   ],
   "source": [
    "t_criteria_test(89.9, 80.7, 0, 0, 11.3, 11.7, 20, 20)"
   ]
  },
  {
   "cell_type": "markdown",
   "id": "406f5c25",
   "metadata": {},
   "source": [
    "# One-way ANOVA"
   ]
  },
  {
   "cell_type": "markdown",
   "id": "269c9ed6",
   "metadata": {},
   "source": [
    "## Prepare data"
   ]
  },
  {
   "cell_type": "code",
   "execution_count": 182,
   "id": "c021e23e",
   "metadata": {},
   "outputs": [],
   "source": []
  },
  {
   "cell_type": "code",
   "execution_count": 183,
   "id": "9a0dbb72",
   "metadata": {},
   "outputs": [],
   "source": []
  },
  {
   "cell_type": "code",
   "execution_count": 184,
   "id": "32a07a60",
   "metadata": {},
   "outputs": [],
   "source": []
  },
  {
   "cell_type": "code",
   "execution_count": 185,
   "id": "2c8fd191",
   "metadata": {},
   "outputs": [],
   "source": []
  },
  {
   "cell_type": "code",
   "execution_count": 186,
   "id": "0b7cd136",
   "metadata": {},
   "outputs": [],
   "source": []
  },
  {
   "cell_type": "code",
   "execution_count": 187,
   "id": "6f32f793",
   "metadata": {},
   "outputs": [],
   "source": []
  },
  {
   "cell_type": "code",
   "execution_count": 188,
   "id": "1b9251ed",
   "metadata": {},
   "outputs": [
    {
     "data": {
      "text/html": [
       "<div>\n",
       "<style scoped>\n",
       "    .dataframe tbody tr th:only-of-type {\n",
       "        vertical-align: middle;\n",
       "    }\n",
       "\n",
       "    .dataframe tbody tr th {\n",
       "        vertical-align: top;\n",
       "    }\n",
       "\n",
       "    .dataframe thead th {\n",
       "        text-align: right;\n",
       "    }\n",
       "</style>\n",
       "<table border=\"1\" class=\"dataframe\">\n",
       "  <thead>\n",
       "    <tr style=\"text-align: right;\">\n",
       "      <th></th>\n",
       "      <th>value</th>\n",
       "      <th>group</th>\n",
       "    </tr>\n",
       "  </thead>\n",
       "  <tbody>\n",
       "    <tr>\n",
       "      <th>0</th>\n",
       "      <td>100.854249</td>\n",
       "      <td>a</td>\n",
       "    </tr>\n",
       "    <tr>\n",
       "      <th>1</th>\n",
       "      <td>100.234075</td>\n",
       "      <td>a</td>\n",
       "    </tr>\n",
       "    <tr>\n",
       "      <th>2</th>\n",
       "      <td>104.784430</td>\n",
       "      <td>a</td>\n",
       "    </tr>\n",
       "    <tr>\n",
       "      <th>3</th>\n",
       "      <td>96.000634</td>\n",
       "      <td>a</td>\n",
       "    </tr>\n",
       "    <tr>\n",
       "      <th>4</th>\n",
       "      <td>101.818600</td>\n",
       "      <td>a</td>\n",
       "    </tr>\n",
       "  </tbody>\n",
       "</table>\n",
       "</div>"
      ],
      "text/plain": [
       "        value group\n",
       "0  100.854249     a\n",
       "1  100.234075     a\n",
       "2  104.784430     a\n",
       "3   96.000634     a\n",
       "4  101.818600     a"
      ]
     },
     "execution_count": 188,
     "metadata": {},
     "output_type": "execute_result"
    }
   ],
   "source": []
  },
  {
   "cell_type": "markdown",
   "id": "06f75377",
   "metadata": {},
   "source": [
    "# Algorithm"
   ]
  },
  {
   "cell_type": "code",
   "execution_count": 189,
   "id": "7436f556",
   "metadata": {},
   "outputs": [],
   "source": [
    "def one_way_anova(df, group):\n",
    "    \"\"\"\n",
    "    Аргументы: df - выборка, имеющая разделение на группы, \n",
    "    group - столбец, определяющий группу\n",
    "    \n",
    "    Производится сравнение нескольких групп между собой.\n",
    "    H0 - средние в группах не отличаются\n",
    "    H1 - хотя бы одно среднее значительно отличается\n",
    "    \n",
    "    Вывод: f-value, p-value(т.е. P(>f))\n",
    "    \"\"\"\n",
    "    df_bg = len(df[group].unique()) - 1\n",
    "    df_wg = len(df[group]) - df_bg - 1\n",
    "\n",
    "        # Вычисляем размеры и количество групп\n",
    "    group_sizes = []\n",
    "    groups = df[group].unique()\n",
    "    for gr in groups:\n",
    "        group_sizes.append(df[df[group] == gr])\n",
    "    for gr in group_sizes:\n",
    "        gr.index = range(0, len(gr))\n",
    "    means = []\n",
    "    for gr in group_sizes:\n",
    "        means.append(gr.mean())\n",
    "    average = sum(means) / len(means)\n",
    "    ssb = 0\n",
    "    for i in range(len(means)):\n",
    "        ssb += (means[i].value - average) ** 2 * len(group_sizes[i])\n",
    "    ms_bg = ssb / df_bg\n",
    "    ssw = 0\n",
    "    for i in range(len(group_sizes)):\n",
    "        for j in range(len(group_sizes[i])):\n",
    "            ssw += (group_sizes[i].value[j] - means[i]) ** 2\n",
    "    ms_wg = ssw / df_wg\n",
    "    f_value = ms_bg / ms_wg\n",
    "    p_value = round(1 - stats.f.cdf(f_value, df_bg, df_wg)[0], 5)\n",
    "    return f_value, p_value"
   ]
  },
  {
   "cell_type": "code",
   "execution_count": 190,
   "id": "142b65f1",
   "metadata": {},
   "outputs": [
    {
     "data": {
      "text/plain": [
       "(value    11.09824\n",
       " dtype: float64,\n",
       " 1e-05)"
      ]
     },
     "execution_count": 190,
     "metadata": {},
     "output_type": "execute_result"
    }
   ],
   "source": [
    "one_way_anova(df, 'group')"
   ]
  },
  {
   "cell_type": "markdown",
   "id": "3ba1a394",
   "metadata": {},
   "source": [
    "# Two-way ANOVA"
   ]
  },
  {
   "cell_type": "markdown",
   "id": "ded096e3",
   "metadata": {},
   "source": [
    "# Generate data"
   ]
  },
  {
   "cell_type": "code",
   "execution_count": 5,
   "id": "2f5e25b2",
   "metadata": {},
   "outputs": [],
   "source": [
    "from scipy import stats\n",
    "df_a = pd.DataFrame(stats.norm(loc=104.8, scale=5.8).rvs(size=16))\n",
    "df_a['group1'] = 'y'\n",
    "df_a['group2'] = 'high'"
   ]
  },
  {
   "cell_type": "code",
   "execution_count": 6,
   "id": "ca13340e",
   "metadata": {},
   "outputs": [],
   "source": [
    "df_b = pd.DataFrame(stats.norm(loc=105.5, scale=4.4).rvs(size=16))\n",
    "df_b['group1'] = 'y'\n",
    "df_b['group2'] = 'low'"
   ]
  },
  {
   "cell_type": "code",
   "execution_count": 7,
   "id": "a941961b",
   "metadata": {},
   "outputs": [],
   "source": [
    "df_c = pd.DataFrame(stats.norm(loc=101, scale=5.1).rvs(size=16))\n",
    "df_c['group1'] = 'o'\n",
    "df_c['group2'] = 'high'"
   ]
  },
  {
   "cell_type": "code",
   "execution_count": 8,
   "id": "d7b6dad1",
   "metadata": {},
   "outputs": [],
   "source": [
    "df_d = pd.DataFrame(stats.norm(loc=102.3, scale=5.1).rvs(size=16))\n",
    "df_d['group1'] = 'o'\n",
    "df_d['group2'] = 'low'"
   ]
  },
  {
   "cell_type": "code",
   "execution_count": 11,
   "id": "30755cb8",
   "metadata": {},
   "outputs": [],
   "source": [
    "import pandas as pd\n",
    "df_test = pd.concat([df_a, df_b, df_c, df_d], ignore_index=True)\n",
    "two_way_clinic = df_test\n",
    "two_way_clinic.to_csv('2way_clinic.csv', index = False)"
   ]
  },
  {
   "cell_type": "markdown",
   "id": "1d149844",
   "metadata": {},
   "source": [
    "## Третье значение - взаимодействие факторов"
   ]
  },
  {
   "cell_type": "code",
   "execution_count": 697,
   "id": "aa945760",
   "metadata": {},
   "outputs": [
    {
     "data": {
      "text/plain": [
       "0.0024"
      ]
     },
     "execution_count": 697,
     "metadata": {},
     "output_type": "execute_result"
    }
   ],
   "source": [
    "groups = ['group1', 'group2']\n",
    "df_first = len(df_test[groups[0]].unique()) - 1\n",
    "\n",
    "df_second = len(df_test[groups[1]].unique()) - 1\n",
    "\n",
    "df_third = 1\n",
    "\n",
    "first_group = df_test['group1'].unique()\n",
    "second_group = df_test['group2'].unique()\n",
    "average1 = []\n",
    "average2 = []\n",
    "average3 = []\n",
    "group_sizes1 = []\n",
    "group_sizes2 = []\n",
    "group_sizes3 = []\n",
    "for val in first_group:\n",
    "    average1.append(df_test[df_test['group1'] == val].mean())\n",
    "    group_sizes1.append(len(df_test[df_test['group1'] == val]))\n",
    "average_global1 = sum(average1) / len(average1)\n",
    "\n",
    "for val in second_group:\n",
    "    average2.append(df_test[df_test['group2'] == val].mean())\n",
    "    group_sizes2.append(len(df_test[df_test['group2'] == val]))\n",
    "average_global2 = sum(average2) / len(average2)\n",
    "\n",
    "average3 = []\n",
    "for gr in first_group:\n",
    "    for val in second_group:\n",
    "        average3.append(df_test[(df_test['group1'] == gr) & (df_test['group2'] == val)].mean())\n",
    "        group_sizes3.append(len(df_test[(df_test['group1'] == gr) & (df_test['group2'] == val)]))\n",
    "average_global3 = sum(average3) / len(average3)\n",
    "\n",
    "ssb1 = 0\n",
    "ssb1 = group_sizes1[0] * (average1[0][0] - average_global1[0]) ** 2\n",
    "ssb1 += group_sizes1[1] * (average1[1][0] - average_global1[0]) ** 2\n",
    "ms_bg1 = ssb1 / df_first\n",
    "\n",
    "ssb2 = 0\n",
    "ssb2 = group_sizes2[0] * (average2[0][0] - average_global2[0]) ** 2\n",
    "ssb2 += group_sizes2[1] * (average2[1][0] - average_global2[0]) ** 2\n",
    "ms_bg2 = ssb2 / df_second\n",
    "\n",
    "ssb3 = 0\n",
    "for i in range(4):\n",
    "    ssb3 += group_sizes3[i] * (average3[i] - average_global3) ** 2\n",
    "ssb3 = ssb3[0]\n",
    "ms_bg3 = ssb3 / df_third\n",
    "\n",
    "\n",
    "def_global = len(df_test) - len(group_sizes1) - len(group_sizes2)\n",
    "\n",
    "variances = []\n",
    "group_sizes_global = []\n",
    "for val in first_group:\n",
    "    for gr in second_group:\n",
    "        variances.append(df_test[(df_test['group1'] == val) & (df_test['group2'] == gr)].var())\n",
    "        group_sizes_global.append(len(df_test[(df_test['group1'] == val) & (df_test['group2'] == gr)]))\n",
    "variances = np.array(variances)\n",
    "\n",
    "ssw = 0\n",
    "for i in range(len(group_sizes_global)):\n",
    "    ssw += (group_sizes_global[i] - 1) * variances[i]\n",
    "ssw = ssw[0]\n",
    "ms_wg = ssw / def_global\n",
    "\n",
    "f_first = ms_bg1 / ms_wg\n",
    "f_second = ms_bg2 / ms_wg\n",
    "f_third = ms_bg3 / ms_wg\n",
    "p_value1 = round(1 - stats.f.cdf(f_first, df_first, def_global), 5)\n",
    "p_value2 = round(1 - stats.f.cdf(f_second, df_second, def_global), 5)\n",
    "p_value3 = round(1 - stats.f.cdf(f_third, df_third, def_global), 5)\n"
   ]
  },
  {
   "cell_type": "code",
   "execution_count": 698,
   "id": "6b7e7c93",
   "metadata": {},
   "outputs": [
    {
     "data": {
      "text/plain": [
       "0.00656"
      ]
     },
     "execution_count": 698,
     "metadata": {},
     "output_type": "execute_result"
    }
   ],
   "source": [
    "p_value1"
   ]
  },
  {
   "cell_type": "code",
   "execution_count": 699,
   "id": "077eee9d",
   "metadata": {},
   "outputs": [
    {
     "data": {
      "text/plain": [
       "0.20257"
      ]
     },
     "execution_count": 699,
     "metadata": {},
     "output_type": "execute_result"
    }
   ],
   "source": [
    "p_value2"
   ]
  },
  {
   "cell_type": "code",
   "execution_count": 700,
   "id": "7956fc83",
   "metadata": {},
   "outputs": [
    {
     "data": {
      "text/plain": [
       "0.0024"
      ]
     },
     "execution_count": 700,
     "metadata": {},
     "output_type": "execute_result"
    }
   ],
   "source": [
    "p_value3"
   ]
  },
  {
   "cell_type": "markdown",
   "id": "69359553",
   "metadata": {},
   "source": [
    "# Корреляция и регрессия"
   ]
  },
  {
   "cell_type": "code",
   "execution_count": 702,
   "id": "1653b3fb",
   "metadata": {},
   "outputs": [
    {
     "data": {
      "text/html": [
       "<div>\n",
       "<style scoped>\n",
       "    .dataframe tbody tr th:only-of-type {\n",
       "        vertical-align: middle;\n",
       "    }\n",
       "\n",
       "    .dataframe tbody tr th {\n",
       "        vertical-align: top;\n",
       "    }\n",
       "\n",
       "    .dataframe thead th {\n",
       "        text-align: right;\n",
       "    }\n",
       "</style>\n",
       "<table border=\"1\" class=\"dataframe\">\n",
       "  <thead>\n",
       "    <tr style=\"text-align: right;\">\n",
       "      <th></th>\n",
       "      <th>g1</th>\n",
       "      <th>g2</th>\n",
       "      <th>g3</th>\n",
       "      <th>g4</th>\n",
       "      <th>group</th>\n",
       "    </tr>\n",
       "  </thead>\n",
       "  <tbody>\n",
       "    <tr>\n",
       "      <th>0</th>\n",
       "      <td>66</td>\n",
       "      <td>92</td>\n",
       "      <td>98</td>\n",
       "      <td>17</td>\n",
       "      <td>a</td>\n",
       "    </tr>\n",
       "    <tr>\n",
       "      <th>1</th>\n",
       "      <td>83</td>\n",
       "      <td>57</td>\n",
       "      <td>86</td>\n",
       "      <td>97</td>\n",
       "      <td>a</td>\n",
       "    </tr>\n",
       "    <tr>\n",
       "      <th>2</th>\n",
       "      <td>96</td>\n",
       "      <td>47</td>\n",
       "      <td>73</td>\n",
       "      <td>32</td>\n",
       "      <td>a</td>\n",
       "    </tr>\n",
       "    <tr>\n",
       "      <th>3</th>\n",
       "      <td>46</td>\n",
       "      <td>96</td>\n",
       "      <td>25</td>\n",
       "      <td>83</td>\n",
       "      <td>a</td>\n",
       "    </tr>\n",
       "    <tr>\n",
       "      <th>4</th>\n",
       "      <td>78</td>\n",
       "      <td>36</td>\n",
       "      <td>96</td>\n",
       "      <td>80</td>\n",
       "      <td>a</td>\n",
       "    </tr>\n",
       "    <tr>\n",
       "      <th>...</th>\n",
       "      <td>...</td>\n",
       "      <td>...</td>\n",
       "      <td>...</td>\n",
       "      <td>...</td>\n",
       "      <td>...</td>\n",
       "    </tr>\n",
       "    <tr>\n",
       "      <th>99995</th>\n",
       "      <td>2</td>\n",
       "      <td>51</td>\n",
       "      <td>25</td>\n",
       "      <td>32</td>\n",
       "      <td>a</td>\n",
       "    </tr>\n",
       "    <tr>\n",
       "      <th>99996</th>\n",
       "      <td>70</td>\n",
       "      <td>46</td>\n",
       "      <td>21</td>\n",
       "      <td>30</td>\n",
       "      <td>a</td>\n",
       "    </tr>\n",
       "    <tr>\n",
       "      <th>99997</th>\n",
       "      <td>4</td>\n",
       "      <td>13</td>\n",
       "      <td>33</td>\n",
       "      <td>7</td>\n",
       "      <td>a</td>\n",
       "    </tr>\n",
       "    <tr>\n",
       "      <th>99998</th>\n",
       "      <td>84</td>\n",
       "      <td>7</td>\n",
       "      <td>7</td>\n",
       "      <td>5</td>\n",
       "      <td>a</td>\n",
       "    </tr>\n",
       "    <tr>\n",
       "      <th>99999</th>\n",
       "      <td>75</td>\n",
       "      <td>80</td>\n",
       "      <td>85</td>\n",
       "      <td>71</td>\n",
       "      <td>a</td>\n",
       "    </tr>\n",
       "  </tbody>\n",
       "</table>\n",
       "<p>100000 rows × 5 columns</p>\n",
       "</div>"
      ],
      "text/plain": [
       "       g1  g2  g3  g4 group\n",
       "0      66  92  98  17     a\n",
       "1      83  57  86  97     a\n",
       "2      96  47  73  32     a\n",
       "3      46  96  25  83     a\n",
       "4      78  36  96  80     a\n",
       "...    ..  ..  ..  ..   ...\n",
       "99995   2  51  25  32     a\n",
       "99996  70  46  21  30     a\n",
       "99997   4  13  33   7     a\n",
       "99998  84   7   7   5     a\n",
       "99999  75  80  85  71     a\n",
       "\n",
       "[100000 rows x 5 columns]"
      ]
     },
     "execution_count": 702,
     "metadata": {},
     "output_type": "execute_result"
    }
   ],
   "source": [
    "df"
   ]
  },
  {
   "cell_type": "code",
   "execution_count": 707,
   "id": "e6b6c85f",
   "metadata": {},
   "outputs": [
    {
     "data": {
      "text/html": [
       "<div>\n",
       "<style scoped>\n",
       "    .dataframe tbody tr th:only-of-type {\n",
       "        vertical-align: middle;\n",
       "    }\n",
       "\n",
       "    .dataframe tbody tr th {\n",
       "        vertical-align: top;\n",
       "    }\n",
       "\n",
       "    .dataframe thead th {\n",
       "        text-align: right;\n",
       "    }\n",
       "</style>\n",
       "<table border=\"1\" class=\"dataframe\">\n",
       "  <thead>\n",
       "    <tr style=\"text-align: right;\">\n",
       "      <th></th>\n",
       "      <th>0</th>\n",
       "      <th>group1</th>\n",
       "      <th>group2</th>\n",
       "    </tr>\n",
       "  </thead>\n",
       "  <tbody>\n",
       "    <tr>\n",
       "      <th>0</th>\n",
       "      <td>115.197641</td>\n",
       "      <td>y</td>\n",
       "      <td>high</td>\n",
       "    </tr>\n",
       "    <tr>\n",
       "      <th>1</th>\n",
       "      <td>92.527394</td>\n",
       "      <td>y</td>\n",
       "      <td>high</td>\n",
       "    </tr>\n",
       "    <tr>\n",
       "      <th>2</th>\n",
       "      <td>99.630926</td>\n",
       "      <td>y</td>\n",
       "      <td>high</td>\n",
       "    </tr>\n",
       "    <tr>\n",
       "      <th>3</th>\n",
       "      <td>105.040992</td>\n",
       "      <td>y</td>\n",
       "      <td>high</td>\n",
       "    </tr>\n",
       "    <tr>\n",
       "      <th>4</th>\n",
       "      <td>109.853466</td>\n",
       "      <td>y</td>\n",
       "      <td>high</td>\n",
       "    </tr>\n",
       "    <tr>\n",
       "      <th>...</th>\n",
       "      <td>...</td>\n",
       "      <td>...</td>\n",
       "      <td>...</td>\n",
       "    </tr>\n",
       "    <tr>\n",
       "      <th>59</th>\n",
       "      <td>99.129215</td>\n",
       "      <td>o</td>\n",
       "      <td>low</td>\n",
       "    </tr>\n",
       "    <tr>\n",
       "      <th>60</th>\n",
       "      <td>102.737075</td>\n",
       "      <td>o</td>\n",
       "      <td>low</td>\n",
       "    </tr>\n",
       "    <tr>\n",
       "      <th>61</th>\n",
       "      <td>102.544033</td>\n",
       "      <td>o</td>\n",
       "      <td>low</td>\n",
       "    </tr>\n",
       "    <tr>\n",
       "      <th>62</th>\n",
       "      <td>102.528075</td>\n",
       "      <td>o</td>\n",
       "      <td>low</td>\n",
       "    </tr>\n",
       "    <tr>\n",
       "      <th>63</th>\n",
       "      <td>103.912028</td>\n",
       "      <td>o</td>\n",
       "      <td>low</td>\n",
       "    </tr>\n",
       "  </tbody>\n",
       "</table>\n",
       "<p>64 rows × 3 columns</p>\n",
       "</div>"
      ],
      "text/plain": [
       "             0 group1 group2\n",
       "0   115.197641      y   high\n",
       "1    92.527394      y   high\n",
       "2    99.630926      y   high\n",
       "3   105.040992      y   high\n",
       "4   109.853466      y   high\n",
       "..         ...    ...    ...\n",
       "59   99.129215      o    low\n",
       "60  102.737075      o    low\n",
       "61  102.544033      o    low\n",
       "62  102.528075      o    low\n",
       "63  103.912028      o    low\n",
       "\n",
       "[64 rows x 3 columns]"
      ]
     },
     "execution_count": 707,
     "metadata": {},
     "output_type": "execute_result"
    }
   ],
   "source": [
    "df_test"
   ]
  },
  {
   "cell_type": "code",
   "execution_count": 708,
   "id": "567dfc1a",
   "metadata": {},
   "outputs": [],
   "source": [
    "np.random.seed(123)\n",
    "df = pd.DataFrame(np.random.randint(0, 100, size=(1000, 4)), columns=['g1', 'g2', 'g3', 'g4'])"
   ]
  },
  {
   "cell_type": "code",
   "execution_count": 709,
   "id": "bb832f73",
   "metadata": {},
   "outputs": [
    {
     "data": {
      "text/html": [
       "<div>\n",
       "<style scoped>\n",
       "    .dataframe tbody tr th:only-of-type {\n",
       "        vertical-align: middle;\n",
       "    }\n",
       "\n",
       "    .dataframe tbody tr th {\n",
       "        vertical-align: top;\n",
       "    }\n",
       "\n",
       "    .dataframe thead th {\n",
       "        text-align: right;\n",
       "    }\n",
       "</style>\n",
       "<table border=\"1\" class=\"dataframe\">\n",
       "  <thead>\n",
       "    <tr style=\"text-align: right;\">\n",
       "      <th></th>\n",
       "      <th>g1</th>\n",
       "      <th>g2</th>\n",
       "      <th>g3</th>\n",
       "      <th>g4</th>\n",
       "    </tr>\n",
       "  </thead>\n",
       "  <tbody>\n",
       "    <tr>\n",
       "      <th>0</th>\n",
       "      <td>66</td>\n",
       "      <td>92</td>\n",
       "      <td>98</td>\n",
       "      <td>17</td>\n",
       "    </tr>\n",
       "    <tr>\n",
       "      <th>1</th>\n",
       "      <td>83</td>\n",
       "      <td>57</td>\n",
       "      <td>86</td>\n",
       "      <td>97</td>\n",
       "    </tr>\n",
       "    <tr>\n",
       "      <th>2</th>\n",
       "      <td>96</td>\n",
       "      <td>47</td>\n",
       "      <td>73</td>\n",
       "      <td>32</td>\n",
       "    </tr>\n",
       "    <tr>\n",
       "      <th>3</th>\n",
       "      <td>46</td>\n",
       "      <td>96</td>\n",
       "      <td>25</td>\n",
       "      <td>83</td>\n",
       "    </tr>\n",
       "    <tr>\n",
       "      <th>4</th>\n",
       "      <td>78</td>\n",
       "      <td>36</td>\n",
       "      <td>96</td>\n",
       "      <td>80</td>\n",
       "    </tr>\n",
       "    <tr>\n",
       "      <th>...</th>\n",
       "      <td>...</td>\n",
       "      <td>...</td>\n",
       "      <td>...</td>\n",
       "      <td>...</td>\n",
       "    </tr>\n",
       "    <tr>\n",
       "      <th>995</th>\n",
       "      <td>54</td>\n",
       "      <td>72</td>\n",
       "      <td>59</td>\n",
       "      <td>82</td>\n",
       "    </tr>\n",
       "    <tr>\n",
       "      <th>996</th>\n",
       "      <td>96</td>\n",
       "      <td>81</td>\n",
       "      <td>25</td>\n",
       "      <td>61</td>\n",
       "    </tr>\n",
       "    <tr>\n",
       "      <th>997</th>\n",
       "      <td>38</td>\n",
       "      <td>32</td>\n",
       "      <td>77</td>\n",
       "      <td>51</td>\n",
       "    </tr>\n",
       "    <tr>\n",
       "      <th>998</th>\n",
       "      <td>33</td>\n",
       "      <td>22</td>\n",
       "      <td>31</td>\n",
       "      <td>70</td>\n",
       "    </tr>\n",
       "    <tr>\n",
       "      <th>999</th>\n",
       "      <td>38</td>\n",
       "      <td>75</td>\n",
       "      <td>69</td>\n",
       "      <td>4</td>\n",
       "    </tr>\n",
       "  </tbody>\n",
       "</table>\n",
       "<p>1000 rows × 4 columns</p>\n",
       "</div>"
      ],
      "text/plain": [
       "     g1  g2  g3  g4\n",
       "0    66  92  98  17\n",
       "1    83  57  86  97\n",
       "2    96  47  73  32\n",
       "3    46  96  25  83\n",
       "4    78  36  96  80\n",
       "..   ..  ..  ..  ..\n",
       "995  54  72  59  82\n",
       "996  96  81  25  61\n",
       "997  38  32  77  51\n",
       "998  33  22  31  70\n",
       "999  38  75  69   4\n",
       "\n",
       "[1000 rows x 4 columns]"
      ]
     },
     "execution_count": 709,
     "metadata": {},
     "output_type": "execute_result"
    }
   ],
   "source": [
    "df"
   ]
  },
  {
   "cell_type": "code",
   "execution_count": 715,
   "id": "c3f559af",
   "metadata": {},
   "outputs": [
    {
     "data": {
      "text/html": [
       "<div>\n",
       "<style scoped>\n",
       "    .dataframe tbody tr th:only-of-type {\n",
       "        vertical-align: middle;\n",
       "    }\n",
       "\n",
       "    .dataframe tbody tr th {\n",
       "        vertical-align: top;\n",
       "    }\n",
       "\n",
       "    .dataframe thead th {\n",
       "        text-align: right;\n",
       "    }\n",
       "</style>\n",
       "<table border=\"1\" class=\"dataframe\">\n",
       "  <thead>\n",
       "    <tr style=\"text-align: right;\">\n",
       "      <th></th>\n",
       "      <th>g1</th>\n",
       "      <th>g2</th>\n",
       "      <th>g3</th>\n",
       "      <th>g4</th>\n",
       "    </tr>\n",
       "  </thead>\n",
       "  <tbody>\n",
       "    <tr>\n",
       "      <th>g1</th>\n",
       "      <td>1.000000</td>\n",
       "      <td>-0.004701</td>\n",
       "      <td>-0.006764</td>\n",
       "      <td>0.004172</td>\n",
       "    </tr>\n",
       "    <tr>\n",
       "      <th>g2</th>\n",
       "      <td>-0.004701</td>\n",
       "      <td>1.000000</td>\n",
       "      <td>0.008594</td>\n",
       "      <td>0.003175</td>\n",
       "    </tr>\n",
       "    <tr>\n",
       "      <th>g3</th>\n",
       "      <td>-0.006764</td>\n",
       "      <td>0.008594</td>\n",
       "      <td>1.000000</td>\n",
       "      <td>-0.033926</td>\n",
       "    </tr>\n",
       "    <tr>\n",
       "      <th>g4</th>\n",
       "      <td>0.004172</td>\n",
       "      <td>0.003175</td>\n",
       "      <td>-0.033926</td>\n",
       "      <td>1.000000</td>\n",
       "    </tr>\n",
       "  </tbody>\n",
       "</table>\n",
       "</div>"
      ],
      "text/plain": [
       "          g1        g2        g3        g4\n",
       "g1  1.000000 -0.004701 -0.006764  0.004172\n",
       "g2 -0.004701  1.000000  0.008594  0.003175\n",
       "g3 -0.006764  0.008594  1.000000 -0.033926\n",
       "g4  0.004172  0.003175 -0.033926  1.000000"
      ]
     },
     "execution_count": 715,
     "metadata": {},
     "output_type": "execute_result"
    }
   ],
   "source": [
    "df.corr()"
   ]
  },
  {
   "cell_type": "code",
   "execution_count": 718,
   "id": "d8d0279d",
   "metadata": {},
   "outputs": [
    {
     "data": {
      "text/plain": [
       "-0.004700871123791447"
      ]
     },
     "execution_count": 718,
     "metadata": {},
     "output_type": "execute_result"
    }
   ],
   "source": [
    "df.g1.corr(df.g2)"
   ]
  },
  {
   "cell_type": "code",
   "execution_count": 720,
   "id": "73be4001",
   "metadata": {},
   "outputs": [
    {
     "data": {
      "text/plain": [
       "(1.0, 0.0)"
      ]
     },
     "execution_count": 720,
     "metadata": {},
     "output_type": "execute_result"
    }
   ],
   "source": [
    "stats.pearsonr(df.g1, df.g1)"
   ]
  },
  {
   "cell_type": "markdown",
   "id": "eef873ec",
   "metadata": {},
   "source": [
    "# Одномерный регрессионный анализ"
   ]
  },
  {
   "cell_type": "code",
   "execution_count": 721,
   "id": "0d8ff255",
   "metadata": {},
   "outputs": [],
   "source": [
    "x = np.array([-0.5, 1.2, 0.7, -1.5, -2.2, -0.5, 1.8, 0.3, -0.8, 1])\n",
    "y = np.array([-0.5, 1, 0.8, -1, -1.5, -0.7, 2, 0.5, -1.2, 1.3])"
   ]
  },
  {
   "cell_type": "code",
   "execution_count": 722,
   "id": "5d787a6f",
   "metadata": {},
   "outputs": [
    {
     "data": {
      "text/plain": [
       "-0.050000000000000024"
      ]
     },
     "execution_count": 722,
     "metadata": {},
     "output_type": "execute_result"
    }
   ],
   "source": [
    "x.mean()"
   ]
  },
  {
   "cell_type": "code",
   "execution_count": 723,
   "id": "6164a229",
   "metadata": {},
   "outputs": [
    {
     "data": {
      "text/plain": [
       "1.4465"
      ]
     },
     "execution_count": 723,
     "metadata": {},
     "output_type": "execute_result"
    }
   ],
   "source": [
    "x.var()"
   ]
  },
  {
   "cell_type": "code",
   "execution_count": 732,
   "id": "96ff8203",
   "metadata": {},
   "outputs": [],
   "source": [
    "def my_var(x):\n",
    "    res = 0\n",
    "    for val in x:\n",
    "        res += (val - x.mean()) ** 2\n",
    "    res = res / (len(x) - 1)\n",
    "    return res"
   ]
  },
  {
   "cell_type": "code",
   "execution_count": 733,
   "id": "3757af3c",
   "metadata": {},
   "outputs": [
    {
     "data": {
      "text/plain": [
       "1.6072222222222226"
      ]
     },
     "execution_count": 733,
     "metadata": {},
     "output_type": "execute_result"
    }
   ],
   "source": [
    "my_var(x)"
   ]
  },
  {
   "cell_type": "code",
   "execution_count": 734,
   "id": "9fde2478",
   "metadata": {},
   "outputs": [
    {
     "data": {
      "text/plain": [
       "1.4401111111111113"
      ]
     },
     "execution_count": 734,
     "metadata": {},
     "output_type": "execute_result"
    }
   ],
   "source": [
    "my_var(y)"
   ]
  },
  {
   "cell_type": "code",
   "execution_count": 735,
   "id": "675b927f",
   "metadata": {},
   "outputs": [
    {
     "data": {
      "text/plain": [
       "array([[1.60722222, 1.46722222],\n",
       "       [1.46722222, 1.44011111]])"
      ]
     },
     "execution_count": 735,
     "metadata": {},
     "output_type": "execute_result"
    }
   ],
   "source": [
    "np.cov(x, y)"
   ]
  },
  {
   "cell_type": "code",
   "execution_count": 748,
   "id": "add1c88b",
   "metadata": {},
   "outputs": [],
   "source": [
    "def my_cov(x, y):\n",
    "    res = 0\n",
    "    for i in range(len(x)):\n",
    "        res += (x[i] - x.mean()) * (y[i] - y.mean())\n",
    "    res /= (len(x) - 1)\n",
    "    return res"
   ]
  },
  {
   "cell_type": "code",
   "execution_count": 750,
   "id": "959b93ea",
   "metadata": {},
   "outputs": [
    {
     "data": {
      "text/plain": [
       "0.964406061262968"
      ]
     },
     "execution_count": 750,
     "metadata": {},
     "output_type": "execute_result"
    }
   ],
   "source": [
    "my_cov(x, y) / (my_var(x) ** 0.5 * my_var(y) ** 0.5)"
   ]
  },
  {
   "cell_type": "code",
   "execution_count": 753,
   "id": "436b996a",
   "metadata": {},
   "outputs": [],
   "source": [
    "df = pd.read_csv('test.csv')"
   ]
  },
  {
   "cell_type": "code",
   "execution_count": 38,
   "id": "3c1eb08c",
   "metadata": {},
   "outputs": [
    {
     "data": {
      "text/plain": [
       "'Arizona'"
      ]
     },
     "execution_count": 38,
     "metadata": {},
     "output_type": "execute_result"
    }
   ],
   "source": [
    "head = [\"state\",\"metro_res\",\"white\",\"hs_grad\",\"poverty\",\"female_house\"]\n",
    "data = [\n",
    "[\"Alabama\",55.4,71.3,79.9,14.6,14.2],\n",
    "[\"Alaska\",65.6,70.8,90.6,8.3,10.8],\n",
    "[\"Arizona\",88.2,87.7,83.8,13.3,11.1],\n",
    "[\"Arkansas\",52.5,81,80.9,18,12.1],\n",
    "[\"California\",94.4,77.5,81.1,12.8,12.6],\n",
    "[\"Colorado\",84.5,90.2,88.7,9.4,9.6],\n",
    "[\"Connecticut\",87.7,85.4,87.5,7.8,12.1],\n",
    "[\"Delaware\",80.1,76.3,88.7,8.1,13.1],\n",
    "[\"District  of Columbia\",100,36.2,86,16.8,18.9],\n",
    "[\"Florida\",89.3,80.6,84.7,12.1,12],\n",
    "[\"Georgia\",71.6,67.5,85.1,12.1,14.5],\n",
    "[\"Hawaii\",91.5,25.9,88.5,10.6,12.4],\n",
    "[\"Idaho\",66.4,95.5,88.2,11.8,8.7],\n",
    "[\"Illinois\",87.8,79.5,85.9,11.2,12.3],\n",
    "[\"Indiana\",70.8,88.9,86.4,8.7,11.1],\n",
    "[\"Iowa\",61.1,94.9,89.7,8.3,8.6],\n",
    "[\"Kansas\",71.4,89.3,88.6,9.4,9.3],\n",
    "[\"Kentucky\",55.8,90.3,82.8,13.1,11.8],\n",
    "[\"Louisiana\",72.6,64.2,79.8,17,16.6],\n",
    "[\"Maine\",40.2,97.1,86.6,11.3,9.5],\n",
    "[\"Maryland\",86.1,65.6,87.6,7.3,14.1],\n",
    "[\"Massachusetts\",91.4,87.2,87.1,9.6,11.9],\n",
    "[\"Michigan\",74.7,81.5,87.6,10.3,12.5],\n",
    "[\"Minnesota\",70.9,90.2,91.6,6.5,8.9],\n",
    "[\"Mississippi\",48.8,61.2,81.2,17.6,17.3],\n",
    "[\"Missouri\",69.4,85.3,88.3,9.6,11.6],\n",
    "[\"Montana\",54.1,90.9,90.1,13.7,8.9],\n",
    "[\"Nebraska\",69.8,92.1,90.8,9.5,9.1],\n",
    "[\"Nevada\",91.5,84.1,85.6,8.3,11.1],\n",
    "[\"New  Hampshire\",59.3,96.3,92.1,5.6,9.1],\n",
    "[\"New Jersey\",94.4,77.3,86.2,7.8,12.6],\n",
    "[\"New Mexico\",75,84.9,81.7,17.8,13.2],\n",
    "[\"New York\",87.5,73.6,84.2,14,14.7],\n",
    "[\"North  Carolina\",60.2,74.1,81.4,13.1,12.5],\n",
    "[\"North Dakota\",55.9,92.5,89.7,11.9,7.8],\n",
    "[\"Ohio\",77.4,85.4,87.2,10.1,12.1],\n",
    "[\"Oklahoma\",65.3,78.4,85.7,14.7,11.4],\n",
    "[\"Oregon\",78.7,90.8,86.9,11.2,9.8],\n",
    "[\"Pennsylvania\",77.1,86.4,86,9.2,11.6],\n",
    "[\"Rhode Island\",90.9,89.2,81,10.3,12.9],\n",
    "[\"South  Carolina\",60.5,67.7,80.8,13.5,14.8],\n",
    "[\"South Dakota\",51.9,88.8,88.7,10.2,9],\n",
    "[\"Tennessee\",63.6,80.8,81,14.2,12.9],\n",
    "[\"Texas\",82.5,83.6,77.2,15.3,12.7],\n",
    "[\"Utah\",88.2,93.6,89.4,9.3,9.4],\n",
    "[\"Vermont\",38.2,96.9,88.9,9.9,9.3],\n",
    "[\"Virginia\",73,73.9,87.8,8.7,11.9],\n",
    "[\"Washington\",82,85.5,89.1,10.8,9.9],\n",
    "[\"West  Virginia\",46.1,95,78.7,16,10.7],\n",
    "[\"Wisconsin\",68.3,90.1,88.6,8.6,9.6],\n",
    "[\"Wyoming\",65.1,94.7,90.9,9.5,8.7]]\n",
    "df = pd.DataFrame(data, columns=head)      \n"
   ]
  },
  {
   "cell_type": "code",
   "execution_count": 797,
   "id": "021deb86",
   "metadata": {},
   "outputs": [
    {
     "data": {
      "text/plain": [
       "2.356155059979429"
      ]
     },
     "execution_count": 797,
     "metadata": {},
     "output_type": "execute_result"
    }
   ],
   "source": [
    "a = df['female_house'].std()\n",
    "a"
   ]
  },
  {
   "cell_type": "code",
   "execution_count": 798,
   "id": "a1e833a1",
   "metadata": {},
   "outputs": [
    {
     "data": {
      "text/plain": [
       "3.099185218667617"
      ]
     },
     "execution_count": 798,
     "metadata": {},
     "output_type": "execute_result"
    }
   ],
   "source": [
    "b = df.poverty.std()\n",
    "b"
   ]
  },
  {
   "cell_type": "code",
   "execution_count": 799,
   "id": "831fc6b2",
   "metadata": {},
   "outputs": [
    {
     "data": {
      "text/plain": [
       "array([[1.        , 0.52539698],\n",
       "       [0.52539698, 1.        ]])"
      ]
     },
     "execution_count": 799,
     "metadata": {},
     "output_type": "execute_result"
    }
   ],
   "source": [
    "corr = np.corrcoef(df['female_house'], df.poverty)\n",
    "corr"
   ]
  },
  {
   "cell_type": "code",
   "execution_count": 800,
   "id": "30160091",
   "metadata": {},
   "outputs": [
    {
     "data": {
      "text/plain": [
       "0.6839856769533798"
      ]
     },
     "execution_count": 800,
     "metadata": {},
     "output_type": "execute_result"
    }
   ],
   "source": [
    "b/a * 0.52"
   ]
  },
  {
   "cell_type": "code",
   "execution_count": 804,
   "id": "0cda281f",
   "metadata": {},
   "outputs": [],
   "source": [
    "g_t = np.array([[1, 1, 1, 1, 1, 1, 1, 1, 1, 1], [4.6, 0.1, 0.2, 4.2, 2.7, 4.5, 1.5, 5.1, 2.2, 1], [7, 1, 0, 2, 2, 9, 1, 8, 4, 1]])"
   ]
  },
  {
   "cell_type": "code",
   "execution_count": 805,
   "id": "8608e4ed",
   "metadata": {},
   "outputs": [
    {
     "data": {
      "text/plain": [
       "array([[1. , 1. , 1. , 1. , 1. , 1. , 1. , 1. , 1. , 1. ],\n",
       "       [4.6, 0.1, 0.2, 4.2, 2.7, 4.5, 1.5, 5.1, 2.2, 1. ],\n",
       "       [7. , 1. , 0. , 2. , 2. , 9. , 1. , 8. , 4. , 1. ]])"
      ]
     },
     "execution_count": 805,
     "metadata": {},
     "output_type": "execute_result"
    }
   ],
   "source": [
    "g_t"
   ]
  },
  {
   "cell_type": "code",
   "execution_count": 806,
   "id": "31711350",
   "metadata": {},
   "outputs": [],
   "source": [
    "x_t = np.array([7.3, 1.3, 0.3, 5.4, 2.1, 9.8, 2.1, 9.1, 3.5, 2.3])"
   ]
  },
  {
   "cell_type": "code",
   "execution_count": 807,
   "id": "69ffbe10",
   "metadata": {},
   "outputs": [
    {
     "data": {
      "text/plain": [
       "array([7.3, 1.3, 0.3, 5.4, 2.1, 9.8, 2.1, 9.1, 3.5, 2.3])"
      ]
     },
     "execution_count": 807,
     "metadata": {},
     "output_type": "execute_result"
    }
   ],
   "source": [
    "x_t"
   ]
  },
  {
   "cell_type": "code",
   "execution_count": 808,
   "id": "d156b446",
   "metadata": {},
   "outputs": [],
   "source": [
    "g = g_t.transpose()"
   ]
  },
  {
   "cell_type": "code",
   "execution_count": 809,
   "id": "f3e72528",
   "metadata": {},
   "outputs": [
    {
     "data": {
      "text/plain": [
       "array([[1. , 4.6, 7. ],\n",
       "       [1. , 0.1, 1. ],\n",
       "       [1. , 0.2, 0. ],\n",
       "       [1. , 4.2, 2. ],\n",
       "       [1. , 2.7, 2. ],\n",
       "       [1. , 4.5, 9. ],\n",
       "       [1. , 1.5, 1. ],\n",
       "       [1. , 5.1, 8. ],\n",
       "       [1. , 2.2, 4. ],\n",
       "       [1. , 1. , 1. ]])"
      ]
     },
     "execution_count": 809,
     "metadata": {},
     "output_type": "execute_result"
    }
   ],
   "source": [
    "g"
   ]
  },
  {
   "cell_type": "code",
   "execution_count": 810,
   "id": "af56b273",
   "metadata": {},
   "outputs": [
    {
     "data": {
      "text/plain": [
       "array([7.3, 1.3, 0.3, 5.4, 2.1, 9.8, 2.1, 9.1, 3.5, 2.3])"
      ]
     },
     "execution_count": 810,
     "metadata": {},
     "output_type": "execute_result"
    }
   ],
   "source": [
    "x = x_t.transpose()\n",
    "x"
   ]
  },
  {
   "cell_type": "code",
   "execution_count": 811,
   "id": "6b0f9da3",
   "metadata": {},
   "outputs": [],
   "source": [
    "ggt = g_t.dot(g)"
   ]
  },
  {
   "cell_type": "code",
   "execution_count": 812,
   "id": "f8fb4829",
   "metadata": {},
   "outputs": [
    {
     "data": {
      "text/plain": [
       "array([[ 10.  ,  26.1 ,  35.  ],\n",
       "       [ 26.1 , 100.49, 138.7 ],\n",
       "       [ 35.  , 138.7 , 221.  ]])"
      ]
     },
     "execution_count": 812,
     "metadata": {},
     "output_type": "execute_result"
    }
   ],
   "source": [
    "ggt"
   ]
  },
  {
   "cell_type": "code",
   "execution_count": 814,
   "id": "abe8b11a",
   "metadata": {},
   "outputs": [],
   "source": [
    "ggtmin = np.linalg.matrix_power(ggt, -1)"
   ]
  },
  {
   "cell_type": "code",
   "execution_count": 815,
   "id": "1a9eafba",
   "metadata": {},
   "outputs": [
    {
     "data": {
      "text/plain": [
       "array([[ 0.3139094 , -0.09654199,  0.01087577],\n",
       "       [-0.09654199,  0.10408697, -0.05003572],\n",
       "       [ 0.01087577, -0.05003572,  0.03420499]])"
      ]
     },
     "execution_count": 815,
     "metadata": {},
     "output_type": "execute_result"
    }
   ],
   "source": [
    "ggtmin"
   ]
  },
  {
   "cell_type": "code",
   "execution_count": 817,
   "id": "887427a5",
   "metadata": {},
   "outputs": [],
   "source": [
    "first = ggtmin.dot(g_t)"
   ]
  },
  {
   "cell_type": "code",
   "execution_count": 818,
   "id": "864e9e07",
   "metadata": {},
   "outputs": [],
   "source": [
    "final = first.dot(x_t)"
   ]
  },
  {
   "cell_type": "code",
   "execution_count": 819,
   "id": "55037ebc",
   "metadata": {},
   "outputs": [
    {
     "data": {
      "text/plain": [
       "array([0.24029487, 0.73610941, 0.61670274])"
      ]
     },
     "execution_count": 819,
     "metadata": {},
     "output_type": "execute_result"
    }
   ],
   "source": [
    "final"
   ]
  },
  {
   "cell_type": "code",
   "execution_count": 114,
   "id": "76ad1f0c",
   "metadata": {},
   "outputs": [],
   "source": []
  },
  {
   "cell_type": "code",
   "execution_count": 121,
   "id": "bb897871",
   "metadata": {},
   "outputs": [],
   "source": []
  },
  {
   "cell_type": "code",
   "execution_count": 122,
   "id": "8146a06e",
   "metadata": {},
   "outputs": [
    {
     "name": "stdout",
     "output_type": "stream",
     "text": [
      "F = 20.5787 > F_cr = 2.0712 : passed\n",
      "R_2adj = 0.6187 : passed\n"
     ]
    }
   ],
   "source": [
    "model, group = mult_linregr(df, ['metro_res', 'white', 'hs_grad', 'female_house'], 'poverty')\n",
    "test_model(df, 'poverty', model, group, 0.1)"
   ]
  },
  {
   "cell_type": "code",
   "execution_count": null,
   "id": "64c3c73a",
   "metadata": {},
   "outputs": [],
   "source": []
  }
 ],
 "metadata": {
  "kernelspec": {
   "display_name": "Python 3",
   "language": "python",
   "name": "python3"
  },
  "language_info": {
   "codemirror_mode": {
    "name": "ipython",
    "version": 3
   },
   "file_extension": ".py",
   "mimetype": "text/x-python",
   "name": "python",
   "nbconvert_exporter": "python",
   "pygments_lexer": "ipython3",
   "version": "3.8.8"
  }
 },
 "nbformat": 4,
 "nbformat_minor": 5
}
