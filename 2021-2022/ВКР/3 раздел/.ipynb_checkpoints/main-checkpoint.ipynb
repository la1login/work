{
 "cells": [
  {
   "cell_type": "code",
   "execution_count": 1,
   "id": "5d56c1f1",
   "metadata": {},
   "outputs": [],
   "source": [
    "import pandas as pd\n",
    "import numpy as np\n",
    "import seaborn as sns\n",
    "import matplotlib.pyplot as plt\n",
    "import math\n",
    "from scipy import stats, integrate"
   ]
  },
  {
   "cell_type": "code",
   "execution_count": 2,
   "id": "6d7eebf7",
   "metadata": {},
   "outputs": [],
   "source": [
    "df = pd.read_csv('customers.csv')"
   ]
  },
  {
   "cell_type": "code",
   "execution_count": 3,
   "id": "bb4112aa",
   "metadata": {},
   "outputs": [
    {
     "data": {
      "text/html": [
       "<div>\n",
       "<style scoped>\n",
       "    .dataframe tbody tr th:only-of-type {\n",
       "        vertical-align: middle;\n",
       "    }\n",
       "\n",
       "    .dataframe tbody tr th {\n",
       "        vertical-align: top;\n",
       "    }\n",
       "\n",
       "    .dataframe thead th {\n",
       "        text-align: right;\n",
       "    }\n",
       "</style>\n",
       "<table border=\"1\" class=\"dataframe\">\n",
       "  <thead>\n",
       "    <tr style=\"text-align: right;\">\n",
       "      <th></th>\n",
       "      <th>CustomerID</th>\n",
       "      <th>Gender</th>\n",
       "      <th>Age</th>\n",
       "      <th>Annual Income (k$)</th>\n",
       "      <th>Spending Score (1-100)</th>\n",
       "    </tr>\n",
       "  </thead>\n",
       "  <tbody>\n",
       "    <tr>\n",
       "      <th>0</th>\n",
       "      <td>1</td>\n",
       "      <td>Male</td>\n",
       "      <td>19</td>\n",
       "      <td>15</td>\n",
       "      <td>39</td>\n",
       "    </tr>\n",
       "    <tr>\n",
       "      <th>1</th>\n",
       "      <td>2</td>\n",
       "      <td>Male</td>\n",
       "      <td>21</td>\n",
       "      <td>15</td>\n",
       "      <td>81</td>\n",
       "    </tr>\n",
       "    <tr>\n",
       "      <th>2</th>\n",
       "      <td>3</td>\n",
       "      <td>Female</td>\n",
       "      <td>20</td>\n",
       "      <td>16</td>\n",
       "      <td>6</td>\n",
       "    </tr>\n",
       "    <tr>\n",
       "      <th>3</th>\n",
       "      <td>4</td>\n",
       "      <td>Female</td>\n",
       "      <td>23</td>\n",
       "      <td>16</td>\n",
       "      <td>77</td>\n",
       "    </tr>\n",
       "    <tr>\n",
       "      <th>4</th>\n",
       "      <td>5</td>\n",
       "      <td>Female</td>\n",
       "      <td>31</td>\n",
       "      <td>17</td>\n",
       "      <td>40</td>\n",
       "    </tr>\n",
       "    <tr>\n",
       "      <th>...</th>\n",
       "      <td>...</td>\n",
       "      <td>...</td>\n",
       "      <td>...</td>\n",
       "      <td>...</td>\n",
       "      <td>...</td>\n",
       "    </tr>\n",
       "    <tr>\n",
       "      <th>195</th>\n",
       "      <td>196</td>\n",
       "      <td>Female</td>\n",
       "      <td>35</td>\n",
       "      <td>120</td>\n",
       "      <td>79</td>\n",
       "    </tr>\n",
       "    <tr>\n",
       "      <th>196</th>\n",
       "      <td>197</td>\n",
       "      <td>Female</td>\n",
       "      <td>45</td>\n",
       "      <td>126</td>\n",
       "      <td>28</td>\n",
       "    </tr>\n",
       "    <tr>\n",
       "      <th>197</th>\n",
       "      <td>198</td>\n",
       "      <td>Male</td>\n",
       "      <td>32</td>\n",
       "      <td>126</td>\n",
       "      <td>74</td>\n",
       "    </tr>\n",
       "    <tr>\n",
       "      <th>198</th>\n",
       "      <td>199</td>\n",
       "      <td>Male</td>\n",
       "      <td>32</td>\n",
       "      <td>137</td>\n",
       "      <td>18</td>\n",
       "    </tr>\n",
       "    <tr>\n",
       "      <th>199</th>\n",
       "      <td>200</td>\n",
       "      <td>Male</td>\n",
       "      <td>30</td>\n",
       "      <td>137</td>\n",
       "      <td>83</td>\n",
       "    </tr>\n",
       "  </tbody>\n",
       "</table>\n",
       "<p>200 rows × 5 columns</p>\n",
       "</div>"
      ],
      "text/plain": [
       "     CustomerID  Gender  Age  Annual Income (k$)  Spending Score (1-100)\n",
       "0             1    Male   19                  15                      39\n",
       "1             2    Male   21                  15                      81\n",
       "2             3  Female   20                  16                       6\n",
       "3             4  Female   23                  16                      77\n",
       "4             5  Female   31                  17                      40\n",
       "..          ...     ...  ...                 ...                     ...\n",
       "195         196  Female   35                 120                      79\n",
       "196         197  Female   45                 126                      28\n",
       "197         198    Male   32                 126                      74\n",
       "198         199    Male   32                 137                      18\n",
       "199         200    Male   30                 137                      83\n",
       "\n",
       "[200 rows x 5 columns]"
      ]
     },
     "execution_count": 3,
     "metadata": {},
     "output_type": "execute_result"
    }
   ],
   "source": [
    "df"
   ]
  },
  {
   "cell_type": "markdown",
   "id": "2ff757eb",
   "metadata": {},
   "source": [
    "# Метод максимального правдоподобия"
   ]
  },
  {
   "cell_type": "markdown",
   "id": "cc395ac5",
   "metadata": {},
   "source": [
    "## Norm одна для всех"
   ]
  },
  {
   "cell_type": "code",
   "execution_count": 4,
   "id": "4fd2336f",
   "metadata": {},
   "outputs": [],
   "source": [
    "def pe_norm(x, version):\n",
    "    \"\"\"\n",
    "    Функция использует входящую выборку в виде списка или массива numpy\n",
    "    Выбор версии определяет возвращаемые функцией значения\n",
    "    Т.к. в работе были получены одни и те же зависимости для ТО МО нормальнго\n",
    "    распределения по ММП, ММ, МНК, то используем одну функцию\n",
    "    \"\"\"\n",
    "    m = (1/len(x)) * sum(x)\n",
    "    sum_sq = 0\n",
    "    for i in x:\n",
    "        sum_sq += (i - m) ** 2\n",
    "    d_adj = sum_sq / (len(x) - 1)\n",
    "    sigma_m = d_adj / len(x)\n",
    "    sigma_d = 2 * ((d_adj) ** 2) / len(x)\n",
    "    if version == 'both':\n",
    "        return m, d_adj, sigma_m, sigma_d\n",
    "    elif version == 'm_full':\n",
    "        return m, sigma_m\n",
    "    elif version == 'd_full':\n",
    "        return d_adj, sigma_d\n",
    "    elif version == 'm':\n",
    "        return m\n",
    "    elif version == 'd':\n",
    "        return d_adj\n",
    "    elif version == 'm_d':\n",
    "        return m, d_adj"
   ]
  },
  {
   "cell_type": "code",
   "execution_count": 5,
   "id": "d685d644",
   "metadata": {},
   "outputs": [],
   "source": [
    "def pe_r_mmp(x):\n",
    "    \"\"\"\n",
    "    Оцениваем границы, на вход выборка в виде массива numpy или списка\n",
    "    Возвращаем оценки границ распределения\n",
    "    \"\"\"\n",
    "    a = x.min()\n",
    "    b = x.max()\n",
    "    return a, b"
   ]
  },
  {
   "cell_type": "code",
   "execution_count": 118,
   "id": "5a00cfa4",
   "metadata": {},
   "outputs": [],
   "source": [
    "def pe_exp_mmp(x, T, n, m):\n",
    "    \"\"\"\n",
    "    Оцениваем параметр лямбда, на вход выборка в виде массива numpy или списка,\n",
    "    период, количество не появившихся и появившихся событий\n",
    "    Возвращаем оценки границ распределения\n",
    "    \"\"\"\n",
    "    s = sum(x) + n * T\n",
    "    pe_lambda = m / s\n",
    "    sigma_l = pe_ambda ** 2 / m\n",
    "    return pe_lambda, sigma_l"
   ]
  },
  {
   "cell_type": "markdown",
   "id": "9df8afd8",
   "metadata": {},
   "source": [
    "# Метод моментов"
   ]
  },
  {
   "cell_type": "code",
   "execution_count": 7,
   "id": "a1c06bb2",
   "metadata": {},
   "outputs": [],
   "source": [
    "def pe_r_mm(x, version='def'):\n",
    "    \"\"\"\n",
    "    Оцениваем границы, на вход выборка в виде массива numpy или списка и версия\n",
    "    Возвращаем оценки границ распределения и погрешность\n",
    "    \"\"\"\n",
    "    a = x.mean() - (3 * x.var()) ** (1 / 2)\n",
    "    b = x.mean() + (3 * x.var()) ** (1 / 2)\n",
    "    sigma = x.var() / len(x) + (3 * (x.var() ** 2) / len(x)) / (4 * x.var())\n",
    "    if version == 'for_adj':\n",
    "        return a, b\n",
    "    else:\n",
    "        return a, b, sigma"
   ]
  },
  {
   "cell_type": "code",
   "execution_count": 119,
   "id": "b3038968",
   "metadata": {},
   "outputs": [],
   "source": [
    "def pe_exp_mm(x, method='m'):\n",
    "    \"\"\"\n",
    "    Оцениваем параметр лямбда, на вход выборка в виде массива numpy или списка\n",
    "    и метод поиска\n",
    "    Возвращаем оценки границ распределения\n",
    "    \"\"\"\n",
    "    if method == 'd':\n",
    "        pe_lambda = 1 / (x.var()) ** (1 / 2)\n",
    "        sigma_l = (x.var() ** 2) / (n * 4 * x.var() ** 3)\n",
    "    pe_lambda = 1 / x.mean()\n",
    "    sigma_l = (x.var() / len(x)) / (x.mean() ** 4)\n",
    "    return pe_lambda, sigma_l"
   ]
  },
  {
   "cell_type": "markdown",
   "id": "d9f31d82",
   "metadata": {},
   "source": [
    "# Интервальное оценивание"
   ]
  },
  {
   "cell_type": "code",
   "execution_count": 9,
   "id": "f37ede9f",
   "metadata": {},
   "outputs": [],
   "source": [
    "head = ['p', 'q']\n",
    "data = [\n",
    "    [90, 1.282],\n",
    "    [95, 1.645],\n",
    "    [99, 2.326]\n",
    "]\n",
    "table_norm = pd.DataFrame(data, columns=head)"
   ]
  },
  {
   "cell_type": "markdown",
   "id": "caa1f864",
   "metadata": {},
   "source": [
    "# MO"
   ]
  },
  {
   "cell_type": "code",
   "execution_count": 10,
   "id": "3408d1db",
   "metadata": {},
   "outputs": [],
   "source": [
    "def ie_m_norm(x, p):\n",
    "    \"\"\"\n",
    "    На вход выборка и доверительная вероятность\n",
    "    Возвращает левую и правую границу ДИ\n",
    "    \"\"\"\n",
    "    m, sigma = pe_norm(x, 'm_full')\n",
    "    q = stats.t.ppf((1 + p)/2, len(x) - 1)\n",
    "    m_l = m - q * sigma\n",
    "    m_r = m + q * sigma\n",
    "    print(\"Доверительный интервал с вероятностью \",p, \" для МО: [\", m_l, \";\", m_r, \"]\")\n",
    "    return m_l, m_r"
   ]
  },
  {
   "cell_type": "code",
   "execution_count": 11,
   "id": "75606e4f",
   "metadata": {},
   "outputs": [
    {
     "name": "stdout",
     "output_type": "stream",
     "text": [
      "Доверительный интервал с вероятностью  0.95  для МО: [ 36.92602938321557 ; 40.77397061678443 ]\n"
     ]
    }
   ],
   "source": [
    "l, r = ie_m_norm(df.Age, 0.95)"
   ]
  },
  {
   "cell_type": "markdown",
   "id": "03d505e3",
   "metadata": {},
   "source": [
    "# Disper"
   ]
  },
  {
   "cell_type": "code",
   "execution_count": 12,
   "id": "24eb9fda",
   "metadata": {},
   "outputs": [],
   "source": [
    "def ie_d_norm(x, p_l, p_r):\n",
    "    \"\"\"\n",
    "    На вход выборка и вероятности для левой и правой границы\n",
    "    Возвращает левую и правую границу ДИ\n",
    "    \"\"\"\n",
    "    d = pe_norm(x, 'd')\n",
    "    q_l = stats.chi2.ppf(p_l, len(x) - 1)\n",
    "    q_r = stats.chi2.ppf(p_r, len(x) - 1)\n",
    "    d_l = (len(x) * d) / q_r\n",
    "    d_r = (len(x) * d) / q_l\n",
    "    print('Доверительный интервал при общей вероятности ', p_r - p_l, ' для Дисперсии : [', d_l, ';', d_r, ']')\n",
    "    return d_l, d_r"
   ]
  },
  {
   "cell_type": "code",
   "execution_count": 13,
   "id": "bad88897",
   "metadata": {},
   "outputs": [
    {
     "name": "stdout",
     "output_type": "stream",
     "text": [
      "Доверительный интервал при общей вероятности  0.8999999999999999  для Дисперсии : [ 167.55969220241334 ; 233.18834289123268 ]\n"
     ]
    }
   ],
   "source": [
    "l, r = ie_d_norm(df.Age, 0.05, 0.95 )"
   ]
  },
  {
   "cell_type": "markdown",
   "id": "d9eb1ead",
   "metadata": {},
   "source": [
    "# KK"
   ]
  },
  {
   "cell_type": "code",
   "execution_count": 14,
   "id": "ba1fabd9",
   "metadata": {},
   "outputs": [
    {
     "data": {
      "text/plain": [
       "-0.02676288945786289"
      ]
     },
     "execution_count": 14,
     "metadata": {},
     "output_type": "execute_result"
    }
   ],
   "source": [
    "df.Age.corr(df.CustomerID)"
   ]
  },
  {
   "cell_type": "code",
   "execution_count": 15,
   "id": "79c262fa",
   "metadata": {},
   "outputs": [],
   "source": [
    "def ie_corr(df, x, y, d):\n",
    "    \"\"\"\n",
    "    На вход фрейм, две сравниваемых перменных и общая вероятность\n",
    "    Возвращает левую и правую границу ДИ\n",
    "    \"\"\"\n",
    "    p = (d + 1) / 2\n",
    "    corr = df[x].corr(df[y])\n",
    "    m = 0.5 * math.log((1 + corr) / (1 - corr))\n",
    "    m_m = m + corr / (2 * (len(df[x]) - 1))\n",
    "    sigma_m = (1 / (len(df[x]) - 3)) ** (1 / 2)\n",
    "    q = stats.norm.ppf(0.95)\n",
    "    m_l = m_m - q * sigma_m\n",
    "    m_r = m_m + q * sigma_m\n",
    "    r_l = -(1 - math.exp(2 * m_l)) / (1 + math.exp(2 * m_l))\n",
    "    r_r = -(1 - math.exp(2 * m_r)) / (1 + math.exp(2 * m_r))\n",
    "    print('Доверительный интервал при общей вероятности ', d, ' для KK : [', r_l, ';', r_r, ']')"
   ]
  },
  {
   "cell_type": "code",
   "execution_count": 16,
   "id": "dcb637b0",
   "metadata": {},
   "outputs": [
    {
     "data": {
      "text/html": [
       "<div>\n",
       "<style scoped>\n",
       "    .dataframe tbody tr th:only-of-type {\n",
       "        vertical-align: middle;\n",
       "    }\n",
       "\n",
       "    .dataframe tbody tr th {\n",
       "        vertical-align: top;\n",
       "    }\n",
       "\n",
       "    .dataframe thead th {\n",
       "        text-align: right;\n",
       "    }\n",
       "</style>\n",
       "<table border=\"1\" class=\"dataframe\">\n",
       "  <thead>\n",
       "    <tr style=\"text-align: right;\">\n",
       "      <th></th>\n",
       "      <th>x</th>\n",
       "      <th>y</th>\n",
       "    </tr>\n",
       "  </thead>\n",
       "  <tbody>\n",
       "    <tr>\n",
       "      <th>0</th>\n",
       "      <td>-0.5</td>\n",
       "      <td>-0.2</td>\n",
       "    </tr>\n",
       "    <tr>\n",
       "      <th>1</th>\n",
       "      <td>1.2</td>\n",
       "      <td>1.0</td>\n",
       "    </tr>\n",
       "    <tr>\n",
       "      <th>2</th>\n",
       "      <td>0.7</td>\n",
       "      <td>0.8</td>\n",
       "    </tr>\n",
       "    <tr>\n",
       "      <th>3</th>\n",
       "      <td>-1.5</td>\n",
       "      <td>-1.0</td>\n",
       "    </tr>\n",
       "    <tr>\n",
       "      <th>4</th>\n",
       "      <td>-2.2</td>\n",
       "      <td>-1.5</td>\n",
       "    </tr>\n",
       "    <tr>\n",
       "      <th>5</th>\n",
       "      <td>-0.5</td>\n",
       "      <td>-0.7</td>\n",
       "    </tr>\n",
       "    <tr>\n",
       "      <th>6</th>\n",
       "      <td>1.8</td>\n",
       "      <td>2.0</td>\n",
       "    </tr>\n",
       "    <tr>\n",
       "      <th>7</th>\n",
       "      <td>0.3</td>\n",
       "      <td>0.5</td>\n",
       "    </tr>\n",
       "    <tr>\n",
       "      <th>8</th>\n",
       "      <td>-0.8</td>\n",
       "      <td>-1.2</td>\n",
       "    </tr>\n",
       "    <tr>\n",
       "      <th>9</th>\n",
       "      <td>1.0</td>\n",
       "      <td>1.3</td>\n",
       "    </tr>\n",
       "  </tbody>\n",
       "</table>\n",
       "</div>"
      ],
      "text/plain": [
       "     x    y\n",
       "0 -0.5 -0.2\n",
       "1  1.2  1.0\n",
       "2  0.7  0.8\n",
       "3 -1.5 -1.0\n",
       "4 -2.2 -1.5\n",
       "5 -0.5 -0.7\n",
       "6  1.8  2.0\n",
       "7  0.3  0.5\n",
       "8 -0.8 -1.2\n",
       "9  1.0  1.3"
      ]
     },
     "execution_count": 16,
     "metadata": {},
     "output_type": "execute_result"
    }
   ],
   "source": [
    "data = [\n",
    "    [-0.5, -0.2],\n",
    "    [1.2, 1],\n",
    "    [0.7, 0.8],\n",
    "    [-1.5, -1],\n",
    "    [-2.2, -1.5],\n",
    "    [-0.5, -0.7],\n",
    "    [1.8, 2],\n",
    "    [0.3, 0.5],\n",
    "    [-0.8, -1.2],\n",
    "    [1, 1.3]\n",
    "]\n",
    "head = ['x', 'y']\n",
    "df_corr = pd.DataFrame(data, columns=head)\n",
    "df_corr"
   ]
  },
  {
   "cell_type": "code",
   "execution_count": 17,
   "id": "22ef9ad4",
   "metadata": {},
   "outputs": [
    {
     "name": "stdout",
     "output_type": "stream",
     "text": [
      "Доверительный интервал при общей вероятности  0.9  для KK : [ 0.8928532636945415 ; 0.9906275091679739 ]\n"
     ]
    }
   ],
   "source": [
    "ie_corr(df_corr, 'x', 'y', 0.9)"
   ]
  },
  {
   "cell_type": "markdown",
   "id": "f85f5fba",
   "metadata": {},
   "source": [
    "# Tolerant"
   ]
  },
  {
   "cell_type": "code",
   "execution_count": 18,
   "id": "a1a81fc8",
   "metadata": {},
   "outputs": [],
   "source": [
    "def tolerant(x, p, g):\n",
    "    \"\"\"\n",
    "    Вход - выборка, доверительная вероятность и доля совокупности ГС\n",
    "    Возвращает границы интервала\n",
    "    \"\"\"\n",
    "    m, std = pe_norm(x, 'm_d')\n",
    "    std **= 1 / 2\n",
    "    q = stats.norm.ppf(p)\n",
    "    k = stats.norm.ppf(0.5 * (1 + g)) * (1 + q / ((2 * len(x)) ** (1 / 2)) + (5 * (q ** 2) + 10) / (12 * len(x)))\n",
    "    print(k)\n",
    "    a = m - k * std\n",
    "    b = m + k * std\n",
    "    print('Толерантный интервал доли ', g, ' при доверительной вероятности ', p, ' : [', a, ';', b, ']')"
   ]
  },
  {
   "cell_type": "code",
   "execution_count": 19,
   "id": "6c2fc265",
   "metadata": {},
   "outputs": [],
   "source": [
    "x = np.array([3.1, 2.7, 0.5, 3.5, 2.9, 4.2, 2.2, 5.1, 1.3, 4.5])"
   ]
  },
  {
   "cell_type": "code",
   "execution_count": 20,
   "id": "f380ccef",
   "metadata": {},
   "outputs": [
    {
     "name": "stdout",
     "output_type": "stream",
     "text": [
      "2.8263696558557427\n",
      "Толерантный интервал доли  0.9  при доверительной вероятности  0.98  : [ -1.023649331298476 ; 7.023649331298477 ]\n"
     ]
    }
   ],
   "source": [
    "tolerant(x, 0.98, 0.9)"
   ]
  },
  {
   "cell_type": "markdown",
   "id": "99d50887",
   "metadata": {},
   "source": [
    "# Гипотезы о мо"
   ]
  },
  {
   "cell_type": "code",
   "execution_count": 21,
   "id": "6342ae3a",
   "metadata": {},
   "outputs": [],
   "source": [
    "def hypothesis_mo(x, alpha, m0):\n",
    "    m, sigma = pe_norm(x, 'm_full')\n",
    "    z = (m - m0) / sigma ** (1 / 2)\n",
    "    z_cr = stats.t.ppf(1 - alpha, len(x) - 1)\n",
    "    if abs(z) <= z_cr:\n",
    "        print('z =', round(z, 4), '≤ z_cr =', round(z_cr, 4) ,'\\nПринимаем гипотезу МО =', m0,\n",
    "             'с доверительной вероятностью ', 1 - alpha)\n",
    "        print('Значение z, при принятой гипотезе, на самом деле может быть ', \n",
    "              '\\nеще больше с вероятностью', round((1 - stats.t.cdf(abs(z), len(x))), 4))\n",
    "        return True\n",
    "    else:\n",
    "        print('Отклоняем гипотезу МО = ', m0)\n",
    "        return False"
   ]
  },
  {
   "cell_type": "code",
   "execution_count": 22,
   "id": "a0c4b87b",
   "metadata": {},
   "outputs": [],
   "source": [
    "x = np.array([0.6, 2.3, 1.1, -1.7, 3.4, -0.3, 4.6, 1.9, -2.8, 1.4, 2.7, -0.9])"
   ]
  },
  {
   "cell_type": "code",
   "execution_count": 23,
   "id": "cdb48031",
   "metadata": {},
   "outputs": [
    {
     "name": "stdout",
     "output_type": "stream",
     "text": [
      "z = 1.6416 ≤ z_cr = 1.7959 \n",
      "Принимаем гипотезу МО = 0 с доверительной вероятностью  0.95\n",
      "Значение z, при принятой гипотезе, на самом деле может быть  \n",
      "еще больше с вероятностью 0.0633\n"
     ]
    },
    {
     "data": {
      "text/plain": [
       "True"
      ]
     },
     "execution_count": 23,
     "metadata": {},
     "output_type": "execute_result"
    }
   ],
   "source": [
    "hypothesis_mo(x, 0.05, 0)"
   ]
  },
  {
   "cell_type": "markdown",
   "id": "b434d2f5",
   "metadata": {},
   "source": [
    "# Гипотезы о дисперсии"
   ]
  },
  {
   "cell_type": "code",
   "execution_count": 24,
   "id": "5c54b097",
   "metadata": {},
   "outputs": [],
   "source": [
    "def hypothesis_d(x, alpha, d0):\n",
    "    p = 1 - alpha\n",
    "    k = len(x) - 1\n",
    "    d = pe_norm(x, 'd')\n",
    "    chi_sq = (len(x) - 1) * d / d0\n",
    "    chi_sq_cr = stats.chi2.ppf(p, len(x) - 1)\n",
    "    if chi_sq <= chi_sq_cr:\n",
    "        print('χ^2 =', round(chi_sq, 4), '≤ χ^2_cr =', round(chi_sq_cr, 4) ,'\\nПринимаем гипотезу D <', d0,\n",
    "             'с доверительной вероятностью ', p)\n",
    "        return True\n",
    "    else:\n",
    "        print('χ^2 =', round(chi_sq, 4), '> χ^2_cr =', round(chi_sq_cr, 4) ,'\\nОтклоняем гипотезу D < ', d0)\n",
    "        return False"
   ]
  },
  {
   "cell_type": "code",
   "execution_count": 25,
   "id": "69f5de1d",
   "metadata": {},
   "outputs": [
    {
     "name": "stdout",
     "output_type": "stream",
     "text": [
      "χ^2 = 12.8656 ≤ χ^2_cr = 17.275 \n",
      "Принимаем гипотезу D < 4 с доверительной вероятностью  0.9\n"
     ]
    },
    {
     "data": {
      "text/plain": [
       "True"
      ]
     },
     "execution_count": 25,
     "metadata": {},
     "output_type": "execute_result"
    }
   ],
   "source": [
    "hypothesis_d(x, 0.1, 4)"
   ]
  },
  {
   "cell_type": "markdown",
   "id": "01f8eda3",
   "metadata": {},
   "source": [
    "# Гипотезы о мо в 2 выборкам"
   ]
  },
  {
   "cell_type": "code",
   "execution_count": 26,
   "id": "3e50f5f3",
   "metadata": {},
   "outputs": [],
   "source": [
    "def hypothesis_double_mo(x, y, alpha):\n",
    "    m_x, d_x = pe_norm(x, 'm_d')\n",
    "    m_y, d_y = pe_norm(y, 'm_d')\n",
    "    t = (abs(m_x - m_y)) / (d_x / len(x) + d_y / len(y)) ** (1 / 2)\n",
    "    t_cr = stats.t.ppf(1 - alpha, len(x) + len(y) - 2)\n",
    "    if abs(t) <= t_cr:\n",
    "        print('t =', round(t, 4), '≤ t_cr =', round(t_cr, 4) ,'\\nПринимаем гипотезу M(X) = M(Y) с доверительной вероятностью ',\n",
    "             1 - alpha)\n",
    "        return True\n",
    "    else:\n",
    "        print('t =', round(t, 4), '> t_cr =', round(t_cr, 4) ,'\\nОтклоняем гипотезу M(X) = M(Y)')\n",
    "        return False"
   ]
  },
  {
   "cell_type": "code",
   "execution_count": 27,
   "id": "8f73db4c",
   "metadata": {},
   "outputs": [],
   "source": [
    "x = np.array([5.5, 7.6, 2.8, 4.2, 11.2, 4.7, 1.5, 8.2, 9.9, 3.4, 8.4, 6.2])\n",
    "y = np.array([5.8, 8.5, 10.2, 6.3, 9.1, 10.6, 7.9, 5.2, 9.4, 7.4])"
   ]
  },
  {
   "cell_type": "code",
   "execution_count": 28,
   "id": "fe7502fe",
   "metadata": {},
   "outputs": [
    {
     "name": "stdout",
     "output_type": "stream",
     "text": [
      "t = 1.8315 > t_cr = 1.7247 \n",
      "Отклоняем гипотезу M(X) = M(Y)\n"
     ]
    },
    {
     "data": {
      "text/plain": [
       "False"
      ]
     },
     "execution_count": 28,
     "metadata": {},
     "output_type": "execute_result"
    }
   ],
   "source": [
    "hypothesis_double_mo(x, y, 0.05)"
   ]
  },
  {
   "cell_type": "markdown",
   "id": "a0d8ed9f",
   "metadata": {},
   "source": [
    "# Гипотезы о дисперсии по 2 выборкам"
   ]
  },
  {
   "cell_type": "code",
   "execution_count": 29,
   "id": "37be4ab6",
   "metadata": {},
   "outputs": [],
   "source": [
    "def hypothesis_double_d(x, y, alpha):\n",
    "    k_x = len(x) - 1\n",
    "    k_y = len(y) - 1\n",
    "    d_x = pe_norm(x, 'd')\n",
    "    d_y = pe_norm(y, 'd')\n",
    "    f = d_x / d_y\n",
    "    f_cr = stats.f.ppf(1 - alpha, k_x, k_y)\n",
    "    if f <= f_cr:\n",
    "        print('f =', round(f, 4), '≤ f_cr =', round(f_cr, 4) ,'\\nПринимаем гипотезу D(X) = D(Y) с доверительной вероятностью ', \n",
    "              1 - alpha)\n",
    "        return True\n",
    "    else:\n",
    "        print('t =', round(t, 4), '> t_cr =', round(t_cr, 4) ,'\\nОтклоняем гипотезу D(X) = D(Y)')\n",
    "        return False"
   ]
  },
  {
   "cell_type": "code",
   "execution_count": 30,
   "id": "fb19a22a",
   "metadata": {},
   "outputs": [
    {
     "name": "stdout",
     "output_type": "stream",
     "text": [
      "f = 2.5824 ≤ f_cr = 3.1025 \n",
      "Принимаем гипотезу D(X) = D(Y) с доверительной вероятностью  0.95\n"
     ]
    },
    {
     "data": {
      "text/plain": [
       "True"
      ]
     },
     "execution_count": 30,
     "metadata": {},
     "output_type": "execute_result"
    }
   ],
   "source": [
    "hypothesis_double_d(x, y, 0.05)"
   ]
  },
  {
   "cell_type": "markdown",
   "id": "63d4ffd6",
   "metadata": {},
   "source": [
    "# Гипотезы о кк"
   ]
  },
  {
   "cell_type": "code",
   "execution_count": 31,
   "id": "65e53bc4",
   "metadata": {},
   "outputs": [],
   "source": [
    "def hypothesis_cc(df, x, y, r0, alpha):\n",
    "    m_z = 0.5 * math.log((1 + r0) / (1 - r0)) + r0 / (2 * (len(df[x]) - 1))\n",
    "    sigma_z = 1 / (len(df[x]) - 3)\n",
    "    q = stats.norm.ppf(1 - alpha)\n",
    "    z_cr = sigma_z * q + m_z\n",
    "    pe_corr = df[x].corr(df[y])\n",
    "    pe_z = 0.5 * math.log((1 + pe_corr) / (1 - pe_corr))\n",
    "    if abs(pe_z) <= z_cr:\n",
    "        print('z =', round(pe_z, 4), '≤ z_cr =', round(z_cr, 4) ,'\\nПринимаем гипотезу R(X, Y) =', r0, ' с доверительной вероятностью ', \n",
    "              1 - alpha)\n",
    "        return True\n",
    "    else:\n",
    "        print('z =', round(pe_z, 4), '< z_cr =', round(z_cr, 4) ,'\\nОтклоняем гипотезу R(X, Y) =', r0)\n",
    "        if pe_corr > r0:\n",
    "            print('Значение КК больше', r0)\n",
    "        else:\n",
    "            print('Значение КК меньше', r0)\n",
    "        return False"
   ]
  },
  {
   "cell_type": "code",
   "execution_count": 32,
   "id": "55cf87cb",
   "metadata": {},
   "outputs": [
    {
     "name": "stdout",
     "output_type": "stream",
     "text": [
      "z = 2.0039 < z_cr = 1.3261 \n",
      "Отклоняем гипотезу R(X, Y) = 0.8\n",
      "Значение КК больше 0.8\n"
     ]
    },
    {
     "data": {
      "text/plain": [
       "False"
      ]
     },
     "execution_count": 32,
     "metadata": {},
     "output_type": "execute_result"
    }
   ],
   "source": [
    "data = [\n",
    "    [-0.5, -0.2],\n",
    "    [1.2, 1],\n",
    "    [0.7, 0.8],\n",
    "    [-1.5, -1],\n",
    "    [-2.2, -1.5],\n",
    "    [-0.5, -0.7],\n",
    "    [1.8, 2],\n",
    "    [0.3, 0.5],\n",
    "    [-0.8, -1.2],\n",
    "    [1, 1.3]\n",
    "]\n",
    "head = ['x', 'y']\n",
    "df_corr = pd.DataFrame(data, columns=head)\n",
    "hypothesis_cc(df_corr, 'x', 'y', 0.8, 0.1)"
   ]
  },
  {
   "cell_type": "markdown",
   "id": "94f27664",
   "metadata": {},
   "source": [
    "# Гипотезы об однородности"
   ]
  },
  {
   "cell_type": "code",
   "execution_count": 33,
   "id": "cb85b219",
   "metadata": {},
   "outputs": [
    {
     "data": {
      "text/html": [
       "<div>\n",
       "<style scoped>\n",
       "    .dataframe tbody tr th:only-of-type {\n",
       "        vertical-align: middle;\n",
       "    }\n",
       "\n",
       "    .dataframe tbody tr th {\n",
       "        vertical-align: top;\n",
       "    }\n",
       "\n",
       "    .dataframe thead th {\n",
       "        text-align: right;\n",
       "    }\n",
       "</style>\n",
       "<table border=\"1\" class=\"dataframe\">\n",
       "  <thead>\n",
       "    <tr style=\"text-align: right;\">\n",
       "      <th></th>\n",
       "      <th>value</th>\n",
       "      <th>own</th>\n",
       "    </tr>\n",
       "  </thead>\n",
       "  <tbody>\n",
       "    <tr>\n",
       "      <th>0</th>\n",
       "      <td>0.5</td>\n",
       "      <td>x</td>\n",
       "    </tr>\n",
       "    <tr>\n",
       "      <th>1</th>\n",
       "      <td>1.2</td>\n",
       "      <td>x</td>\n",
       "    </tr>\n",
       "    <tr>\n",
       "      <th>2</th>\n",
       "      <td>1.7</td>\n",
       "      <td>x</td>\n",
       "    </tr>\n",
       "    <tr>\n",
       "      <th>3</th>\n",
       "      <td>2.3</td>\n",
       "      <td>x</td>\n",
       "    </tr>\n",
       "    <tr>\n",
       "      <th>4</th>\n",
       "      <td>2.7</td>\n",
       "      <td>x</td>\n",
       "    </tr>\n",
       "    <tr>\n",
       "      <th>5</th>\n",
       "      <td>3.1</td>\n",
       "      <td>x</td>\n",
       "    </tr>\n",
       "    <tr>\n",
       "      <th>6</th>\n",
       "      <td>3.2</td>\n",
       "      <td>x</td>\n",
       "    </tr>\n",
       "    <tr>\n",
       "      <th>7</th>\n",
       "      <td>3.9</td>\n",
       "      <td>x</td>\n",
       "    </tr>\n",
       "    <tr>\n",
       "      <th>8</th>\n",
       "      <td>4.4</td>\n",
       "      <td>x</td>\n",
       "    </tr>\n",
       "    <tr>\n",
       "      <th>9</th>\n",
       "      <td>4.6</td>\n",
       "      <td>x</td>\n",
       "    </tr>\n",
       "  </tbody>\n",
       "</table>\n",
       "</div>"
      ],
      "text/plain": [
       "   value own\n",
       "0    0.5   x\n",
       "1    1.2   x\n",
       "2    1.7   x\n",
       "3    2.3   x\n",
       "4    2.7   x\n",
       "5    3.1   x\n",
       "6    3.2   x\n",
       "7    3.9   x\n",
       "8    4.4   x\n",
       "9    4.6   x"
      ]
     },
     "execution_count": 33,
     "metadata": {},
     "output_type": "execute_result"
    }
   ],
   "source": [
    "data = [\n",
    "    [0.5],\n",
    "    [1.2],\n",
    "    [1.7],\n",
    "    [2.3],\n",
    "    [2.7],\n",
    "    [3.1],\n",
    "    [3.2],\n",
    "    [3.9],\n",
    "    [4.4],\n",
    "    [4.6]\n",
    "]\n",
    "head = ['value']\n",
    "x = pd.DataFrame(data, columns=head)\n",
    "x['own'] = 'x'\n",
    "x"
   ]
  },
  {
   "cell_type": "code",
   "execution_count": 34,
   "id": "35dba65a",
   "metadata": {},
   "outputs": [
    {
     "data": {
      "text/html": [
       "<div>\n",
       "<style scoped>\n",
       "    .dataframe tbody tr th:only-of-type {\n",
       "        vertical-align: middle;\n",
       "    }\n",
       "\n",
       "    .dataframe tbody tr th {\n",
       "        vertical-align: top;\n",
       "    }\n",
       "\n",
       "    .dataframe thead th {\n",
       "        text-align: right;\n",
       "    }\n",
       "</style>\n",
       "<table border=\"1\" class=\"dataframe\">\n",
       "  <thead>\n",
       "    <tr style=\"text-align: right;\">\n",
       "      <th></th>\n",
       "      <th>value</th>\n",
       "      <th>own</th>\n",
       "    </tr>\n",
       "  </thead>\n",
       "  <tbody>\n",
       "    <tr>\n",
       "      <th>0</th>\n",
       "      <td>2.4</td>\n",
       "      <td>y</td>\n",
       "    </tr>\n",
       "    <tr>\n",
       "      <th>1</th>\n",
       "      <td>2.8</td>\n",
       "      <td>y</td>\n",
       "    </tr>\n",
       "    <tr>\n",
       "      <th>2</th>\n",
       "      <td>3.3</td>\n",
       "      <td>y</td>\n",
       "    </tr>\n",
       "    <tr>\n",
       "      <th>3</th>\n",
       "      <td>3.7</td>\n",
       "      <td>y</td>\n",
       "    </tr>\n",
       "    <tr>\n",
       "      <th>4</th>\n",
       "      <td>4.2</td>\n",
       "      <td>y</td>\n",
       "    </tr>\n",
       "    <tr>\n",
       "      <th>5</th>\n",
       "      <td>4.3</td>\n",
       "      <td>y</td>\n",
       "    </tr>\n",
       "    <tr>\n",
       "      <th>6</th>\n",
       "      <td>4.9</td>\n",
       "      <td>y</td>\n",
       "    </tr>\n",
       "    <tr>\n",
       "      <th>7</th>\n",
       "      <td>5.8</td>\n",
       "      <td>y</td>\n",
       "    </tr>\n",
       "  </tbody>\n",
       "</table>\n",
       "</div>"
      ],
      "text/plain": [
       "   value own\n",
       "0    2.4   y\n",
       "1    2.8   y\n",
       "2    3.3   y\n",
       "3    3.7   y\n",
       "4    4.2   y\n",
       "5    4.3   y\n",
       "6    4.9   y\n",
       "7    5.8   y"
      ]
     },
     "execution_count": 34,
     "metadata": {},
     "output_type": "execute_result"
    }
   ],
   "source": [
    "data = [\n",
    "    [2.4],\n",
    "    [2.8],\n",
    "    [3.3],\n",
    "    [3.7],\n",
    "    [4.2],\n",
    "    [4.3],\n",
    "    [4.9],\n",
    "    [5.8]\n",
    "]\n",
    "head = ['value']\n",
    "y = pd.DataFrame(data, columns=head)\n",
    "y['own'] = 'y'\n",
    "y"
   ]
  },
  {
   "cell_type": "code",
   "execution_count": 35,
   "id": "92b017f6",
   "metadata": {},
   "outputs": [],
   "source": [
    "df = pd.concat([x, y], ignore_index=True)"
   ]
  },
  {
   "cell_type": "code",
   "execution_count": 36,
   "id": "055e3920",
   "metadata": {},
   "outputs": [
    {
     "data": {
      "text/html": [
       "<div>\n",
       "<style scoped>\n",
       "    .dataframe tbody tr th:only-of-type {\n",
       "        vertical-align: middle;\n",
       "    }\n",
       "\n",
       "    .dataframe tbody tr th {\n",
       "        vertical-align: top;\n",
       "    }\n",
       "\n",
       "    .dataframe thead th {\n",
       "        text-align: right;\n",
       "    }\n",
       "</style>\n",
       "<table border=\"1\" class=\"dataframe\">\n",
       "  <thead>\n",
       "    <tr style=\"text-align: right;\">\n",
       "      <th></th>\n",
       "      <th>value</th>\n",
       "      <th>own</th>\n",
       "    </tr>\n",
       "  </thead>\n",
       "  <tbody>\n",
       "    <tr>\n",
       "      <th>0</th>\n",
       "      <td>0.5</td>\n",
       "      <td>x</td>\n",
       "    </tr>\n",
       "    <tr>\n",
       "      <th>1</th>\n",
       "      <td>1.2</td>\n",
       "      <td>x</td>\n",
       "    </tr>\n",
       "    <tr>\n",
       "      <th>2</th>\n",
       "      <td>1.7</td>\n",
       "      <td>x</td>\n",
       "    </tr>\n",
       "    <tr>\n",
       "      <th>3</th>\n",
       "      <td>2.3</td>\n",
       "      <td>x</td>\n",
       "    </tr>\n",
       "    <tr>\n",
       "      <th>10</th>\n",
       "      <td>2.4</td>\n",
       "      <td>y</td>\n",
       "    </tr>\n",
       "    <tr>\n",
       "      <th>4</th>\n",
       "      <td>2.7</td>\n",
       "      <td>x</td>\n",
       "    </tr>\n",
       "    <tr>\n",
       "      <th>11</th>\n",
       "      <td>2.8</td>\n",
       "      <td>y</td>\n",
       "    </tr>\n",
       "    <tr>\n",
       "      <th>5</th>\n",
       "      <td>3.1</td>\n",
       "      <td>x</td>\n",
       "    </tr>\n",
       "    <tr>\n",
       "      <th>6</th>\n",
       "      <td>3.2</td>\n",
       "      <td>x</td>\n",
       "    </tr>\n",
       "    <tr>\n",
       "      <th>12</th>\n",
       "      <td>3.3</td>\n",
       "      <td>y</td>\n",
       "    </tr>\n",
       "    <tr>\n",
       "      <th>13</th>\n",
       "      <td>3.7</td>\n",
       "      <td>y</td>\n",
       "    </tr>\n",
       "    <tr>\n",
       "      <th>7</th>\n",
       "      <td>3.9</td>\n",
       "      <td>x</td>\n",
       "    </tr>\n",
       "    <tr>\n",
       "      <th>14</th>\n",
       "      <td>4.2</td>\n",
       "      <td>y</td>\n",
       "    </tr>\n",
       "    <tr>\n",
       "      <th>15</th>\n",
       "      <td>4.3</td>\n",
       "      <td>y</td>\n",
       "    </tr>\n",
       "    <tr>\n",
       "      <th>8</th>\n",
       "      <td>4.4</td>\n",
       "      <td>x</td>\n",
       "    </tr>\n",
       "    <tr>\n",
       "      <th>9</th>\n",
       "      <td>4.6</td>\n",
       "      <td>x</td>\n",
       "    </tr>\n",
       "    <tr>\n",
       "      <th>16</th>\n",
       "      <td>4.9</td>\n",
       "      <td>y</td>\n",
       "    </tr>\n",
       "    <tr>\n",
       "      <th>17</th>\n",
       "      <td>5.8</td>\n",
       "      <td>y</td>\n",
       "    </tr>\n",
       "  </tbody>\n",
       "</table>\n",
       "</div>"
      ],
      "text/plain": [
       "    value own\n",
       "0     0.5   x\n",
       "1     1.2   x\n",
       "2     1.7   x\n",
       "3     2.3   x\n",
       "10    2.4   y\n",
       "4     2.7   x\n",
       "11    2.8   y\n",
       "5     3.1   x\n",
       "6     3.2   x\n",
       "12    3.3   y\n",
       "13    3.7   y\n",
       "7     3.9   x\n",
       "14    4.2   y\n",
       "15    4.3   y\n",
       "8     4.4   x\n",
       "9     4.6   x\n",
       "16    4.9   y\n",
       "17    5.8   y"
      ]
     },
     "execution_count": 36,
     "metadata": {},
     "output_type": "execute_result"
    }
   ],
   "source": [
    "df = df.sort_values('value')\n",
    "df"
   ]
  },
  {
   "cell_type": "code",
   "execution_count": 37,
   "id": "37d232e0",
   "metadata": {},
   "outputs": [
    {
     "data": {
      "text/html": [
       "<div>\n",
       "<style scoped>\n",
       "    .dataframe tbody tr th:only-of-type {\n",
       "        vertical-align: middle;\n",
       "    }\n",
       "\n",
       "    .dataframe tbody tr th {\n",
       "        vertical-align: top;\n",
       "    }\n",
       "\n",
       "    .dataframe thead th {\n",
       "        text-align: right;\n",
       "    }\n",
       "</style>\n",
       "<table border=\"1\" class=\"dataframe\">\n",
       "  <thead>\n",
       "    <tr style=\"text-align: right;\">\n",
       "      <th></th>\n",
       "      <th>value</th>\n",
       "      <th>own</th>\n",
       "      <th>rank</th>\n",
       "    </tr>\n",
       "  </thead>\n",
       "  <tbody>\n",
       "    <tr>\n",
       "      <th>0</th>\n",
       "      <td>0.5</td>\n",
       "      <td>x</td>\n",
       "      <td>1</td>\n",
       "    </tr>\n",
       "    <tr>\n",
       "      <th>1</th>\n",
       "      <td>1.2</td>\n",
       "      <td>x</td>\n",
       "      <td>2</td>\n",
       "    </tr>\n",
       "    <tr>\n",
       "      <th>2</th>\n",
       "      <td>1.7</td>\n",
       "      <td>x</td>\n",
       "      <td>3</td>\n",
       "    </tr>\n",
       "    <tr>\n",
       "      <th>3</th>\n",
       "      <td>2.3</td>\n",
       "      <td>x</td>\n",
       "      <td>4</td>\n",
       "    </tr>\n",
       "    <tr>\n",
       "      <th>10</th>\n",
       "      <td>2.4</td>\n",
       "      <td>y</td>\n",
       "      <td>5</td>\n",
       "    </tr>\n",
       "    <tr>\n",
       "      <th>4</th>\n",
       "      <td>2.7</td>\n",
       "      <td>x</td>\n",
       "      <td>6</td>\n",
       "    </tr>\n",
       "    <tr>\n",
       "      <th>11</th>\n",
       "      <td>2.8</td>\n",
       "      <td>y</td>\n",
       "      <td>7</td>\n",
       "    </tr>\n",
       "    <tr>\n",
       "      <th>5</th>\n",
       "      <td>3.1</td>\n",
       "      <td>x</td>\n",
       "      <td>8</td>\n",
       "    </tr>\n",
       "    <tr>\n",
       "      <th>6</th>\n",
       "      <td>3.2</td>\n",
       "      <td>x</td>\n",
       "      <td>9</td>\n",
       "    </tr>\n",
       "    <tr>\n",
       "      <th>12</th>\n",
       "      <td>3.3</td>\n",
       "      <td>y</td>\n",
       "      <td>10</td>\n",
       "    </tr>\n",
       "    <tr>\n",
       "      <th>13</th>\n",
       "      <td>3.7</td>\n",
       "      <td>y</td>\n",
       "      <td>11</td>\n",
       "    </tr>\n",
       "    <tr>\n",
       "      <th>7</th>\n",
       "      <td>3.9</td>\n",
       "      <td>x</td>\n",
       "      <td>12</td>\n",
       "    </tr>\n",
       "    <tr>\n",
       "      <th>14</th>\n",
       "      <td>4.2</td>\n",
       "      <td>y</td>\n",
       "      <td>13</td>\n",
       "    </tr>\n",
       "    <tr>\n",
       "      <th>15</th>\n",
       "      <td>4.3</td>\n",
       "      <td>y</td>\n",
       "      <td>14</td>\n",
       "    </tr>\n",
       "    <tr>\n",
       "      <th>8</th>\n",
       "      <td>4.4</td>\n",
       "      <td>x</td>\n",
       "      <td>15</td>\n",
       "    </tr>\n",
       "    <tr>\n",
       "      <th>9</th>\n",
       "      <td>4.6</td>\n",
       "      <td>x</td>\n",
       "      <td>16</td>\n",
       "    </tr>\n",
       "    <tr>\n",
       "      <th>16</th>\n",
       "      <td>4.9</td>\n",
       "      <td>y</td>\n",
       "      <td>17</td>\n",
       "    </tr>\n",
       "    <tr>\n",
       "      <th>17</th>\n",
       "      <td>5.8</td>\n",
       "      <td>y</td>\n",
       "      <td>18</td>\n",
       "    </tr>\n",
       "  </tbody>\n",
       "</table>\n",
       "</div>"
      ],
      "text/plain": [
       "    value own  rank\n",
       "0     0.5   x     1\n",
       "1     1.2   x     2\n",
       "2     1.7   x     3\n",
       "3     2.3   x     4\n",
       "10    2.4   y     5\n",
       "4     2.7   x     6\n",
       "11    2.8   y     7\n",
       "5     3.1   x     8\n",
       "6     3.2   x     9\n",
       "12    3.3   y    10\n",
       "13    3.7   y    11\n",
       "7     3.9   x    12\n",
       "14    4.2   y    13\n",
       "15    4.3   y    14\n",
       "8     4.4   x    15\n",
       "9     4.6   x    16\n",
       "16    4.9   y    17\n",
       "17    5.8   y    18"
      ]
     },
     "execution_count": 37,
     "metadata": {},
     "output_type": "execute_result"
    }
   ],
   "source": [
    "df['rank'] = [i for i in range(1, len(df.value) + 1)]\n",
    "df"
   ]
  },
  {
   "cell_type": "code",
   "execution_count": 38,
   "id": "53cf92d6",
   "metadata": {},
   "outputs": [],
   "source": [
    "def hypothesis_same_distr(x, y, value_name, alpha):\n",
    "    x['own'] = 'x'\n",
    "    y['own'] = 'y'\n",
    "    df = pd.concat([x, y], ignore_index=True)\n",
    "    df = df.sort_values(value_name)\n",
    "    df['rank'] = [i for i in range(1, len(df.value) + 1)]\n",
    "    u_x = df[df.own == 'x']['rank'].sum()\n",
    "    u_y = df[df.own == 'y']['rank'].sum()\n",
    "    n_x = len(df[df.own == 'x'])\n",
    "    n_y = len(df[df.own == 'y'])\n",
    "    m_u_x = 0.5 * n_x * (n_x + n_y + 1)\n",
    "    m_u_y = 0.5 * n_y * (n_x + n_y + 1)\n",
    "    sigma_u = (1 / 12) * n_x * n_y * (n_x + n_y + 1)\n",
    "    q = stats.norm.ppf(1 - alpha / 2)\n",
    "    u_x_l = m_u_x - q * sigma_u ** (1 / 2)\n",
    "    u_x_r = m_u_x + q * sigma_u ** (1 / 2)\n",
    "    u_y_l = m_u_y - q * sigma_u ** (1 / 2)\n",
    "    u_y_r = m_u_y + q * sigma_u ** (1 / 2)\n",
    "    print(u_x, u_x_l, u_x_r)\n",
    "    print(u_y, u_y_l, u_y_r)\n",
    "    if (u_x in (u_x_l, u_x_r)) and (u_y in (u_y_l, u_y_r)):\n",
    "        print('U_x =', u_x, ', Доверительный интервал [', round(u_x_l, 4), ';', round(u_x_r, 4), ']')\n",
    "        print('U_y =', u_y, ', Доверительный интервал [', round(u_y_l, 4), ';', round(u_y_r, 4), ']')\n",
    "        print('Принимаем гипотезу f(x) = f(y)')\n",
    "        return True\n",
    "    else:\n",
    "        print('U_x =', u_x, ', Доверительный интервал [', round(u_x_l, 4), ';', round(u_x_r, 4), ']')\n",
    "        print('U_y =', u_y, ', Доверительный интервал [', round(u_y_l, 4), ';', round(u_y_r, 4), ']')\n",
    "        print('Отклоняем гипотезу f(x) = f(y)')\n",
    "        return False"
   ]
  },
  {
   "cell_type": "code",
   "execution_count": 39,
   "id": "21ce4381",
   "metadata": {},
   "outputs": [
    {
     "name": "stdout",
     "output_type": "stream",
     "text": [
      "76 76.48778319994913 113.51221680005087\n",
      "95 57.487783199949135 94.51221680005087\n",
      "U_x = 76 , Доверительный интервал [ 76.4878 ; 113.5122 ]\n",
      "U_y = 95 , Доверительный интервал [ 57.4878 ; 94.5122 ]\n",
      "Отклоняем гипотезу f(x) = f(y)\n"
     ]
    },
    {
     "data": {
      "text/plain": [
       "False"
      ]
     },
     "execution_count": 39,
     "metadata": {},
     "output_type": "execute_result"
    }
   ],
   "source": [
    "hypothesis_same_distr(x, y, 'value', 0.1)"
   ]
  },
  {
   "cell_type": "markdown",
   "id": "3eb97808",
   "metadata": {},
   "source": [
    "# Гипотезы о типе распр"
   ]
  },
  {
   "cell_type": "markdown",
   "id": "22cc3e6b",
   "metadata": {},
   "source": [
    "# хи квадрат"
   ]
  },
  {
   "cell_type": "code",
   "execution_count": 40,
   "id": "f6393ac7",
   "metadata": {},
   "outputs": [],
   "source": [
    "x = np.array([7.3, 10.9, 3.4, 14.4, 12.2, 12.6, 13.7, 10.1, 15.6, 4.7,\n",
    "           17.2, 1.6, 9.2, 6.3, 11.8, 12.7, 10.6, 11.3, 2.7, 7.8])"
   ]
  },
  {
   "cell_type": "code",
   "execution_count": 41,
   "id": "4082e30c",
   "metadata": {},
   "outputs": [],
   "source": [
    "def get_length(x, k):\n",
    "    return math.ceil((x.max() - x.min()) / k)"
   ]
  },
  {
   "cell_type": "code",
   "execution_count": 42,
   "id": "5bea58dc",
   "metadata": {},
   "outputs": [],
   "source": [
    "def hypothesis_distr_chi_sq_norm(x, k, alpha, start, version='def'):\n",
    "    mean, d = pe_norm(x, 'm_d')\n",
    "    std = d ** (1 / 2)\n",
    "    n = get_length(x, k)\n",
    "    table = []\n",
    "    for i in range(k):\n",
    "        table.append(x[np.where((x > i * n) & (x < (i + 1) * n))])\n",
    "    p_e = [len(i) / len(x) for i in table]\n",
    "    p_t = [stats.norm(loc=mean, scale=std).cdf(start + n)]\n",
    "    for i in range(1, k):\n",
    "        p_t.append(stats.norm(loc=mean, scale=std).cdf((i + 1) * n) - \n",
    "                  stats.norm(loc=mean, scale=std).cdf((i * n)))\n",
    "    value = []\n",
    "    for i in range(k):\n",
    "        value.append((p_t[i] - p_e[i]) ** 2 / p_t[i])\n",
    "    chi_sq = len(x) * sum(value)\n",
    "    chi_sq_cr = stats.chi2.ppf(1 - alpha, k - 3)\n",
    "    if version == 'for_adj':\n",
    "        return table, p_t, k, alpha\n",
    "    if chi_sq < chi_sq_cr:\n",
    "        print('χ^2 =', round(chi_sq, 4), '< χ^2_cr =', round(chi_sq_cr, 4) ,'\\nПринимаем гипотезу f(x) ~ Norm(', mean,\n",
    "              ',', std, ') с доверительной вероятностью ', 1 - alpha)\n",
    "        return True\n",
    "    else:\n",
    "        print('χ^2 =', round(chi_sq, 4), '≥ χ^2_cr =', round(chi_sq_cr, 4) ,'\\nОтклоняем гипотезу f(x) ~ Norm(', mean,\n",
    "              ',', std, ') с доверительной вероятностью ', 1 - alpha)\n",
    "        return False"
   ]
  },
  {
   "cell_type": "code",
   "execution_count": 43,
   "id": "d60de7da",
   "metadata": {},
   "outputs": [
    {
     "name": "stdout",
     "output_type": "stream",
     "text": [
      "χ^2 = 1.6053 < χ^2_cr = 5.9915 \n",
      "Принимаем гипотезу f(x) ~ Norm( 9.805 , 4.367641179593879 ) с доверительной вероятностью  0.95\n"
     ]
    },
    {
     "data": {
      "text/plain": [
       "True"
      ]
     },
     "execution_count": 43,
     "metadata": {},
     "output_type": "execute_result"
    }
   ],
   "source": [
    "hypothesis_distr_chi_sq_norm(x, 5, 0.05, 0)"
   ]
  },
  {
   "cell_type": "markdown",
   "id": "9966616a",
   "metadata": {},
   "source": [
    "# Крамера мизеса"
   ]
  },
  {
   "cell_type": "code",
   "execution_count": 44,
   "id": "43988e0c",
   "metadata": {},
   "outputs": [],
   "source": [
    "data = [\n",
    "    [0.5, 0.118],\n",
    "    [0.6, 0.147],\n",
    "    [0.7, 0.184],\n",
    "    [0.8, 0.241],\n",
    "    [0.9, 0.347],\n",
    "    [0.95, 0.461],\n",
    "    [0.99, 0.744],\n",
    "    [0.999, 1.168]\n",
    "]\n",
    "head = ['p', 'value']\n",
    "w_square_table = pd.DataFrame(data, columns=head)"
   ]
  },
  {
   "cell_type": "code",
   "execution_count": 45,
   "id": "dd57ad63",
   "metadata": {},
   "outputs": [],
   "source": [
    "def hypothesis_distr_w_norm(x, alpha, version='default'):\n",
    "    x = np.sort(x)\n",
    "    n = len(x)\n",
    "    mean, std = pe_norm(x, 'm_d')\n",
    "    std **= (1 / 2)\n",
    "    w = 1 / (12 * n)\n",
    "    for i in range(n):\n",
    "        w += ((stats.norm.cdf((x[i] - mean) / std) - (2 * (i + 1) - 1) / (2 * n)) ** 2)\n",
    "    p = 1 - alpha\n",
    "    w_cr = w_square_table[w_square_table.p == 1 - alpha].values[0][1]\n",
    "    if version == 'for_adj':\n",
    "        return w\n",
    "    if w <= w_cr:\n",
    "        print('ω^2 =', round(w, 4), '≤ ω^2_cr =', round(w_cr, 4) ,'\\nПринимаем гипотезу f(x) ~ Norm(', round(mean, 4),\n",
    "              ',', round(std, 4), ') с доверительной вероятностью ', 1 - alpha)\n",
    "        return True\n",
    "    else:\n",
    "        print('ω^2 =', round(w, 4), '> ω^2_cr =', round(w_cr, 4) ,'\\nОтклоняем гипотезу f(x) ~ Norm(', round(mean, 4),\n",
    "              ',', round(std, 4), ') с доверительной вероятностью ', 1 - alpha)\n",
    "        return False"
   ]
  },
  {
   "cell_type": "code",
   "execution_count": 46,
   "id": "b7eafc5c",
   "metadata": {},
   "outputs": [
    {
     "name": "stdout",
     "output_type": "stream",
     "text": [
      "ω^2 = 0.0505 ≤ ω^2_cr = 0.461 \n",
      "Принимаем гипотезу f(x) ~ Norm( 9.805 , 4.3676 ) с доверительной вероятностью  0.95\n"
     ]
    },
    {
     "data": {
      "text/plain": [
       "True"
      ]
     },
     "execution_count": 46,
     "metadata": {},
     "output_type": "execute_result"
    }
   ],
   "source": [
    "x = np.array([7.3, 10.9, 3.4, 14.4, 12.2, 12.6, 13.7, 10.1, 15.6, 4.7,\n",
    "           17.2, 1.6, 9.2, 6.3, 11.8, 12.7, 10.6, 11.3, 2.7, 7.8])\n",
    "\n",
    "hypothesis_distr_w_norm(x, 0.05)"
   ]
  },
  {
   "cell_type": "markdown",
   "id": "5af76143",
   "metadata": {},
   "source": [
    "# Модификация хи квадр"
   ]
  },
  {
   "cell_type": "code",
   "execution_count": 47,
   "id": "fcb16c79",
   "metadata": {},
   "outputs": [],
   "source": [
    "x = np.array([7.3, 10.9, 3.4, 14.4, 12.2, 12.6, 13.7, 10.1, 15.6, 4.7,\n",
    "           17.2, 1.6, 9.2, 6.3, 11.8, 12.7, 10.6, 11.3, 2.7, 7.8])"
   ]
  },
  {
   "cell_type": "code",
   "execution_count": 48,
   "id": "48d9f526",
   "metadata": {},
   "outputs": [
    {
     "data": {
      "text/plain": [
       "10.41"
      ]
     },
     "execution_count": 48,
     "metadata": {},
     "output_type": "execute_result"
    }
   ],
   "source": [
    "x = np.array([7.3, 10.9, 3.4, 14.4, 12.2, 18.7, 13.7, 10.1, 15.6, 4.7,\n",
    "           17.2, 1.6, 9.2, 6.3, 11.8, 12.7, 10.6, 11.3, 8.7, 7.8])\n",
    "x.mean()"
   ]
  },
  {
   "cell_type": "code",
   "execution_count": 49,
   "id": "d34ff859",
   "metadata": {},
   "outputs": [],
   "source": [
    "table_laplace = pd.read_csv('laplace.csv')"
   ]
  },
  {
   "cell_type": "code",
   "execution_count": 50,
   "id": "cea5ffe3",
   "metadata": {},
   "outputs": [],
   "source": [
    "def chi_sq_adj(x, alpha, n, p, k):\n",
    "    n_len = [len(i) for i in n]\n",
    "    m = []\n",
    "    for i in range(k):\n",
    "        m.append(sum(n_len) * p[i])\n",
    "    sigma = []\n",
    "    for i in range(k):\n",
    "        sigma.append((sum(n_len) * p[i] * (1 - p[i])) ** (1 / 2))\n",
    "    v = []\n",
    "    for i in range(k):\n",
    "        v.append(((n_len[i] - m[i]) / sigma[i]) ** 2)\n",
    "    v = (sum(v) / k) ** (1 / 2)\n",
    "    s = ((2 * k) ** (1 / 2)) * (v - 1)\n",
    "    f = 0.5 - alpha\n",
    "    s_cr = table_laplace[table_laplace.F < f].max()['x']\n",
    "    s_plus = 0\n",
    "    if s < 0:\n",
    "        s_plus = 0.5  - (stats.norm.cdf(s) - 0.5)\n",
    "    else:\n",
    "        s_plus = stats.norm.cdf(s) - 0.5\n",
    "    if s <= s_cr:\n",
    "        print('S =', round(s, 4), '≤ S_cr =', round(s_cr, 4) ,'\\nПринимаем гипотезу f(x) ~ Norm с доверительной вероятностью ', 1 - alpha)\n",
    "        print('Вероятность соответствия выборки нормальному распределению s_plus = ', round(s_plus, 4))\n",
    "    else:\n",
    "        print('S =', round(s, 4), '> S_cr =', round(s_cr, 4) ,'\\nОтклоняем гипотезу f(x) ~ Norm') \n",
    "    return s, s_cr, s_plus"
   ]
  },
  {
   "cell_type": "code",
   "execution_count": 51,
   "id": "ca8e576a",
   "metadata": {},
   "outputs": [
    {
     "name": "stdout",
     "output_type": "stream",
     "text": [
      "S = -2.4469 ≤ S_cr = 1.28 \n",
      "Принимаем гипотезу f(x) ~ Norm с доверительной вероятностью  0.9\n",
      "Вероятность соответствия выборки нормальному распределению s_plus =  0.9928\n"
     ]
    },
    {
     "data": {
      "text/plain": [
       "(-2.446923326385537, 1.28, 0.9927959256886051)"
      ]
     },
     "execution_count": 51,
     "metadata": {},
     "output_type": "execute_result"
    }
   ],
   "source": [
    "n, p, k, alpha = hypothesis_distr_chi_sq_norm(x, 5, 0.1, 0, 'for_adj')\n",
    "chi_sq_adj(x, alpha, n, p, k)"
   ]
  },
  {
   "cell_type": "markdown",
   "id": "d3a80041",
   "metadata": {},
   "source": [
    "# Модификация крамера"
   ]
  },
  {
   "cell_type": "code",
   "execution_count": 52,
   "id": "55186b47",
   "metadata": {},
   "outputs": [
    {
     "data": {
      "text/html": [
       "<div>\n",
       "<style scoped>\n",
       "    .dataframe tbody tr th:only-of-type {\n",
       "        vertical-align: middle;\n",
       "    }\n",
       "\n",
       "    .dataframe tbody tr th {\n",
       "        vertical-align: top;\n",
       "    }\n",
       "\n",
       "    .dataframe thead th {\n",
       "        text-align: right;\n",
       "    }\n",
       "</style>\n",
       "<table border=\"1\" class=\"dataframe\">\n",
       "  <thead>\n",
       "    <tr style=\"text-align: right;\">\n",
       "      <th></th>\n",
       "      <th>p</th>\n",
       "      <th>value</th>\n",
       "    </tr>\n",
       "  </thead>\n",
       "  <tbody>\n",
       "    <tr>\n",
       "      <th>0</th>\n",
       "      <td>0.90</td>\n",
       "      <td>0.316</td>\n",
       "    </tr>\n",
       "    <tr>\n",
       "      <th>1</th>\n",
       "      <td>0.95</td>\n",
       "      <td>0.348</td>\n",
       "    </tr>\n",
       "    <tr>\n",
       "      <th>2</th>\n",
       "      <td>0.99</td>\n",
       "      <td>0.418</td>\n",
       "    </tr>\n",
       "  </tbody>\n",
       "</table>\n",
       "</div>"
      ],
      "text/plain": [
       "      p  value\n",
       "0  0.90  0.316\n",
       "1  0.95  0.348\n",
       "2  0.99  0.418"
      ]
     },
     "execution_count": 52,
     "metadata": {},
     "output_type": "execute_result"
    }
   ],
   "source": [
    "x = np.array([7.3, 10.9, 3.4, 14.4, 12.2, 18.7, 13.7, 10.1, 15.6, 4.7,\n",
    "           17.2, 1.6, 9.2, 6.3, 11.8, 12.7, 10.6, 11.3, 8.7, 7.8])\n",
    "x.sort()\n",
    "data = [\n",
    "    [0.9, 0.316],\n",
    "    [0.95, 0.348],\n",
    "    [0.99, 0.418]\n",
    "]\n",
    "head = ['p', 'value']\n",
    "w_adj_table = pd.DataFrame(data, columns=head)\n",
    "w_adj_table"
   ]
  },
  {
   "cell_type": "code",
   "execution_count": 89,
   "id": "9d0669dc",
   "metadata": {},
   "outputs": [],
   "source": [
    "def cramer_adj(x, alpha):\n",
    "    mean, sigma = pe_norm(x, 'm_d')\n",
    "    sigma **= (1 / 2)\n",
    "    summ = 0\n",
    "    for i in range(len(x)):\n",
    "        summ += (stats.norm(loc=mean, scale=sigma).cdf(x[i]) -  (2 * (i + 1) - 1) / 40) ** 2\n",
    "    w = (summ + 1/240) ** (1 / 2)\n",
    "    w_cr = w_adj_table[w_adj_table.p == 1 - alpha].values[0, 1]\n",
    "    if w <= w_cr:\n",
    "        print('G =', round(w, 4), '≤ G_cr =', round(w_cr, 4) ,'\\nПринимаем гипотезу f(x) ~ Norm с доверительной вероятностью ', 1 - alpha)\n",
    "        return True\n",
    "    else:\n",
    "        print('G =', round(w, 4), '> G_cr =', round(w_cr, 4) ,'\\nОтклоняем гипотезу f(x) ~ Norm')\n",
    "        return False"
   ]
  },
  {
   "cell_type": "code",
   "execution_count": 90,
   "id": "8255f6d3",
   "metadata": {},
   "outputs": [
    {
     "name": "stdout",
     "output_type": "stream",
     "text": [
      "G = 1.815 > G_cr = 0.316 \n",
      "Отклоняем гипотезу f(x) ~ Norm\n"
     ]
    },
    {
     "data": {
      "text/plain": [
       "False"
      ]
     },
     "execution_count": 90,
     "metadata": {},
     "output_type": "execute_result"
    }
   ],
   "source": [
    "cramer_adj(x, 0.1)"
   ]
  },
  {
   "cell_type": "markdown",
   "id": "2a53d05f",
   "metadata": {},
   "source": [
    "# Шапиро Уилка"
   ]
  },
  {
   "cell_type": "code",
   "execution_count": 63,
   "id": "77ea1aae",
   "metadata": {},
   "outputs": [],
   "source": [
    "x = np.array([7.3, 10.9, 3.4, 14.4, 12.2, 18.7, 13.7, 10.1, 15.6, 4.7,\n",
    "           17.2, 1.6, 9.2, 6.3, 11.8, 12.7, 10.6, 11.3, 8.7, 7.8])\n",
    "x = np.sort(x)\n",
    "#x = np.array([0.251, 0.280, 0.285, 0.290, 0.292, 0.298, 0.29, 0.305, 0.308, 0.312, 0.313, 0.315, 0.330, 0.333, 0.340, 0.357, 0.380, 0.401, 0.410, 0.452])"
   ]
  },
  {
   "cell_type": "code",
   "execution_count": 64,
   "id": "6fd84a4b",
   "metadata": {},
   "outputs": [],
   "source": [
    "def shapiro_test(x, alpha):\n",
    "    x = np.sort(x)\n",
    "    n = len(x)\n",
    "    z = []\n",
    "    a0 = 0.899 / ((n - 2.4) ** 0.4162) - 0.02\n",
    "    a = []\n",
    "    for i in range(n):\n",
    "        z.append((n - 2 * (i + 1) + 1) / (n - 0.5))\n",
    "        a.append(a0 * (z[i] + 1483 / ((3 - z[i]) ** 10.845) + (71.6 * 10 ** (-10)) / ((1.1 - z[i]) ** 8.26)))\n",
    "    mean, sigma = pe_norm(x, 'm_d')\n",
    "    w = []\n",
    "    for i in range(n):\n",
    "        w.append(a[n - i - 1]*(x[n-i - 1] - x[i]))\n",
    "    w = sum(w)\n",
    "    sigma = [(i - mean) ** 2 for i in x]\n",
    "    sigma = sum(sigma)\n",
    "    w **= 2 \n",
    "    w /= sigma\n",
    "    w_cr = (-0.0084 * n ** 4 + 1.2513 * n ** 3 - 70.724 * n ** 2 + 1890 * n + 73840)  / 100000\n",
    "    if w > w_cr:\n",
    "        print('W =', round(w, 4), '> W_cr =', round(w_cr, 4) ,'\\nПринимаем гипотезу f(x) ~ Norm с доверительной вероятностью ', 1 - alpha)\n",
    "        return True\n",
    "    else:\n",
    "        print('W =', round(w, 4), '≤ W_cr =', round(w_cr, 4) ,'\\nОтклоняем гипотезу f(x) ~ Norm') "
   ]
  },
  {
   "cell_type": "code",
   "execution_count": 65,
   "id": "40d146f8",
   "metadata": {},
   "outputs": [],
   "source": [
    "x = np.array([7.3, 10.9, 3.4, 14.4, 12.2, 18.7, 13.7, 10.1, 15.6, 4.7,\n",
    "           17.2, 1.6, 9.2, 6.3, 11.8, 12.7, 10.6, 11.3, 8.7, 7.8])"
   ]
  },
  {
   "cell_type": "code",
   "execution_count": 66,
   "id": "2bafdb79",
   "metadata": {},
   "outputs": [
    {
     "name": "stdout",
     "output_type": "stream",
     "text": [
      "W = 2.7262 > W_cr = 0.9202 \n",
      "Принимаем гипотезу f(x) ~ Norm с доверительной вероятностью  0.9\n"
     ]
    },
    {
     "data": {
      "text/plain": [
       "True"
      ]
     },
     "execution_count": 66,
     "metadata": {},
     "output_type": "execute_result"
    }
   ],
   "source": [
    "shapiro_test(x, 0.1)"
   ]
  },
  {
   "cell_type": "code",
   "execution_count": null,
   "id": "c1d4dfc2",
   "metadata": {},
   "outputs": [],
   "source": []
  },
  {
   "cell_type": "code",
   "execution_count": 67,
   "id": "b279a241",
   "metadata": {},
   "outputs": [],
   "source": [
    "def chi_test(x, k, alpha, start, version='def'):\n",
    "    types = ['Norm', 'Exp', 'R']\n",
    "    mean, d = pe_norm(x, 'm_d')\n",
    "    std = d ** (1 / 2)\n",
    "    l, err = pe_exp_mm(x, 'm')\n",
    "    a, b = pe_r_mm(x, 'for_adj')\n",
    "    n = get_length(x, k)\n",
    "    table = []\n",
    "    for i in range(k):\n",
    "        table.append(x[np.where((x > i * n) & (x < (i + 1) * n))])\n",
    "    p_e = [len(i) / len(x) for i in table]\n",
    "    \n",
    "    p_t_n = [stats.norm(loc=mean, scale=std).cdf(start + n)]\n",
    "    p_t_e = [1 - math.exp(-l * (start + n))]\n",
    "    p_t_r = [(start + n - a) / (b - a)]\n",
    "    for i in range(1, k):\n",
    "        p_t_n.append(stats.norm(loc=mean, scale=std).cdf((i + 1) * n) - stats.norm(loc=mean, scale=std).cdf((i * n)))\n",
    "        p_t_e.append(1 - math.exp(-l * ((i + 1) * n)) - 1 + math.exp(-l * (i * n)))\n",
    "        p_t_r.append(((i + 1) * n - a) / (b - a) - ((i * n - a) / (b - a)))\n",
    "    value_n, value_e, value_r = [], [], []\n",
    "    for i in range(k):\n",
    "        value_n.append((p_t_n[i] - p_e[i]) ** 2 / p_t_n[i])\n",
    "        value_e.append((p_t_e[i] - p_e[i]) ** 2 / p_t_e[i])\n",
    "        value_r.append((p_t_r[i] - p_e[i]) ** 2 / p_t_r[i])\n",
    "    chi_sq = [len(x) * sum(i) for i in [value_n, value_e, value_r]]\n",
    "    chi_sq_cr = [stats.chi2.ppf(1 - alpha, k - 3), stats.chi2.ppf(1 - alpha, k - 2), stats.chi2.ppf(1 - alpha, k - 3)]\n",
    "    if version == 'for_adj':\n",
    "        return table, p_t_n, p_t_e, p_t_r, k, alpha\n",
    "    for i in range(3):\n",
    "        if chi_sq[i] < chi_sq_cr[i]:\n",
    "            print('χ^2 =', round(chi_sq[i], 4), '< χ^2_cr =', round(chi_sq_cr[i], 4) ,'\\nПринимаем гипотезу f(x) ~ ', types[i], ' с доверительной вероятностью ', 1 - alpha)\n",
    "        else:\n",
    "            print('χ^2 =', round(chi_sq[i], 4), '≥ χ^2_cr =', round(chi_sq_cr[i], 4) ,'\\nОтклоняем гипотезу f(x) ~ ', types[i])"
   ]
  },
  {
   "cell_type": "code",
   "execution_count": 68,
   "id": "b51e142c",
   "metadata": {},
   "outputs": [
    {
     "name": "stdout",
     "output_type": "stream",
     "text": [
      "χ^2 = 0.2288 < χ^2_cr = 4.6052 \n",
      "Принимаем гипотезу f(x) ~  Norm  с доверительной вероятностью  0.9\n",
      "χ^2 = 13.2646 ≥ χ^2_cr = 6.2514 \n",
      "Отклоняем гипотезу f(x) ~  Exp\n",
      "χ^2 = 3.1321 < χ^2_cr = 4.6052 \n",
      "Принимаем гипотезу f(x) ~  R  с доверительной вероятностью  0.9\n"
     ]
    }
   ],
   "source": [
    "x = np.array([7.3, 10.9, 3.4, 14.4, 12.2, 18.7, 13.7, 10.1, 15.6, 4.7,\n",
    "           17.2, 1.6, 9.2, 6.3, 11.8, 12.7, 10.6, 11.3, 8.7, 7.8])\n",
    "chi_test(x, 5, 0.1, 0)"
   ]
  },
  {
   "cell_type": "code",
   "execution_count": 69,
   "id": "a605b1a3",
   "metadata": {},
   "outputs": [
    {
     "name": "stdout",
     "output_type": "stream",
     "text": [
      "χ^2 = 1.4192 < χ^2_cr = 4.6052 \n",
      "Принимаем гипотезу f(x) ~  Norm  с доверительной вероятностью  0.9\n",
      "χ^2 = 32.6905 ≥ χ^2_cr = 6.2514 \n",
      "Отклоняем гипотезу f(x) ~  Exp\n",
      "χ^2 = 8.8052 ≥ χ^2_cr = 4.6052 \n",
      "Отклоняем гипотезу f(x) ~  R\n"
     ]
    }
   ],
   "source": [
    "x = stats.norm.rvs(5, 2, 20)\n",
    "chi_test(x, 5, 0.1, 0)"
   ]
  },
  {
   "cell_type": "code",
   "execution_count": 70,
   "id": "7895cca7",
   "metadata": {},
   "outputs": [
    {
     "name": "stdout",
     "output_type": "stream",
     "text": [
      "χ^2 = 5.032 ≥ χ^2_cr = 4.6052 \n",
      "Отклоняем гипотезу f(x) ~  Norm\n",
      "χ^2 = 1.7769 < χ^2_cr = 6.2514 \n",
      "Принимаем гипотезу f(x) ~  Exp  с доверительной вероятностью  0.9\n",
      "χ^2 = 6.8165 ≥ χ^2_cr = 4.6052 \n",
      "Отклоняем гипотезу f(x) ~  R\n"
     ]
    }
   ],
   "source": [
    "target = 0.09\n",
    "beta = 1 / target\n",
    "x = np.random.exponential(beta, 20)\n",
    "chi_test(x, 5, 0.1, 0)"
   ]
  },
  {
   "cell_type": "code",
   "execution_count": 71,
   "id": "db891433",
   "metadata": {},
   "outputs": [
    {
     "name": "stdout",
     "output_type": "stream",
     "text": [
      "χ^2 = 8.031 ≥ χ^2_cr = 4.6052 \n",
      "Отклоняем гипотезу f(x) ~  Norm\n",
      "χ^2 = 18.0353 ≥ χ^2_cr = 6.2514 \n",
      "Отклоняем гипотезу f(x) ~  Exp\n",
      "χ^2 = 5.9578 ≥ χ^2_cr = 4.6052 \n",
      "Отклоняем гипотезу f(x) ~  R\n"
     ]
    }
   ],
   "source": [
    "x = stats.uniform.rvs(1, 10, 20)\n",
    "chi_test(x, 5, 0.1, 0)"
   ]
  },
  {
   "cell_type": "code",
   "execution_count": 72,
   "id": "c43c5b94",
   "metadata": {},
   "outputs": [],
   "source": [
    "def chi_sq_adj(x, alpha, n, p_n, p_e, p_r, k):\n",
    "    types = ['Norm', 'Exp', 'R']\n",
    "    n_len = [len(i) for i in n]\n",
    "    m_n, m_e, m_r = [], [], []\n",
    "    for i in range(k):\n",
    "        m_n.append(sum(n_len) * p_n[i])\n",
    "        m_e.append(sum(n_len) * p_e[i])\n",
    "        m_r.append(sum(n_len) * p_r[i])\n",
    "    sigma_n, sigma_e, sigma_r = [], [], []\n",
    "    for i in range(k):\n",
    "        sigma_n.append((sum(n_len) * p_n[i] * (1 - p_n[i])) ** (1 / 2))\n",
    "        sigma_e.append((sum(n_len) * p_e[i] * (1 - p_e[i])) ** (1 / 2))\n",
    "        sigma_r.append((sum(n_len) * p_r[i] * (1 - p_r[i])) ** (1 / 2))\n",
    "    v_n, v_e, v_r = [], [], []\n",
    "    for i in range(k):\n",
    "        v_n.append(((n_len[i] - m_n[i]) / sigma_n[i]) ** 2)\n",
    "        v_e.append(((n_len[i] - m_e[i]) / sigma_e[i]) ** 2)\n",
    "        v_r.append(((n_len[i] - m_r[i]) / sigma_r[i]) ** 2)\n",
    "    v_n, v_e, v_r = (sum(v_n) / k) ** (1 / 2), (sum(v_e) / k) ** (1 / 2), (sum(v_r) / k) ** (1 / 2)\n",
    "    s = [((2 * k) ** (1 / 2)) * (v_n - 1), ((2 * k) ** (1 / 2)) * (v_e - 1), ((2 * k) ** (1 / 2)) * (v_r - 1)]\n",
    "    f = 0.5 - alpha\n",
    "    s_cr = table_laplace[table_laplace.F < f].max()['x']\n",
    "    s_plus = 0\n",
    "    for i in range(3):\n",
    "        if s[i] <= s_cr:\n",
    "            print(types[i], ': S =', round(s[i], 4), '≤ S_cr =', round(s_cr, 4) ,'\\nПринимаем гипотезу f(x) ~', types[i], 'с доверительной вероятностью ', 1 - alpha)\n",
    "        else:\n",
    "            print('S =', round(s[i], 4), '> S_cr =', round(s_cr, 4) ,'\\nОтклоняем гипотезу f(x) ~ ', types[i]) \n"
   ]
  },
  {
   "cell_type": "code",
   "execution_count": 73,
   "id": "9362a522",
   "metadata": {},
   "outputs": [],
   "source": [
    "x = np.array([7.3, 10.9, 3.4, 14.4, 12.2, 18.7, 13.7, 10.1, 15.6, 4.7,\n",
    "           17.2, 1.6, 9.2, 6.3, 11.8, 12.7, 10.6, 11.3, 8.7, 7.8])\n",
    "n, pn, pe, pr, k, alpha = chi_test(x, 5, 0.1, 0, 'for_adj')"
   ]
  },
  {
   "cell_type": "code",
   "execution_count": 74,
   "id": "8d3d64e0",
   "metadata": {},
   "outputs": [
    {
     "name": "stdout",
     "output_type": "stream",
     "text": [
      "Norm : S = -2.4469 ≤ S_cr = 1.28 \n",
      "Принимаем гипотезу f(x) ~ Norm с доверительной вероятностью  0.9\n",
      "S = 2.5221 > S_cr = 1.28 \n",
      "Отклоняем гипотезу f(x) ~  Exp\n",
      "R : S = -0.259 ≤ S_cr = 1.28 \n",
      "Принимаем гипотезу f(x) ~ R с доверительной вероятностью  0.9\n"
     ]
    }
   ],
   "source": [
    "chi_sq_adj(x, alpha, n, pn, pe, pr, k)"
   ]
  },
  {
   "cell_type": "code",
   "execution_count": 75,
   "id": "db48cf6e",
   "metadata": {},
   "outputs": [
    {
     "name": "stdout",
     "output_type": "stream",
     "text": [
      "Norm : S = 0.2611 ≤ S_cr = 1.28 \n",
      "Принимаем гипотезу f(x) ~ Norm с доверительной вероятностью  0.9\n",
      "S = 3.1769 > S_cr = 1.28 \n",
      "Отклоняем гипотезу f(x) ~  Exp\n",
      "S = 1.8035 > S_cr = 1.28 \n",
      "Отклоняем гипотезу f(x) ~  R\n"
     ]
    }
   ],
   "source": [
    "x = stats.norm.rvs(5, 2, 20)\n",
    "n, pn, pe, pr, k, alpha = chi_test(x, 5, 0.1, 0, 'for_adj')\n",
    "chi_sq_adj(x, alpha, n, pn, pe, pr, k)"
   ]
  },
  {
   "cell_type": "code",
   "execution_count": 76,
   "id": "e13e8942",
   "metadata": {},
   "outputs": [
    {
     "name": "stdout",
     "output_type": "stream",
     "text": [
      "Norm : S = 0.9963 ≤ S_cr = 1.28 \n",
      "Принимаем гипотезу f(x) ~ Norm с доверительной вероятностью  0.9\n",
      "Exp : S = 0.0171 ≤ S_cr = 1.28 \n",
      "Принимаем гипотезу f(x) ~ Exp с доверительной вероятностью  0.9\n",
      "S = 1.4541 > S_cr = 1.28 \n",
      "Отклоняем гипотезу f(x) ~  R\n"
     ]
    }
   ],
   "source": [
    "target = 0.09\n",
    "beta = 1 / target\n",
    "x = np.random.exponential(beta, 20)\n",
    "n, pn, pe, pr, k, alpha = chi_test(x, 5, 0.1, 0, 'for_adj')\n",
    "chi_sq_adj(x, alpha, n, pn, pe, pr, k)"
   ]
  },
  {
   "cell_type": "code",
   "execution_count": 77,
   "id": "2f7dea1e",
   "metadata": {},
   "outputs": [
    {
     "name": "stdout",
     "output_type": "stream",
     "text": [
      "Norm : S = -0.7598 ≤ S_cr = 1.28 \n",
      "Принимаем гипотезу f(x) ~ Norm с доверительной вероятностью  0.9\n",
      "S = 3.5658 > S_cr = 1.28 \n",
      "Отклоняем гипотезу f(x) ~  Exp\n",
      "S = nan > S_cr = 1.28 \n",
      "Отклоняем гипотезу f(x) ~  R\n"
     ]
    },
    {
     "name": "stderr",
     "output_type": "stream",
     "text": [
      "<ipython-input-72-45c660f013c8>:13: RuntimeWarning: invalid value encountered in double_scalars\n",
      "  sigma_r.append((sum(n_len) * p_r[i] * (1 - p_r[i])) ** (1 / 2))\n"
     ]
    }
   ],
   "source": [
    "x = stats.uniform.rvs(1, 5, 20)\n",
    "n, pn, pe, pr, k, alpha = chi_test(x, 5, 0.1, 0, 'for_adj')\n",
    "chi_sq_adj(x, alpha, n, pn, pe, pr, k)"
   ]
  },
  {
   "cell_type": "code",
   "execution_count": 91,
   "id": "5695a509",
   "metadata": {},
   "outputs": [],
   "source": [
    "def kramer_test(x, alpha, version='default'):\n",
    "    x = np.sort(x)\n",
    "    n = len(x)\n",
    "    mean, std = pe_norm(x, 'm_d')\n",
    "    std **= (1 / 2)\n",
    "    types = ['Norm', 'Exp', 'R']\n",
    "    l, err = pe_exp_mm(x, 'm')\n",
    "    a, b = pe_r_mm(x, 'for_adj')\n",
    "    wn, we, wr = 1 / (12 * n), 1 / (12 * n), 1 / (12 * n)\n",
    "    for i in range(n):\n",
    "        wn += ((stats.norm.cdf((x[i] - mean) / std) - (2 * (i + 1) - 1) / (2 * n)) ** 2)\n",
    "        we += (1 - math.exp(-l * x[i]) - (2 * (i + 1) - 1) / (2 * n)) ** 2\n",
    "        wr += ((x[i] - a) / (b - a) - (2 * (i + 1) - 1) / (2 * n)) ** 2\n",
    "    p = 1 - alpha\n",
    "    w_cr = w_square_table[w_square_table.p == 1 - alpha].values[0][1]\n",
    "    if version == 'for_adj':\n",
    "        return wn, we, wr\n",
    "    w = [wn, we, wr]\n",
    "    for i in range(3):  \n",
    "        if w[i] <= w_cr:\n",
    "            print('ω^2 =', round(w[i], 4), '≤ ω^2_cr =', round(w_cr, 4) ,'\\nПринимаем гипотезу f(x) ~ ', types[i], 'с доверительной вероятностью ', 1 - alpha)\n",
    "        else:\n",
    "            print('ω^2 =', round(w[i], 4), '> ω^2_cr =', round(w_cr, 4) ,'\\nОтклоняем гипотезу f(x) ~ ', types[i])"
   ]
  },
  {
   "cell_type": "code",
   "execution_count": 92,
   "id": "88eddd4d",
   "metadata": {},
   "outputs": [
    {
     "name": "stdout",
     "output_type": "stream",
     "text": [
      "ω^2 = 0.0505 ≤ ω^2_cr = 0.461 \n",
      "Принимаем гипотезу f(x) ~  Norm с доверительной вероятностью  0.95\n",
      "ω^2 = 0.5266 > ω^2_cr = 0.461 \n",
      "Отклоняем гипотезу f(x) ~  Exp\n",
      "ω^2 = 0.0665 ≤ ω^2_cr = 0.461 \n",
      "Принимаем гипотезу f(x) ~  R с доверительной вероятностью  0.95\n"
     ]
    }
   ],
   "source": [
    "x = np.array([7.3, 10.9, 3.4, 14.4, 12.2, 12.6, 13.7, 10.1, 15.6, 4.7,\n",
    "           17.2, 1.6, 9.2, 6.3, 11.8, 12.7, 10.6, 11.3, 2.7, 7.8])\n",
    "kramer_test(x, 0.05)"
   ]
  },
  {
   "cell_type": "code",
   "execution_count": 93,
   "id": "66291b05",
   "metadata": {},
   "outputs": [
    {
     "name": "stdout",
     "output_type": "stream",
     "text": [
      "ω^2 = 0.0201 ≤ ω^2_cr = 0.461 \n",
      "Принимаем гипотезу f(x) ~  Norm с доверительной вероятностью  0.95\n",
      "ω^2 = 0.7557 > ω^2_cr = 0.461 \n",
      "Отклоняем гипотезу f(x) ~  Exp\n",
      "ω^2 = 0.0995 ≤ ω^2_cr = 0.461 \n",
      "Принимаем гипотезу f(x) ~  R с доверительной вероятностью  0.95\n"
     ]
    }
   ],
   "source": [
    "x = stats.norm.rvs(5, 2, 20)\n",
    "kramer_test(x, 0.05)"
   ]
  },
  {
   "cell_type": "code",
   "execution_count": 94,
   "id": "4bbd8d52",
   "metadata": {},
   "outputs": [
    {
     "name": "stdout",
     "output_type": "stream",
     "text": [
      "ω^2 = 0.7367 > ω^2_cr = 0.461 \n",
      "Отклоняем гипотезу f(x) ~  Norm\n",
      "ω^2 = 0.1774 ≤ ω^2_cr = 0.461 \n",
      "Принимаем гипотезу f(x) ~  Exp с доверительной вероятностью  0.95\n",
      "ω^2 = 1.3955 > ω^2_cr = 0.461 \n",
      "Отклоняем гипотезу f(x) ~  R\n"
     ]
    }
   ],
   "source": [
    "target = 0.09\n",
    "beta = 1 / target\n",
    "x = np.random.exponential(beta, 20)\n",
    "kramer_test(x, 0.05)"
   ]
  },
  {
   "cell_type": "code",
   "execution_count": 95,
   "id": "536dcd68",
   "metadata": {},
   "outputs": [
    {
     "name": "stdout",
     "output_type": "stream",
     "text": [
      "ω^2 = 0.0446 ≤ ω^2_cr = 0.461 \n",
      "Принимаем гипотезу f(x) ~  Norm с доверительной вероятностью  0.95\n",
      "ω^2 = 0.6301 > ω^2_cr = 0.461 \n",
      "Отклоняем гипотезу f(x) ~  Exp\n",
      "ω^2 = 0.0307 ≤ ω^2_cr = 0.461 \n",
      "Принимаем гипотезу f(x) ~  R с доверительной вероятностью  0.95\n"
     ]
    }
   ],
   "source": [
    "x = stats.uniform.rvs(1, 5, 20)\n",
    "kramer_test(x, 0.05)"
   ]
  },
  {
   "cell_type": "code",
   "execution_count": 96,
   "id": "a84a63ec",
   "metadata": {},
   "outputs": [
    {
     "data": {
      "text/plain": [
       "0.23380903889000243"
      ]
     },
     "execution_count": 96,
     "metadata": {},
     "output_type": "execute_result"
    }
   ],
   "source": [
    "(0.0505 + 1/240) ** (1 / 2)"
   ]
  },
  {
   "cell_type": "code",
   "execution_count": 100,
   "id": "131a434c",
   "metadata": {},
   "outputs": [],
   "source": [
    "def kramer_test_adj(x, alpha):\n",
    "    types = ['Norm', 'Exp', 'R']\n",
    "    n = len(x)\n",
    "    w_n, w_e, w_p = kramer_test(x, alpha, 'for_adj')\n",
    "    w = [(1 / (12 * n) + w_n) ** (1 / 2), (1 / (12 * n) + w_e) ** (1 / 2), (1 / (12 * n) + w_p) ** (1 / 2)]\n",
    "    w_cr = w_adj_table[w_adj_table.p == 1 - alpha].values[0, 1]\n",
    "    for i in range(3):\n",
    "        if w[i] <= w_cr:\n",
    "            print('G =', round(w[i], 4), '≤ G_cr =', round(w_cr, 4) ,'\\nПринимаем гипотезу f(x) ~', types[i], 'с доверительной вероятностью ', 1 - alpha)\n",
    "        else:\n",
    "            print('G =', round(w[i], 4), '> G_cr =', round(w_cr, 4) ,'\\nОтклоняем гипотезу f(x) ~', types[i])"
   ]
  },
  {
   "cell_type": "code",
   "execution_count": 101,
   "id": "012fce73",
   "metadata": {},
   "outputs": [
    {
     "name": "stdout",
     "output_type": "stream",
     "text": [
      "G = 0.2337 ≤ G_cr = 0.348 \n",
      "Принимаем гипотезу f(x) ~ Norm с доверительной вероятностью  0.95\n",
      "G = 0.7285 > G_cr = 0.348 \n",
      "Отклоняем гипотезу f(x) ~ Exp\n",
      "G = 0.2659 ≤ G_cr = 0.348 \n",
      "Принимаем гипотезу f(x) ~ R с доверительной вероятностью  0.95\n"
     ]
    }
   ],
   "source": [
    "x = np.array([7.3, 10.9, 3.4, 14.4, 12.2, 12.6, 13.7, 10.1, 15.6, 4.7,\n",
    "           17.2, 1.6, 9.2, 6.3, 11.8, 12.7, 10.6, 11.3, 2.7, 7.8])\n",
    "kramer_test_adj(x, 0.05)"
   ]
  },
  {
   "cell_type": "code",
   "execution_count": 105,
   "id": "6eafc78a",
   "metadata": {},
   "outputs": [
    {
     "name": "stdout",
     "output_type": "stream",
     "text": [
      "G = 0.252 ≤ G_cr = 0.348 \n",
      "Принимаем гипотезу f(x) ~ Norm с доверительной вероятностью  0.95\n",
      "G = 0.8783 > G_cr = 0.348 \n",
      "Отклоняем гипотезу f(x) ~ Exp\n",
      "G = 0.3652 > G_cr = 0.348 \n",
      "Отклоняем гипотезу f(x) ~ R\n"
     ]
    }
   ],
   "source": [
    "x = stats.norm.rvs(5, 2, 20)\n",
    "kramer_test_adj(x, 0.05)"
   ]
  },
  {
   "cell_type": "code",
   "execution_count": 106,
   "id": "c28bab85",
   "metadata": {},
   "outputs": [
    {
     "name": "stdout",
     "output_type": "stream",
     "text": [
      "G = 0.4356 > G_cr = 0.348 \n",
      "Отклоняем гипотезу f(x) ~ Norm\n",
      "G = 0.1981 ≤ G_cr = 0.348 \n",
      "Принимаем гипотезу f(x) ~ Exp с доверительной вероятностью  0.95\n",
      "G = 0.5813 > G_cr = 0.348 \n",
      "Отклоняем гипотезу f(x) ~ R\n"
     ]
    }
   ],
   "source": [
    "target = 0.09\n",
    "beta = 1 / target\n",
    "x = np.random.exponential(beta, 20)\n",
    "kramer_test_adj(x, 0.05)"
   ]
  },
  {
   "cell_type": "code",
   "execution_count": 114,
   "id": "813c61b3",
   "metadata": {},
   "outputs": [
    {
     "name": "stdout",
     "output_type": "stream",
     "text": [
      "G = 0.3519 > G_cr = 0.348 \n",
      "Отклоняем гипотезу f(x) ~ Norm\n",
      "G = 0.7925 > G_cr = 0.348 \n",
      "Отклоняем гипотезу f(x) ~ Exp\n",
      "G = 0.241 ≤ G_cr = 0.348 \n",
      "Принимаем гипотезу f(x) ~ R с доверительной вероятностью  0.95\n"
     ]
    }
   ],
   "source": [
    "x = stats.uniform.rvs(1, 5, 20)\n",
    "kramer_test_adj(x, 0.05)"
   ]
  },
  {
   "cell_type": "markdown",
   "id": "87181f7d",
   "metadata": {},
   "source": [
    "# Дисперсионный анализ"
   ]
  },
  {
   "cell_type": "markdown",
   "id": "4d79ffc0",
   "metadata": {},
   "source": [
    "# Однофакторный"
   ]
  },
  {
   "cell_type": "code",
   "execution_count": 115,
   "id": "b881cd82",
   "metadata": {},
   "outputs": [],
   "source": [
    "def one_way_anova(df, group):\n",
    "    \"\"\"\n",
    "    Аргументы: df - выборка, имеющая разделение на группы, \n",
    "    group - столбец, определяющий группу\n",
    "    \n",
    "    Производится сравнение нескольких групп между собой.\n",
    "    H0 - средние в группах не отличаются\n",
    "    H1 - хотя бы одно среднее значительно отличается\n",
    "    \n",
    "    Вывод: f-value, p-value(т.е. P(>f))\n",
    "    \"\"\"\n",
    "    df_bg = len(df[group].unique()) - 1\n",
    "    df_wg = len(df[group]) - df_bg - 1\n",
    "\n",
    "        # Вычисляем размеры и количество групп\n",
    "    group_sizes = []\n",
    "    groups = df[group].unique()\n",
    "    for gr in groups:\n",
    "        group_sizes.append(df[df[group] == gr])\n",
    "    for gr in group_sizes:\n",
    "        gr.index = range(0, len(gr))\n",
    "    means = []\n",
    "    for gr in group_sizes:\n",
    "        means.append(gr.mean())\n",
    "    average = sum(means) / len(means)\n",
    "    ssb = 0\n",
    "    for i in range(len(means)):\n",
    "        ssb += (means[i].value - average) ** 2 * len(group_sizes[i])\n",
    "    ms_bg = ssb / df_bg\n",
    "    ssw = 0\n",
    "    for i in range(len(group_sizes)):\n",
    "        for j in range(len(group_sizes[i])):\n",
    "            ssw += (group_sizes[i].value[j] - means[i]) ** 2\n",
    "    ms_wg = ssw / df_wg\n",
    "    f_value = ms_bg / ms_wg\n",
    "    p_value = round(1 - stats.f.cdf(f_value, df_bg, df_wg)[0], 5)\n",
    "    return f_value, p_value"
   ]
  },
  {
   "cell_type": "code",
   "execution_count": 116,
   "id": "853638e5",
   "metadata": {},
   "outputs": [],
   "source": [
    "df_a = pd.DataFrame(stats.norm(loc=99.7, scale=4.1).rvs(size=15), columns=['value'])\n",
    "df_a['group'] = 'a'\n",
    "df_b = pd.DataFrame(stats.norm(loc=98.8, scale=5.8).rvs(size=15), columns=['value'])\n",
    "df_b['group'] = 'b'\n",
    "df_c = pd.DataFrame(stats.norm(loc=94.4, scale=5.1).rvs(size=15), columns=['value'])\n",
    "df_c['group'] = 'c'\n",
    "df_d = pd.DataFrame(stats.norm(loc=92.3, scale=3.8).rvs(size=15), columns=['value'])\n",
    "df_d['group'] = 'd'\n",
    "df = pd.concat([df_a, df_b, df_c, df_d], ignore_index=True)"
   ]
  },
  {
   "cell_type": "code",
   "execution_count": 117,
   "id": "e9655863",
   "metadata": {},
   "outputs": [
    {
     "data": {
      "text/plain": [
       "(value    6.563127\n",
       " dtype: float64,\n",
       " 0.0007)"
      ]
     },
     "execution_count": 117,
     "metadata": {},
     "output_type": "execute_result"
    }
   ],
   "source": [
    "one_way_anova(df, 'group')"
   ]
  },
  {
   "cell_type": "code",
   "execution_count": null,
   "id": "c152017f",
   "metadata": {},
   "outputs": [],
   "source": []
  }
 ],
 "metadata": {
  "kernelspec": {
   "display_name": "Python 3",
   "language": "python",
   "name": "python3"
  },
  "language_info": {
   "codemirror_mode": {
    "name": "ipython",
    "version": 3
   },
   "file_extension": ".py",
   "mimetype": "text/x-python",
   "name": "python",
   "nbconvert_exporter": "python",
   "pygments_lexer": "ipython3",
   "version": "3.8.8"
  }
 },
 "nbformat": 4,
 "nbformat_minor": 5
}
