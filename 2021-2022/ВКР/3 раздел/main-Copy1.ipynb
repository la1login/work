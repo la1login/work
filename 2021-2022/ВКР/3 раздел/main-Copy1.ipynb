{
 "cells": [
  {
   "cell_type": "code",
   "execution_count": 2,
   "id": "5d56c1f1",
   "metadata": {},
   "outputs": [],
   "source": [
    "import pandas as pd\n",
    "import numpy as np\n",
    "import seaborn as sns\n",
    "import matplotlib.pyplot as plt\n",
    "import math\n",
    "from scipy import stats, integrate"
   ]
  },
  {
   "cell_type": "code",
   "execution_count": 6,
   "id": "6d7eebf7",
   "metadata": {},
   "outputs": [],
   "source": [
    "df = pd.read_csv('customers.csv')"
   ]
  },
  {
   "cell_type": "code",
   "execution_count": 7,
   "id": "bb4112aa",
   "metadata": {},
   "outputs": [
    {
     "data": {
      "text/html": [
       "<div>\n",
       "<style scoped>\n",
       "    .dataframe tbody tr th:only-of-type {\n",
       "        vertical-align: middle;\n",
       "    }\n",
       "\n",
       "    .dataframe tbody tr th {\n",
       "        vertical-align: top;\n",
       "    }\n",
       "\n",
       "    .dataframe thead th {\n",
       "        text-align: right;\n",
       "    }\n",
       "</style>\n",
       "<table border=\"1\" class=\"dataframe\">\n",
       "  <thead>\n",
       "    <tr style=\"text-align: right;\">\n",
       "      <th></th>\n",
       "      <th>CustomerID</th>\n",
       "      <th>Gender</th>\n",
       "      <th>Age</th>\n",
       "      <th>Annual Income (k$)</th>\n",
       "      <th>Spending Score (1-100)</th>\n",
       "    </tr>\n",
       "  </thead>\n",
       "  <tbody>\n",
       "    <tr>\n",
       "      <th>0</th>\n",
       "      <td>1</td>\n",
       "      <td>Male</td>\n",
       "      <td>19</td>\n",
       "      <td>15</td>\n",
       "      <td>39</td>\n",
       "    </tr>\n",
       "    <tr>\n",
       "      <th>1</th>\n",
       "      <td>2</td>\n",
       "      <td>Male</td>\n",
       "      <td>21</td>\n",
       "      <td>15</td>\n",
       "      <td>81</td>\n",
       "    </tr>\n",
       "    <tr>\n",
       "      <th>2</th>\n",
       "      <td>3</td>\n",
       "      <td>Female</td>\n",
       "      <td>20</td>\n",
       "      <td>16</td>\n",
       "      <td>6</td>\n",
       "    </tr>\n",
       "    <tr>\n",
       "      <th>3</th>\n",
       "      <td>4</td>\n",
       "      <td>Female</td>\n",
       "      <td>23</td>\n",
       "      <td>16</td>\n",
       "      <td>77</td>\n",
       "    </tr>\n",
       "    <tr>\n",
       "      <th>4</th>\n",
       "      <td>5</td>\n",
       "      <td>Female</td>\n",
       "      <td>31</td>\n",
       "      <td>17</td>\n",
       "      <td>40</td>\n",
       "    </tr>\n",
       "    <tr>\n",
       "      <th>...</th>\n",
       "      <td>...</td>\n",
       "      <td>...</td>\n",
       "      <td>...</td>\n",
       "      <td>...</td>\n",
       "      <td>...</td>\n",
       "    </tr>\n",
       "    <tr>\n",
       "      <th>195</th>\n",
       "      <td>196</td>\n",
       "      <td>Female</td>\n",
       "      <td>35</td>\n",
       "      <td>120</td>\n",
       "      <td>79</td>\n",
       "    </tr>\n",
       "    <tr>\n",
       "      <th>196</th>\n",
       "      <td>197</td>\n",
       "      <td>Female</td>\n",
       "      <td>45</td>\n",
       "      <td>126</td>\n",
       "      <td>28</td>\n",
       "    </tr>\n",
       "    <tr>\n",
       "      <th>197</th>\n",
       "      <td>198</td>\n",
       "      <td>Male</td>\n",
       "      <td>32</td>\n",
       "      <td>126</td>\n",
       "      <td>74</td>\n",
       "    </tr>\n",
       "    <tr>\n",
       "      <th>198</th>\n",
       "      <td>199</td>\n",
       "      <td>Male</td>\n",
       "      <td>32</td>\n",
       "      <td>137</td>\n",
       "      <td>18</td>\n",
       "    </tr>\n",
       "    <tr>\n",
       "      <th>199</th>\n",
       "      <td>200</td>\n",
       "      <td>Male</td>\n",
       "      <td>30</td>\n",
       "      <td>137</td>\n",
       "      <td>83</td>\n",
       "    </tr>\n",
       "  </tbody>\n",
       "</table>\n",
       "<p>200 rows × 5 columns</p>\n",
       "</div>"
      ],
      "text/plain": [
       "     CustomerID  Gender  Age  Annual Income (k$)  Spending Score (1-100)\n",
       "0             1    Male   19                  15                      39\n",
       "1             2    Male   21                  15                      81\n",
       "2             3  Female   20                  16                       6\n",
       "3             4  Female   23                  16                      77\n",
       "4             5  Female   31                  17                      40\n",
       "..          ...     ...  ...                 ...                     ...\n",
       "195         196  Female   35                 120                      79\n",
       "196         197  Female   45                 126                      28\n",
       "197         198    Male   32                 126                      74\n",
       "198         199    Male   32                 137                      18\n",
       "199         200    Male   30                 137                      83\n",
       "\n",
       "[200 rows x 5 columns]"
      ]
     },
     "execution_count": 7,
     "metadata": {},
     "output_type": "execute_result"
    }
   ],
   "source": [
    "df"
   ]
  },
  {
   "cell_type": "markdown",
   "id": "2ff757eb",
   "metadata": {},
   "source": [
    "# Метод максимального правдоподобия"
   ]
  },
  {
   "cell_type": "markdown",
   "id": "cc395ac5",
   "metadata": {},
   "source": [
    "## Norm одна для всех"
   ]
  },
  {
   "cell_type": "code",
   "execution_count": 4,
   "id": "4fd2336f",
   "metadata": {},
   "outputs": [],
   "source": [
    "def pe_norm(x, version):\n",
    "    \"\"\"\n",
    "    Функция использует входящую выборку в виде списка или массива numpy\n",
    "    Выбор версии определяет возвращаемые функцией значения\n",
    "    Т.к. в работе были получены одни и те же зависимости для ТО МО нормальнго\n",
    "    распределения по ММП, ММ, МНК, то используем одну функцию\n",
    "    \"\"\"\n",
    "    m = (1/len(x)) * sum(x)\n",
    "    sum_sq = 0\n",
    "    for i in x:\n",
    "        sum_sq += (i - m) ** 2\n",
    "    d_adj = sum_sq / (len(x) - 1)\n",
    "    sigma_m = d_adj / len(x)\n",
    "    sigma_d = 2 * ((d_adj) ** 2) / len(x)\n",
    "    if version == 'both':\n",
    "        return m, d_adj, sigma_m, sigma_d\n",
    "    elif version == 'm_full':\n",
    "        return m, sigma_m\n",
    "    elif version == 'd_full':\n",
    "        return d_adj, sigma_d\n",
    "    elif version == 'm':\n",
    "        return m\n",
    "    elif version == 'd':\n",
    "        return d_adj\n",
    "    elif version == 'm_d':\n",
    "        return m, d_adj"
   ]
  },
  {
   "cell_type": "code",
   "execution_count": 96,
   "id": "d71f2597",
   "metadata": {},
   "outputs": [
    {
     "name": "stdout",
     "output_type": "stream",
     "text": [
      "Точечная оценка первой группы:  200.43184811054587\n",
      "Точечная оценка второй группы:  190.86126900253166\n",
      "Точечная оценка третьей группы:  211.1104224019011\n",
      "\n",
      "Первая группа:\n",
      "Доверительный интервал с вероятностью  0.95  для МО: [ 194.9427 ; 205.921 ]\n",
      "(194.942659340171, 205.92103688092075)\n",
      "Вторая группа:\n",
      "Доверительный интервал с вероятностью  0.95  для МО: [ 186.8894 ; 194.8331 ]\n",
      "(186.88939707247286, 194.83314093259045)\n",
      "Третья группа:\n",
      "Доверительный интервал с вероятностью  0.95  для МО: [ 202.9462 ; 219.2747 ]\n",
      "(202.94616971472226, 219.27467508907995)\n",
      "\n",
      "Наиболее точные значения после теста гипотез:\n",
      "Первая группа\n",
      "z = 0.4731 ≤ z_cr = 1.6766 \n",
      "Принимаем гипотезу МО = 199.65 с доверительной вероятностью  0.95\n",
      "Вторая группа\n",
      "z = -0.6891 ≤ z_cr = 1.6766 \n",
      "Принимаем гипотезу МО = 191.83 с доверительной вероятностью  0.95\n",
      "Третья группа\n",
      "z = 0.6601 ≤ z_cr = 1.6766 \n",
      "Принимаем гипотезу МО = 209.78 с доверительной вероятностью  0.95\n",
      "\n",
      "G = 0.1855 ≤ G_cr = 0.348 \n",
      "Принимаем гипотезу f(x) ~ Norm с доверительной вероятностью  0.95\n",
      "G = 2.1101 > G_cr = 0.348 \n",
      "Отклоняем гипотезу f(x) ~ Exp\n",
      "G = 0.3902 > G_cr = 0.348 \n",
      "Отклоняем гипотезу f(x) ~ R\n",
      "G = 0.3001 ≤ G_cr = 0.348 \n",
      "Принимаем гипотезу f(x) ~ Norm с доверительной вероятностью  0.95\n",
      "G = 2.1268 > G_cr = 0.348 \n",
      "Отклоняем гипотезу f(x) ~ Exp\n",
      "G = 0.4822 > G_cr = 0.348 \n",
      "Отклоняем гипотезу f(x) ~ R\n",
      "G = 0.1823 ≤ G_cr = 0.348 \n",
      "Принимаем гипотезу f(x) ~ Norm с доверительной вероятностью  0.95\n",
      "G = 2.0879 > G_cr = 0.348 \n",
      "Отклоняем гипотезу f(x) ~ Exp\n",
      "G = 0.363 > G_cr = 0.348 \n",
      "Отклоняем гипотезу f(x) ~ R\n"
     ]
    }
   ],
   "source": [
    "x = stats.norm.rvs(loc=200, scale=15, size=50)\n",
    "y = stats.norm.rvs(loc=190, scale=10, size=50)\n",
    "z = stats.norm.rvs(loc=210, scale=13, size=50)\n",
    "print('Точечная оценка первой группы: ', pe_norm(x, 'm'))\n",
    "print('Точечная оценка второй группы: ', pe_norm(y, 'm'))\n",
    "print('Точечная оценка третьей группы: ', pe_norm(z, 'm'))\n",
    "print('')\n",
    "print('Первая группа:')\n",
    "print(ie_m_norm(x, 0.95))\n",
    "print('Вторая группа:')\n",
    "print(ie_m_norm(y, 0.95))\n",
    "print('Третья группа:')\n",
    "print(ie_m_norm(z, 0.95))\n",
    "print('')\n",
    "print('Наиболее точные значения после теста гипотез:')\n",
    "print('Первая группа')\n",
    "hypothesis_mo(x, 0.05, 199.65)\n",
    "print('Вторая группа')\n",
    "hypothesis_mo(y, 0.05, 191.83)\n",
    "print('Третья группа')\n",
    "hypothesis_mo(z, 0.05, 209.78)\n",
    "print('')\n",
    "kramer_test_adj(x, 0.05)\n",
    "kramer_test_adj(y, 0.05)\n",
    "kramer_test_adj(z, 0.05)\n"
   ]
  },
  {
   "cell_type": "code",
   "execution_count": 97,
   "id": "e2dd11f6",
   "metadata": {},
   "outputs": [
    {
     "data": {
      "text/plain": [
       "array([197.1040598 , 202.89863923, 223.41818534, 187.75844544,\n",
       "       186.29825922, 181.48881097, 175.30221984, 186.07227578,\n",
       "       185.38866334, 197.59829935, 206.78693435, 201.77340556,\n",
       "       210.10943232, 201.42923901, 189.97516605, 201.89557581,\n",
       "       200.39682098, 199.7917324 , 190.2666339 , 198.46869322,\n",
       "       192.61229666, 200.81304108, 212.44467481, 201.7197495 ,\n",
       "       209.71098148, 183.17614446, 202.03860627, 190.3854675 ,\n",
       "       210.5249711 , 181.3062464 , 213.7068835 , 209.0637023 ,\n",
       "       191.12775173, 197.94804132, 183.90137128, 215.94761922,\n",
       "       192.20353038, 208.9742333 , 188.94770694, 207.92993281,\n",
       "       205.0238567 , 210.01656156, 203.61054776, 174.39529267,\n",
       "       217.23074575, 211.18672036, 191.85770885, 192.73533675,\n",
       "       186.74504135, 204.11792718, 193.37033857, 208.47487923,\n",
       "       210.62650643, 198.88086577, 210.88168547, 200.36116237,\n",
       "       181.62986219, 213.33173266, 187.31064047, 201.84289436,\n",
       "       202.21349977, 211.54135869, 199.05868024, 204.63139371,\n",
       "       202.86498316, 197.8761312 , 199.15631834, 210.08131075,\n",
       "       200.57394037, 185.18926551, 210.31287319, 192.78982398,\n",
       "       198.33721773, 218.39515475, 188.19152535, 177.65351417,\n",
       "       189.55232852, 196.66084033, 206.99672588, 189.51034504,\n",
       "       199.36504543, 200.34378568, 199.13581286, 185.29005625,\n",
       "       193.41019441, 183.83204606, 204.82507179, 220.66157357,\n",
       "       209.22401872, 210.0246084 , 197.52682157, 210.48724963,\n",
       "       211.90112408, 216.47435981, 197.02682667, 207.00454325,\n",
       "       208.70387985, 195.49216967, 214.01981417, 205.88777488,\n",
       "       197.41081311, 182.56056447, 216.07040973, 206.64033473,\n",
       "       201.07149617, 198.83655669, 197.65127076, 192.69812824,\n",
       "       189.05506572, 196.53331168, 201.45856807, 184.73967737,\n",
       "       190.25456363, 184.65062213, 198.81002578, 193.78165724,\n",
       "       195.40484941, 198.5661162 , 201.83375236, 194.97107141,\n",
       "       209.38545413, 197.60021673, 202.70351298, 203.13425412,\n",
       "       187.31840234, 192.62447787, 188.08141898, 189.99981603,\n",
       "       209.84970399, 195.20152588, 199.81710127, 213.02366591,\n",
       "       190.600257  , 212.26521191, 208.56863576, 199.47831489,\n",
       "       191.44524454, 196.64147064, 204.76965666, 198.65493891,\n",
       "       199.69348041, 202.78590578, 203.42038115, 214.03801745,\n",
       "       189.42669671, 194.47989855, 205.23697417, 204.63143141,\n",
       "       215.36480387, 200.34860209])"
      ]
     },
     "execution_count": 97,
     "metadata": {},
     "output_type": "execute_result"
    }
   ],
   "source": [
    "x = stats.norm.rvs(loc=200, scale=10, size=150)\n",
    "x"
   ]
  },
  {
   "cell_type": "code",
   "execution_count": 101,
   "id": "2ef9bb27",
   "metadata": {},
   "outputs": [],
   "source": [
    "import random\n",
    "y = []\n",
    "for i in x:\n",
    "    if ((i > 170) & (i <= 180)):\n",
    "        y.append(random.uniform(15, 20))\n",
    "    elif ((i > 180) & (i <= 190)):\n",
    "        y.append(random.uniform(18, 24))\n",
    "    elif ((i > 190) & (i <= 200)):\n",
    "        y.append(random.uniform(17, 29))\n",
    "    elif ((i > 200) & (i <= 210)):\n",
    "        y.append(random.uniform(25, 38))\n",
    "    elif (i > 210):\n",
    "        y.append(random.uniform(25, 45))"
   ]
  },
  {
   "cell_type": "code",
   "execution_count": 102,
   "id": "8134f231",
   "metadata": {},
   "outputs": [
    {
     "data": {
      "text/plain": [
       "[25.583671723730344,\n",
       " 25.662884820504008,\n",
       " 25.191198174232316,\n",
       " 18.527912030402543,\n",
       " 22.435282936270085,\n",
       " 22.79206190687176,\n",
       " 16.060969188914598,\n",
       " 20.701805842142324,\n",
       " 21.318281074740977,\n",
       " 21.666416617453784,\n",
       " 31.08509251330532,\n",
       " 30.00904966205296,\n",
       " 25.561916344307157,\n",
       " 37.36905480478033,\n",
       " 23.26680275981924,\n",
       " 34.61252156828775,\n",
       " 33.97035596237741,\n",
       " 26.046107483557485,\n",
       " 22.842916769339137,\n",
       " 20.102369272898564,\n",
       " 19.154418718983983,\n",
       " 32.008079714247295,\n",
       " 34.77381737054607,\n",
       " 34.283172683192525,\n",
       " 30.80661854001636,\n",
       " 23.823397868473965,\n",
       " 29.86884415666895,\n",
       " 28.685456627633386,\n",
       " 34.75760272477113,\n",
       " 18.946161627886287,\n",
       " 41.3869203348173,\n",
       " 28.65216910795047,\n",
       " 24.04360681342677,\n",
       " 22.57161725974585,\n",
       " 21.701162345923613,\n",
       " 26.419864230533697,\n",
       " 27.178310875969835,\n",
       " 35.31797415898686,\n",
       " 18.607961164245747,\n",
       " 26.59631214408969,\n",
       " 32.28358311130775,\n",
       " 44.95110095787524,\n",
       " 25.28670629332267,\n",
       " 18.71649152353282,\n",
       " 35.85607976588928,\n",
       " 42.09587537700608,\n",
       " 26.5955639226179,\n",
       " 25.307835626874198,\n",
       " 23.878705934507362,\n",
       " 37.49696210283335,\n",
       " 21.63728692292426,\n",
       " 35.94878854332643,\n",
       " 35.342630154481796,\n",
       " 23.606002423563577,\n",
       " 40.40793782231049,\n",
       " 27.591844128102867,\n",
       " 18.8242050379369,\n",
       " 25.029942262480823,\n",
       " 22.69697669641112,\n",
       " 26.389347192465404,\n",
       " 32.5278250496465,\n",
       " 39.65959034575392,\n",
       " 18.179791393143457,\n",
       " 36.91324666454635,\n",
       " 37.29104565454203,\n",
       " 25.723501849206343,\n",
       " 26.478572723216566,\n",
       " 36.90773601211626,\n",
       " 31.251920303944118,\n",
       " 23.622286074555152,\n",
       " 43.81380317553845,\n",
       " 19.537234397023717,\n",
       " 23.44092534362164,\n",
       " 29.495954349135694,\n",
       " 22.840580094064407,\n",
       " 15.569382976963668,\n",
       " 22.57424269285608,\n",
       " 18.75934802996529,\n",
       " 32.71733684071509,\n",
       " 23.910693492033758,\n",
       " 18.615050321034666,\n",
       " 33.39665676566245,\n",
       " 23.234472090127042,\n",
       " 22.742364383249356,\n",
       " 25.989129723404716,\n",
       " 23.39527890133992,\n",
       " 33.89075535500804,\n",
       " 26.72587253309762,\n",
       " 29.2543387906627,\n",
       " 40.22504767401715,\n",
       " 24.361876889023673,\n",
       " 43.64605701497297,\n",
       " 38.220817254463185,\n",
       " 26.57719452213798,\n",
       " 23.45556392286387,\n",
       " 29.250376541282474,\n",
       " 29.60641514966343,\n",
       " 25.51251886238542,\n",
       " 28.600065216164296,\n",
       " 27.76495169269013,\n",
       " 27.94567713501761,\n",
       " 18.14019648875958,\n",
       " 27.273550491405494,\n",
       " 37.310469596772265,\n",
       " 34.672821779083066,\n",
       " 23.749784106756298,\n",
       " 21.884708216532477,\n",
       " 28.07364810273765,\n",
       " 21.308541817817385,\n",
       " 20.869922195593848,\n",
       " 35.591601944216606,\n",
       " 21.269079960764422,\n",
       " 20.34077864953188,\n",
       " 19.25500070178005,\n",
       " 18.696263509491917,\n",
       " 22.074981741700764,\n",
       " 20.75010831807594,\n",
       " 18.999056990728665,\n",
       " 32.37670910223135,\n",
       " 17.122826664825013,\n",
       " 36.88599407903019,\n",
       " 27.488773625975494,\n",
       " 25.303031782939918,\n",
       " 36.806546498543845,\n",
       " 21.809992748857944,\n",
       " 27.737521361843726,\n",
       " 22.990078905041862,\n",
       " 22.47914457216964,\n",
       " 25.675124782226945,\n",
       " 28.488690334672754,\n",
       " 28.748456128204886,\n",
       " 27.734529073813874,\n",
       " 17.543149556903217,\n",
       " 31.81792707812249,\n",
       " 27.912025048250644,\n",
       " 24.803040758660092,\n",
       " 24.797183259606705,\n",
       " 19.79657211721412,\n",
       " 28.515235974682486,\n",
       " 26.879313526648247,\n",
       " 18.730990361753218,\n",
       " 36.19350699197692,\n",
       " 30.097472030288635,\n",
       " 34.136643301078344,\n",
       " 23.815102559772708,\n",
       " 18.655307827039355,\n",
       " 36.85447342455712,\n",
       " 34.27335395294451,\n",
       " 31.7470347227452,\n",
       " 25.02879949855381]"
      ]
     },
     "execution_count": 102,
     "metadata": {},
     "output_type": "execute_result"
    }
   ],
   "source": [
    "y"
   ]
  },
  {
   "cell_type": "code",
   "execution_count": 117,
   "id": "d5c3ff05",
   "metadata": {},
   "outputs": [
    {
     "data": {
      "image/png": "[encoded data removed]",
      "text/plain": [
       "<Figure size 432x288 with 1 Axes>"
      ]
     },
     "metadata": {
      "needs_background": "light"
     },
     "output_type": "display_data"
    }
   ],
   "source": [
    "plt.scatter(x, y)\n",
    "plt.ylabel('Рекламные переходы')\n",
    "plt.xlabel('Средний ежедневный онлайн')\n",
    "plt.title('Проверка зависимости рекламных кликов от онлайна на линейность')\n",
    "plt.savefig('one.png', dpi=400, bbox_inches='tight')\n",
    "plt.show()"
   ]
  },
  {
   "cell_type": "code",
   "execution_count": 145,
   "id": "b48b8f0f",
   "metadata": {},
   "outputs": [
    {
     "data": {
      "text/plain": [
       "[43.985102317165506,\n",
       " 24.40850159713179,\n",
       " 26.106340333890962,\n",
       " 29.796515058585726,\n",
       " 30.550908756001682,\n",
       " 43.77214980766216,\n",
       " 30.05159955046096,\n",
       " 36.05885221585401,\n",
       " 34.50326521179181,\n",
       " 32.92172241900354,\n",
       " 55.15801096936636,\n",
       " 50.46641356474797,\n",
       " 48.976049643483364,\n",
       " 66.59394113945613,\n",
       " 40.57050243708869,\n",
       " 62.457419845338705,\n",
       " 44.78519376838849,\n",
       " 35.32191858488064,\n",
       " 31.454295975052815,\n",
       " 38.183583044439054,\n",
       " 31.742914966209575,\n",
       " 40.622934882034166,\n",
       " 43.144601351499624,\n",
       " 42.599494261469445,\n",
       " 33.242586822294136,\n",
       " 40.40150350393105,\n",
       " 31.29001044605252,\n",
       " 43.64785283085844,\n",
       " 56.23422161193572,\n",
       " 33.44978656313729,\n",
       " 53.83403856480877,\n",
       " 42.89113629649502,\n",
       " 40.53512236178057,\n",
       " 36.38915613523168,\n",
       " 33.15489971848512,\n",
       " 47.698605209088264,\n",
       " 31.48060312650683,\n",
       " 60.45302285971144,\n",
       " 33.22308768885763,\n",
       " 47.45371788840217,\n",
       " 33.06895096571347,\n",
       " 46.330953664280564,\n",
       " 29.039663594264496,\n",
       " 29.912327855325163,\n",
       " 62.8805117382004,\n",
       " 66.3104833474072,\n",
       " 30.824503867336237,\n",
       " 23.97593185125253,\n",
       " 33.12594220992969,\n",
       " 63.747325733922764,\n",
       " 30.840982644945264,\n",
       " 46.67724038238513,\n",
       " 65.5400990620689,\n",
       " 25.361340599809086,\n",
       " 56.35248749153757,\n",
       " 44.57625849599708,\n",
       " 25.216450558695183,\n",
       " 36.06986215110037,\n",
       " 48.34158649381461,\n",
       " 23.156841175353694,\n",
       " 64.23772674815454,\n",
       " 48.945027697746276,\n",
       " 31.756864645796952,\n",
       " 47.25533224127564,\n",
       " 39.54302279337047,\n",
       " 36.89947562486644,\n",
       " 40.01849691842766,\n",
       " 67.42655330244645,\n",
       " 31.680232896166117,\n",
       " 25.122049395112477,\n",
       " 40.17140056250817,\n",
       " 26.777893789932676,\n",
       " 40.485247568805775,\n",
       " 28.906054363076596,\n",
       " 37.79878320918373,\n",
       " 25.881307013951446,\n",
       " 32.66358110420149,\n",
       " 33.9620185999995,\n",
       " 67.7962527103636,\n",
       " 32.4403390264787,\n",
       " 25.96683778696707,\n",
       " 56.787094944028944,\n",
       " 33.14474851036827,\n",
       " 31.903296304914548,\n",
       " 31.397192719403407,\n",
       " 24.26887428244519,\n",
       " 66.00860178211862,\n",
       " 48.24176653064718,\n",
       " 25.12550638991243,\n",
       " 65.52393308651733,\n",
       " 35.48653375989655,\n",
       " 65.10779910828435,\n",
       " 62.946006424719016,\n",
       " 31.28038454938803,\n",
       " 34.09888951558979,\n",
       " 52.531038112037635,\n",
       " 53.39418814366731,\n",
       " 44.23385812992612,\n",
       " 24.54355748358651,\n",
       " 32.359045211506,\n",
       " 33.63325007158732,\n",
       " 27.04088659409618,\n",
       " 43.81593717474898,\n",
       " 44.53017906451893,\n",
       " 56.58873287970114,\n",
       " 44.78777828607164,\n",
       " 48.491918422517614,\n",
       " 42.18089625110374,\n",
       " 31.00877355381413,\n",
       " 35.59150060751983,\n",
       " 62.68361835886023,\n",
       " 33.84151872116411,\n",
       " 42.655288846640524,\n",
       " 25.00600726008972,\n",
       " 31.81984260498165,\n",
       " 47.150258370435175,\n",
       " 36.79034620270552,\n",
       " 26.168721137307486,\n",
       " 66.3384900032467,\n",
       " 31.40723202197025,\n",
       " 64.59156210767352,\n",
       " 26.720803594031167,\n",
       " 43.2238175702288,\n",
       " 43.846870502627596,\n",
       " 33.59047010482214,\n",
       " 45.15866014712998,\n",
       " 31.573784926265724,\n",
       " 39.63664314749036,\n",
       " 46.48941422884391,\n",
       " 43.47588102623093,\n",
       " 50.19698942687406,\n",
       " 45.07876145128086,\n",
       " 26.957988964383468,\n",
       " 38.99139485392757,\n",
       " 36.19873232200567,\n",
       " 47.12284203723602,\n",
       " 26.46652710453238,\n",
       " 29.190620623627986,\n",
       " 55.516137122169596,\n",
       " 38.52694140745672,\n",
       " 32.45722284756739,\n",
       " 39.35900643630465,\n",
       " 42.28023129976198,\n",
       " 50.61463100652586,\n",
       " 41.34903711596494,\n",
       " 31.464952224665854,\n",
       " 50.16570032518051,\n",
       " 47.2175272464119,\n",
       " 25.859675900845048,\n",
       " 39.67063977668529]"
      ]
     },
     "execution_count": 145,
     "metadata": {},
     "output_type": "execute_result"
    }
   ],
   "source": [
    "z = []\n",
    "for i in y:\n",
    "    if (i <= 20):\n",
    "        z.append(random.uniform(25, 34))\n",
    "    elif ((i > 20) & (i <= 23)):\n",
    "        z.append(random.uniform(27, 49))\n",
    "    elif ((i > 23) & (i <= 28)):\n",
    "        z.append(random.uniform(23, 49))\n",
    "    elif ((i > 28) & (i <= 32)):\n",
    "        z.append(random.uniform(24, 58))\n",
    "    elif ((i > 32) & (i <= 34)):\n",
    "        z.append(random.uniform(33, 70))\n",
    "    elif (i > 34):\n",
    "        z.append(random.uniform(39, 68))\n",
    "z"
   ]
  },
  {
   "cell_type": "code",
   "execution_count": 146,
   "id": "5311aa10",
   "metadata": {},
   "outputs": [
    {
     "data": {
      "image/png": "[encoded data removed]",
      "text/plain": [
       "<Figure size 432x288 with 1 Axes>"
      ]
     },
     "metadata": {
      "needs_background": "light"
     },
     "output_type": "display_data"
    }
   ],
   "source": [
    "plt.scatter(z, y)\n",
    "plt.ylabel('Рекламные переходы')\n",
    "plt.xlabel('Проявления активности')\n",
    "plt.title('Проверка зависимости рекламных кликов от активных действий на линейность')\n",
    "plt.savefig('two.png', dpi=400, bbox_inches='tight')\n",
    "plt.show()"
   ]
  },
  {
   "cell_type": "code",
   "execution_count": 147,
   "id": "6e374985",
   "metadata": {},
   "outputs": [],
   "source": [
    "df = []\n",
    "for i in range(150):\n",
    "    df.append([x[i], z[i], y[i]])\n",
    "columns = ['online', 'activity', 'adv_click']\n",
    "df = pd.DataFrame(df, columns=columns)"
   ]
  },
  {
   "cell_type": "code",
   "execution_count": 148,
   "id": "fe08b9a6",
   "metadata": {},
   "outputs": [
    {
     "data": {
      "text/html": [
       "<div>\n",
       "<style scoped>\n",
       "    .dataframe tbody tr th:only-of-type {\n",
       "        vertical-align: middle;\n",
       "    }\n",
       "\n",
       "    .dataframe tbody tr th {\n",
       "        vertical-align: top;\n",
       "    }\n",
       "\n",
       "    .dataframe thead th {\n",
       "        text-align: right;\n",
       "    }\n",
       "</style>\n",
       "<table border=\"1\" class=\"dataframe\">\n",
       "  <thead>\n",
       "    <tr style=\"text-align: right;\">\n",
       "      <th></th>\n",
       "      <th>online</th>\n",
       "      <th>activity</th>\n",
       "      <th>adv_click</th>\n",
       "    </tr>\n",
       "  </thead>\n",
       "  <tbody>\n",
       "    <tr>\n",
       "      <th>0</th>\n",
       "      <td>197.104060</td>\n",
       "      <td>43.985102</td>\n",
       "      <td>25.583672</td>\n",
       "    </tr>\n",
       "    <tr>\n",
       "      <th>1</th>\n",
       "      <td>202.898639</td>\n",
       "      <td>24.408502</td>\n",
       "      <td>25.662885</td>\n",
       "    </tr>\n",
       "    <tr>\n",
       "      <th>2</th>\n",
       "      <td>223.418185</td>\n",
       "      <td>26.106340</td>\n",
       "      <td>25.191198</td>\n",
       "    </tr>\n",
       "    <tr>\n",
       "      <th>3</th>\n",
       "      <td>187.758445</td>\n",
       "      <td>29.796515</td>\n",
       "      <td>18.527912</td>\n",
       "    </tr>\n",
       "    <tr>\n",
       "      <th>4</th>\n",
       "      <td>186.298259</td>\n",
       "      <td>30.550909</td>\n",
       "      <td>22.435283</td>\n",
       "    </tr>\n",
       "    <tr>\n",
       "      <th>...</th>\n",
       "      <td>...</td>\n",
       "      <td>...</td>\n",
       "      <td>...</td>\n",
       "    </tr>\n",
       "    <tr>\n",
       "      <th>145</th>\n",
       "      <td>194.479899</td>\n",
       "      <td>31.464952</td>\n",
       "      <td>18.655308</td>\n",
       "    </tr>\n",
       "    <tr>\n",
       "      <th>146</th>\n",
       "      <td>205.236974</td>\n",
       "      <td>50.165700</td>\n",
       "      <td>36.854473</td>\n",
       "    </tr>\n",
       "    <tr>\n",
       "      <th>147</th>\n",
       "      <td>204.631431</td>\n",
       "      <td>47.217527</td>\n",
       "      <td>34.273354</td>\n",
       "    </tr>\n",
       "    <tr>\n",
       "      <th>148</th>\n",
       "      <td>215.364804</td>\n",
       "      <td>25.859676</td>\n",
       "      <td>31.747035</td>\n",
       "    </tr>\n",
       "    <tr>\n",
       "      <th>149</th>\n",
       "      <td>200.348602</td>\n",
       "      <td>39.670640</td>\n",
       "      <td>25.028799</td>\n",
       "    </tr>\n",
       "  </tbody>\n",
       "</table>\n",
       "<p>150 rows × 3 columns</p>\n",
       "</div>"
      ],
      "text/plain": [
       "         online   activity  adv_click\n",
       "0    197.104060  43.985102  25.583672\n",
       "1    202.898639  24.408502  25.662885\n",
       "2    223.418185  26.106340  25.191198\n",
       "3    187.758445  29.796515  18.527912\n",
       "4    186.298259  30.550909  22.435283\n",
       "..          ...        ...        ...\n",
       "145  194.479899  31.464952  18.655308\n",
       "146  205.236974  50.165700  36.854473\n",
       "147  204.631431  47.217527  34.273354\n",
       "148  215.364804  25.859676  31.747035\n",
       "149  200.348602  39.670640  25.028799\n",
       "\n",
       "[150 rows x 3 columns]"
      ]
     },
     "execution_count": 148,
     "metadata": {},
     "output_type": "execute_result"
    }
   ],
   "source": [
    "df"
   ]
  },
  {
   "cell_type": "code",
   "execution_count": 150,
   "id": "44f0f688",
   "metadata": {},
   "outputs": [
    {
     "data": {
      "image/png": "[encoded data removed]",
      "text/plain": [
       "<Figure size 432x288 with 2 Axes>"
      ]
     },
     "metadata": {
      "needs_background": "light"
     },
     "output_type": "display_data"
    }
   ],
   "source": [
    "sns.heatmap(df.corr(), annot=True)\n",
    "plt.title('Проверка на мультиколлинеарность')\n",
    "plt.savefig('corr_adv.png', dpi=400, bbox_inches='tight')\n"
   ]
  },
  {
   "cell_type": "code",
   "execution_count": 172,
   "id": "a8a1e086",
   "metadata": {},
   "outputs": [
    {
     "name": "stdout",
     "output_type": "stream",
     "text": [
      "y_model = -43.147 + (0.298online) + (0.27activity)\n",
      "F = 124.8279 > F_cr = 2.339 : passed\n",
      "R_2adj = 0.6267 : passed\n"
     ]
    }
   ],
   "source": [
    "model, group = mult_linregr(df, ['online', 'activity'], 'adv_click')\n",
    "aa = np.array(test_model(df, 'adv_click', model, group, 0.1))"
   ]
  },
  {
   "cell_type": "code",
   "execution_count": 180,
   "id": "20234a71",
   "metadata": {},
   "outputs": [
    {
     "name": "stdout",
     "output_type": "stream",
     "text": [
      "G = 0.2412 ≤ G_cr = 0.316 \n",
      "Принимаем гипотезу f(x) ~ Norm с доверительной вероятностью  0.9\n",
      "G = 3.6686 > G_cr = 0.316 \n",
      "Отклоняем гипотезу f(x) ~ Exp\n",
      "G = 0.4495 > G_cr = 0.316 \n",
      "Отклоняем гипотезу f(x) ~ R\n"
     ]
    }
   ],
   "source": [
    "aa = stats.norm.rvs(loc=200, scale=10, size=150)\n",
    "kramer_test_adj(aa, 0.1)"
   ]
  },
  {
   "cell_type": "code",
   "execution_count": 92,
   "id": "b9881185",
   "metadata": {},
   "outputs": [
    {
     "name": "stdout",
     "output_type": "stream",
     "text": [
      "F = 39.73852110377496 , p-value = 1.5987211554602254e-14\n"
     ]
    },
    {
     "data": {
      "text/plain": [
       "(39.73852110377496, 1.5987211554602254e-14)"
      ]
     },
     "execution_count": 92,
     "metadata": {},
     "output_type": "execute_result"
    },
    {
     "data": {
      "image/png": "[encoded data removed]",
      "text/plain": [
       "<Figure size 792x792 with 4 Axes>"
      ]
     },
     "metadata": {
      "needs_background": "light"
     },
     "output_type": "display_data"
    }
   ],
   "source": [
    "df = []\n",
    "for i in range(50):\n",
    "    df.append(['a', x[i]])\n",
    "for i in range(50):\n",
    "    df.append(['b', y[i]])\n",
    "for i in range(50):\n",
    "    df.append(['c', z[i]])\n",
    "columns = ['group', 'value']\n",
    "df = pd.DataFrame(df, columns=columns)\n",
    "one_way_anova(df, 'group', 'value')"
   ]
  },
  {
   "cell_type": "code",
   "execution_count": 80,
   "id": "d685d644",
   "metadata": {},
   "outputs": [
    {
     "data": {
      "text/plain": [
       "(1.4166961571964218, 7.949782646156178)"
      ]
     },
     "execution_count": 80,
     "metadata": {},
     "output_type": "execute_result"
    }
   ],
   "source": [
    "def pe_r_mmp(x):\n",
    "    \"\"\"\n",
    "    Оцениваем границы, на вход выборка в виде массива numpy или списка\n",
    "    Возвращаем оценки границ распределения\n",
    "    \"\"\"\n",
    "    a = x.min()\n",
    "    b = x.max()\n",
    "    return a, b\n",
    "x = stats.uniform.rvs(1, 7, 50)\n",
    "pe_r_mmp(x)"
   ]
  },
  {
   "cell_type": "code",
   "execution_count": 81,
   "id": "a43549d8",
   "metadata": {},
   "outputs": [
    {
     "data": {
      "text/plain": [
       "(1.0328853502486128, 7.990654625045259)"
      ]
     },
     "execution_count": 81,
     "metadata": {},
     "output_type": "execute_result"
    }
   ],
   "source": [
    "x = stats.uniform.rvs(1, 7, 50)\n",
    "pe_r_mmp(x)"
   ]
  },
  {
   "cell_type": "code",
   "execution_count": 367,
   "id": "5a00cfa4",
   "metadata": {},
   "outputs": [],
   "source": [
    "def pe_exp_mmp(x, T, n):\n",
    "    \"\"\"\n",
    "    Оцениваем параметр лямбда, на вход выборка значений не появившихся событий в виде массива numpy или списка,\n",
    "    период, количество не появившихся событий\n",
    "    Возвращаем оценки границ распределения\n",
    "    \"\"\"\n",
    "    s = sum(x) + n * T\n",
    "    pe_lambda = len(x) / s\n",
    "    sigma_l = pe_lambda ** 2 / len(x)\n",
    "    return pe_lambda, sigma_l"
   ]
  },
  {
   "cell_type": "code",
   "execution_count": 368,
   "id": "5e290769",
   "metadata": {},
   "outputs": [
    {
     "data": {
      "text/plain": [
       "(0.43907793633369924, 0.04819735854376501)"
      ]
     },
     "execution_count": 368,
     "metadata": {},
     "output_type": "execute_result"
    }
   ],
   "source": [
    "pe_exp_mmp([0.96, 0.8, 0.65, 0.7], 1, 6)"
   ]
  },
  {
   "cell_type": "markdown",
   "id": "9df8afd8",
   "metadata": {},
   "source": [
    "# Метод моментов"
   ]
  },
  {
   "cell_type": "code",
   "execution_count": 77,
   "id": "a1c06bb2",
   "metadata": {},
   "outputs": [
    {
     "data": {
      "text/plain": [
       "(0.5602148031111707, 8.04887064890188, 0.16356656859869484)"
      ]
     },
     "execution_count": 77,
     "metadata": {},
     "output_type": "execute_result"
    }
   ],
   "source": [
    "def pe_r_mm(x, version='def'):\n",
    "    \"\"\"\n",
    "    Оцениваем границы, на вход выборка в виде массива numpy или списка и версия\n",
    "    Возвращаем оценки границ распределения и погрешность\n",
    "    \"\"\"\n",
    "    a = x.mean() - (3 * x.var()) ** (1 / 2)\n",
    "    b = x.mean() + (3 * x.var()) ** (1 / 2)\n",
    "    sigma = x.var() / len(x) + (3 * (x.var() ** 2) / len(x)) / (4 * x.var())\n",
    "    if version == 'for_adj':\n",
    "        return a, b\n",
    "    else:\n",
    "        return a, b, sigma\n",
    "x = stats.uniform.rvs(1, 7, 50)\n",
    "pe_r_mm(x)"
   ]
  },
  {
   "cell_type": "code",
   "execution_count": 78,
   "id": "b3038968",
   "metadata": {},
   "outputs": [],
   "source": [
    "def pe_exp_mm(x, method='m'):\n",
    "    \"\"\"\n",
    "    Оцениваем параметр лямбда, на вход выборка в виде массива numpy или списка\n",
    "    и метод поиска\n",
    "    Возвращаем оценки границ распределения\n",
    "    \"\"\"\n",
    "    if method == 'd':\n",
    "        pe_lambda = 1 / (x.var()) ** (1 / 2)\n",
    "        sigma_l = (x.var() ** 2) / (n * 4 * x.var() ** 3)\n",
    "    pe_lambda = 1 / x.mean()\n",
    "    sigma_l = (x.var() / len(x)) / (x.mean() ** 4)\n",
    "    return pe_lambda, sigma_l"
   ]
  },
  {
   "cell_type": "code",
   "execution_count": 370,
   "id": "9e52c524",
   "metadata": {},
   "outputs": [
    {
     "data": {
      "text/plain": [
       "(1.0976948408342482, 0.002539168196647351)"
      ]
     },
     "execution_count": 370,
     "metadata": {},
     "output_type": "execute_result"
    }
   ],
   "source": [
    "pe_exp_mm(np.array([0.96, 0.8, 0.65, 0.7, 1, 1, 1, 1, 1, 1]), 'm')"
   ]
  },
  {
   "cell_type": "markdown",
   "id": "d9f31d82",
   "metadata": {},
   "source": [
    "# Интервальное оценивание"
   ]
  },
  {
   "cell_type": "code",
   "execution_count": 13,
   "id": "f37ede9f",
   "metadata": {},
   "outputs": [],
   "source": [
    "head = ['p', 'q']\n",
    "data = [\n",
    "    [90, 1.282],\n",
    "    [95, 1.645],\n",
    "    [99, 2.326]\n",
    "]\n",
    "table_norm = pd.DataFrame(data, columns=head)"
   ]
  },
  {
   "cell_type": "markdown",
   "id": "caa1f864",
   "metadata": {},
   "source": [
    "# MO"
   ]
  },
  {
   "cell_type": "code",
   "execution_count": 32,
   "id": "3408d1db",
   "metadata": {},
   "outputs": [
    {
     "name": "stdout",
     "output_type": "stream",
     "text": [
      "Доверительный интервал с вероятностью  0.99  для МО: [ 193.7775 ; 201.7295 ]\n"
     ]
    },
    {
     "data": {
      "text/plain": [
       "(193.7774555778678, 201.72946352763356)"
      ]
     },
     "execution_count": 32,
     "metadata": {},
     "output_type": "execute_result"
    }
   ],
   "source": [
    "def ie_m_norm(x, p):\n",
    "    \"\"\"\n",
    "    На вход выборка и доверительная вероятность\n",
    "    Возвращает левую и правую границу ДИ\n",
    "    \"\"\"\n",
    "    m, sigma = pe_norm(x, 'm_full')\n",
    "    q = stats.t.ppf((1 + p)/2, len(x) - 1)\n",
    "    m_l = m - q * sigma\n",
    "    m_r = m + q * sigma\n",
    "    print('Доверительный интервал с вероятностью ',p, ' для МО: [', \n",
    "          round(m_l, 4), ';', round(m_r, 4), ']')\n",
    "    return m_l, m_r\n",
    "ie_m_norm(stats.norm.rvs(loc=200, scale=15, size=150), 0.99)"
   ]
  },
  {
   "cell_type": "markdown",
   "id": "03d505e3",
   "metadata": {},
   "source": [
    "# Disper"
   ]
  },
  {
   "cell_type": "code",
   "execution_count": 385,
   "id": "24eb9fda",
   "metadata": {},
   "outputs": [
    {
     "name": "stdout",
     "output_type": "stream",
     "text": [
      "Доверительный интервал при общей вероятности  0.9  для Дисперсии : [ 1.455 ; 2.8447 ]\n"
     ]
    },
    {
     "data": {
      "text/plain": [
       "(1.4549683755108587, 2.8446733505705097)"
      ]
     },
     "execution_count": 385,
     "metadata": {},
     "output_type": "execute_result"
    }
   ],
   "source": [
    "def ie_d_norm(x, p_l, p_r):\n",
    "    \"\"\"\n",
    "    На вход выборка и вероятности для левой и правой границы\n",
    "    Возвращает левую и правую границу ДИ\n",
    "    \"\"\"\n",
    "    d = pe_norm(x, 'd')\n",
    "    q_l = stats.chi2.ppf(p_l, len(x) - 1)\n",
    "    q_r = stats.chi2.ppf(p_r, len(x) - 1)\n",
    "    d_l = (len(x) * d) / q_r\n",
    "    d_r = (len(x) * d) / q_l\n",
    "    print('Доверительный интервал при общей вероятности ', round(p_r - p_l, 2), ' для Дисперсии : [', round(d_l, 4), ';', round(d_r, 4), ']')\n",
    "    return d_l, d_r\n",
    "ie_d_norm(stats.norm.rvs(loc = 5, scale = 1.44, size = 50), 0.05, 0.95)"
   ]
  },
  {
   "cell_type": "code",
   "execution_count": 17,
   "id": "bad88897",
   "metadata": {},
   "outputs": [
    {
     "name": "stdout",
     "output_type": "stream",
     "text": [
      "Доверительный интервал при общей вероятности  0.8999999999999999  для Дисперсии : [ 167.55969220241334 ; 233.18834289123268 ]\n"
     ]
    }
   ],
   "source": [
    "l, r = ie_d_norm(df.Age, 0.05, 0.95 )"
   ]
  },
  {
   "cell_type": "markdown",
   "id": "d9eb1ead",
   "metadata": {},
   "source": [
    "# KK"
   ]
  },
  {
   "cell_type": "code",
   "execution_count": 18,
   "id": "ba1fabd9",
   "metadata": {},
   "outputs": [
    {
     "data": {
      "text/plain": [
       "-0.02676288945786289"
      ]
     },
     "execution_count": 18,
     "metadata": {},
     "output_type": "execute_result"
    }
   ],
   "source": [
    "df.Age.corr(df.CustomerID)"
   ]
  },
  {
   "cell_type": "code",
   "execution_count": 387,
   "id": "79c262fa",
   "metadata": {},
   "outputs": [
    {
     "name": "stdout",
     "output_type": "stream",
     "text": [
      "Доверительный интервал при общей вероятности  0.9  для KK : [ 0.8929 ; 0.9906 ]\n"
     ]
    }
   ],
   "source": [
    "def ie_corr(df, x, y, d):\n",
    "    \"\"\"\n",
    "    На вход фрейм, две сравниваемых перменных и общая вероятность\n",
    "    Возвращает левую и правую границу ДИ\n",
    "    \"\"\"\n",
    "    p = (d + 1) / 2\n",
    "    corr = df[x].corr(df[y])\n",
    "    m = 0.5 * math.log((1 + corr) / (1 - corr))\n",
    "    m_m = m + corr / (2 * (len(df[x]) - 1))\n",
    "    sigma_m = (1 / (len(df[x]) - 3)) ** (1 / 2)\n",
    "    q = stats.norm.ppf(p)\n",
    "    m_l = m_m - q * sigma_m\n",
    "    m_r = m_m + q * sigma_m\n",
    "    r_l = -(1 - math.exp(2 * m_l)) / (1 + math.exp(2 * m_l))\n",
    "    r_r = -(1 - math.exp(2 * m_r)) / (1 + math.exp(2 * m_r))\n",
    "    print('Доверительный интервал при общей вероятности ', d, ' для KK : [', \n",
    "          round(r_l, 4), ';', round(r_r, 4), ']')\n",
    "ie_corr(df_corr, 'x', 'y', 0.9)"
   ]
  },
  {
   "cell_type": "code",
   "execution_count": 386,
   "id": "dcb637b0",
   "metadata": {},
   "outputs": [
    {
     "data": {
      "text/html": [
       "<div>\n",
       "<style scoped>\n",
       "    .dataframe tbody tr th:only-of-type {\n",
       "        vertical-align: middle;\n",
       "    }\n",
       "\n",
       "    .dataframe tbody tr th {\n",
       "        vertical-align: top;\n",
       "    }\n",
       "\n",
       "    .dataframe thead th {\n",
       "        text-align: right;\n",
       "    }\n",
       "</style>\n",
       "<table border=\"1\" class=\"dataframe\">\n",
       "  <thead>\n",
       "    <tr style=\"text-align: right;\">\n",
       "      <th></th>\n",
       "      <th>x</th>\n",
       "      <th>y</th>\n",
       "    </tr>\n",
       "  </thead>\n",
       "  <tbody>\n",
       "    <tr>\n",
       "      <th>0</th>\n",
       "      <td>-0.5</td>\n",
       "      <td>-0.2</td>\n",
       "    </tr>\n",
       "    <tr>\n",
       "      <th>1</th>\n",
       "      <td>1.2</td>\n",
       "      <td>1.0</td>\n",
       "    </tr>\n",
       "    <tr>\n",
       "      <th>2</th>\n",
       "      <td>0.7</td>\n",
       "      <td>0.8</td>\n",
       "    </tr>\n",
       "    <tr>\n",
       "      <th>3</th>\n",
       "      <td>-1.5</td>\n",
       "      <td>-1.0</td>\n",
       "    </tr>\n",
       "    <tr>\n",
       "      <th>4</th>\n",
       "      <td>-2.2</td>\n",
       "      <td>-1.5</td>\n",
       "    </tr>\n",
       "    <tr>\n",
       "      <th>5</th>\n",
       "      <td>-0.5</td>\n",
       "      <td>-0.7</td>\n",
       "    </tr>\n",
       "    <tr>\n",
       "      <th>6</th>\n",
       "      <td>1.8</td>\n",
       "      <td>2.0</td>\n",
       "    </tr>\n",
       "    <tr>\n",
       "      <th>7</th>\n",
       "      <td>0.3</td>\n",
       "      <td>0.5</td>\n",
       "    </tr>\n",
       "    <tr>\n",
       "      <th>8</th>\n",
       "      <td>-0.8</td>\n",
       "      <td>-1.2</td>\n",
       "    </tr>\n",
       "    <tr>\n",
       "      <th>9</th>\n",
       "      <td>1.0</td>\n",
       "      <td>1.3</td>\n",
       "    </tr>\n",
       "  </tbody>\n",
       "</table>\n",
       "</div>"
      ],
      "text/plain": [
       "     x    y\n",
       "0 -0.5 -0.2\n",
       "1  1.2  1.0\n",
       "2  0.7  0.8\n",
       "3 -1.5 -1.0\n",
       "4 -2.2 -1.5\n",
       "5 -0.5 -0.7\n",
       "6  1.8  2.0\n",
       "7  0.3  0.5\n",
       "8 -0.8 -1.2\n",
       "9  1.0  1.3"
      ]
     },
     "execution_count": 386,
     "metadata": {},
     "output_type": "execute_result"
    }
   ],
   "source": [
    "data = [\n",
    "    [-0.5, -0.2],\n",
    "    [1.2, 1],\n",
    "    [0.7, 0.8],\n",
    "    [-1.5, -1],\n",
    "    [-2.2, -1.5],\n",
    "    [-0.5, -0.7],\n",
    "    [1.8, 2],\n",
    "    [0.3, 0.5],\n",
    "    [-0.8, -1.2],\n",
    "    [1, 1.3]\n",
    "]\n",
    "head = ['x', 'y']\n",
    "df_corr = pd.DataFrame(data, columns=head)\n",
    "df_corr"
   ]
  },
  {
   "cell_type": "code",
   "execution_count": 107,
   "id": "22ef9ad4",
   "metadata": {},
   "outputs": [
    {
     "name": "stdout",
     "output_type": "stream",
     "text": [
      "Доверительный интервал при общей вероятности  0.9  для KK : [ 0.8929 ; 0.9906 ]\n"
     ]
    }
   ],
   "source": [
    "ie_corr(df_corr, 'x', 'y', 0.9)"
   ]
  },
  {
   "cell_type": "markdown",
   "id": "f85f5fba",
   "metadata": {},
   "source": [
    "# Tolerant"
   ]
  },
  {
   "cell_type": "code",
   "execution_count": 392,
   "id": "a1a81fc8",
   "metadata": {},
   "outputs": [
    {
     "name": "stdout",
     "output_type": "stream",
     "text": [
      "Толерантный интервал доли  0.9  при доверительной вероятности  0.98  : [ 2.7137 ; 7.5823 ]\n"
     ]
    }
   ],
   "source": [
    "def tolerant(x, p, g):\n",
    "    \"\"\"\n",
    "    Вход - выборка, доверительная вероятность и доля совокупности ГС\n",
    "    Возвращает границы интервала\n",
    "    \"\"\"\n",
    "    m, std = pe_norm(x, 'm_d')\n",
    "    std **= 1 / 2\n",
    "    q = stats.norm.ppf(p)\n",
    "    k = stats.norm.ppf(0.5 * (1 + g)) * (1 + q / ((2 * len(x)) ** (1 / 2)) + (5 * (q ** 2) + 10) / (12 * len(x)))\n",
    "    a = m - k * std\n",
    "    b = m + k * std\n",
    "    print('Толерантный интервал доли ', g, ' при доверительной вероятности ', \n",
    "          p, ' : [', round(a, 4), ';', round(b, 4), ']')\n",
    "tolerant(stats.norm.rvs(loc=5, scale=1.44, size=50), 0.98, 0.9)"
   ]
  },
  {
   "cell_type": "code",
   "execution_count": 109,
   "id": "6c2fc265",
   "metadata": {},
   "outputs": [],
   "source": [
    "x = np.array([3.1, 2.7, 0.5, 3.5, 2.9, 4.2, 2.2, 5.1, 1.3, 4.5])"
   ]
  },
  {
   "cell_type": "code",
   "execution_count": 389,
   "id": "f380ccef",
   "metadata": {},
   "outputs": [
    {
     "name": "stdout",
     "output_type": "stream",
     "text": [
      "Толерантный интервал доли  0.9  при доверительной вероятности  0.98  : [ 1.8982 ; 8.3117 ]\n"
     ]
    }
   ],
   "source": []
  },
  {
   "cell_type": "markdown",
   "id": "99d50887",
   "metadata": {},
   "source": [
    "# Гипотезы о мо"
   ]
  },
  {
   "cell_type": "code",
   "execution_count": 50,
   "id": "6342ae3a",
   "metadata": {},
   "outputs": [
    {
     "name": "stdout",
     "output_type": "stream",
     "text": [
      "Отклоняем гипотезу МО =  5.5\n",
      "z = 0.1694 ≤ z_cr = 1.6766 \n",
      "Принимаем гипотезу МО = 5 с доверительной вероятностью  0.95\n",
      "z = 0.7177 ≤ z_cr = 1.6766 \n",
      "Принимаем гипотезу МО = 4.9 с доверительной вероятностью  0.95\n"
     ]
    },
    {
     "data": {
      "text/plain": [
       "True"
      ]
     },
     "execution_count": 50,
     "metadata": {},
     "output_type": "execute_result"
    }
   ],
   "source": [
    "def hypothesis_mo(x, alpha, m0):\n",
    "    \"\"\"\n",
    "    Вход - выборка, уровень значимости и предполагаемое значение МО\n",
    "    Возвращает логический результат проверки M(x) = m0\n",
    "    \"\"\"\n",
    "    m, sigma = pe_norm(x, 'm_full')\n",
    "    z = (m - m0) / sigma ** (1 / 2)\n",
    "    z_cr = stats.t.ppf(1 - alpha, len(x) - 1)\n",
    "    if abs(z) <= z_cr:\n",
    "        print('z =', round(z, 4), '≤ z_cr =', round(z_cr, 4) ,'\\nПринимаем гипотезу МО =',\n",
    "              m0, 'с доверительной вероятностью ', 1 - alpha)\n",
    "        #print('Значение z, при принятой гипотезе, на самом деле может быть ', \n",
    "             # '\\nеще больше с вероятностью', round((1 - stats.t.cdf(abs(z), len(x))), 4))\n",
    "        return True\n",
    "    else:\n",
    "        print('Отклоняем гипотезу МО = ', m0)\n",
    "        return False\n",
    "x = stats.norm.rvs(loc=5, scale=1.44, size=50)\n",
    "hypothesis_mo(x, 0.05, 5.5)\n",
    "hypothesis_mo(x, 0.05, 5)\n",
    "hypothesis_mo(x, 0.05, 4.9)"
   ]
  },
  {
   "cell_type": "code",
   "execution_count": 10,
   "id": "a0c4b87b",
   "metadata": {},
   "outputs": [],
   "source": [
    "x = stats.norm.rvs(loc=200, scale=15, size=150)"
   ]
  },
  {
   "cell_type": "code",
   "execution_count": 18,
   "id": "cdb48031",
   "metadata": {},
   "outputs": [
    {
     "name": "stdout",
     "output_type": "stream",
     "text": [
      "z = -1.0812 ≤ z_cr = 1.6551 \n",
      "Принимаем гипотезу МО = 202 с доверительной вероятностью  0.95\n",
      "Значение z, при принятой гипотезе, на самом деле может быть  \n",
      "еще больше с вероятностью 0.1407\n"
     ]
    },
    {
     "data": {
      "text/plain": [
       "True"
      ]
     },
     "execution_count": 18,
     "metadata": {},
     "output_type": "execute_result"
    }
   ],
   "source": [
    "hypothesis_mo(x, 0.05, 202)"
   ]
  },
  {
   "cell_type": "markdown",
   "id": "b434d2f5",
   "metadata": {},
   "source": [
    "# Гипотезы о дисперсии"
   ]
  },
  {
   "cell_type": "code",
   "execution_count": 440,
   "id": "5c54b097",
   "metadata": {},
   "outputs": [
    {
     "name": "stdout",
     "output_type": "stream",
     "text": [
      "χ^2 = 56.6913 ≤ χ^2_cr = 62.0375 \n",
      "Принимаем гипотезу D < 2 с доверительной вероятностью  0.9\n",
      "χ^2 = 49.2968 ≤ χ^2_cr = 62.0375 \n",
      "Принимаем гипотезу D < 2.3 с доверительной вероятностью  0.9\n",
      "χ^2 = 62.9904 > χ^2_cr = 62.0375 \n",
      "Отклоняем гипотезу D <  1.8\n"
     ]
    },
    {
     "data": {
      "text/plain": [
       "False"
      ]
     },
     "execution_count": 440,
     "metadata": {},
     "output_type": "execute_result"
    }
   ],
   "source": [
    "def hypothesis_d(x, alpha, d0):\n",
    "    \"\"\"\n",
    "    Вход - выборка, уровень значимости и предполагаемое значение дисперсии\n",
    "    Возвращает логический результат проверки D < d0\n",
    "    \"\"\"\n",
    "    p = 1 - alpha\n",
    "    k = len(x) - 1\n",
    "    d = pe_norm(x, 'd')\n",
    "    chi_sq = (len(x) - 1) * d / d0\n",
    "    chi_sq_cr = stats.chi2.ppf(p, len(x) - 1)\n",
    "    if chi_sq <= chi_sq_cr:\n",
    "        print('χ^2 =', round(chi_sq, 4), '≤ χ^2_cr =', round(chi_sq_cr, 4) ,'\\nПринимаем гипотезу D <', d0,\n",
    "             'с доверительной вероятностью ', p)\n",
    "        return True\n",
    "    else:\n",
    "        print('χ^2 =', round(chi_sq, 4), '> χ^2_cr =', round(chi_sq_cr, 4) ,'\\nОтклоняем гипотезу D < ', d0)\n",
    "        return False\n",
    "x = stats.norm.rvs(loc=5, scale=1.44, size=50)\n",
    "hypothesis_d(x, 0.1, 2)\n",
    "hypothesis_d(x, 0.1, 2.3)\n",
    "hypothesis_d(x, 0.1, 1.8)"
   ]
  },
  {
   "cell_type": "code",
   "execution_count": 29,
   "id": "69f5de1d",
   "metadata": {},
   "outputs": [
    {
     "name": "stdout",
     "output_type": "stream",
     "text": [
      "χ^2 = 12.8656 ≤ χ^2_cr = 17.275 \n",
      "Принимаем гипотезу D < 4 с доверительной вероятностью  0.9\n"
     ]
    },
    {
     "data": {
      "text/plain": [
       "True"
      ]
     },
     "execution_count": 29,
     "metadata": {},
     "output_type": "execute_result"
    }
   ],
   "source": [
    "hypothesis_d(x, 0.1, 4)"
   ]
  },
  {
   "cell_type": "markdown",
   "id": "01f8eda3",
   "metadata": {},
   "source": [
    "# Гипотезы о мо в 2 выборкам"
   ]
  },
  {
   "cell_type": "code",
   "execution_count": 474,
   "id": "3e50f5f3",
   "metadata": {},
   "outputs": [
    {
     "name": "stdout",
     "output_type": "stream",
     "text": [
      "t = 1.8259 > t_cr = 1.6606 \n",
      "Отклоняем гипотезу M(X) = M(Y)\n"
     ]
    },
    {
     "data": {
      "text/plain": [
       "False"
      ]
     },
     "execution_count": 474,
     "metadata": {},
     "output_type": "execute_result"
    }
   ],
   "source": [
    "def hypothesis_double_mo(x, y, alpha):\n",
    "    \"\"\"\n",
    "    Вход - две выборки, уровень значимости\n",
    "    Возвращает логический результат проверки M(x) = M(y)\n",
    "    \"\"\"\n",
    "    m_x, d_x = pe_norm(x, 'm_d')\n",
    "    m_y, d_y = pe_norm(y, 'm_d')\n",
    "    t = (abs(m_x - m_y)) / (d_x / len(x) + d_y / len(y)) ** (1 / 2)\n",
    "    t_cr = stats.t.ppf(1 - alpha, len(x) + len(y) - 2)\n",
    "    if abs(t) <= t_cr:\n",
    "        print('t =', round(t, 4), '≤ t_cr =', round(t_cr, 4) ,'\\nПринимаем гипотезу M(X) = M(Y) с доверительной вероятностью ',\n",
    "             1 - alpha)\n",
    "        return True\n",
    "    else:\n",
    "        print('t =', round(t, 4), '> t_cr =', round(t_cr, 4) ,'\\nОтклоняем гипотезу M(X) = M(Y)')\n",
    "        return False\n",
    "x = stats.norm.rvs(loc=5, scale=2, size=50)\n",
    "y = stats.norm.rvs(loc=4.9, scale=3, size=50) \n",
    "hypothesis_double_mo(x, y, 0.05)"
   ]
  },
  {
   "cell_type": "code",
   "execution_count": 254,
   "id": "8f73db4c",
   "metadata": {},
   "outputs": [],
   "source": [
    "x = np.array([5.5, 7.6, 2.8, 4.2, 11.2, 4.7, 1.5, 8.2, 9.9, 3.4, 8.4, 6.2])\n",
    "y = np.array([5.8, 8.5, 10.2, 6.3, 9.1, 10.6, 7.9, 5.2, 9.4, 7.4])"
   ]
  },
  {
   "cell_type": "code",
   "execution_count": 255,
   "id": "fe7502fe",
   "metadata": {},
   "outputs": [
    {
     "name": "stdout",
     "output_type": "stream",
     "text": [
      "t = 1.8315 > t_cr = 1.7247 \n",
      "Отклоняем гипотезу M(X) = M(Y)\n"
     ]
    },
    {
     "data": {
      "text/plain": [
       "False"
      ]
     },
     "execution_count": 255,
     "metadata": {},
     "output_type": "execute_result"
    }
   ],
   "source": [
    "hypothesis_double_mo(x, y, 0.05)"
   ]
  },
  {
   "cell_type": "markdown",
   "id": "a0d8ed9f",
   "metadata": {},
   "source": [
    "# Гипотезы о дисперсии по 2 выборкам"
   ]
  },
  {
   "cell_type": "code",
   "execution_count": 538,
   "id": "37be4ab6",
   "metadata": {},
   "outputs": [
    {
     "name": "stdout",
     "output_type": "stream",
     "text": [
      "f = 1.466 ≤ f_cr = 1.6073 \n",
      "Принимаем гипотезу D(X) = D(Y) с доверительной вероятностью  0.95\n"
     ]
    },
    {
     "data": {
      "text/plain": [
       "True"
      ]
     },
     "execution_count": 538,
     "metadata": {},
     "output_type": "execute_result"
    }
   ],
   "source": [
    "def hypothesis_double_d(x, y, alpha):\n",
    "    \"\"\"\n",
    "    Вход - две выборки, уровень значимости\n",
    "    Возвращает логический результат проверки D(x) = D(y)\n",
    "    \"\"\"\n",
    "    k_x = len(x) - 1\n",
    "    k_y = len(y) - 1\n",
    "    d_x = pe_norm(x, 'd')\n",
    "    d_y = pe_norm(y, 'd')\n",
    "    f = d_x / d_y\n",
    "    f_cr = stats.f.ppf(1 - alpha, k_x, k_y)\n",
    "    if f <= f_cr:\n",
    "        print('f =', round(f, 4), '≤ f_cr =', round(f_cr, 4) ,'\\nПринимаем гипотезу D(X) = D(Y) с доверительной вероятностью ', \n",
    "              1 - alpha)\n",
    "        return True\n",
    "    else:\n",
    "        print('f =', round(f, 4), '> f_cr =', round(f_cr, 4) ,'\\nОтклоняем гипотезу D(X) = D(Y)')\n",
    "        return False\n",
    "x = stats.norm.rvs(loc=5, scale=3.25, size=50)\n",
    "y = stats.norm.rvs(loc=4.9, scale=3, size=50)\n",
    "hypothesis_double_d(x, y, 0.05)"
   ]
  },
  {
   "cell_type": "code",
   "execution_count": 521,
   "id": "fb19a22a",
   "metadata": {},
   "outputs": [
    {
     "name": "stdout",
     "output_type": "stream",
     "text": [
      "f = 19.2147 > f_cr = 1.6073 \n",
      "Отклоняем гипотезу D(X) = D(Y)\n"
     ]
    },
    {
     "data": {
      "text/plain": [
       "False"
      ]
     },
     "execution_count": 521,
     "metadata": {},
     "output_type": "execute_result"
    }
   ],
   "source": [
    "hypothesis_double_d(x, y, 0.05)"
   ]
  },
  {
   "cell_type": "markdown",
   "id": "63d4ffd6",
   "metadata": {},
   "source": [
    "# Гипотезы о кк"
   ]
  },
  {
   "cell_type": "code",
   "execution_count": 548,
   "id": "65e53bc4",
   "metadata": {},
   "outputs": [
    {
     "name": "stdout",
     "output_type": "stream",
     "text": [
      "z = 2.0039 > z_cr = 1.7053 \n",
      "Отклоняем гипотезу R(X, Y) = 0.9\n",
      "Значение КК больше 0.9\n",
      "\n",
      "z = 2.0039 ≤ z_cr = 2.0676 \n",
      "Принимаем гипотезу R(X, Y) = 0.95  с доверительной вероятностью  0.9\n"
     ]
    },
    {
     "data": {
      "text/plain": [
       "True"
      ]
     },
     "execution_count": 548,
     "metadata": {},
     "output_type": "execute_result"
    }
   ],
   "source": [
    "def hypothesis_cc(df, x, y, r0, alpha):\n",
    "    \"\"\"\n",
    "    Вход - фрейм, две выборки из полей фрейма, проверяемое значение r0, уровень значимости\n",
    "    Возвращает логический результат проверки R(x, y) = r0\n",
    "    \"\"\"\n",
    "    m_z = 0.5 * math.log((1 + r0) / (1 - r0)) + r0 / (2 * (len(df[x]) - 1))\n",
    "    sigma_z = 1 / (len(df[x]) - 3)\n",
    "    q = stats.norm.ppf(1 - alpha)\n",
    "    z_cr = sigma_z * q + m_z\n",
    "    pe_corr = df[x].corr(df[y])\n",
    "    pe_z = 0.5 * math.log((1 + pe_corr) / (1 - pe_corr))\n",
    "    if abs(pe_z) <= z_cr:\n",
    "        print('z =', round(pe_z, 4), '≤ z_cr =', round(z_cr, 4) ,'\\nПринимаем гипотезу R(X, Y) =', r0, ' с доверительной вероятностью ', \n",
    "              1 - alpha)\n",
    "        return True\n",
    "    else:\n",
    "        print('z =', round(pe_z, 4), '> z_cr =', round(z_cr, 4) ,'\\nОтклоняем гипотезу R(X, Y) =', r0)\n",
    "        if pe_corr > r0:\n",
    "            print('Значение КК больше', r0)\n",
    "        else:\n",
    "            print('Значение КК меньше', r0)\n",
    "        return False\n",
    "hypothesis_cc(df_corr, 'x', 'y', 0.9, 0.1)\n",
    "print()\n",
    "hypothesis_cc(df_corr, 'x', 'y', 0.95, 0.1)"
   ]
  },
  {
   "cell_type": "code",
   "execution_count": 540,
   "id": "55cf87cb",
   "metadata": {},
   "outputs": [
    {
     "name": "stdout",
     "output_type": "stream",
     "text": [
      "z = 2.0039 < z_cr = 1.3261 \n",
      "Отклоняем гипотезу R(X, Y) = 0.8\n",
      "Значение КК больше 0.8\n"
     ]
    },
    {
     "data": {
      "text/plain": [
       "False"
      ]
     },
     "execution_count": 540,
     "metadata": {},
     "output_type": "execute_result"
    }
   ],
   "source": [
    "data = [\n",
    "    [-0.5, -0.2],\n",
    "    [1.2, 1],\n",
    "    [0.7, 0.8],\n",
    "    [-1.5, -1],\n",
    "    [-2.2, -1.5],\n",
    "    [-0.5, -0.7],\n",
    "    [1.8, 2],\n",
    "    [0.3, 0.5],\n",
    "    [-0.8, -1.2],\n",
    "    [1, 1.3]\n",
    "]\n",
    "head = ['x', 'y']\n",
    "df_corr = pd.DataFrame(data, columns=head)\n",
    "hypothesis_cc(df_corr, 'x', 'y', 0.8, 0.1)"
   ]
  },
  {
   "cell_type": "markdown",
   "id": "94f27664",
   "metadata": {},
   "source": [
    "# Гипотезы об однородности"
   ]
  },
  {
   "cell_type": "code",
   "execution_count": 38,
   "id": "cb85b219",
   "metadata": {},
   "outputs": [
    {
     "data": {
      "text/html": [
       "<div>\n",
       "<style scoped>\n",
       "    .dataframe tbody tr th:only-of-type {\n",
       "        vertical-align: middle;\n",
       "    }\n",
       "\n",
       "    .dataframe tbody tr th {\n",
       "        vertical-align: top;\n",
       "    }\n",
       "\n",
       "    .dataframe thead th {\n",
       "        text-align: right;\n",
       "    }\n",
       "</style>\n",
       "<table border=\"1\" class=\"dataframe\">\n",
       "  <thead>\n",
       "    <tr style=\"text-align: right;\">\n",
       "      <th></th>\n",
       "      <th>value</th>\n",
       "      <th>own</th>\n",
       "    </tr>\n",
       "  </thead>\n",
       "  <tbody>\n",
       "    <tr>\n",
       "      <th>0</th>\n",
       "      <td>0.5</td>\n",
       "      <td>x</td>\n",
       "    </tr>\n",
       "    <tr>\n",
       "      <th>1</th>\n",
       "      <td>1.2</td>\n",
       "      <td>x</td>\n",
       "    </tr>\n",
       "    <tr>\n",
       "      <th>2</th>\n",
       "      <td>1.7</td>\n",
       "      <td>x</td>\n",
       "    </tr>\n",
       "    <tr>\n",
       "      <th>3</th>\n",
       "      <td>2.3</td>\n",
       "      <td>x</td>\n",
       "    </tr>\n",
       "    <tr>\n",
       "      <th>4</th>\n",
       "      <td>2.7</td>\n",
       "      <td>x</td>\n",
       "    </tr>\n",
       "    <tr>\n",
       "      <th>5</th>\n",
       "      <td>3.1</td>\n",
       "      <td>x</td>\n",
       "    </tr>\n",
       "    <tr>\n",
       "      <th>6</th>\n",
       "      <td>3.2</td>\n",
       "      <td>x</td>\n",
       "    </tr>\n",
       "    <tr>\n",
       "      <th>7</th>\n",
       "      <td>3.9</td>\n",
       "      <td>x</td>\n",
       "    </tr>\n",
       "    <tr>\n",
       "      <th>8</th>\n",
       "      <td>4.4</td>\n",
       "      <td>x</td>\n",
       "    </tr>\n",
       "    <tr>\n",
       "      <th>9</th>\n",
       "      <td>4.6</td>\n",
       "      <td>x</td>\n",
       "    </tr>\n",
       "  </tbody>\n",
       "</table>\n",
       "</div>"
      ],
      "text/plain": [
       "   value own\n",
       "0    0.5   x\n",
       "1    1.2   x\n",
       "2    1.7   x\n",
       "3    2.3   x\n",
       "4    2.7   x\n",
       "5    3.1   x\n",
       "6    3.2   x\n",
       "7    3.9   x\n",
       "8    4.4   x\n",
       "9    4.6   x"
      ]
     },
     "execution_count": 38,
     "metadata": {},
     "output_type": "execute_result"
    }
   ],
   "source": [
    "data = [\n",
    "    [0.5],\n",
    "    [1.2],\n",
    "    [1.7],\n",
    "    [2.3],\n",
    "    [2.7],\n",
    "    [3.1],\n",
    "    [3.2],\n",
    "    [3.9],\n",
    "    [4.4],\n",
    "    [4.6]\n",
    "]\n",
    "head = ['value']\n",
    "x = pd.DataFrame(data, columns=head)\n",
    "x['own'] = 'x'\n",
    "x"
   ]
  },
  {
   "cell_type": "code",
   "execution_count": 39,
   "id": "35dba65a",
   "metadata": {},
   "outputs": [
    {
     "data": {
      "text/html": [
       "<div>\n",
       "<style scoped>\n",
       "    .dataframe tbody tr th:only-of-type {\n",
       "        vertical-align: middle;\n",
       "    }\n",
       "\n",
       "    .dataframe tbody tr th {\n",
       "        vertical-align: top;\n",
       "    }\n",
       "\n",
       "    .dataframe thead th {\n",
       "        text-align: right;\n",
       "    }\n",
       "</style>\n",
       "<table border=\"1\" class=\"dataframe\">\n",
       "  <thead>\n",
       "    <tr style=\"text-align: right;\">\n",
       "      <th></th>\n",
       "      <th>value</th>\n",
       "      <th>own</th>\n",
       "    </tr>\n",
       "  </thead>\n",
       "  <tbody>\n",
       "    <tr>\n",
       "      <th>0</th>\n",
       "      <td>2.4</td>\n",
       "      <td>y</td>\n",
       "    </tr>\n",
       "    <tr>\n",
       "      <th>1</th>\n",
       "      <td>2.8</td>\n",
       "      <td>y</td>\n",
       "    </tr>\n",
       "    <tr>\n",
       "      <th>2</th>\n",
       "      <td>3.3</td>\n",
       "      <td>y</td>\n",
       "    </tr>\n",
       "    <tr>\n",
       "      <th>3</th>\n",
       "      <td>3.7</td>\n",
       "      <td>y</td>\n",
       "    </tr>\n",
       "    <tr>\n",
       "      <th>4</th>\n",
       "      <td>4.2</td>\n",
       "      <td>y</td>\n",
       "    </tr>\n",
       "    <tr>\n",
       "      <th>5</th>\n",
       "      <td>4.3</td>\n",
       "      <td>y</td>\n",
       "    </tr>\n",
       "    <tr>\n",
       "      <th>6</th>\n",
       "      <td>4.9</td>\n",
       "      <td>y</td>\n",
       "    </tr>\n",
       "    <tr>\n",
       "      <th>7</th>\n",
       "      <td>5.8</td>\n",
       "      <td>y</td>\n",
       "    </tr>\n",
       "  </tbody>\n",
       "</table>\n",
       "</div>"
      ],
      "text/plain": [
       "   value own\n",
       "0    2.4   y\n",
       "1    2.8   y\n",
       "2    3.3   y\n",
       "3    3.7   y\n",
       "4    4.2   y\n",
       "5    4.3   y\n",
       "6    4.9   y\n",
       "7    5.8   y"
      ]
     },
     "execution_count": 39,
     "metadata": {},
     "output_type": "execute_result"
    }
   ],
   "source": [
    "data = [\n",
    "    [2.4],\n",
    "    [2.8],\n",
    "    [3.3],\n",
    "    [3.7],\n",
    "    [4.2],\n",
    "    [4.3],\n",
    "    [4.9],\n",
    "    [5.8]\n",
    "]\n",
    "head = ['value']\n",
    "y = pd.DataFrame(data, columns=head)\n",
    "y['own'] = 'y'\n",
    "y"
   ]
  },
  {
   "cell_type": "code",
   "execution_count": 40,
   "id": "92b017f6",
   "metadata": {},
   "outputs": [],
   "source": [
    "df = pd.concat([x, y], ignore_index=True)"
   ]
  },
  {
   "cell_type": "code",
   "execution_count": 41,
   "id": "055e3920",
   "metadata": {},
   "outputs": [
    {
     "data": {
      "text/html": [
       "<div>\n",
       "<style scoped>\n",
       "    .dataframe tbody tr th:only-of-type {\n",
       "        vertical-align: middle;\n",
       "    }\n",
       "\n",
       "    .dataframe tbody tr th {\n",
       "        vertical-align: top;\n",
       "    }\n",
       "\n",
       "    .dataframe thead th {\n",
       "        text-align: right;\n",
       "    }\n",
       "</style>\n",
       "<table border=\"1\" class=\"dataframe\">\n",
       "  <thead>\n",
       "    <tr style=\"text-align: right;\">\n",
       "      <th></th>\n",
       "      <th>value</th>\n",
       "      <th>own</th>\n",
       "    </tr>\n",
       "  </thead>\n",
       "  <tbody>\n",
       "    <tr>\n",
       "      <th>0</th>\n",
       "      <td>0.5</td>\n",
       "      <td>x</td>\n",
       "    </tr>\n",
       "    <tr>\n",
       "      <th>1</th>\n",
       "      <td>1.2</td>\n",
       "      <td>x</td>\n",
       "    </tr>\n",
       "    <tr>\n",
       "      <th>2</th>\n",
       "      <td>1.7</td>\n",
       "      <td>x</td>\n",
       "    </tr>\n",
       "    <tr>\n",
       "      <th>3</th>\n",
       "      <td>2.3</td>\n",
       "      <td>x</td>\n",
       "    </tr>\n",
       "    <tr>\n",
       "      <th>10</th>\n",
       "      <td>2.4</td>\n",
       "      <td>y</td>\n",
       "    </tr>\n",
       "    <tr>\n",
       "      <th>4</th>\n",
       "      <td>2.7</td>\n",
       "      <td>x</td>\n",
       "    </tr>\n",
       "    <tr>\n",
       "      <th>11</th>\n",
       "      <td>2.8</td>\n",
       "      <td>y</td>\n",
       "    </tr>\n",
       "    <tr>\n",
       "      <th>5</th>\n",
       "      <td>3.1</td>\n",
       "      <td>x</td>\n",
       "    </tr>\n",
       "    <tr>\n",
       "      <th>6</th>\n",
       "      <td>3.2</td>\n",
       "      <td>x</td>\n",
       "    </tr>\n",
       "    <tr>\n",
       "      <th>12</th>\n",
       "      <td>3.3</td>\n",
       "      <td>y</td>\n",
       "    </tr>\n",
       "    <tr>\n",
       "      <th>13</th>\n",
       "      <td>3.7</td>\n",
       "      <td>y</td>\n",
       "    </tr>\n",
       "    <tr>\n",
       "      <th>7</th>\n",
       "      <td>3.9</td>\n",
       "      <td>x</td>\n",
       "    </tr>\n",
       "    <tr>\n",
       "      <th>14</th>\n",
       "      <td>4.2</td>\n",
       "      <td>y</td>\n",
       "    </tr>\n",
       "    <tr>\n",
       "      <th>15</th>\n",
       "      <td>4.3</td>\n",
       "      <td>y</td>\n",
       "    </tr>\n",
       "    <tr>\n",
       "      <th>8</th>\n",
       "      <td>4.4</td>\n",
       "      <td>x</td>\n",
       "    </tr>\n",
       "    <tr>\n",
       "      <th>9</th>\n",
       "      <td>4.6</td>\n",
       "      <td>x</td>\n",
       "    </tr>\n",
       "    <tr>\n",
       "      <th>16</th>\n",
       "      <td>4.9</td>\n",
       "      <td>y</td>\n",
       "    </tr>\n",
       "    <tr>\n",
       "      <th>17</th>\n",
       "      <td>5.8</td>\n",
       "      <td>y</td>\n",
       "    </tr>\n",
       "  </tbody>\n",
       "</table>\n",
       "</div>"
      ],
      "text/plain": [
       "    value own\n",
       "0     0.5   x\n",
       "1     1.2   x\n",
       "2     1.7   x\n",
       "3     2.3   x\n",
       "10    2.4   y\n",
       "4     2.7   x\n",
       "11    2.8   y\n",
       "5     3.1   x\n",
       "6     3.2   x\n",
       "12    3.3   y\n",
       "13    3.7   y\n",
       "7     3.9   x\n",
       "14    4.2   y\n",
       "15    4.3   y\n",
       "8     4.4   x\n",
       "9     4.6   x\n",
       "16    4.9   y\n",
       "17    5.8   y"
      ]
     },
     "execution_count": 41,
     "metadata": {},
     "output_type": "execute_result"
    }
   ],
   "source": [
    "df = df.sort_values('value')\n",
    "df"
   ]
  },
  {
   "cell_type": "code",
   "execution_count": 42,
   "id": "37d232e0",
   "metadata": {},
   "outputs": [
    {
     "data": {
      "text/html": [
       "<div>\n",
       "<style scoped>\n",
       "    .dataframe tbody tr th:only-of-type {\n",
       "        vertical-align: middle;\n",
       "    }\n",
       "\n",
       "    .dataframe tbody tr th {\n",
       "        vertical-align: top;\n",
       "    }\n",
       "\n",
       "    .dataframe thead th {\n",
       "        text-align: right;\n",
       "    }\n",
       "</style>\n",
       "<table border=\"1\" class=\"dataframe\">\n",
       "  <thead>\n",
       "    <tr style=\"text-align: right;\">\n",
       "      <th></th>\n",
       "      <th>value</th>\n",
       "      <th>own</th>\n",
       "      <th>rank</th>\n",
       "    </tr>\n",
       "  </thead>\n",
       "  <tbody>\n",
       "    <tr>\n",
       "      <th>0</th>\n",
       "      <td>0.5</td>\n",
       "      <td>x</td>\n",
       "      <td>1</td>\n",
       "    </tr>\n",
       "    <tr>\n",
       "      <th>1</th>\n",
       "      <td>1.2</td>\n",
       "      <td>x</td>\n",
       "      <td>2</td>\n",
       "    </tr>\n",
       "    <tr>\n",
       "      <th>2</th>\n",
       "      <td>1.7</td>\n",
       "      <td>x</td>\n",
       "      <td>3</td>\n",
       "    </tr>\n",
       "    <tr>\n",
       "      <th>3</th>\n",
       "      <td>2.3</td>\n",
       "      <td>x</td>\n",
       "      <td>4</td>\n",
       "    </tr>\n",
       "    <tr>\n",
       "      <th>10</th>\n",
       "      <td>2.4</td>\n",
       "      <td>y</td>\n",
       "      <td>5</td>\n",
       "    </tr>\n",
       "    <tr>\n",
       "      <th>4</th>\n",
       "      <td>2.7</td>\n",
       "      <td>x</td>\n",
       "      <td>6</td>\n",
       "    </tr>\n",
       "    <tr>\n",
       "      <th>11</th>\n",
       "      <td>2.8</td>\n",
       "      <td>y</td>\n",
       "      <td>7</td>\n",
       "    </tr>\n",
       "    <tr>\n",
       "      <th>5</th>\n",
       "      <td>3.1</td>\n",
       "      <td>x</td>\n",
       "      <td>8</td>\n",
       "    </tr>\n",
       "    <tr>\n",
       "      <th>6</th>\n",
       "      <td>3.2</td>\n",
       "      <td>x</td>\n",
       "      <td>9</td>\n",
       "    </tr>\n",
       "    <tr>\n",
       "      <th>12</th>\n",
       "      <td>3.3</td>\n",
       "      <td>y</td>\n",
       "      <td>10</td>\n",
       "    </tr>\n",
       "    <tr>\n",
       "      <th>13</th>\n",
       "      <td>3.7</td>\n",
       "      <td>y</td>\n",
       "      <td>11</td>\n",
       "    </tr>\n",
       "    <tr>\n",
       "      <th>7</th>\n",
       "      <td>3.9</td>\n",
       "      <td>x</td>\n",
       "      <td>12</td>\n",
       "    </tr>\n",
       "    <tr>\n",
       "      <th>14</th>\n",
       "      <td>4.2</td>\n",
       "      <td>y</td>\n",
       "      <td>13</td>\n",
       "    </tr>\n",
       "    <tr>\n",
       "      <th>15</th>\n",
       "      <td>4.3</td>\n",
       "      <td>y</td>\n",
       "      <td>14</td>\n",
       "    </tr>\n",
       "    <tr>\n",
       "      <th>8</th>\n",
       "      <td>4.4</td>\n",
       "      <td>x</td>\n",
       "      <td>15</td>\n",
       "    </tr>\n",
       "    <tr>\n",
       "      <th>9</th>\n",
       "      <td>4.6</td>\n",
       "      <td>x</td>\n",
       "      <td>16</td>\n",
       "    </tr>\n",
       "    <tr>\n",
       "      <th>16</th>\n",
       "      <td>4.9</td>\n",
       "      <td>y</td>\n",
       "      <td>17</td>\n",
       "    </tr>\n",
       "    <tr>\n",
       "      <th>17</th>\n",
       "      <td>5.8</td>\n",
       "      <td>y</td>\n",
       "      <td>18</td>\n",
       "    </tr>\n",
       "  </tbody>\n",
       "</table>\n",
       "</div>"
      ],
      "text/plain": [
       "    value own  rank\n",
       "0     0.5   x     1\n",
       "1     1.2   x     2\n",
       "2     1.7   x     3\n",
       "3     2.3   x     4\n",
       "10    2.4   y     5\n",
       "4     2.7   x     6\n",
       "11    2.8   y     7\n",
       "5     3.1   x     8\n",
       "6     3.2   x     9\n",
       "12    3.3   y    10\n",
       "13    3.7   y    11\n",
       "7     3.9   x    12\n",
       "14    4.2   y    13\n",
       "15    4.3   y    14\n",
       "8     4.4   x    15\n",
       "9     4.6   x    16\n",
       "16    4.9   y    17\n",
       "17    5.8   y    18"
      ]
     },
     "execution_count": 42,
     "metadata": {},
     "output_type": "execute_result"
    }
   ],
   "source": [
    "df['rank'] = [i for i in range(1, len(df.value) + 1)]\n",
    "df"
   ]
  },
  {
   "cell_type": "code",
   "execution_count": 599,
   "id": "53cf92d6",
   "metadata": {},
   "outputs": [
    {
     "name": "stdout",
     "output_type": "stream",
     "text": [
      "U_x = 2653 , Доверительный интервал [ 2286.4017 ; 2763.5983 ]\n",
      "U_y = 2397 , Доверительный интервал [ 2286.4017 ; 2763.5983 ]\n",
      "Принимаем гипотезу f(x) = f(y) с доверительной вероятностью 0.9\n",
      "U_x = 2239 , Доверительный интервал [ 2240.6926 ; 2809.3074 ]\n",
      "U_y = 2811 , Доверительный интервал [ 2240.6926 ; 2809.3074 ]\n",
      "Отклоняем гипотезу f(x) = f(y)\n"
     ]
    },
    {
     "data": {
      "text/plain": [
       "False"
      ]
     },
     "execution_count": 599,
     "metadata": {},
     "output_type": "execute_result"
    }
   ],
   "source": [
    "def hypothesis_same_distr(x, y, value_name, alpha):\n",
    "    \"\"\"\n",
    "    Вход - две выборки, имя переменной (должно быть одинаковым в обеих выборках), уровень значимости\n",
    "    Возвращает логический результат проверки f(x) = f(y)\n",
    "    \"\"\"\n",
    "    x['own'] = 'x'\n",
    "    y['own'] = 'y'\n",
    "    df = pd.concat([x, y], ignore_index=True)\n",
    "    df = df.sort_values(value_name)\n",
    "    df['rank'] = [i for i in range(1, len(df.value) + 1)]\n",
    "    u_x = df[df.own == 'x']['rank'].sum()\n",
    "    u_y = df[df.own == 'y']['rank'].sum()\n",
    "    n_x = len(df[df.own == 'x'])\n",
    "    n_y = len(df[df.own == 'y'])\n",
    "    m_u_x = 0.5 * n_x * (n_x + n_y + 1)\n",
    "    m_u_y = 0.5 * n_y * (n_x + n_y + 1)\n",
    "    sigma_u = (1 / 12) * n_x * n_y * (n_x + n_y + 1)\n",
    "    q = stats.norm.ppf(1 - alpha / 2)\n",
    "    u_x_l = m_u_x - q * sigma_u ** (1 / 2)\n",
    "    u_x_r = m_u_x + q * sigma_u ** (1 / 2)\n",
    "    u_y_l = m_u_y - q * sigma_u ** (1 / 2)\n",
    "    u_y_r = m_u_y + q * sigma_u ** (1 / 2)\n",
    "    if (u_x > u_x_l and u_x < u_x_r and u_y > u_y_l and u_y < u_y_r):\n",
    "        print('U_x =', u_x, ', Доверительный интервал [', round(u_x_l, 4), ';', round(u_x_r, 4), ']')\n",
    "        print('U_y =', u_y, ', Доверительный интервал [', round(u_y_l, 4), ';', round(u_y_r, 4), ']')\n",
    "        print('Принимаем гипотезу f(x) = f(y) с доверительной вероятностью', 1 - alpha)\n",
    "        return True\n",
    "    else:\n",
    "        print('U_x =', u_x, ', Доверительный интервал [', round(u_x_l, 4), ';', round(u_x_r, 4), ']')\n",
    "        print('U_y =', u_y, ', Доверительный интервал [', round(u_y_l, 4), ';', round(u_y_r, 4), ']')\n",
    "        print('Отклоняем гипотезу f(x) = f(y)')\n",
    "        return False\n",
    "x = pd.DataFrame(stats.norm.rvs(loc=5, scale=3, size=50), columns=['value'])\n",
    "y = pd.DataFrame(stats.norm.rvs(loc=5, scale=3, size=50), columns=['value'])\n",
    "hypothesis_same_distr(x, y, 'value', 0.1)\n",
    "y = pd.DataFrame(stats.uniform.rvs(1, 10, size=50), columns=['value'])\n",
    "hypothesis_same_distr(x, y, 'value', 0.05)"
   ]
  },
  {
   "cell_type": "markdown",
   "id": "3eb97808",
   "metadata": {},
   "source": [
    "# Гипотезы о типе распр"
   ]
  },
  {
   "cell_type": "markdown",
   "id": "22cc3e6b",
   "metadata": {},
   "source": [
    "# хи квадрат"
   ]
  },
  {
   "cell_type": "code",
   "execution_count": 45,
   "id": "f6393ac7",
   "metadata": {},
   "outputs": [],
   "source": [
    "x = np.array([7.3, 10.9, 3.4, 14.4, 12.2, 18.7, 13.7, 10.1, 15.6, 4.7,\n",
    "           17.2, 1.6, 9.2, 6.3, 11.8, 12.7, 10.6, 11.3, 8.7, 7.8])\n",
    "x = np.array([7.3, 10.9, 3.4, 14.4, 12.2, 12.6, 13.7, 10.1, 15.6, 4.7,\n",
    "           17.2, 1.6, 9.2, 6.3, 11.8, 12.7, 10.6, 11.3, 2.7, 7.8])"
   ]
  },
  {
   "cell_type": "code",
   "execution_count": 168,
   "id": "4082e30c",
   "metadata": {},
   "outputs": [],
   "source": [
    "def get_length(x, k):\n",
    "    \"\"\"\n",
    "    Вход - выборка, количество интервалов\n",
    "    Возвращает оптимальную длину интервала\n",
    "    \"\"\"\n",
    "    return math.ceil((x.max() - x.min()) / k)\n",
    "def interval_test(x, k, start):\n",
    "    n = get_length(x, k)\n",
    "    if start + n * k > x.max():\n",
    "        print('Passed')\n",
    "        return True\n",
    "def chi_test(x, k, alpha, start, version='def'):\n",
    "    \"\"\"\n",
    "    Вход - выборка, количество интервалов, уровень значимости, стартовая позиция разбиения на интервалы и версия\n",
    "    Функция выполняет проверку по критерию хи квадрат о соответствии выборки нормальному, экспоненциальному и равномерному\n",
    "    распределению\n",
    "    \"\"\"\n",
    "    types = ['Norm', 'Exp', 'R']\n",
    "    mean, d = pe_norm(x, 'm_d')\n",
    "    std = d ** (1 / 2)\n",
    "    l, err = pe_exp_mm(x, 'm')\n",
    "    a, b = pe_r_mm(x, 'for_adj')\n",
    "    n = get_length(x, k)\n",
    "    if interval_test(x, k, start):\n",
    "        table = []\n",
    "        for i in range(k):\n",
    "            table.append(x[np.where((x > i * n) & (x < (i + 1) * n))])\n",
    "        p_e = [len(i) / len(x) for i in table]\n",
    "\n",
    "        p_t_n = [stats.norm(loc=mean, scale=std).cdf(start + n)]\n",
    "        p_t_e = [1 - math.exp(-l * (start + n))]\n",
    "        p_t_r = [(start + n - a) / (b - a)]\n",
    "        for i in range(1, k):\n",
    "            p_t_n.append(stats.norm(loc=mean, scale=std).cdf((i + 1) * n) - stats.norm(loc=mean, scale=std).cdf((i * n)))\n",
    "            p_t_e.append(1 - math.exp(-l * ((i + 1) * n)) - 1 + math.exp(-l * (i * n)))\n",
    "            p_t_r.append(((i + 1) * n - a) / (b - a) - ((i * n - a) / (b - a)))\n",
    "        value_n, value_e, value_r = [], [], []\n",
    "        for i in range(k):\n",
    "            value_n.append((p_t_n[i] - p_e[i]) ** 2 / p_t_n[i])\n",
    "            value_e.append((p_t_e[i] - p_e[i]) ** 2 / p_t_e[i])\n",
    "            value_r.append((p_t_r[i] - p_e[i]) ** 2 / p_t_r[i])\n",
    "        chi_sq = [len(x) * sum(i) for i in [value_n, value_e, value_r]]\n",
    "        chi_sq_cr = [stats.chi2.ppf(1 - alpha, k - 3), stats.chi2.ppf(1 - alpha, k - 2), stats.chi2.ppf(1 - alpha, k - 3)]\n",
    "        if version == 'for_adj':\n",
    "            return table, p_t_n, p_t_e, p_t_r, k, alpha\n",
    "        for i in range(3):\n",
    "            if chi_sq[i] < chi_sq_cr[i]:\n",
    "                print('χ^2 =', round(chi_sq[i], 4), '< χ^2_cr =', round(chi_sq_cr[i], 4) ,'\\nПринимаем гипотезу f(x) ~ ', types[i], ' с доверительной вероятностью ', 1 - alpha)\n",
    "            else:\n",
    "                print('χ^2 =', round(chi_sq[i], 4), '≥ χ^2_cr =', round(chi_sq_cr[i], 4) ,'\\nОтклоняем гипотезу f(x) ~ ', types[i])"
   ]
  },
  {
   "cell_type": "code",
   "execution_count": 635,
   "id": "1e94a8dc",
   "metadata": {},
   "outputs": [
    {
     "name": "stdout",
     "output_type": "stream",
     "text": [
      "Passed\n",
      "χ^2 = 2.733 < χ^2_cr = 4.6052 \n",
      "Принимаем гипотезу f(x) ~  Norm  с доверительной вероятностью  0.9\n",
      "χ^2 = 53.7768 ≥ χ^2_cr = 6.2514 \n",
      "Отклоняем гипотезу f(x) ~  Exp\n",
      "χ^2 = 20.5758 ≥ χ^2_cr = 4.6052 \n",
      "Отклоняем гипотезу f(x) ~  R\n",
      "\n"
     ]
    }
   ],
   "source": [
    "x = stats.norm.rvs(5, 2, 50)\n",
    "chi_test(x, 5, 0.1, 1)\n",
    "#print()\n",
    "target = 0.09\n",
    "beta = 1 / target\n",
    "#x = np.random.exponential(beta, 50)\n",
    "#chi_test(x, 5, 0.1, 0)\n",
    "print()\n",
    "#x = stats.uniform.rvs(1, 10, 50)\n",
    "#chi_test(x, 5, 0.1, 0)"
   ]
  },
  {
   "cell_type": "code",
   "execution_count": 687,
   "id": "4ce90dde",
   "metadata": {},
   "outputs": [
    {
     "name": "stdout",
     "output_type": "stream",
     "text": [
      "1.3040008052744236 2\n",
      "Passed\n",
      "χ^2 = 5.5445 ≥ χ^2_cr = 4.6052 \n",
      "Отклоняем гипотезу f(x) ~  Norm\n",
      "χ^2 = 29.8969 ≥ χ^2_cr = 6.2514 \n",
      "Отклоняем гипотезу f(x) ~  Exp\n",
      "χ^2 = 4.0868 < χ^2_cr = 4.6052 \n",
      "Принимаем гипотезу f(x) ~  R  с доверительной вероятностью  0.9\n"
     ]
    },
    {
     "data": {
      "text/plain": [
       "array([ 4.52375305,  8.68803776,  3.4398527 ,  1.57811575, 10.8741133 ,\n",
       "        4.01747019,  4.61260763,  2.7455334 , 10.24734976,  6.76124327,\n",
       "        9.4209503 , 10.11130328,  1.62172538,  3.12052553,  8.76122613,\n",
       "        6.91122989,  6.52466324,  5.13492315,  1.50854731,  3.75353605,\n",
       "        2.14411318, 10.39094755,  8.6685654 ,  8.24574596,  5.85288102,\n",
       "        4.6264809 ,  7.83323087,  6.09054019,  3.71506819,  9.44901631,\n",
       "        8.55051681,  8.90251583,  5.47317961, 10.11183003,  2.40751183,\n",
       "       10.04512376, 10.57464127,  4.03322226,  8.64863765,  4.15558624,\n",
       "        3.36100465,  1.30400081,  7.04451255,  1.36086623,  8.43234876,\n",
       "        8.5702122 ,  4.0438484 ,  1.65188429,  8.13481651,  5.39719636])"
      ]
     },
     "execution_count": 687,
     "metadata": {},
     "output_type": "execute_result"
    }
   ],
   "source": [
    "x = stats.uniform.rvs(1, 10, 50)\n",
    "print(x.min(), get_length(x, 5))\n",
    "chi_test(x, 5, 0.1, 1)\n",
    "x"
   ]
  },
  {
   "cell_type": "code",
   "execution_count": null,
   "id": "f4398b87",
   "metadata": {},
   "outputs": [],
   "source": [
    "chi_test(x, 5, 0.1, )"
   ]
  },
  {
   "cell_type": "markdown",
   "id": "54178109",
   "metadata": {},
   "source": [
    "# Модификация хи квадрат"
   ]
  },
  {
   "cell_type": "code",
   "execution_count": 169,
   "id": "6c80120b",
   "metadata": {},
   "outputs": [],
   "source": [
    "table_laplace = pd.read_csv('laplace.csv')\n",
    "def chi_sq_adj(x, alpha, n, p_n, p_e, p_r, k):\n",
    "    types = ['Norm', 'Exp', 'R']\n",
    "    n_len = [len(i) for i in n]\n",
    "    m_n, m_e, m_r = [], [], []\n",
    "    for i in range(k):\n",
    "        m_n.append(sum(n_len) * p_n[i])\n",
    "        m_e.append(sum(n_len) * p_e[i])\n",
    "        m_r.append(sum(n_len) * p_r[i])\n",
    "    sigma_n, sigma_e, sigma_r = [], [], []\n",
    "    for i in range(k):\n",
    "        sigma_n.append((sum(n_len) * p_n[i] * (1 - p_n[i])) ** (1 / 2))\n",
    "        sigma_e.append((sum(n_len) * p_e[i] * (1 - p_e[i])) ** (1 / 2))\n",
    "        sigma_r.append((sum(n_len) * p_r[i] * (1 - p_r[i])) ** (1 / 2))\n",
    "    v_n, v_e, v_r = [], [], []\n",
    "    for i in range(k):\n",
    "        v_n.append(((n_len[i] - m_n[i]) / sigma_n[i]) ** 2)\n",
    "        v_e.append(((n_len[i] - m_e[i]) / sigma_e[i]) ** 2)\n",
    "        v_r.append(((n_len[i] - m_r[i]) / sigma_r[i]) ** 2)\n",
    "    v_n, v_e, v_r = (sum(v_n) / k) ** (1 / 2), (sum(v_e) / k) ** (1 / 2), (sum(v_r) / k) ** (1 / 2)\n",
    "    s = [((2 * k) ** (1 / 2)) * (v_n - 1), ((2 * k) ** (1 / 2)) * (v_e - 1), ((2 * k) ** (1 / 2)) * (v_r - 1)]\n",
    "    f = 0.5 - alpha\n",
    "    s_cr = table_laplace[table_laplace.F < f].max()['x']\n",
    "    s_plus = 0\n",
    "    for i in range(3):\n",
    "        if s[i] <= s_cr:\n",
    "            print('S =', round(s[i], 4), '≤ S_cr =', round(s_cr, 4) ,'\\nПринимаем гипотезу f(x) ~', types[i], 'с доверительной вероятностью ', 1 - alpha)\n",
    "        else:\n",
    "            print('S =', round(s[i], 4), '> S_cr =', round(s_cr, 4) ,'\\nОтклоняем гипотезу f(x) ~ ', types[i]) "
   ]
  },
  {
   "cell_type": "code",
   "execution_count": 850,
   "id": "6792f120",
   "metadata": {},
   "outputs": [
    {
     "name": "stdout",
     "output_type": "stream",
     "text": [
      "Passed\n",
      "S = 1.7524 > S_cr = 1.28 \n",
      "Отклоняем гипотезу f(x) ~  Norm\n",
      "S = 8.9687 > S_cr = 1.28 \n",
      "Отклоняем гипотезу f(x) ~  Exp\n",
      "S = 1.5536 > S_cr = 1.28 \n",
      "Отклоняем гипотезу f(x) ~  R\n"
     ]
    }
   ],
   "source": [
    "#x = stats.norm.rvs(5, 2, 50)\n",
    "#n, pn, pe, pr, k, alpha = chi_test(x, 5, 0.1, 0.5, 'for_adj')\n",
    "#chi_sq_adj(x, alpha, n, pn, pe, pr, k)\n",
    "#target = 0.09\n",
    "#beta = 1 / target\n",
    "#x = np.random.exponential(beta, 50)\n",
    "#n, pn, pe, pr, k, alpha = chi_test(x, 5, 0.1, 0, 'for_adj')\n",
    "#chi_sq_adj(x, alpha, n, pn, pe, pr, k)\n",
    "x = stats.uniform.rvs(1, 5, 50)\n",
    "n, pn, pe, pr, k, alpha = chi_test(x, 5, 0.1, 1, 'for_adj')\n",
    "chi_sq_adj(x, alpha, n, pn, pe, pr, k)"
   ]
  },
  {
   "cell_type": "markdown",
   "id": "3cbfb3dd",
   "metadata": {},
   "source": [
    "# Критерий крамера"
   ]
  },
  {
   "cell_type": "code",
   "execution_count": 74,
   "id": "c4cd8982",
   "metadata": {},
   "outputs": [],
   "source": [
    "w_square_table = pd.read_csv('w_square.csv')"
   ]
  },
  {
   "cell_type": "code",
   "execution_count": 75,
   "id": "3bb212e3",
   "metadata": {},
   "outputs": [],
   "source": [
    "def kramer_test(x, alpha, version='default'):\n",
    "    '''\n",
    "    На вход выборка, уровень значимости параметр версии\n",
    "    В случае использования метода как первого шага модификации возвращаются результаты проверки на нормальное,\n",
    "    экспоненциальное и равномерное распределение\n",
    "    В стандартном случае функция печатает результаты проверки\n",
    "    '''\n",
    "    x = np.sort(x)\n",
    "    n = len(x)\n",
    "    mean, std = pe_norm(x, 'm_d')\n",
    "    std **= (1 / 2)\n",
    "    types = ['Norm', 'Exp', 'R']\n",
    "    l, err = pe_exp_mm(x, 'm')\n",
    "    a, b = pe_r_mm(x, 'for_adj')\n",
    "    wn, we, wr = 1 / (12 * n), 1 / (12 * n), 1 / (12 * n)\n",
    "    for i in range(n):\n",
    "        wn += ((stats.norm.cdf((x[i] - mean) / std) - (2 * (i + 1) - 1) / (2 * n)) ** 2)\n",
    "        we += (1 - math.exp(-l * x[i]) - (2 * (i + 1) - 1) / (2 * n)) ** 2\n",
    "        wr += ((x[i] - a) / (b - a) - (2 * (i + 1) - 1) / (2 * n)) ** 2\n",
    "    p = 1 - alpha\n",
    "    w_cr = w_square_table[w_square_table.p == 1 - alpha].values[0][1]\n",
    "    if version == 'for_adj':\n",
    "        return wn, we, wr\n",
    "    w = [wn, we, wr]\n",
    "    for i in range(3):  \n",
    "        if w[i] <= w_cr:\n",
    "            print('ω^2 =', round(w[i], 4), '≤ ω^2_cr =', round(w_cr, 4) ,'\\nПринимаем гипотезу f(x) ~ ', types[i], 'с доверительной вероятностью ', 1 - alpha)\n",
    "        else:\n",
    "            print('ω^2 =', round(w[i], 4), '> ω^2_cr =', round(w_cr, 4) ,'\\nОтклоняем гипотезу f(x) ~ ', types[i])"
   ]
  },
  {
   "cell_type": "code",
   "execution_count": 712,
   "id": "0b4d432a",
   "metadata": {},
   "outputs": [
    {
     "name": "stdout",
     "output_type": "stream",
     "text": [
      "ω^2 = 0.1214 ≤ ω^2_cr = 0.347 \n",
      "Принимаем гипотезу f(x) ~  Norm с доверительной вероятностью  0.9\n",
      "ω^2 = 1.365 > ω^2_cr = 0.347 \n",
      "Отклоняем гипотезу f(x) ~  Exp\n",
      "ω^2 = 0.0622 ≤ ω^2_cr = 0.347 \n",
      "Принимаем гипотезу f(x) ~  R с доверительной вероятностью  0.9\n"
     ]
    }
   ],
   "source": [
    "#x = stats.norm.rvs(5, 2, 50)\n",
    "#kramer_test(x, 0.1)\n",
    "#target = 0.09\n",
    "#beta = 1 / target\n",
    "#x = np.random.exponential(beta, 50)\n",
    "#kramer_test(x, 0.1)\n",
    "x = stats.uniform.rvs(1, 5, 50)\n",
    "kramer_test(x, 0.1)"
   ]
  },
  {
   "cell_type": "markdown",
   "id": "8bb87b4d",
   "metadata": {},
   "source": [
    "# Модификация крамера"
   ]
  },
  {
   "cell_type": "code",
   "execution_count": 71,
   "id": "83cdf67f",
   "metadata": {},
   "outputs": [],
   "source": [
    "w_adj_table = pd.read_csv('w_adj.csv')"
   ]
  },
  {
   "cell_type": "code",
   "execution_count": 72,
   "id": "cb5eda49",
   "metadata": {},
   "outputs": [],
   "source": [
    "w_adj_table = pd.read_csv('w_adj.csv')\n",
    "def kramer_test_adj(x, alpha):\n",
    "    types = ['Norm', 'Exp', 'R']\n",
    "    n = len(x)\n",
    "    w_n, w_e, w_p = kramer_test(x, alpha, 'for_adj')\n",
    "    w = [(1 / (12 * n) + w_n) ** (1 / 2), (1 / (12 * n) + w_e) ** (1 / 2), (1 / (12 * n) + w_p) ** (1 / 2)]\n",
    "    w_cr = w_adj_table[w_adj_table.p == 1 - alpha].values[0, 1]\n",
    "    for i in range(3):\n",
    "        if w[i] <= w_cr:\n",
    "            print('G =', round(w[i], 4), '≤ G_cr =', round(w_cr, 4) ,'\\nПринимаем гипотезу f(x) ~', types[i], 'с доверительной вероятностью ', 1 - alpha)\n",
    "        else:\n",
    "            print('G =', round(w[i], 4), '> G_cr =', round(w_cr, 4) ,'\\nОтклоняем гипотезу f(x) ~', types[i])"
   ]
  },
  {
   "cell_type": "code",
   "execution_count": 859,
   "id": "8c4275a6",
   "metadata": {},
   "outputs": [
    {
     "name": "stdout",
     "output_type": "stream",
     "text": [
      "G = 0.4087 > G_cr = 0.316 \n",
      "Отклоняем гипотезу f(x) ~ Norm\n",
      "G = 1.1902 > G_cr = 0.316 \n",
      "Отклоняем гипотезу f(x) ~ Exp\n",
      "G = 0.2406 ≤ G_cr = 0.316 \n",
      "Принимаем гипотезу f(x) ~ R с доверительной вероятностью  0.9\n"
     ]
    }
   ],
   "source": [
    "#x = stats.norm.rvs(5, 2, 50)\n",
    "#kramer_test_adj(x, 0.1)\n",
    "#target = 0.09\n",
    "#beta = 1 / target\n",
    "#x = np.random.exponential(beta, 50)\n",
    "#kramer_test_adj(x, 0.1)\n",
    "x = stats.uniform.rvs(1, 5, 50)\n",
    "kramer_test_adj(x, 0.1)"
   ]
  },
  {
   "cell_type": "markdown",
   "id": "2a53d05f",
   "metadata": {},
   "source": [
    "# Шапиро Уилка"
   ]
  },
  {
   "cell_type": "code",
   "execution_count": 54,
   "id": "77ea1aae",
   "metadata": {},
   "outputs": [],
   "source": [
    "x = np.array([7.3, 10.9, 3.4, 14.4, 12.2, 18.7, 13.7, 10.1, 15.6, 4.7,\n",
    "           17.2, 1.6, 9.2, 6.3, 11.8, 12.7, 10.6, 11.3, 8.7, 7.8])\n",
    "x = np.sort(x)\n",
    "#x = np.array([0.251, 0.280, 0.285, 0.290, 0.292, 0.298, 0.29, 0.305, 0.308, 0.312, 0.313, 0.315, 0.330, 0.333, 0.340, 0.357, 0.380, 0.401, 0.410, 0.452])"
   ]
  },
  {
   "cell_type": "code",
   "execution_count": 1037,
   "id": "d3b5b15f",
   "metadata": {},
   "outputs": [],
   "source": [
    "def find_critical(x, alpha):\n",
    "    n = len(x)\n",
    "    if alpha == 0.1:\n",
    "        return (-0.0084 * n ** 4 + 1.2513 * n ** 3 - 70.724 * n ** 2 + 1890 * n + 73840)  / 100000\n",
    "    elif alpha == 0.05:\n",
    "        return (-0.0113 * n ** 4 + 1.656 * n ** 3 - 91.88 * n ** 2 + 2408.6 * n + 67608) / 100000\n",
    "    elif alpha == 0.01:\n",
    "        return (-0.0148 * n ** 4 + 2.1875 * n ** 3 - 122.61 * n ** 2 + 3257.3 * n + 55585) / 100000"
   ]
  },
  {
   "cell_type": "code",
   "execution_count": 1038,
   "id": "6fd84a4b",
   "metadata": {},
   "outputs": [],
   "source": [
    "def shapiro_test(x, alpha):\n",
    "    x = np.sort(x)\n",
    "    n = len(x)\n",
    "    z = []\n",
    "    a0 = 0.899 / ((n - 2.4) ** 0.4162) - 0.02\n",
    "    a = []\n",
    "    for i in range(n):\n",
    "        z.append((n - 2 * (i + 1) + 1) / (n - 0.5))\n",
    "        a.append(a0 * (z[i] + 1483 / ((3 - z[i]) ** 10.845) + (71.6 * 10 ** (-10)) / ((1.1 - z[i]) ** 8.26)))\n",
    "    mean, sigma = pe_norm(x, 'm_d')\n",
    "    w = []\n",
    "    for i in range(n):\n",
    "        w.append(a[n - i - 1]*(x[n-i - 1] - x[i]))\n",
    "    w = sum(w)\n",
    "    sigma = [(i - mean) ** 2 for i in x]\n",
    "    sigma = sum(sigma)\n",
    "    w **= 2 \n",
    "    w /= sigma\n",
    "    w_cr = find_critical(x, alpha)\n",
    "    if w > w_cr:\n",
    "        print('W =', round(w, 4), '> W_cr =', round(w_cr, 4) ,'\\nПринимаем гипотезу f(x) ~ Norm с доверительной вероятностью ', 1 - alpha)\n",
    "        return True\n",
    "    else:\n",
    "        print('W =', round(w, 4), '≤ W_cr =', round(w_cr, 4) ,'\\nОтклоняем гипотезу f(x) ~ Norm') "
   ]
  },
  {
   "cell_type": "code",
   "execution_count": 1039,
   "id": "40d146f8",
   "metadata": {},
   "outputs": [],
   "source": [
    "x = np.array([7.3, 10.9, 3.4, 14.4, 12.2, 18.7, 13.7, 10.1, 15.6, 4.7,\n",
    "           17.2, 1.6, 9.2, 6.3, 11.8, 12.7, 10.6, 11.3, 8.7, 7.8])"
   ]
  },
  {
   "cell_type": "code",
   "execution_count": 1040,
   "id": "2bafdb79",
   "metadata": {},
   "outputs": [
    {
     "name": "stdout",
     "output_type": "stream",
     "text": [
      "W = 2.7262 > W_cr = 0.9202 \n",
      "Принимаем гипотезу f(x) ~ Norm с доверительной вероятностью  0.9\n"
     ]
    },
    {
     "data": {
      "text/plain": [
       "True"
      ]
     },
     "execution_count": 1040,
     "metadata": {},
     "output_type": "execute_result"
    }
   ],
   "source": [
    "shapiro_test(x, 0.1)"
   ]
  },
  {
   "cell_type": "code",
   "execution_count": 1041,
   "id": "7def3a8c",
   "metadata": {},
   "outputs": [
    {
     "name": "stdout",
     "output_type": "stream",
     "text": [
      "W = 2.2931 > W_cr = 0.9387 \n",
      "Принимаем гипотезу f(x) ~ Norm с доверительной вероятностью  0.9\n"
     ]
    },
    {
     "data": {
      "text/plain": [
       "True"
      ]
     },
     "execution_count": 1041,
     "metadata": {},
     "output_type": "execute_result"
    }
   ],
   "source": [
    "x = stats.norm.rvs(loc=5, scale=2, size=30)\n",
    "shapiro_test(x, 0.1)"
   ]
  },
  {
   "cell_type": "code",
   "execution_count": 1042,
   "id": "29e67a35",
   "metadata": {},
   "outputs": [
    {
     "name": "stdout",
     "output_type": "stream",
     "text": [
      "W = 2.4829 > W_cr = 0.9202 \n",
      "Принимаем гипотезу f(x) ~ Norm с доверительной вероятностью  0.9\n",
      "True\n"
     ]
    }
   ],
   "source": [
    "print(shapiro_test(np.random.exponential(1 / 0.09, 20), 0.1))"
   ]
  },
  {
   "cell_type": "code",
   "execution_count": 1043,
   "id": "49e22a2a",
   "metadata": {},
   "outputs": [
    {
     "name": "stdout",
     "output_type": "stream",
     "text": [
      "W = 2.6437 > W_cr = 0.9202 \n",
      "Принимаем гипотезу f(x) ~ Norm с доверительной вероятностью  0.9\n",
      "True\n"
     ]
    }
   ],
   "source": [
    "print(shapiro_test(stats.uniform.rvs(1, 5, 20), 0.1))"
   ]
  },
  {
   "cell_type": "markdown",
   "id": "87181f7d",
   "metadata": {},
   "source": [
    "# Дисперсионный анализ"
   ]
  },
  {
   "cell_type": "markdown",
   "id": "4d79ffc0",
   "metadata": {},
   "source": [
    "# Однофакторный"
   ]
  },
  {
   "cell_type": "code",
   "execution_count": 91,
   "id": "b881cd82",
   "metadata": {},
   "outputs": [],
   "source": [
    "def one_way_anova(df, group, value):\n",
    "    \"\"\"\n",
    "    Аргументы: df - выборка, имеющая разделение на группы, \n",
    "    group - столбец, определяющий группу\n",
    "    value - столбец зависимых значений\n",
    "    \n",
    "    Производится сравнение нескольких групп между собой.\n",
    "    H0 - средние в группах не отличаются\n",
    "    H1 - хотя бы одно среднее значительно отличается\n",
    "    \n",
    "    Вывод: графики, f-value, p-value(т.е. P(>f))\n",
    "    \"\"\"\n",
    "    df_bg = len(df[group].unique()) - 1\n",
    "    df_wg = len(df[group]) - df_bg - 1\n",
    "\n",
    "    \n",
    "    group_sizes = []\n",
    "    groups = df[group].unique()\n",
    "    for gr in groups:\n",
    "        group_sizes.append(df[df[group] == gr])\n",
    "    for gr in group_sizes:\n",
    "        gr.index = range(0, len(gr))\n",
    "    means = []\n",
    "    for gr in group_sizes:\n",
    "        means.append(gr.mean())\n",
    "    average = sum(means) / len(means)\n",
    "    ssb = 0\n",
    "    for i in range(len(means)):\n",
    "        ssb += (means[i].value - average) ** 2 * len(group_sizes[i])\n",
    "    ms_bg = ssb / df_bg\n",
    "    ssw = 0\n",
    "    for i in range(len(group_sizes)):\n",
    "        for j in range(len(group_sizes[i])):\n",
    "            ssw += (group_sizes[i].value[j] - means[i]) ** 2\n",
    "    ms_wg = ssw / df_wg\n",
    "    f_value = ms_bg / ms_wg\n",
    "    p_value = 1 - stats.f.cdf(f_value, df_bg, df_wg)[0]\n",
    "    fig, ax = plt.subplots(len(groups) - 1, len(groups) - 1)\n",
    "    list_df = groups\n",
    "    print('F =', f_value[0], ', p-value =', p_value)\n",
    "    for i in range(len(list_df) - 1):\n",
    "        for j in range(i + 1, len(list_df)):\n",
    "            df_test1 = df[df.group == list_df[i]]\n",
    "            df_test2 = df[df.group == list_df[j]]\n",
    "            ax[i][j - 1].boxplot([df_test1.value, df_test2.value])\n",
    "            ax[i][j - 1].set_xticklabels([list_df[i],list_df[j]])\n",
    "    fig.set_size_inches([11, 11])    \n",
    "    fig.savefig('one-way.png')\n",
    "    return f_value[0], p_value"
   ]
  },
  {
   "cell_type": "code",
   "execution_count": 969,
   "id": "853638e5",
   "metadata": {},
   "outputs": [
    {
     "data": {
      "text/html": [
       "<div>\n",
       "<style scoped>\n",
       "    .dataframe tbody tr th:only-of-type {\n",
       "        vertical-align: middle;\n",
       "    }\n",
       "\n",
       "    .dataframe tbody tr th {\n",
       "        vertical-align: top;\n",
       "    }\n",
       "\n",
       "    .dataframe thead th {\n",
       "        text-align: right;\n",
       "    }\n",
       "</style>\n",
       "<table border=\"1\" class=\"dataframe\">\n",
       "  <thead>\n",
       "    <tr style=\"text-align: right;\">\n",
       "      <th></th>\n",
       "      <th>value</th>\n",
       "      <th>group</th>\n",
       "    </tr>\n",
       "  </thead>\n",
       "  <tbody>\n",
       "    <tr>\n",
       "      <th>0</th>\n",
       "      <td>101.244050</td>\n",
       "      <td>a</td>\n",
       "    </tr>\n",
       "    <tr>\n",
       "      <th>1</th>\n",
       "      <td>106.008961</td>\n",
       "      <td>a</td>\n",
       "    </tr>\n",
       "    <tr>\n",
       "      <th>2</th>\n",
       "      <td>103.930915</td>\n",
       "      <td>a</td>\n",
       "    </tr>\n",
       "    <tr>\n",
       "      <th>3</th>\n",
       "      <td>97.860456</td>\n",
       "      <td>a</td>\n",
       "    </tr>\n",
       "    <tr>\n",
       "      <th>4</th>\n",
       "      <td>95.471983</td>\n",
       "      <td>a</td>\n",
       "    </tr>\n",
       "  </tbody>\n",
       "</table>\n",
       "</div>"
      ],
      "text/plain": [
       "        value group\n",
       "0  101.244050     a\n",
       "1  106.008961     a\n",
       "2  103.930915     a\n",
       "3   97.860456     a\n",
       "4   95.471983     a"
      ]
     },
     "execution_count": 969,
     "metadata": {},
     "output_type": "execute_result"
    }
   ],
   "source": [
    "df = pd.read_csv('1way_clinic.csv')\n",
    "df.head()"
   ]
  },
  {
   "cell_type": "code",
   "execution_count": 970,
   "id": "e9655863",
   "metadata": {},
   "outputs": [
    {
     "name": "stdout",
     "output_type": "stream",
     "text": [
      "F = 6.35639456386063 , p-value = 0.0008731722558327215\n"
     ]
    },
    {
     "data": {
      "image/png": "[encoded data removed]",
      "text/plain": [
       "<Figure size 792x792 with 9 Axes>"
      ]
     },
     "metadata": {
      "needs_background": "light"
     },
     "output_type": "display_data"
    }
   ],
   "source": [
    "f, p = one_way_anova(df, 'group', 'value')"
   ]
  },
  {
   "cell_type": "code",
   "execution_count": 250,
   "id": "2ff582d6",
   "metadata": {},
   "outputs": [
    {
     "name": "stdout",
     "output_type": "stream",
     "text": [
      "6.35639456386063 0.0008731722558327215\n"
     ]
    }
   ],
   "source": [
    "print(f, p)"
   ]
  },
  {
   "cell_type": "markdown",
   "id": "1a3b705c",
   "metadata": {},
   "source": [
    "# Двухфакторный"
   ]
  },
  {
   "cell_type": "code",
   "execution_count": 972,
   "id": "17f91a5d",
   "metadata": {},
   "outputs": [
    {
     "data": {
      "text/html": [
       "<div>\n",
       "<style scoped>\n",
       "    .dataframe tbody tr th:only-of-type {\n",
       "        vertical-align: middle;\n",
       "    }\n",
       "\n",
       "    .dataframe tbody tr th {\n",
       "        vertical-align: top;\n",
       "    }\n",
       "\n",
       "    .dataframe thead th {\n",
       "        text-align: right;\n",
       "    }\n",
       "</style>\n",
       "<table border=\"1\" class=\"dataframe\">\n",
       "  <thead>\n",
       "    <tr style=\"text-align: right;\">\n",
       "      <th></th>\n",
       "      <th>0</th>\n",
       "      <th>group1</th>\n",
       "      <th>group2</th>\n",
       "    </tr>\n",
       "  </thead>\n",
       "  <tbody>\n",
       "    <tr>\n",
       "      <th>0</th>\n",
       "      <td>98.762932</td>\n",
       "      <td>y</td>\n",
       "      <td>high</td>\n",
       "    </tr>\n",
       "    <tr>\n",
       "      <th>1</th>\n",
       "      <td>96.966620</td>\n",
       "      <td>y</td>\n",
       "      <td>high</td>\n",
       "    </tr>\n",
       "    <tr>\n",
       "      <th>2</th>\n",
       "      <td>108.049369</td>\n",
       "      <td>y</td>\n",
       "      <td>high</td>\n",
       "    </tr>\n",
       "    <tr>\n",
       "      <th>3</th>\n",
       "      <td>101.706005</td>\n",
       "      <td>y</td>\n",
       "      <td>high</td>\n",
       "    </tr>\n",
       "    <tr>\n",
       "      <th>4</th>\n",
       "      <td>94.569880</td>\n",
       "      <td>y</td>\n",
       "      <td>high</td>\n",
       "    </tr>\n",
       "    <tr>\n",
       "      <th>...</th>\n",
       "      <td>...</td>\n",
       "      <td>...</td>\n",
       "      <td>...</td>\n",
       "    </tr>\n",
       "    <tr>\n",
       "      <th>59</th>\n",
       "      <td>104.764904</td>\n",
       "      <td>o</td>\n",
       "      <td>low</td>\n",
       "    </tr>\n",
       "    <tr>\n",
       "      <th>60</th>\n",
       "      <td>102.837722</td>\n",
       "      <td>o</td>\n",
       "      <td>low</td>\n",
       "    </tr>\n",
       "    <tr>\n",
       "      <th>61</th>\n",
       "      <td>104.884127</td>\n",
       "      <td>o</td>\n",
       "      <td>low</td>\n",
       "    </tr>\n",
       "    <tr>\n",
       "      <th>62</th>\n",
       "      <td>101.610925</td>\n",
       "      <td>o</td>\n",
       "      <td>low</td>\n",
       "    </tr>\n",
       "    <tr>\n",
       "      <th>63</th>\n",
       "      <td>94.223782</td>\n",
       "      <td>o</td>\n",
       "      <td>low</td>\n",
       "    </tr>\n",
       "  </tbody>\n",
       "</table>\n",
       "<p>64 rows × 3 columns</p>\n",
       "</div>"
      ],
      "text/plain": [
       "             0 group1 group2\n",
       "0    98.762932      y   high\n",
       "1    96.966620      y   high\n",
       "2   108.049369      y   high\n",
       "3   101.706005      y   high\n",
       "4    94.569880      y   high\n",
       "..         ...    ...    ...\n",
       "59  104.764904      o    low\n",
       "60  102.837722      o    low\n",
       "61  104.884127      o    low\n",
       "62  101.610925      o    low\n",
       "63   94.223782      o    low\n",
       "\n",
       "[64 rows x 3 columns]"
      ]
     },
     "execution_count": 972,
     "metadata": {},
     "output_type": "execute_result"
    }
   ],
   "source": [
    "df_test = pd.read_csv('2way_clinic.csv')\n",
    "df_test"
   ]
  },
  {
   "cell_type": "code",
   "execution_count": 973,
   "id": "9b4a8a87",
   "metadata": {},
   "outputs": [
    {
     "data": {
      "image/png": "[encoded data removed]",
      "text/plain": [
       "<Figure size 418x360 with 1 Axes>"
      ]
     },
     "metadata": {
      "needs_background": "light"
     },
     "output_type": "display_data"
    }
   ],
   "source": [
    "groups = ['group1', 'group2']\n",
    "df_first = len(df_test[groups[0]].unique()) - 1\n",
    "\n",
    "df_second = len(df_test[groups[1]].unique()) - 1\n",
    "\n",
    "df_third = 1\n",
    "\n",
    "first_group = df_test['group1'].unique()\n",
    "second_group = df_test['group2'].unique()\n",
    "average1 = []\n",
    "average2 = []\n",
    "average3 = []\n",
    "group_sizes1 = []\n",
    "group_sizes2 = []\n",
    "group_sizes3 = []\n",
    "for val in first_group:\n",
    "    average1.append(df_test[df_test['group1'] == val].mean())\n",
    "    group_sizes1.append(len(df_test[df_test['group1'] == val]))\n",
    "average_global1 = sum(average1) / len(average1)\n",
    "\n",
    "for val in second_group:\n",
    "    average2.append(df_test[df_test['group2'] == val].mean())\n",
    "    group_sizes2.append(len(df_test[df_test['group2'] == val]))\n",
    "average_global2 = sum(average2) / len(average2)\n",
    "\n",
    "average3 = []\n",
    "for gr in first_group:\n",
    "    for val in second_group:\n",
    "        average3.append(df_test[(df_test['group1'] == gr) & (df_test['group2'] == val)].mean())\n",
    "        group_sizes3.append(len(df_test[(df_test['group1'] == gr) & (df_test['group2'] == val)]))\n",
    "average_global3 = sum(average3) / len(average3)\n",
    "\n",
    "ssb1 = 0\n",
    "ssb1 = group_sizes1[0] * (average1[0][0] - average_global1[0]) ** 2\n",
    "ssb1 += group_sizes1[1] * (average1[1][0] - average_global1[0]) ** 2\n",
    "ms_bg1 = ssb1 / df_first\n",
    "\n",
    "ssb2 = 0\n",
    "ssb2 = group_sizes2[0] * (average2[0][0] - average_global2[0]) ** 2\n",
    "ssb2 += group_sizes2[1] * (average2[1][0] - average_global2[0]) ** 2\n",
    "ms_bg2 = ssb2 / df_second\n",
    "\n",
    "ssb3 = 0\n",
    "for i in range(4):\n",
    "    ssb3 += group_sizes3[i] * (average3[i] - average_global3) ** 2\n",
    "ssb3 = ssb3[0]\n",
    "ms_bg3 = ssb3 / df_third\n",
    "\n",
    "\n",
    "def_global = len(df_test) - len(group_sizes1) - len(group_sizes2)\n",
    "\n",
    "variances = []\n",
    "group_sizes_global = []\n",
    "for val in first_group:\n",
    "    for gr in second_group:\n",
    "        variances.append(df_test[(df_test['group1'] == val) & (df_test['group2'] == gr)].var())\n",
    "        group_sizes_global.append(len(df_test[(df_test['group1'] == val) & (df_test['group2'] == gr)]))\n",
    "variances = np.array(variances)\n",
    "\n",
    "ssw = 0\n",
    "for i in range(len(group_sizes_global)):\n",
    "    ssw += (group_sizes_global[i] - 1) * variances[i]\n",
    "ssw = ssw[0]\n",
    "ms_wg = ssw / def_global\n",
    "\n",
    "f_first = ms_bg1 / ms_wg\n",
    "f_second = ms_bg2 / ms_wg\n",
    "f_third = ms_bg3 / ms_wg\n",
    "p_value1 = round(1 - stats.f.cdf(f_first, df_first, def_global), 5)\n",
    "p_value2 = round(1 - stats.f.cdf(f_second, df_second, def_global), 5)\n",
    "p_value3 = round(1 - stats.f.cdf(f_third, df_third, def_global), 5)\n",
    "sns.catplot(x='group1', y='0', data=df_test, kind='point', hue='group2', capsize=0.2)\n",
    "plt.savefig('anova.png', dpi=400, bbox_inches='tight')\n",
    "plt.show()"
   ]
  },
  {
   "cell_type": "code",
   "execution_count": 975,
   "id": "fcbd7122",
   "metadata": {},
   "outputs": [
    {
     "name": "stdout",
     "output_type": "stream",
     "text": [
      "F_age = 5.368082124537378 p_age = 0.02394 \n",
      "F_dose = 2.950426806296753 p_dose = 0.09101 \n",
      "F_agg = 8.69154591528831 p_agg 0.00455\n"
     ]
    }
   ],
   "source": [
    "print('F_age =', f_first, 'p_age =', p_value1, '\\nF_dose =', f_second, 'p_dose =', p_value2, '\\nF_agg =', f_third, 'p_agg', p_value3)"
   ]
  },
  {
   "cell_type": "markdown",
   "id": "2609929e",
   "metadata": {},
   "source": [
    "# Регрессионный анализ"
   ]
  },
  {
   "cell_type": "markdown",
   "id": "cf3c3727",
   "metadata": {},
   "source": [
    "# Многомерная"
   ]
  },
  {
   "cell_type": "code",
   "execution_count": 997,
   "id": "83a6c392",
   "metadata": {},
   "outputs": [
    {
     "data": {
      "text/html": [
       "<div>\n",
       "<style scoped>\n",
       "    .dataframe tbody tr th:only-of-type {\n",
       "        vertical-align: middle;\n",
       "    }\n",
       "\n",
       "    .dataframe tbody tr th {\n",
       "        vertical-align: top;\n",
       "    }\n",
       "\n",
       "    .dataframe thead th {\n",
       "        text-align: right;\n",
       "    }\n",
       "</style>\n",
       "<table border=\"1\" class=\"dataframe\">\n",
       "  <thead>\n",
       "    <tr style=\"text-align: right;\">\n",
       "      <th></th>\n",
       "      <th>state</th>\n",
       "      <th>metro_res</th>\n",
       "      <th>white</th>\n",
       "      <th>hs_grad</th>\n",
       "      <th>poverty</th>\n",
       "      <th>female_house</th>\n",
       "    </tr>\n",
       "  </thead>\n",
       "  <tbody>\n",
       "    <tr>\n",
       "      <th>0</th>\n",
       "      <td>Alabama</td>\n",
       "      <td>55.4</td>\n",
       "      <td>71.3</td>\n",
       "      <td>79.9</td>\n",
       "      <td>14.6</td>\n",
       "      <td>14.2</td>\n",
       "    </tr>\n",
       "    <tr>\n",
       "      <th>1</th>\n",
       "      <td>Alaska</td>\n",
       "      <td>65.6</td>\n",
       "      <td>70.8</td>\n",
       "      <td>90.6</td>\n",
       "      <td>8.3</td>\n",
       "      <td>10.8</td>\n",
       "    </tr>\n",
       "    <tr>\n",
       "      <th>2</th>\n",
       "      <td>Arizona</td>\n",
       "      <td>88.2</td>\n",
       "      <td>87.7</td>\n",
       "      <td>83.8</td>\n",
       "      <td>13.3</td>\n",
       "      <td>11.1</td>\n",
       "    </tr>\n",
       "    <tr>\n",
       "      <th>3</th>\n",
       "      <td>Arkansas</td>\n",
       "      <td>52.5</td>\n",
       "      <td>81.0</td>\n",
       "      <td>80.9</td>\n",
       "      <td>18.0</td>\n",
       "      <td>12.1</td>\n",
       "    </tr>\n",
       "    <tr>\n",
       "      <th>4</th>\n",
       "      <td>California</td>\n",
       "      <td>94.4</td>\n",
       "      <td>77.5</td>\n",
       "      <td>81.1</td>\n",
       "      <td>12.8</td>\n",
       "      <td>12.6</td>\n",
       "    </tr>\n",
       "  </tbody>\n",
       "</table>\n",
       "</div>"
      ],
      "text/plain": [
       "        state  metro_res  white  hs_grad  poverty  female_house\n",
       "0     Alabama       55.4   71.3     79.9     14.6          14.2\n",
       "1      Alaska       65.6   70.8     90.6      8.3          10.8\n",
       "2     Arizona       88.2   87.7     83.8     13.3          11.1\n",
       "3    Arkansas       52.5   81.0     80.9     18.0          12.1\n",
       "4  California       94.4   77.5     81.1     12.8          12.6"
      ]
     },
     "execution_count": 997,
     "metadata": {},
     "output_type": "execute_result"
    }
   ],
   "source": [
    "df = pd.read_csv('states.csv')\n",
    "df.head()"
   ]
  },
  {
   "cell_type": "code",
   "execution_count": 162,
   "id": "bfc4d8f7",
   "metadata": {},
   "outputs": [],
   "source": [
    "def mult_linregr(df, groups, x):\n",
    "    x = np.array(df[x])\n",
    "    intercept = np.array([1 for i in range(len(df))])\n",
    "    coeff = []\n",
    "    for i in groups:\n",
    "        coeff.append(df[i])\n",
    "    g_t = [intercept]\n",
    "    for gr in coeff:\n",
    "        g_t.append(gr)\n",
    "    g_t = np.array(g_t)\n",
    "    g = g_t.transpose()\n",
    "    a = list(map(lambda x: round(x, 3), \n",
    "                 (np.linalg.matrix_power(g_t.dot(g), -1).dot(g_t)).dot(x)))\n",
    "    return a, groups\n",
    "    \n",
    "def test_model(df, x, model, group, alpha):\n",
    "    x = np.array(df[x])\n",
    "    model_values = []\n",
    "    for i in range(len(df)):\n",
    "        summ = model[0]\n",
    "        for j in range(1, len(model)):\n",
    "            summ += model[j] * df[group[j - 1]][i]\n",
    "        model_values.append(summ)\n",
    "    ssres = []\n",
    "    for i in range(len(df)):\n",
    "        ssres.append((model_values[i]-x[i])**2)\n",
    "    ssres = sum(ssres)\n",
    "    sstotal = []\n",
    "    for i in range(len(df)):\n",
    "        sstotal.append((x[i] - x.mean())**2)\n",
    "    sstotal = sum(sstotal)\n",
    "    r2 = 1 - ssres/sstotal\n",
    "    r2_adj = 1 - (1 - r2) * (len(df) - 1) / (len(df) - len(group))\n",
    "    ssfac = []\n",
    "    for i in range(len(df)):\n",
    "        ssfac.append((model_values[i] - x.mean())**2)\n",
    "    sssfac = ssfac\n",
    "    ssfac = sum(ssfac)\n",
    "    f_value = ssfac * (len(df) - len(group) - 1) / (ssres * len(group))\n",
    "    f_cr = stats.f.ppf(1 - alpha, len(group), len(df) - len(group) - 1)\n",
    "    final_model = 'y_model = ' + str(model[0]) + ' +'\n",
    "    for i in range(1, len(model)):\n",
    "        final_model += ' (' + str(model[i]) + group[i-1] + ') +' \n",
    "    final_model = final_model[:len(final_model) - 2]\n",
    "    if (f_value > f_cr) and (r2_adj > 0.5):\n",
    "        print(final_model)\n",
    "        print('F =', round(f_value, 4), '> F_cr =', round(f_cr, 4),\n",
    "              ': passed')\n",
    "        print('R_2adj =', round(r2_adj, 4), ': passed')\n",
    "    else:\n",
    "        print('Not passed')\n",
    "        print('F =', round(f_value, 4), ', F_cr =', round(f_cr, 4))\n",
    "        print('R_2adj =', round(r2_adj, 4))\n",
    "    return sssfac"
   ]
  },
  {
   "cell_type": "code",
   "execution_count": 1033,
   "id": "42c9b533",
   "metadata": {},
   "outputs": [
    {
     "name": "stdout",
     "output_type": "stream",
     "text": [
      "Not passed\n",
      "F = 11.5203 , F_cr = 2.2042\n",
      "R_2adj = 0.3997\n"
     ]
    }
   ],
   "source": [
    "model, group = mult_linregr(df, ['metro_res', 'female_house', 'white'], 'poverty')\n",
    "test_model(df, 'poverty', model, group, 0.1)"
   ]
  },
  {
   "cell_type": "code",
   "execution_count": 1036,
   "id": "c1faf59f",
   "metadata": {},
   "outputs": [
    {
     "name": "stdout",
     "output_type": "stream",
     "text": [
      "y_model = 64.945 + (-0.594hs_grad) + (-0.031white)\n",
      "F = 32.6277 > F_cr = 2.4167 : passed\n",
      "R_2adj = 0.5672 : passed\n"
     ]
    }
   ],
   "source": [
    "model, group = mult_linregr(df, ['hs_grad', 'white'], 'poverty')\n",
    "test_model(df, 'poverty', model, group, 0.1)"
   ]
  },
  {
   "cell_type": "code",
   "execution_count": 999,
   "id": "87d5e226",
   "metadata": {},
   "outputs": [
    {
     "name": "stdout",
     "output_type": "stream",
     "text": [
      "Not passed\n",
      "F = 6.1693 , F_cr = 2.4167\n",
      "R_2adj = 0.1877\n"
     ]
    }
   ],
   "source": [
    "model, group = mult_linregr(df, ['metro_res', 'white'], 'poverty')\n",
    "test_model(df, 'poverty', model, group, 0.1)"
   ]
  },
  {
   "cell_type": "code",
   "execution_count": 1000,
   "id": "10cdff8f",
   "metadata": {},
   "outputs": [
    {
     "name": "stdout",
     "output_type": "stream",
     "text": [
      "y_model = 64.781 + (-0.621hs_grad)\n",
      "F = 61.7647 > F_cr = 2.8108 : passed\n",
      "R_2adj = 0.5578 : passed\n"
     ]
    }
   ],
   "source": [
    "model, group = mult_linregr(df, ['hs_grad'], 'poverty')\n",
    "test_model(df, 'poverty', model, group, 0.1)"
   ]
  },
  {
   "cell_type": "code",
   "execution_count": 1024,
   "id": "d107873f",
   "metadata": {},
   "outputs": [
    {
     "data": {
      "image/png": "[encoded data removed]",
      "text/plain": [
       "<Figure size 432x288 with 1 Axes>"
      ]
     },
     "metadata": {
      "needs_background": "light"
     },
     "output_type": "display_data"
    }
   ],
   "source": [
    "x = np.array(df['hs_grad'])\n",
    "y = np.array(df['poverty'])\n",
    "y_test = np.array(64.781 - 0.621 * x)\n",
    "plt.scatter(x, y)\n",
    "plt.plot(x, y_test, c='r')\n",
    "plt.xlabel('% людей с высшим образованием')\n",
    "plt.ylabel('Уровень бедности, значения модели')\n",
    "plt.savefig('lin_r.png', dpi=400, bbox_inches='tight')"
   ]
  },
  {
   "cell_type": "code",
   "execution_count": 1029,
   "id": "4a080e3b",
   "metadata": {},
   "outputs": [
    {
     "data": {
      "image/png": "[encoded data removed]",
      "text/plain": [
       "<Figure size 432x288 with 2 Axes>"
      ]
     },
     "metadata": {
      "needs_background": "light"
     },
     "output_type": "display_data"
    }
   ],
   "source": [
    "sns.heatmap(df.corr(), annot=True)\n",
    "plt.savefig('corr_mlr.png', dpi=400, bbox_inches='tight')"
   ]
  },
  {
   "cell_type": "code",
   "execution_count": 303,
   "id": "8d0f68cc",
   "metadata": {},
   "outputs": [
    {
     "data": {
      "image/png": "[encoded data removed]",
      "text/plain": [
       "<Figure size 432x288 with 1 Axes>"
      ]
     },
     "metadata": {
      "needs_background": "light"
     },
     "output_type": "display_data"
    }
   ],
   "source": [
    "plt.plot([10, 10], [0, 1], [45, 45], [0, 1], [10, 45], [1, 1], color='b')\n",
    "plt.ylabel('f(x)')\n",
    "plt.xlabel('x')\n",
    "plt.savefig('to_r_mmp.png')"
   ]
  },
  {
   "cell_type": "code",
   "execution_count": 270,
   "id": "2b930c4c",
   "metadata": {},
   "outputs": [
    {
     "data": {
      "text/plain": [
       "9.11"
      ]
     },
     "execution_count": 270,
     "metadata": {},
     "output_type": "execute_result"
    }
   ],
   "source": [
    "0.96+0.8+0.65+0.7+6*1"
   ]
  },
  {
   "cell_type": "code",
   "execution_count": 333,
   "id": "89658999",
   "metadata": {},
   "outputs": [],
   "source": [
    "x = [i * 0.001 for i in range(1000)]\n",
    "f = [0.4391 * math.exp(-0.4391 * x[i]) for i in range(1000)]"
   ]
  },
  {
   "cell_type": "code",
   "execution_count": 334,
   "id": "bf7e09c8",
   "metadata": {},
   "outputs": [
    {
     "data": {
      "image/png": "[encoded data removed]",
      "text/plain": [
       "<Figure size 432x288 with 1 Axes>"
      ]
     },
     "metadata": {
      "needs_background": "light"
     },
     "output_type": "display_data"
    }
   ],
   "source": [
    "plt.plot(f, x, 'r-')\n",
    "plt.ylabel('f(x)')\n",
    "plt.xlabel('x')\n",
    "plt.savefig('to_exp_mmp.png')"
   ]
  },
  {
   "cell_type": "code",
   "execution_count": 287,
   "id": "46983d03",
   "metadata": {},
   "outputs": [],
   "source": [
    "x = [12,20,24,23,16,19,20,35,10,45]"
   ]
  },
  {
   "cell_type": "code",
   "execution_count": 292,
   "id": "47da2ea4",
   "metadata": {},
   "outputs": [
    {
     "name": "stdout",
     "output_type": "stream",
     "text": [
      "22.400000000000002 110.93333333333332\n"
     ]
    }
   ],
   "source": [
    "m, d = pe_norm(x, 'm_d')\n",
    "print(m, d)"
   ]
  },
  {
   "cell_type": "code",
   "execution_count": 295,
   "id": "138491d3",
   "metadata": {},
   "outputs": [],
   "source": [
    "a = m - (3 * d) ** (1 / 2)\n",
    "b = m + (3* d) ** (1 / 2)"
   ]
  },
  {
   "cell_type": "code",
   "execution_count": 296,
   "id": "311b7aff",
   "metadata": {},
   "outputs": [
    {
     "data": {
      "text/plain": [
       "4.157193198413797"
      ]
     },
     "execution_count": 296,
     "metadata": {},
     "output_type": "execute_result"
    }
   ],
   "source": [
    "a"
   ]
  },
  {
   "cell_type": "code",
   "execution_count": 297,
   "id": "fa78d959",
   "metadata": {},
   "outputs": [
    {
     "data": {
      "text/plain": [
       "40.642806801586204"
      ]
     },
     "execution_count": 297,
     "metadata": {},
     "output_type": "execute_result"
    }
   ],
   "source": [
    "b"
   ]
  },
  {
   "cell_type": "code",
   "execution_count": 299,
   "id": "e9bddd47",
   "metadata": {},
   "outputs": [
    {
     "data": {
      "text/plain": [
       "18.242532718896246"
      ]
     },
     "execution_count": 299,
     "metadata": {},
     "output_type": "execute_result"
    }
   ],
   "source": [
    "(3 * 110.93) ** (1/2)"
   ]
  },
  {
   "cell_type": "code",
   "execution_count": 307,
   "id": "7c26a97f",
   "metadata": {},
   "outputs": [
    {
     "data": {
      "image/png": "[encoded data removed]",
      "text/plain": [
       "<Figure size 432x288 with 1 Axes>"
      ]
     },
     "metadata": {
      "needs_background": "light"
     },
     "output_type": "display_data"
    }
   ],
   "source": [
    "plt.plot([4.1572, 4.1572], [0, 1], [40.6428, 40.6428], [0, 1], [4.1572, 40.6428], [1, 1], color='b')\n",
    "plt.ylabel('f(x)')\n",
    "plt.xlabel('x')\n",
    "plt.xticks([i for i in range(0,50, 3)])\n",
    "plt.savefig('to_r_mm.png')"
   ]
  },
  {
   "cell_type": "code",
   "execution_count": 308,
   "id": "ed2e0aa9",
   "metadata": {},
   "outputs": [],
   "source": [
    "x = [0.96,0.8,0.65,0.7,1, 1, 1, 1, 1, 1]"
   ]
  },
  {
   "cell_type": "code",
   "execution_count": 318,
   "id": "bbcbcf7e",
   "metadata": {},
   "outputs": [],
   "source": [
    "m, d, sm, sd = pe_norm(x, 'both')"
   ]
  },
  {
   "cell_type": "code",
   "execution_count": 319,
   "id": "ed3c52ad",
   "metadata": {},
   "outputs": [
    {
     "data": {
      "text/plain": [
       "0.911"
      ]
     },
     "execution_count": 319,
     "metadata": {},
     "output_type": "execute_result"
    }
   ],
   "source": [
    "m"
   ]
  },
  {
   "cell_type": "code",
   "execution_count": 320,
   "id": "7b3d2159",
   "metadata": {},
   "outputs": [
    {
     "data": {
      "text/plain": [
       "0.019432222222222215"
      ]
     },
     "execution_count": 320,
     "metadata": {},
     "output_type": "execute_result"
    }
   ],
   "source": [
    "d"
   ]
  },
  {
   "cell_type": "code",
   "execution_count": 312,
   "id": "b407514b",
   "metadata": {},
   "outputs": [
    {
     "data": {
      "text/plain": [
       "1.097694840834248"
      ]
     },
     "execution_count": 312,
     "metadata": {},
     "output_type": "execute_result"
    }
   ],
   "source": [
    "1 / m"
   ]
  },
  {
   "cell_type": "code",
   "execution_count": 315,
   "id": "a9139dd3",
   "metadata": {},
   "outputs": [
    {
     "data": {
      "text/plain": [
       "0.13939950581771163"
      ]
     },
     "execution_count": 315,
     "metadata": {},
     "output_type": "execute_result"
    }
   ],
   "source": [
    "d ** (1/2)"
   ]
  },
  {
   "cell_type": "code",
   "execution_count": 316,
   "id": "f84fb4d3",
   "metadata": {},
   "outputs": [
    {
     "data": {
      "text/plain": [
       "7.462686567164178"
      ]
     },
     "execution_count": 316,
     "metadata": {},
     "output_type": "execute_result"
    }
   ],
   "source": [
    "1 / 0.134"
   ]
  },
  {
   "cell_type": "code",
   "execution_count": 321,
   "id": "1e469f39",
   "metadata": {},
   "outputs": [
    {
     "data": {
      "text/plain": [
       "0.0028212979962748326"
      ]
     },
     "execution_count": 321,
     "metadata": {},
     "output_type": "execute_result"
    }
   ],
   "source": [
    "sm / m ** 4"
   ]
  },
  {
   "cell_type": "code",
   "execution_count": 323,
   "id": "b1a4112a",
   "metadata": {},
   "outputs": [
    {
     "data": {
      "text/plain": [
       "2.5730459145748767"
      ]
     },
     "execution_count": 323,
     "metadata": {},
     "output_type": "execute_result"
    }
   ],
   "source": [
    "sd / (4 * (d ** 3))"
   ]
  },
  {
   "cell_type": "code",
   "execution_count": 325,
   "id": "95a495c9",
   "metadata": {},
   "outputs": [
    {
     "data": {
      "image/png": "[encoded data removed]",
      "text/plain": [
       "<Figure size 432x288 with 1 Axes>"
      ]
     },
     "metadata": {
      "needs_background": "light"
     },
     "output_type": "display_data"
    }
   ],
   "source": [
    "x = [i * 0.001 for i in range(1000)]\n",
    "f = [1.0977 * math.exp(-1.0977 * x[i]) for i in range(1000)]\n",
    "plt.plot(f, x, 'r-')\n",
    "plt.ylabel('f(x)')\n",
    "plt.xlabel('x')\n",
    "plt.savefig('to_exp_mm.png')"
   ]
  },
  {
   "cell_type": "code",
   "execution_count": 335,
   "id": "8aac8691",
   "metadata": {},
   "outputs": [
    {
     "data": {
      "text/plain": [
       "0.0482022025"
      ]
     },
     "execution_count": 335,
     "metadata": {},
     "output_type": "execute_result"
    }
   ],
   "source": [
    "0.4391 ** 2 / 4"
   ]
  },
  {
   "cell_type": "code",
   "execution_count": null,
   "id": "81b12fb8",
   "metadata": {},
   "outputs": [],
   "source": []
  }
 ],
 "metadata": {
  "kernelspec": {
   "display_name": "Python 3",
   "language": "python",
   "name": "python3"
  },
  "language_info": {
   "codemirror_mode": {
    "name": "ipython",
    "version": 3
   },
   "file_extension": ".py",
   "mimetype": "text/x-python",
   "name": "python",
   "nbconvert_exporter": "python",
   "pygments_lexer": "ipython3",
   "version": "3.8.8"
  }
 },
 "nbformat": 4,
 "nbformat_minor": 5
}
