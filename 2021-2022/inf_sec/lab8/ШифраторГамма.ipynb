{
 "cells": [
  {
   "cell_type": "code",
   "execution_count": 4,
   "metadata": {},
   "outputs": [
    {
     "name": "stdout",
     "output_type": "stream",
     "text": [
      "['щ', 'С', 'З', 'в', 'э', 'ш', 'ю', 'Ж', 'ч', 'ш', '7', '4', 'р', 'й', 'щ', 'У', '1', 'Е', 'А', '4']\n",
      "1  и  4\n",
      "щСЗвэшюЖчш74рйщУ1ЕА4\n"
     ]
    }
   ],
   "source": [
    "# создаем алфавит из русских букв и цифр\n",
    "# он нужен для гаммирования\n",
    "a = ord(\"а\")\n",
    "alphabeth = [chr(i) for i in range(a, a + 32)]\n",
    "a = ord(\"0\")\n",
    "for i in range(a, a+10):\n",
    "    alphabeth.append(chr(i))\n",
    "\n",
    "a = ord(\"А\")\n",
    "for i in range(1040, 1072):\n",
    "    alphabeth.append(chr(i))\n",
    "#print(alphabeth)\n",
    "P1 = \"НаВашисходящийот1204\"\n",
    "P2 = \"ВСеверныйфилиалБанка\"\n",
    "# длина ключа 20\n",
    "key = \"05 0C 17 7F 0E 4E 37 D2 94 10 09 2E 22 57 FF C8 0B B2 70 54\"\n",
    "\n",
    "\n",
    "def vzlom(P1, P2):\n",
    "    code = []\n",
    "    for i in range(20):\n",
    "        code.append(alphabeth[(alphabeth.index(P1[i]) + alphabeth.index(P2[i]))  % len(alphabeth)])\n",
    "    #получили известные символы в шаблоне\n",
    "    print(code)\n",
    "    print(code[16], \" и \", code[19])\n",
    "    p3 = \"\".join(code)\n",
    "    print(p3)\n",
    "\n",
    "vzlom(P1, P2)"
   ]
  },
  {
   "cell_type": "code",
   "execution_count": 3,
   "metadata": {},
   "outputs": [
    {
     "name": "stdout",
     "output_type": "stream",
     "text": [
      "Введите гамму(на русском языке! Да и пробелы тоже нельзя! Короче, только символы из dictщСЗвэшюЖчш74рйщУ1ЕА4\n",
      "Числа текста [47, 1, 35, 1, 26, 10, 19, 23, 16, 5, 32, 27, 10, 11, 16, 20, 66, 67, 75, 69]\n",
      "числа гаммы [27, 51, 41, 3, 31, 26, 32, 40, 25, 26, 72, 69, 18, 11, 27, 53, 66, 38, 33, 69]\n",
      "1\n",
      "29\n",
      "21\n",
      "57\n",
      "30\n",
      "33\n",
      "63\n",
      "Числа зашифрованного текста [74, 52, 1, 4, 57, 36, 51, 63, 41, 31, 29, 21, 28, 22, 43, 73, 57, 30, 33, 63]\n",
      "Зашифрованный текст:  9ТагЧГСЭЗэыуъфЙ8ЧьАЭ\n",
      "Расшифрованный текст НаВашисходящийот1204\n"
     ]
    }
   ],
   "source": [
    "def shifr(P1):\n",
    "    # создаем алфавит\n",
    "    dicts = {\"а\": 1, \"б\": 2, \"в\": 3, \"г\": 4, \"д\": 5, \"е\": 6, \"ё\": 7, \"ж\": 8, \"з\": 9, \"и\": 10, \"й\": 11, \"к\": 12, \"л\": 13,\n",
    "             \"м\": 14, \"н\": 15, \"о\": 16, \"п\": 17,\n",
    "             \"р\": 18, \"с\": 19, \"т\": 20, \"у\": 21, \"ф\": 22, \"х\": 23, \"ц\": 24, \"ч\": 25, \"ш\": 26, \"щ\": 27, \"ъ\": 28,\n",
    "             \"ы\": 29, \"ь\": 30, \"э\": 31, \"ю\": 32, \"я\": 32, \"А\":33 , \"Б\": 34, \"В\": 35 , \"Г\":36 , \"Д\":37 , \"Е\":38 , \"Ё\":39 , \"Ж\":40 , \"З\":41 ,\n",
    "                \"И\":42,\"Й\":43 , \"К\":44 , \"Л\":45 , \"М\":46 , \"Н\":47 , \"О\":48 , \"П\":49 , \"Р\":50 , \"С\":51 , \"Т\":52 , \"У\":53 , \"Ф\":54 , \"Х\":55 , \"Ц\":56 , \"Ч\":57 ,\n",
    "    \"Ш\":58,\"Щ\":59 , \"Ъ\":60 , \"Ы\":61 , \"Ь\":62 , \"Э\":63 , \"Ю\":64 , \"Я\":65 , \"1\":66 , \"2\":67 , \"3\":68 , \"4\":69 , \"5\":70 , \"6\":71 , \"7\": 72, \"8\":73 , \"9\":74 , \"0\":75\n",
    "    }\n",
    "    # меняем местами ключ и значение, такой словарь понадобится в будущем\n",
    "    dict2 = {v: k for k, v in dicts.items()}\n",
    "    text = P1\n",
    "    gamma = input(\"Введите гамму(на русском языке! Да и пробелы тоже нельзя! Короче, только символы из dict\")\n",
    "    listofdigitsoftext = list()  # сюда будем записывать числа букв из текста\n",
    "    listofdigitsofgamma = list()  # для гаммы\n",
    "    # запишем числа в список\n",
    "    for i in text:\n",
    "        listofdigitsoftext.append(dicts[i])\n",
    "    print(\"Числа текста\", listofdigitsoftext)\n",
    "    # то же самое сделаем с гаммой\n",
    "    for i in gamma:\n",
    "        listofdigitsofgamma.append(dicts[i])\n",
    "    print(\"числа гаммы\", listofdigitsofgamma)\n",
    "    listofdigitsresult = list()  # сюда будем записывать результат\n",
    "    ch = 0\n",
    "    for i in text:\n",
    "        try:\n",
    "            a = dicts[i] + listofdigitsofgamma[ch]\n",
    "        except:\n",
    "            ch = 0\n",
    "            a = dicts[i] + listofdigitsofgamma[ch]\n",
    "        if a > 75:\n",
    "            a = a%75\n",
    "            print(a)\n",
    "        ch += 1\n",
    "        listofdigitsresult.append(a)\n",
    "    print(\"Числа зашифрованного текста\", listofdigitsresult)\n",
    "    # теперь обратно числа представим в виде букв\n",
    "    textencrypted = \"\"\n",
    "    for i in listofdigitsresult:\n",
    "        textencrypted += dict2[i]\n",
    "    print(\"Зашифрованный текст: \", textencrypted)\n",
    "    # теперь приступим к реализации алгоритма дешифровки\n",
    "    listofdigits = list()\n",
    "    for i in textencrypted:\n",
    "        listofdigits.append(dicts[i])\n",
    "    ch = 0\n",
    "    listofdigits1 = list()\n",
    "    for i in listofdigits:\n",
    "        try:\n",
    "            a = i - listofdigitsofgamma[ch]\n",
    "        except:\n",
    "            ch=0\n",
    "            a = i - listofdigitsofgamma[ch]\n",
    "        if a < 1:\n",
    "            a = 75 + a\n",
    "        listofdigits1.append(a)\n",
    "        ch += 1\n",
    "    textdecrypted = \"\"\n",
    "    for i in listofdigits1:\n",
    "        textdecrypted += dict2[i]\n",
    "    print(\"Расшифрованный текст\", textdecrypted)\n",
    "\n",
    "shifr(P1)"
   ]
  },
  {
   "cell_type": "code",
   "execution_count": null,
   "metadata": {},
   "outputs": [],
   "source": []
  }
 ],
 "metadata": {
  "kernelspec": {
   "display_name": "Python 3",
   "language": "python",
   "name": "python3"
  },
  "language_info": {
   "codemirror_mode": {
    "name": "ipython",
    "version": 3
   },
   "file_extension": ".py",
   "mimetype": "text/x-python",
   "name": "python",
   "nbconvert_exporter": "python",
   "pygments_lexer": "ipython3",
   "version": "3.7.1"
  }
 },
 "nbformat": 4,
 "nbformat_minor": 4
}
