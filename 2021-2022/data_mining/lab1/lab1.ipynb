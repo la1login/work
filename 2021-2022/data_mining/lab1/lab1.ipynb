{
 "cells": [
  {
   "cell_type": "markdown",
   "id": "537fbeac",
   "metadata": {},
   "source": [
    "# Лабораторная работа 1"
   ]
  },
  {
   "cell_type": "markdown",
   "id": "cf2f7c93",
   "metadata": {},
   "source": [
    "## Логинов Сергей"
   ]
  },
  {
   "cell_type": "markdown",
   "id": "d91f63a4",
   "metadata": {},
   "source": [
    "## Вариант 15"
   ]
  },
  {
   "cell_type": "markdown",
   "id": "5df9935e",
   "metadata": {},
   "source": [
    "Загрузим модули для работы с данными"
   ]
  },
  {
   "cell_type": "code",
   "execution_count": 25,
   "id": "27d3d808",
   "metadata": {},
   "outputs": [],
   "source": [
    "from pandas_datareader import data as pdr\n",
    "import datetime as dt"
   ]
  },
  {
   "cell_type": "markdown",
   "id": "2e4cf5ef",
   "metadata": {},
   "source": [
    "1. Напишем функцию для считывания данных компаний."
   ]
  },
  {
   "cell_type": "code",
   "execution_count": 26,
   "id": "e8b013f2",
   "metadata": {},
   "outputs": [],
   "source": [
    "def read_data(companies_, start_date_, end_date_):\n",
    "    all_data_ = dict()\n",
    "    for i in companies_:\n",
    "        all_data_[i] = pdr.get_data_yahoo(companies_[i], start_date_, end_date_)\n",
    "    return all_data_"
   ]
  },
  {
   "cell_type": "markdown",
   "id": "5a709a22",
   "metadata": {},
   "source": [
    "    Определим данные, которые хотим считать (Coca-Cola, Cleveland-Cliffs Inc, United Microelectronics Corp ADR за 2019 год) и запустим функцию read_data. "
   ]
  },
  {
   "cell_type": "code",
   "execution_count": 27,
   "id": "cc709796",
   "metadata": {},
   "outputs": [],
   "source": [
    "start_date = dt.date(2019, 1, 1)\n",
    "end_date = dt.date(2019, 12, 31)\n",
    "companies = {\n",
    "    \"Coca-Cola Company\": \"KO\",\n",
    "    \"Cleveland-Cliffs Inc\": \"CLF\",\n",
    "    \"United Microelectronics Corp ADR\": \"UMC\"\n",
    "}\n",
    "all_data = read_data(companies, start_date, end_date)"
   ]
  },
  {
   "cell_type": "markdown",
   "id": "d79e32db",
   "metadata": {},
   "source": [
    "    Распечатаем эти данные."
   ]
  },
  {
   "cell_type": "code",
   "execution_count": 28,
   "id": "f5a6acef",
   "metadata": {},
   "outputs": [
    {
     "name": "stdout",
     "output_type": "stream",
     "text": [
      "----------------------------------------------------------------------------------------------------\n",
      "Данные по ценным бумагам компании Coca-Cola Company c начала 2019 года до конца 2019:\n",
      "                 High        Low       Open      Close      Volume  Adj Close\n",
      "Date                                                                         \n",
      "2019-01-02  47.220001  46.560001  46.939999  46.930000  11603700.0  41.707706\n",
      "2019-01-03  47.369999  46.529999  46.820000  46.639999  14714400.0  41.449982\n",
      "2019-01-04  47.570000  46.639999  46.750000  47.570000  13013700.0  42.276482\n",
      "2019-01-07  47.750000  46.900002  47.570000  46.950001  13135500.0  41.725479\n",
      "2019-01-08  47.570000  47.040001  47.250000  47.480000  15420700.0  42.196503\n",
      "...               ...        ...        ...        ...         ...        ...\n",
      "2019-12-24  55.000000  54.639999  54.799999  54.709999   3359300.0  50.162605\n",
      "2019-12-26  55.020000  54.790001  54.919998  55.020000   6228500.0  50.446838\n",
      "2019-12-27  55.450001  55.000000  55.009998  55.349998   6895500.0  50.749401\n",
      "2019-12-30  55.389999  55.060001  55.180000  55.270000   6431700.0  50.676060\n",
      "2019-12-31  55.380001  54.980000  55.200001  55.349998   7982600.0  50.749401\n",
      "\n",
      "[252 rows x 6 columns]\n",
      "----------------------------------------------------------------------------------------------------\n",
      "\n",
      "----------------------------------------------------------------------------------------------------\n",
      "Данные по ценным бумагам компании Cleveland-Cliffs Inc c начала 2019 года до конца 2019:\n",
      "            High   Low  Open  Close      Volume  Adj Close\n",
      "Date                                                      \n",
      "2019-01-02  7.96  7.44  7.49   7.86   6366500.0   7.442865\n",
      "2019-01-03  7.87  7.49  7.76   7.63   7097100.0   7.271326\n",
      "2019-01-04  8.64  7.80  7.83   8.47  12418000.0   8.071839\n",
      "2019-01-07  8.82  8.17  8.55   8.73  12218800.0   8.319616\n",
      "2019-01-08  8.91  8.37  8.83   8.56   8265400.0   8.157610\n",
      "...          ...   ...   ...    ...         ...        ...\n",
      "2019-12-24  8.50  8.21  8.22   8.40   4140600.0   8.208316\n",
      "2019-12-26  8.49  8.27  8.42   8.36   4860100.0   8.169229\n",
      "2019-12-27  8.44  8.20  8.38   8.22   5887800.0   8.032424\n",
      "2019-12-30  8.43  8.23  8.28   8.33   6922600.0   8.139914\n",
      "2019-12-31  8.57  8.30  8.34   8.40   8866600.0   8.208316\n",
      "\n",
      "[252 rows x 6 columns]\n",
      "----------------------------------------------------------------------------------------------------\n",
      "\n",
      "----------------------------------------------------------------------------------------------------\n",
      "Данные по ценным бумагам компании United Microelectronics Corp ADR c начала 2019 года до конца 2019:\n",
      "            High   Low  Open  Close     Volume  Adj Close\n",
      "Date                                                     \n",
      "2019-01-02  1.79  1.75  1.76   1.77   384000.0   1.464247\n",
      "2019-01-03  1.75  1.69  1.74   1.73  1316500.0   1.431157\n",
      "2019-01-04  1.73  1.70  1.71   1.72  1031100.0   1.422884\n",
      "2019-01-07  1.77  1.73  1.74   1.77   710700.0   1.464247\n",
      "2019-01-08  1.77  1.75  1.77   1.77   607500.0   1.464247\n",
      "...          ...   ...   ...    ...        ...        ...\n",
      "2019-12-24  2.74  2.72  2.74   2.72   151400.0   2.346024\n",
      "2019-12-26  2.74  2.71  2.72   2.71   179600.0   2.337399\n",
      "2019-12-27  2.74  2.72  2.74   2.72   175200.0   2.346024\n",
      "2019-12-30  2.72  2.69  2.72   2.69   232800.0   2.320148\n",
      "2019-12-31  2.70  2.66  2.68   2.68   284700.0   2.311523\n",
      "\n",
      "[252 rows x 6 columns]\n",
      "----------------------------------------------------------------------------------------------------\n",
      "\n"
     ]
    }
   ],
   "source": [
    "for i in all_data:\n",
    "    print(\"-\" * 100)\n",
    "    print(\"Данные по ценным бумагам компании {} c начала {} года до конца {}:\".format(i,start_date.year, \n",
    "                                                                                      end_date.year))\n",
    "    print(all_data[i])\n",
    "    print(\"-\" * 100, end=\"\\n\\n\")"
   ]
  },
  {
   "cell_type": "markdown",
   "id": "529c9fdb",
   "metadata": {},
   "source": [
    "2.  Определим ценную бумагу, имеющую минимальную среднюю дневную доходность, и построим график изменения ее стоимости."
   ]
  },
  {
   "cell_type": "code",
   "execution_count": 29,
   "id": "82aea7fa",
   "metadata": {},
   "outputs": [],
   "source": [
    "def min_avg_income(data):\n",
    "    def get_avg_income(data_):\n",
    "        values = {}\n",
    "        for i in data_:\n",
    "            value = data_[i][\"Adj Close\"].pct_change().mean()\n",
    "            values[i] = value\n",
    "        return values\n",
    "    avg_income = get_avg_income(data)\n",
    "    min_val = min(avg_income, key=avg_income.get)\n",
    "    return [min_val, avg_income[min_val]]"
   ]
  },
  {
   "cell_type": "markdown",
   "id": "3d0d0abc",
   "metadata": {},
   "source": [
    "    Выведем компанию с минимальной средней дневной доходностью и построим график изменения ее стоимости."
   ]
  },
  {
   "cell_type": "code",
   "execution_count": 30,
   "id": "c18f412a",
   "metadata": {
    "scrolled": true
   },
   "outputs": [
    {
     "name": "stdout",
     "output_type": "stream",
     "text": [
      "Компания с минимальной средней дневной доходностью: Coca-Cola Company(значение 0.0008397261912822444)\n"
     ]
    }
   ],
   "source": [
    "min_avg_income_company = min_avg_income(all_data)\n",
    "print(\"Компания с минимальной средней \"\n",
    "      \"дневной доходностью: {}(значение {})\".format(min_avg_income_company[0],\n",
    "                                                      min_avg_income_company[1]))"
   ]
  },
  {
   "cell_type": "code",
   "execution_count": 31,
   "id": "a5a87757",
   "metadata": {},
   "outputs": [
    {
     "data": {
      "image/png": "[encoded data removed]",
      "text/plain": [
       "<Figure size 432x288 with 1 Axes>"
      ]
     },
     "metadata": {
      "needs_background": "light"
     },
     "output_type": "display_data"
    }
   ],
   "source": [
    "all_data[min_avg_income_company[0]][\"Adj Close\"].plot.\\\n",
    "    line(grid=True, \n",
    "         title=\"График изменения стоимости акций компании {}\".format(min_avg_income_company[0]));"
   ]
  },
  {
   "cell_type": "markdown",
   "id": "a3a93362",
   "metadata": {},
   "source": [
    "3. Для ценной бумаги, имеющую максимальную дневную доходность, построим диаграмму размаха для дневных доходностей. "
   ]
  },
  {
   "cell_type": "code",
   "execution_count": 32,
   "id": "5f3583c3",
   "metadata": {},
   "outputs": [],
   "source": [
    "def max_day_income(data):\n",
    "    def get_day_income(data_):\n",
    "        values = {}\n",
    "        for i in data_:\n",
    "            value = data_[i][\"Adj Close\"].pct_change().max()\n",
    "            values[i] = value\n",
    "        return values\n",
    "    max_income = get_day_income(data)\n",
    "    max_val = max(max_income, key=max_income.get)\n",
    "    return [max_val, max_income[max_val]]"
   ]
  },
  {
   "cell_type": "code",
   "execution_count": 33,
   "id": "c9500c0d",
   "metadata": {
    "scrolled": true
   },
   "outputs": [
    {
     "name": "stdout",
     "output_type": "stream",
     "text": [
      "Компания с максимальной дневной доходностью акций: Cleveland-Cliffs Inc(значение 0.1773666915629808)\n"
     ]
    }
   ],
   "source": [
    "max_day_income_company = max_day_income(all_data)\n",
    "print(\"Компания с максимальной \"\n",
    "      \"дневной доходностью акций: {}(значение {})\".format(max_day_income_company[0],\n",
    "                                                      max_day_income_company[1]))"
   ]
  },
  {
   "cell_type": "code",
   "execution_count": 34,
   "id": "c1dfa03e",
   "metadata": {},
   "outputs": [
    {
     "data": {
      "image/png": "[encoded data removed]",
      "text/plain": [
       "<Figure size 432x288 with 1 Axes>"
      ]
     },
     "metadata": {
      "needs_background": "light"
     },
     "output_type": "display_data"
    }
   ],
   "source": [
    "all_data[max_day_income_company[0]][\"Adj Close\"].pct_change().plot.box(title=\"Диаграмма размаха для дневных доходностей компании {}\".format(max_day_income_company[0]));"
   ]
  },
  {
   "cell_type": "markdown",
   "id": "25dc281d",
   "metadata": {},
   "source": [
    "4. Для ценной бумаги, имеющей минимальную дисперсию дневной доходности, построим и визуализируем эмпирическую функцию распределения дневной доходности. "
   ]
  },
  {
   "cell_type": "code",
   "execution_count": 35,
   "id": "189ef875",
   "metadata": {},
   "outputs": [],
   "source": [
    "def ECDF(data, x):\n",
    "    counter = 0\n",
    "    for v in data:\n",
    "        if v <= x:\n",
    "            counter += 1\n",
    "    return counter / len(data)"
   ]
  },
  {
   "cell_type": "code",
   "execution_count": 36,
   "id": "3cc77bc6",
   "metadata": {},
   "outputs": [],
   "source": [
    "def min_std_income(data):\n",
    "    def get_min_std_income(data_):\n",
    "        values = {}\n",
    "        for i in data_:\n",
    "            value = data_[i][\"Adj Close\"].pct_change().std()\n",
    "            values[i] = value\n",
    "        return values\n",
    "\n",
    "    std_income = get_min_std_income(data)\n",
    "    min_val = min(std_income, key=std_income.get)\n",
    "    return [min_val, std_income[min_val]]"
   ]
  },
  {
   "cell_type": "code",
   "execution_count": 37,
   "id": "aba18a06",
   "metadata": {},
   "outputs": [],
   "source": [
    "min_std_income_company = min_std_income(all_data)\n",
    "current_company = all_data[min_std_income_company[0]][\"Adj Close\"].pct_change()\n",
    "max_change = current_company.max()\n",
    "min_change = current_company.min()\n",
    "npoints = len(current_company)\n",
    "\n",
    "dx = (max_change - min_change) / npoints\n",
    "xlist = [min_change + dx * i for i in range(npoints)]\n",
    "ylist = [ECDF(current_company, x) for x in xlist]\n"
   ]
  },
  {
   "cell_type": "code",
   "execution_count": 38,
   "id": "7377275d",
   "metadata": {},
   "outputs": [
    {
     "data": {
      "image/png": "[encoded data removed]",
      "text/plain": [
       "<Figure size 432x288 with 1 Axes>"
      ]
     },
     "metadata": {
      "needs_background": "light"
     },
     "output_type": "display_data"
    }
   ],
   "source": [
    "import matplotlib.pyplot as plt\n",
    "\n",
    "plt.plot(xlist, ylist,'g', label=\"Функция распределения дневной доходности\"); "
   ]
  },
  {
   "cell_type": "markdown",
   "id": "669c2d8d",
   "metadata": {},
   "source": [
    "5. Вычислим матрицу корреляции дневных доходностей ценных бумаг и для пары ценных бумаг с наиболее низкой корреляцией построим диаграмму рассеяния стоимости ценных бумаг.\n"
   ]
  },
  {
   "cell_type": "code",
   "execution_count": 39,
   "id": "308f7166",
   "metadata": {},
   "outputs": [
    {
     "data": {
      "text/html": [
       "<div>\n",
       "<style scoped>\n",
       "    .dataframe tbody tr th:only-of-type {\n",
       "        vertical-align: middle;\n",
       "    }\n",
       "\n",
       "    .dataframe tbody tr th {\n",
       "        vertical-align: top;\n",
       "    }\n",
       "\n",
       "    .dataframe thead th {\n",
       "        text-align: right;\n",
       "    }\n",
       "</style>\n",
       "<table border=\"1\" class=\"dataframe\">\n",
       "  <thead>\n",
       "    <tr style=\"text-align: right;\">\n",
       "      <th>Ticker</th>\n",
       "      <th>Cleveland-Cliffs Inc</th>\n",
       "      <th>Coca-Cola Company</th>\n",
       "      <th>United Microelectronics Corp ADR</th>\n",
       "    </tr>\n",
       "    <tr>\n",
       "      <th>Date</th>\n",
       "      <th></th>\n",
       "      <th></th>\n",
       "      <th></th>\n",
       "    </tr>\n",
       "  </thead>\n",
       "  <tbody>\n",
       "    <tr>\n",
       "      <th>2019-01-02</th>\n",
       "      <td>7.442865</td>\n",
       "      <td>41.707706</td>\n",
       "      <td>1.464247</td>\n",
       "    </tr>\n",
       "    <tr>\n",
       "      <th>2019-01-03</th>\n",
       "      <td>7.271326</td>\n",
       "      <td>41.449982</td>\n",
       "      <td>1.431157</td>\n",
       "    </tr>\n",
       "    <tr>\n",
       "      <th>2019-01-04</th>\n",
       "      <td>8.071839</td>\n",
       "      <td>42.276482</td>\n",
       "      <td>1.422884</td>\n",
       "    </tr>\n",
       "    <tr>\n",
       "      <th>2019-01-07</th>\n",
       "      <td>8.319616</td>\n",
       "      <td>41.725479</td>\n",
       "      <td>1.464247</td>\n",
       "    </tr>\n",
       "    <tr>\n",
       "      <th>2019-01-08</th>\n",
       "      <td>8.157610</td>\n",
       "      <td>42.196503</td>\n",
       "      <td>1.464247</td>\n",
       "    </tr>\n",
       "    <tr>\n",
       "      <th>...</th>\n",
       "      <td>...</td>\n",
       "      <td>...</td>\n",
       "      <td>...</td>\n",
       "    </tr>\n",
       "    <tr>\n",
       "      <th>2019-12-24</th>\n",
       "      <td>8.208316</td>\n",
       "      <td>50.162605</td>\n",
       "      <td>2.346024</td>\n",
       "    </tr>\n",
       "    <tr>\n",
       "      <th>2019-12-26</th>\n",
       "      <td>8.169229</td>\n",
       "      <td>50.446838</td>\n",
       "      <td>2.337399</td>\n",
       "    </tr>\n",
       "    <tr>\n",
       "      <th>2019-12-27</th>\n",
       "      <td>8.032424</td>\n",
       "      <td>50.749401</td>\n",
       "      <td>2.346024</td>\n",
       "    </tr>\n",
       "    <tr>\n",
       "      <th>2019-12-30</th>\n",
       "      <td>8.139914</td>\n",
       "      <td>50.676060</td>\n",
       "      <td>2.320148</td>\n",
       "    </tr>\n",
       "    <tr>\n",
       "      <th>2019-12-31</th>\n",
       "      <td>8.208316</td>\n",
       "      <td>50.749401</td>\n",
       "      <td>2.311523</td>\n",
       "    </tr>\n",
       "  </tbody>\n",
       "</table>\n",
       "<p>252 rows × 3 columns</p>\n",
       "</div>"
      ],
      "text/plain": [
       "Ticker      Cleveland-Cliffs Inc  Coca-Cola Company  \\\n",
       "Date                                                  \n",
       "2019-01-02              7.442865          41.707706   \n",
       "2019-01-03              7.271326          41.449982   \n",
       "2019-01-04              8.071839          42.276482   \n",
       "2019-01-07              8.319616          41.725479   \n",
       "2019-01-08              8.157610          42.196503   \n",
       "...                          ...                ...   \n",
       "2019-12-24              8.208316          50.162605   \n",
       "2019-12-26              8.169229          50.446838   \n",
       "2019-12-27              8.032424          50.749401   \n",
       "2019-12-30              8.139914          50.676060   \n",
       "2019-12-31              8.208316          50.749401   \n",
       "\n",
       "Ticker      United Microelectronics Corp ADR  \n",
       "Date                                          \n",
       "2019-01-02                          1.464247  \n",
       "2019-01-03                          1.431157  \n",
       "2019-01-04                          1.422884  \n",
       "2019-01-07                          1.464247  \n",
       "2019-01-08                          1.464247  \n",
       "...                                      ...  \n",
       "2019-12-24                          2.346024  \n",
       "2019-12-26                          2.337399  \n",
       "2019-12-27                          2.346024  \n",
       "2019-12-30                          2.320148  \n",
       "2019-12-31                          2.311523  \n",
       "\n",
       "[252 rows x 3 columns]"
      ]
     },
     "execution_count": 39,
     "metadata": {},
     "output_type": "execute_result"
    }
   ],
   "source": [
    "import pandas as pd\n",
    "def get(data_):\n",
    "    datas = []\n",
    "    tickers = []\n",
    "    def data(tiker):\n",
    "        return data_[tiker]\n",
    "    for i in data_.keys():\n",
    "        datas.append(data(i))\n",
    "        tickers.append(i)\n",
    "\n",
    "    return (pd.concat(datas, keys=tickers, names=['Ticker', 'Date']))\n",
    "\n",
    "all_data = get(all_data)\n",
    "daily_close_pr = all_data[['Adj Close']].reset_index().pivot('Date', 'Ticker', 'Adj Close')\n",
    "daily_close_pr"
   ]
  },
  {
   "cell_type": "code",
   "execution_count": 40,
   "id": "7cc3a5de",
   "metadata": {},
   "outputs": [
    {
     "data": {
      "text/html": [
       "<div>\n",
       "<style scoped>\n",
       "    .dataframe tbody tr th:only-of-type {\n",
       "        vertical-align: middle;\n",
       "    }\n",
       "\n",
       "    .dataframe tbody tr th {\n",
       "        vertical-align: top;\n",
       "    }\n",
       "\n",
       "    .dataframe thead th {\n",
       "        text-align: right;\n",
       "    }\n",
       "</style>\n",
       "<table border=\"1\" class=\"dataframe\">\n",
       "  <thead>\n",
       "    <tr style=\"text-align: right;\">\n",
       "      <th>Ticker</th>\n",
       "      <th>Cleveland-Cliffs Inc</th>\n",
       "      <th>Coca-Cola Company</th>\n",
       "      <th>United Microelectronics Corp ADR</th>\n",
       "    </tr>\n",
       "    <tr>\n",
       "      <th>Ticker</th>\n",
       "      <th></th>\n",
       "      <th></th>\n",
       "      <th></th>\n",
       "    </tr>\n",
       "  </thead>\n",
       "  <tbody>\n",
       "    <tr>\n",
       "      <th>Cleveland-Cliffs Inc</th>\n",
       "      <td>1.000000</td>\n",
       "      <td>-0.605848</td>\n",
       "      <td>-0.453002</td>\n",
       "    </tr>\n",
       "    <tr>\n",
       "      <th>Coca-Cola Company</th>\n",
       "      <td>-0.605848</td>\n",
       "      <td>1.000000</td>\n",
       "      <td>0.806789</td>\n",
       "    </tr>\n",
       "    <tr>\n",
       "      <th>United Microelectronics Corp ADR</th>\n",
       "      <td>-0.453002</td>\n",
       "      <td>0.806789</td>\n",
       "      <td>1.000000</td>\n",
       "    </tr>\n",
       "  </tbody>\n",
       "</table>\n",
       "</div>"
      ],
      "text/plain": [
       "Ticker                            Cleveland-Cliffs Inc  Coca-Cola Company  \\\n",
       "Ticker                                                                      \n",
       "Cleveland-Cliffs Inc                          1.000000          -0.605848   \n",
       "Coca-Cola Company                            -0.605848           1.000000   \n",
       "United Microelectronics Corp ADR             -0.453002           0.806789   \n",
       "\n",
       "Ticker                            United Microelectronics Corp ADR  \n",
       "Ticker                                                              \n",
       "Cleveland-Cliffs Inc                                     -0.453002  \n",
       "Coca-Cola Company                                         0.806789  \n",
       "United Microelectronics Corp ADR                          1.000000  "
      ]
     },
     "execution_count": 40,
     "metadata": {},
     "output_type": "execute_result"
    }
   ],
   "source": [
    "daily_close_pr.corr()"
   ]
  },
  {
   "cell_type": "code",
   "execution_count": 41,
   "id": "a41d8947",
   "metadata": {},
   "outputs": [],
   "source": [
    "daily_cor_min = daily_close_pr.corr().min()\n",
    "min_val = daily_cor_min.min()\n",
    "lmin = []\n",
    "for i in range(len(daily_cor_min)):\n",
    "    if daily_cor_min[i] == min_val:\n",
    "        lmin.append(daily_cor_min.index[i])"
   ]
  },
  {
   "cell_type": "code",
   "execution_count": 24,
   "id": "b9921b09",
   "metadata": {},
   "outputs": [
    {
     "data": {
      "image/png": "[encoded data removed]",
      "text/plain": [
       "<Figure size 432x288 with 1 Axes>"
      ]
     },
     "metadata": {
      "needs_background": "light"
     },
     "output_type": "display_data"
    }
   ],
   "source": [
    "daily_close_pr.plot.scatter(x = lmin[0], y=lmin[1], \n",
    "                            title = \"Диаграмма рассеяния стоимости ценных бумаг\");"
   ]
  }
 ],
 "metadata": {
  "kernelspec": {
   "display_name": "Python 3 (ipykernel)",
   "language": "python",
   "name": "python3"
  },
  "language_info": {
   "codemirror_mode": {
    "name": "ipython",
    "version": 3
   },
   "file_extension": ".py",
   "mimetype": "text/x-python",
   "name": "python",
   "nbconvert_exporter": "python",
   "pygments_lexer": "ipython3",
   "version": "3.9.12"
  }
 },
 "nbformat": 4,
 "nbformat_minor": 5
}
