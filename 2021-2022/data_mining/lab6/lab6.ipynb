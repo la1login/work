{
 "cells": [
  {
   "cell_type": "markdown",
   "id": "11584d99",
   "metadata": {},
   "source": [
    "# Лабораторная работа №6. \n",
    "## Логинов Сергей\n",
    "### Вариант 1"
   ]
  },
  {
   "cell_type": "markdown",
   "id": "43e3a59b",
   "metadata": {},
   "source": [
    "1. Считаем из заданного набора данных (Annealing Data Set) репозитария UCI значения."
   ]
  },
  {
   "cell_type": "code",
   "execution_count": 10,
   "id": "05a81dbb",
   "metadata": {},
   "outputs": [
    {
     "data": {
      "text/plain": [
       "array([False])"
      ]
     },
     "execution_count": 10,
     "metadata": {},
     "output_type": "execute_result"
    }
   ],
   "source": [
    "import pandas as pd\n",
    "import numpy as np\n",
    "url = \\\n",
    "\"https://archive.ics.uci.edu/ml/machine-learning-databases/annealing/anneal.data\"\n",
    "data_set = pd.read_csv( url, header=None )\n",
    "np.unique(data_set.isna())"
   ]
  },
  {
   "cell_type": "markdown",
   "id": "907cbd2f",
   "metadata": {},
   "source": [
    "2. Произведем препроцессинг данных. Пропущенных данных в классе нет. Выберем только числовые признаки."
   ]
  },
  {
   "cell_type": "code",
   "execution_count": 11,
   "id": "880e7642",
   "metadata": {},
   "outputs": [
    {
     "data": {
      "text/html": [
       "<div>\n",
       "<style scoped>\n",
       "    .dataframe tbody tr th:only-of-type {\n",
       "        vertical-align: middle;\n",
       "    }\n",
       "\n",
       "    .dataframe tbody tr th {\n",
       "        vertical-align: top;\n",
       "    }\n",
       "\n",
       "    .dataframe thead th {\n",
       "        text-align: right;\n",
       "    }\n",
       "</style>\n",
       "<table border=\"1\" class=\"dataframe\">\n",
       "  <thead>\n",
       "    <tr style=\"text-align: right;\">\n",
       "      <th></th>\n",
       "      <th>3</th>\n",
       "      <th>4</th>\n",
       "      <th>8</th>\n",
       "      <th>32</th>\n",
       "      <th>33</th>\n",
       "      <th>34</th>\n",
       "    </tr>\n",
       "  </thead>\n",
       "  <tbody>\n",
       "    <tr>\n",
       "      <th>0</th>\n",
       "      <td>8</td>\n",
       "      <td>0</td>\n",
       "      <td>0</td>\n",
       "      <td>0.700</td>\n",
       "      <td>610.0</td>\n",
       "      <td>0</td>\n",
       "    </tr>\n",
       "    <tr>\n",
       "      <th>1</th>\n",
       "      <td>0</td>\n",
       "      <td>0</td>\n",
       "      <td>0</td>\n",
       "      <td>3.200</td>\n",
       "      <td>610.0</td>\n",
       "      <td>0</td>\n",
       "    </tr>\n",
       "    <tr>\n",
       "      <th>2</th>\n",
       "      <td>0</td>\n",
       "      <td>0</td>\n",
       "      <td>0</td>\n",
       "      <td>0.700</td>\n",
       "      <td>1300.0</td>\n",
       "      <td>762</td>\n",
       "    </tr>\n",
       "    <tr>\n",
       "      <th>3</th>\n",
       "      <td>0</td>\n",
       "      <td>60</td>\n",
       "      <td>0</td>\n",
       "      <td>2.801</td>\n",
       "      <td>385.1</td>\n",
       "      <td>0</td>\n",
       "    </tr>\n",
       "    <tr>\n",
       "      <th>4</th>\n",
       "      <td>0</td>\n",
       "      <td>60</td>\n",
       "      <td>0</td>\n",
       "      <td>0.801</td>\n",
       "      <td>255.0</td>\n",
       "      <td>269</td>\n",
       "    </tr>\n",
       "    <tr>\n",
       "      <th>...</th>\n",
       "      <td>...</td>\n",
       "      <td>...</td>\n",
       "      <td>...</td>\n",
       "      <td>...</td>\n",
       "      <td>...</td>\n",
       "      <td>...</td>\n",
       "    </tr>\n",
       "    <tr>\n",
       "      <th>793</th>\n",
       "      <td>0</td>\n",
       "      <td>50</td>\n",
       "      <td>0</td>\n",
       "      <td>1.001</td>\n",
       "      <td>50.0</td>\n",
       "      <td>0</td>\n",
       "    </tr>\n",
       "    <tr>\n",
       "      <th>794</th>\n",
       "      <td>0</td>\n",
       "      <td>0</td>\n",
       "      <td>0</td>\n",
       "      <td>0.699</td>\n",
       "      <td>1300.0</td>\n",
       "      <td>4880</td>\n",
       "    </tr>\n",
       "    <tr>\n",
       "      <th>795</th>\n",
       "      <td>0</td>\n",
       "      <td>0</td>\n",
       "      <td>0</td>\n",
       "      <td>0.400</td>\n",
       "      <td>609.9</td>\n",
       "      <td>0</td>\n",
       "    </tr>\n",
       "    <tr>\n",
       "      <th>796</th>\n",
       "      <td>0</td>\n",
       "      <td>0</td>\n",
       "      <td>0</td>\n",
       "      <td>3.200</td>\n",
       "      <td>610.0</td>\n",
       "      <td>4880</td>\n",
       "    </tr>\n",
       "    <tr>\n",
       "      <th>797</th>\n",
       "      <td>0</td>\n",
       "      <td>0</td>\n",
       "      <td>0</td>\n",
       "      <td>1.599</td>\n",
       "      <td>1500.0</td>\n",
       "      <td>4170</td>\n",
       "    </tr>\n",
       "  </tbody>\n",
       "</table>\n",
       "<p>798 rows × 6 columns</p>\n",
       "</div>"
      ],
      "text/plain": [
       "     3   4   8      32      33    34\n",
       "0     8   0   0  0.700   610.0     0\n",
       "1     0   0   0  3.200   610.0     0\n",
       "2     0   0   0  0.700  1300.0   762\n",
       "3     0  60   0  2.801   385.1     0\n",
       "4     0  60   0  0.801   255.0   269\n",
       "..   ..  ..  ..    ...     ...   ...\n",
       "793   0  50   0  1.001    50.0     0\n",
       "794   0   0   0  0.699  1300.0  4880\n",
       "795   0   0   0  0.400   609.9     0\n",
       "796   0   0   0  3.200   610.0  4880\n",
       "797   0   0   0  1.599  1500.0  4170\n",
       "\n",
       "[798 rows x 6 columns]"
      ]
     },
     "metadata": {},
     "output_type": "display_data"
    },
    {
     "data": {
      "text/plain": [
       "0      3\n",
       "1      3\n",
       "2      3\n",
       "3      3\n",
       "4      3\n",
       "      ..\n",
       "793    3\n",
       "794    3\n",
       "795    3\n",
       "796    3\n",
       "797    2\n",
       "Name: 38, Length: 798, dtype: object"
      ]
     },
     "metadata": {},
     "output_type": "display_data"
    }
   ],
   "source": [
    "import numpy as np\n",
    "data_setX = data_set.loc[:, 0:37]\n",
    "data_setY = data_set.loc[:, 38]\n",
    "data_setX = data_set[[3, 4,8,32,33, 34]]\n",
    "data_setX = data_setX.replace('?',np.NaN)\n",
    "data_setX = data_setX.fillna(data_setX.median());\n",
    "display(data_setX)\n",
    "display(data_setY)"
   ]
  },
  {
   "cell_type": "markdown",
   "id": "e8cda0c9",
   "metadata": {},
   "source": [
    "3. Вычислим и визуализируем матрицу корреляций признаков. Удалим из набора признаки, имеющие высокую корреляцию (близкую к +1 или -1) с другими признаками."
   ]
  },
  {
   "cell_type": "code",
   "execution_count": 12,
   "id": "ffc84ce7",
   "metadata": {},
   "outputs": [
    {
     "data": {
      "text/plain": [
       "array([[ 1.        , -0.12469249, -0.0697731 ,  0.18035542, -0.00705755,\n",
       "        -0.13509306],\n",
       "       [-0.12469249,  1.        , -0.12756093,  0.02508289, -0.01540611,\n",
       "        -0.10762963],\n",
       "       [-0.0697731 , -0.12756093,  1.        ,  0.0954058 ,  0.06157636,\n",
       "        -0.04203002],\n",
       "       [ 0.18035542,  0.02508289,  0.0954058 ,  1.        ,  0.02664746,\n",
       "        -0.08713514],\n",
       "       [-0.00705755, -0.01540611,  0.06157636,  0.02664746,  1.        ,\n",
       "         0.1299241 ],\n",
       "       [-0.13509306, -0.10762963, -0.04203002, -0.08713514,  0.1299241 ,\n",
       "         1.        ]])"
      ]
     },
     "execution_count": 12,
     "metadata": {},
     "output_type": "execute_result"
    }
   ],
   "source": [
    "corr = np.corrcoef( data_setX.T )\n",
    "corr"
   ]
  },
  {
   "cell_type": "markdown",
   "id": "e637efc1",
   "metadata": {},
   "source": [
    "4. Если столбец с метками классов содержит более двух классов, то объедините некоторые классы, чтобы получить набор для бинарной классификации. Объединяйте классы таким образом, чтобы положительный и отрицательный классы были сопоставимы по количеству точек. Сопоставить по количеству точек не выходит, так как класс 3 доминирует над всеми остальными."
   ]
  },
  {
   "cell_type": "code",
   "execution_count": 13,
   "id": "a59851e4",
   "metadata": {},
   "outputs": [
    {
     "data": {
      "text/plain": [
       "array([0, 0, 0, 0, 0, 0, 0, 0, 0, 0, 0, 0, 0, 0, 0, 0, 1, 1, 0, 0, 0, 0,\n",
       "       1, 0, 1, 0, 0, 0, 0, 0, 1, 0, 0, 1, 0, 1, 0, 0, 0, 0, 0, 0, 0, 0,\n",
       "       1, 0, 0, 0, 0, 0, 0, 0, 0, 0, 0, 0, 0, 0, 0, 0, 0, 0, 0, 1, 0, 0,\n",
       "       1, 1, 0, 1, 0, 0, 0, 0, 0, 0, 1, 0, 0, 0, 0, 0, 1, 0, 0, 0, 1, 0,\n",
       "       1, 1, 1, 0, 0, 0, 0, 0, 1, 1, 1, 1, 1, 0, 0, 0, 0, 0, 0, 1, 0, 0,\n",
       "       0, 0, 1, 0, 0, 1, 1, 0, 0, 1, 0, 0, 0, 0, 0, 1, 0, 1, 1, 1, 0, 0,\n",
       "       1, 1, 0, 1, 0, 0, 1, 0, 0, 0, 0, 0, 0, 0, 1, 0, 1, 0, 0, 0, 0, 0,\n",
       "       0, 0, 0, 1, 1, 0, 1, 0, 0, 0, 0, 0, 0, 0, 0, 1, 0, 0, 1, 0, 1, 0,\n",
       "       0, 0, 0, 1, 1, 1, 0, 0, 0, 0, 0, 0, 1, 1, 0, 1, 0, 0, 0, 0, 0, 0,\n",
       "       0, 0, 0, 0, 0, 0, 0, 0, 0, 0, 0, 0, 0, 0, 0, 0, 0, 0, 0, 0, 1, 0,\n",
       "       0, 0, 1, 0, 1, 0, 0, 1, 0, 0, 0, 0, 0, 0, 1, 0, 0, 0, 1, 0, 0, 0,\n",
       "       0, 0, 0, 0, 1, 0, 0, 0, 0, 0, 0, 0, 0, 0, 0, 1, 1, 0, 0, 1, 1, 0,\n",
       "       0, 1, 0, 1, 0, 0, 0, 0, 0, 0, 0, 1, 1, 1, 1, 0, 0, 1, 0, 1, 0, 0,\n",
       "       0, 0, 1, 0, 0, 1, 0, 0, 0, 0, 1, 1, 0, 0, 0, 0, 1, 1, 0, 0, 0, 0,\n",
       "       0, 1, 0, 0, 0, 0, 0, 0, 0, 0, 1, 0, 0, 0, 0, 1, 0, 0, 0, 0, 0, 0,\n",
       "       1, 0, 0, 0, 0, 1, 1, 0, 0, 0, 0, 1, 0, 0, 0, 0, 0, 0, 0, 0, 0, 0,\n",
       "       1, 1, 0, 0, 0, 0, 1, 0, 1, 0, 0, 0, 1, 0, 1, 0, 0, 1, 0, 1, 0, 1,\n",
       "       1, 1, 0, 0, 0, 0, 0, 0, 0, 0, 0, 1, 0, 1, 0, 0, 0, 0, 0, 0, 1, 1,\n",
       "       0, 0, 0, 1, 0, 0, 0, 1, 0, 1, 1, 1, 0, 1, 0, 1, 1, 1, 0, 0, 0, 0,\n",
       "       0, 0, 0, 1, 0, 0, 0, 0, 0, 0, 0, 1, 0, 1, 0, 0, 0, 0, 0, 0, 0, 1,\n",
       "       0, 1, 0, 1, 0, 0, 1, 0, 0, 0, 0, 0, 0, 1, 0, 1, 0, 1, 1, 1, 0, 0,\n",
       "       0, 1, 0, 0, 0, 0, 0, 0, 0, 0, 0, 0, 0, 0, 0, 0, 0, 0, 0, 0, 0, 0,\n",
       "       0, 1, 0, 0, 0, 0, 0, 0, 0, 0, 1, 0, 0, 1, 0, 1, 0, 0, 1, 0, 0, 0,\n",
       "       1, 1, 0, 1, 0, 0, 0, 0, 0, 0, 0, 0, 0, 1, 0, 0, 0, 0, 0, 0, 1, 1,\n",
       "       0, 0, 1, 0, 0, 0, 0, 0, 0, 0, 0, 0, 1, 0, 0, 1, 1, 0, 0, 1, 1, 0,\n",
       "       0, 1, 0, 0, 0, 1, 0, 0, 1, 0, 0, 0, 0, 0, 0, 0, 0, 1, 0, 0, 0, 1,\n",
       "       0, 0, 0, 0, 0, 1, 0, 0, 0, 0, 0, 0, 0, 0, 1, 0, 1, 0, 0, 0, 1, 0,\n",
       "       0, 0, 0, 0, 0, 1, 0, 0, 0, 0, 0, 1, 0, 0, 0, 1, 0, 1, 0, 0, 0, 1,\n",
       "       0, 0, 0, 0, 0, 0, 0, 0, 0, 1, 0, 0, 1, 0, 0, 0, 0, 1, 0, 0, 0, 1,\n",
       "       0, 0, 1, 0, 0, 0, 0, 0, 1, 0, 1, 0, 0, 0, 0, 0, 0, 0, 1, 0, 0, 0,\n",
       "       0, 0, 1, 0, 0, 0, 1, 0, 0, 0, 1, 0, 0, 0, 0, 0, 1, 0, 0, 0, 1, 1,\n",
       "       1, 0, 0, 0, 0, 0, 0, 1, 0, 0, 1, 1, 0, 1, 0, 0, 0, 0, 1, 0, 0, 1,\n",
       "       0, 0, 1, 1, 1, 0, 0, 0, 0, 0, 1, 0, 0, 0, 0, 0, 1, 0, 0, 0, 0, 0,\n",
       "       1, 0, 1, 0, 0, 1, 0, 0, 1, 0, 1, 0, 0, 0, 0, 1, 0, 0, 0, 0, 0, 0,\n",
       "       0, 1, 0, 0, 0, 0, 0, 0, 0, 0, 0, 0, 0, 0, 0, 0, 0, 1, 0, 1, 0, 0,\n",
       "       0, 1, 0, 0, 0, 0, 0, 1, 0, 0, 0, 0, 0, 0, 0, 0, 0, 0, 1, 1, 0, 0,\n",
       "       0, 0, 0, 0, 0, 1])"
      ]
     },
     "execution_count": 13,
     "metadata": {},
     "output_type": "execute_result"
    }
   ],
   "source": [
    "data_setY = data_setY.replace('U', 6)\n",
    "data_setY = data_setY.astype('int')\n",
    "for i in range(len(data_setY)):\n",
    "    if int(data_setY[i]) == 3: \n",
    "        data_setY[i] = 0\n",
    "    else:\n",
    "        data_setY[i] = 1\n",
    "data_setY.values"
   ]
  },
  {
   "cell_type": "markdown",
   "id": "0fa0e387",
   "metadata": {},
   "source": [
    "5. Используя метод рекурсивного исключения признаков (RFE) и логистическую регрессию, определим и оставим в наборе наиболее значимые признаки. В данном случае это признаки 4, 5,33. Определим признаки с наибольшей дисперсией и оставим только их. В данном случае это признаки 4 и 5."
   ]
  },
  {
   "cell_type": "code",
   "execution_count": 14,
   "id": "86ff352e",
   "metadata": {},
   "outputs": [],
   "source": [
    "from sklearn.feature_selection import RFE\n",
    "from sklearn.linear_model import LogisticRegression\n",
    "model = LogisticRegression(max_iter=1000)\n",
    "rfe = RFE(model)\n",
    "fit = rfe.fit(data_setX, data_setY)"
   ]
  },
  {
   "cell_type": "code",
   "execution_count": 15,
   "id": "c3e2c7af",
   "metadata": {},
   "outputs": [
    {
     "name": "stdout",
     "output_type": "stream",
     "text": [
      "Число признаков: 3\n",
      "Выбранные признаки: [ True  True False  True False False]\n",
      "Ранг признаков: [1 1 2 1 3 4]\n"
     ]
    }
   ],
   "source": [
    "print(\"Число признаков: %d\" % fit.n_features_)\n",
    "print(\"Выбранные признаки: %s\" % fit.support_)\n",
    "print(\"Ранг признаков: %s\" % fit.ranking_)"
   ]
  },
  {
   "cell_type": "code",
   "execution_count": 16,
   "id": "0f8c09ee",
   "metadata": {},
   "outputs": [
    {
     "data": {
      "text/plain": [
       "3     13.592644\n",
       "4     24.621001\n",
       "32     0.861608\n",
       "dtype: float64"
      ]
     },
     "execution_count": 16,
     "metadata": {},
     "output_type": "execute_result"
    }
   ],
   "source": [
    "data_setX = data_setX[[3,4,32]]\n",
    "data_setX.std()"
   ]
  },
  {
   "cell_type": "code",
   "execution_count": 17,
   "id": "e3de90e0",
   "metadata": {},
   "outputs": [
    {
     "data": {
      "text/html": [
       "<div>\n",
       "<style scoped>\n",
       "    .dataframe tbody tr th:only-of-type {\n",
       "        vertical-align: middle;\n",
       "    }\n",
       "\n",
       "    .dataframe tbody tr th {\n",
       "        vertical-align: top;\n",
       "    }\n",
       "\n",
       "    .dataframe thead th {\n",
       "        text-align: right;\n",
       "    }\n",
       "</style>\n",
       "<table border=\"1\" class=\"dataframe\">\n",
       "  <thead>\n",
       "    <tr style=\"text-align: right;\">\n",
       "      <th></th>\n",
       "      <th>carbon</th>\n",
       "      <th>hardness</th>\n",
       "    </tr>\n",
       "  </thead>\n",
       "  <tbody>\n",
       "    <tr>\n",
       "      <th>0</th>\n",
       "      <td>8</td>\n",
       "      <td>0</td>\n",
       "    </tr>\n",
       "    <tr>\n",
       "      <th>1</th>\n",
       "      <td>0</td>\n",
       "      <td>0</td>\n",
       "    </tr>\n",
       "    <tr>\n",
       "      <th>2</th>\n",
       "      <td>0</td>\n",
       "      <td>0</td>\n",
       "    </tr>\n",
       "    <tr>\n",
       "      <th>3</th>\n",
       "      <td>0</td>\n",
       "      <td>60</td>\n",
       "    </tr>\n",
       "    <tr>\n",
       "      <th>4</th>\n",
       "      <td>0</td>\n",
       "      <td>60</td>\n",
       "    </tr>\n",
       "    <tr>\n",
       "      <th>...</th>\n",
       "      <td>...</td>\n",
       "      <td>...</td>\n",
       "    </tr>\n",
       "    <tr>\n",
       "      <th>793</th>\n",
       "      <td>0</td>\n",
       "      <td>50</td>\n",
       "    </tr>\n",
       "    <tr>\n",
       "      <th>794</th>\n",
       "      <td>0</td>\n",
       "      <td>0</td>\n",
       "    </tr>\n",
       "    <tr>\n",
       "      <th>795</th>\n",
       "      <td>0</td>\n",
       "      <td>0</td>\n",
       "    </tr>\n",
       "    <tr>\n",
       "      <th>796</th>\n",
       "      <td>0</td>\n",
       "      <td>0</td>\n",
       "    </tr>\n",
       "    <tr>\n",
       "      <th>797</th>\n",
       "      <td>0</td>\n",
       "      <td>0</td>\n",
       "    </tr>\n",
       "  </tbody>\n",
       "</table>\n",
       "<p>798 rows × 2 columns</p>\n",
       "</div>"
      ],
      "text/plain": [
       "     carbon  hardness\n",
       "0         8         0\n",
       "1         0         0\n",
       "2         0         0\n",
       "3         0        60\n",
       "4         0        60\n",
       "..      ...       ...\n",
       "793       0        50\n",
       "794       0         0\n",
       "795       0         0\n",
       "796       0         0\n",
       "797       0         0\n",
       "\n",
       "[798 rows x 2 columns]"
      ]
     },
     "execution_count": 17,
     "metadata": {},
     "output_type": "execute_result"
    }
   ],
   "source": [
    "data_setX = data_setX[[3,4]]\n",
    "data_setX = data_setX.rename(columns = {3: \"carbon\", 4: \"hardness\"})\n",
    "data_setX"
   ]
  },
  {
   "cell_type": "markdown",
   "id": "3d469caa",
   "metadata": {},
   "source": [
    "6. Масштабируем признаки набора данных на интервал от 0 до 1."
   ]
  },
  {
   "cell_type": "code",
   "execution_count": 18,
   "id": "4b187edb",
   "metadata": {},
   "outputs": [],
   "source": [
    "from sklearn import preprocessing\n",
    "min_max_scaler = preprocessing.MinMaxScaler()\n",
    "X = min_max_scaler.fit_transform(data_setX)\n",
    "Y = data_setY.values"
   ]
  },
  {
   "cell_type": "markdown",
   "id": "54d60551",
   "metadata": {},
   "source": [
    "7. Разделим набор данных на обучающую и тестовую выборки в соотношении 70% на 30%."
   ]
  },
  {
   "cell_type": "code",
   "execution_count": 19,
   "id": "99f4c096",
   "metadata": {},
   "outputs": [],
   "source": [
    "from sklearn.model_selection import train_test_split\n",
    "test_size=0.3\n",
    "X_train, X_test, Y_train, Y_test = train_test_split(X, Y, test_size=test_size)"
   ]
  },
  {
   "cell_type": "markdown",
   "id": "e2cdbec7",
   "metadata": {},
   "source": [
    "8. По порядку задания создадим и обучим классификаторы. Построим графики."
   ]
  },
  {
   "cell_type": "code",
   "execution_count": 20,
   "id": "7d985838",
   "metadata": {},
   "outputs": [],
   "source": [
    "import matplotlib.pyplot as plt\n",
    "def plot_decision_boundary(model, axis):\n",
    "    \n",
    "    x0, x1 = np.meshgrid( # сетка (решетка) на плокости\n",
    "        np.linspace(axis[0], axis[1], int((axis[1]-axis[0])*100)).reshape(-1, 1),\n",
    "        np.linspace(axis[2], axis[3], int((axis[3]-axis[2])*100)).reshape(-1, 1),\n",
    "    )\n",
    "    # метод ravel() возвращает 1d массив, функция c_ конвертирует 1d массивы в 2d\n",
    "    X_new = np.c_[x0.ravel(), x1.ravel()] \n",
    "\n",
    "    y_predict = model.predict(X_new)\n",
    "    zz = y_predict.reshape(x0.shape)\n",
    "\n",
    "    from matplotlib.colors import ListedColormap # объект Colormap из списка\n",
    "    custom_cmap = ListedColormap(['#EF9A9A','#FFF59D','#90CAF9'])  \n",
    "    \n",
    "    plt.contourf(x0, x1, zz, cmap=custom_cmap)\n",
    "ax = [0, 1, 0,1]"
   ]
  },
  {
   "cell_type": "markdown",
   "id": "8021f1b6",
   "metadata": {},
   "source": [
    "- наивный байесовский классификатор"
   ]
  },
  {
   "cell_type": "code",
   "execution_count": 21,
   "id": "edc642be",
   "metadata": {},
   "outputs": [
    {
     "data": {
      "image/png": "[encoded data removed]",
      "text/plain": [
       "<Figure size 432x288 with 1 Axes>"
      ]
     },
     "metadata": {
      "needs_background": "light"
     },
     "output_type": "display_data"
    }
   ],
   "source": [
    "from sklearn.naive_bayes import GaussianNB\n",
    "\n",
    "nbc = GaussianNB()\n",
    "nbc.fit(X_train,Y_train);\n",
    "\n",
    "plot_decision_boundary(nbc, axis=ax)\n",
    "plt.scatter(X_test[Y_test==0,0], X_test[Y_test==0,1], label=\"class 0\")\n",
    "plt.scatter(X_test[Y_test==1,0], X_test[Y_test==1,1], label=\"class 1\");\n",
    "plt.legend()\n",
    "plt.title(\"nbc\")\n",
    "plt.xlabel(\"carbon\")\n",
    "plt.ylabel(\"hardness\");"
   ]
  },
  {
   "cell_type": "markdown",
   "id": "4b6cb252",
   "metadata": {},
   "source": [
    "- логистическая регрессия"
   ]
  },
  {
   "cell_type": "code",
   "execution_count": 22,
   "id": "154c84f6",
   "metadata": {},
   "outputs": [
    {
     "data": {
      "image/png": "[encoded data removed]",
      "text/plain": [
       "<Figure size 432x288 with 1 Axes>"
      ]
     },
     "metadata": {
      "needs_background": "light"
     },
     "output_type": "display_data"
    }
   ],
   "source": [
    "from sklearn.linear_model import LogisticRegression\n",
    "\n",
    "log_reg = LogisticRegression()\n",
    "log_reg.fit(X_train, Y_train);\n",
    "plot_decision_boundary(log_reg, axis=ax)\n",
    "plt.scatter(X_test[Y_test==0,0], X_test[Y_test==0,1], label=\"class 0\")\n",
    "plt.scatter(X_test[Y_test==1,0], X_test[Y_test==1,1], label=\"class 1\");\n",
    "plt.legend()\n",
    "plt.title(\"log_reg\")\n",
    "plt.xlabel(\"carbon\")\n",
    "plt.ylabel(\"hardness\");"
   ]
  },
  {
   "cell_type": "markdown",
   "id": "6cfee570",
   "metadata": {},
   "source": [
    "- логистическая регрессия с полиномиальными зависимостями (degree равно 2 и 3)"
   ]
  },
  {
   "cell_type": "code",
   "execution_count": 23,
   "id": "b3147bf3",
   "metadata": {},
   "outputs": [],
   "source": [
    "from sklearn.preprocessing import PolynomialFeatures\n",
    "from sklearn.pipeline import Pipeline\n",
    "\n",
    "def PolynomialLogisticRegression(degree):\n",
    "    return Pipeline([\n",
    "        ('poly', PolynomialFeatures(degree=degree)),\n",
    "        ('log_reg', LogisticRegression())\n",
    "    ])"
   ]
  },
  {
   "cell_type": "code",
   "execution_count": 24,
   "id": "5553d8f9",
   "metadata": {},
   "outputs": [
    {
     "data": {
      "image/png": "[encoded data removed]",
      "text/plain": [
       "<Figure size 432x288 with 1 Axes>"
      ]
     },
     "metadata": {
      "needs_background": "light"
     },
     "output_type": "display_data"
    }
   ],
   "source": [
    "poly_log_reg2 = PolynomialLogisticRegression(degree=2)\n",
    "poly_log_reg2.fit(X_train, Y_train);\n",
    "poly_log_reg3 = PolynomialLogisticRegression(degree=3)\n",
    "poly_log_reg3.fit(X_train, Y_train);\n",
    "\n",
    "plot_decision_boundary(poly_log_reg2, axis=ax)\n",
    "plt.scatter(X_test[Y_test==0,0], X_test[Y_test==0,1], label=\"class 0\")\n",
    "plt.scatter(X_test[Y_test==1,0], X_test[Y_test==1,1], label=\"class 1\");\n",
    "plt.legend()\n",
    "plt.title(\"poly_log_reg2\")\n",
    "plt.xlabel(\"carbon\")\n",
    "plt.ylabel(\"hardness\");"
   ]
  },
  {
   "cell_type": "code",
   "execution_count": 25,
   "id": "a21d7173",
   "metadata": {},
   "outputs": [
    {
     "data": {
      "image/png": "[encoded data removed]",
      "text/plain": [
       "<Figure size 432x288 with 1 Axes>"
      ]
     },
     "metadata": {
      "needs_background": "light"
     },
     "output_type": "display_data"
    }
   ],
   "source": [
    "plot_decision_boundary(poly_log_reg3, axis=ax)\n",
    "plt.scatter(X_test[Y_test==0,0], X_test[Y_test==0,1], label=\"class 0\")\n",
    "plt.scatter(X_test[Y_test==1,0], X_test[Y_test==1,1], label=\"class 1\");\n",
    "plt.legend()\n",
    "plt.title(\"poly_log_reg3\")\n",
    "plt.xlabel(\"carbon\")\n",
    "plt.ylabel(\"hardness\");"
   ]
  },
  {
   "cell_type": "markdown",
   "id": "8a3d153a",
   "metadata": {},
   "source": [
    "- линейный дискриминантный анализ"
   ]
  },
  {
   "cell_type": "code",
   "execution_count": 26,
   "id": "2f067311",
   "metadata": {},
   "outputs": [
    {
     "data": {
      "image/png": "[encoded data removed]",
      "text/plain": [
       "<Figure size 432x288 with 1 Axes>"
      ]
     },
     "metadata": {
      "needs_background": "light"
     },
     "output_type": "display_data"
    }
   ],
   "source": [
    "from sklearn.discriminant_analysis import LinearDiscriminantAnalysis\n",
    "lda = LinearDiscriminantAnalysis()\n",
    "lda.fit(X_train, Y_train);\n",
    "\n",
    "plot_decision_boundary(lda, axis=ax)\n",
    "plt.scatter(X_test[Y_test==0,0], X_test[Y_test==0,1], label=\"class 0\")\n",
    "plt.scatter(X_test[Y_test==1,0], X_test[Y_test==1,1], label=\"class 1\");\n",
    "plt.legend()\n",
    "plt.title(\"lda\")\n",
    "plt.xlabel(\"carbon\")\n",
    "plt.ylabel(\"hardness\");"
   ]
  },
  {
   "cell_type": "markdown",
   "id": "0d429ae0",
   "metadata": {},
   "source": [
    "- метода опорных векторов"
   ]
  },
  {
   "cell_type": "code",
   "execution_count": 27,
   "id": "b1c23043",
   "metadata": {},
   "outputs": [
    {
     "data": {
      "image/png": "[encoded data removed]",
      "text/plain": [
       "<Figure size 432x288 with 1 Axes>"
      ]
     },
     "metadata": {
      "needs_background": "light"
     },
     "output_type": "display_data"
    }
   ],
   "source": [
    "from sklearn.svm import LinearSVC\n",
    "\n",
    "svc = LinearSVC()\n",
    "svc.fit(X_train, Y_train);\n",
    "\n",
    "plot_decision_boundary(svc, axis=ax)\n",
    "plt.scatter(X_test[Y_test==0,0], X_test[Y_test==0,1], label=\"class 0\")\n",
    "plt.scatter(X_test[Y_test==1,0], X_test[Y_test==1,1], label=\"class 1\");\n",
    "plt.legend()\n",
    "plt.title(\"svc\")\n",
    "plt.xlabel(\"carbon\")\n",
    "plt.ylabel(\"hardness\");"
   ]
  },
  {
   "cell_type": "markdown",
   "id": "91dc3fad",
   "metadata": {},
   "source": [
    "- метода опорных векторов с полиномиальными зависимостями (degree равно 2 и 3)."
   ]
  },
  {
   "cell_type": "code",
   "execution_count": 28,
   "id": "31b5a594",
   "metadata": {},
   "outputs": [
    {
     "data": {
      "image/png": "[encoded data removed]",
      "text/plain": [
       "<Figure size 432x288 with 1 Axes>"
      ]
     },
     "metadata": {
      "needs_background": "light"
     },
     "output_type": "display_data"
    }
   ],
   "source": [
    "def PolynomialSVC(degree, C=1.0):\n",
    "    return Pipeline([\n",
    "        (\"poly\", PolynomialFeatures(degree=degree)),\n",
    "        (\"linearSVC\", LinearSVC(C=C))\n",
    "    ])\n",
    "poly_svc2 = PolynomialSVC(degree=2)\n",
    "poly_svc2.fit(X_train, Y_train)\n",
    "poly_svc3 = PolynomialSVC(degree=3)\n",
    "poly_svc3.fit(X_train, Y_train);\n",
    "\n",
    "plot_decision_boundary(poly_svc2, axis=ax)\n",
    "plt.scatter(X_test[Y_test==0,0], X_test[Y_test==0,1], label=\"class 0\")\n",
    "plt.scatter(X_test[Y_test==1,0], X_test[Y_test==1,1], label=\"class 1\");\n",
    "plt.legend()\n",
    "plt.title(\"poly_svc2\")\n",
    "plt.xlabel(\"carbon\")\n",
    "plt.ylabel(\"hardness\");"
   ]
  },
  {
   "cell_type": "code",
   "execution_count": 29,
   "id": "10f5581f",
   "metadata": {},
   "outputs": [
    {
     "data": {
      "image/png": "[encoded data removed]",
      "text/plain": [
       "<Figure size 432x288 with 1 Axes>"
      ]
     },
     "metadata": {
      "needs_background": "light"
     },
     "output_type": "display_data"
    }
   ],
   "source": [
    "plot_decision_boundary(poly_svc3, axis=ax)\n",
    "plt.scatter(X_test[Y_test==0,0], X_test[Y_test==0,1], label=\"class 0\")\n",
    "plt.scatter(X_test[Y_test==1,0], X_test[Y_test==1,1], label=\"class 1\");\n",
    "plt.legend()\n",
    "plt.title(\"poly_svc3\")\n",
    "plt.xlabel(\"carbon\")\n",
    "plt.ylabel(\"hardness\");"
   ]
  },
  {
   "cell_type": "markdown",
   "id": "2eb4f76c",
   "metadata": {},
   "source": [
    "9. Визуализируем на одном рисунке ROC кривые для каждого из классификаторов, подписывая оси и рисунок и создавая легенду для методов бинарной классификации."
   ]
  },
  {
   "cell_type": "code",
   "execution_count": 30,
   "id": "d437a0f6",
   "metadata": {},
   "outputs": [
    {
     "data": {
      "image/png": "[encoded data removed]",
      "text/plain": [
       "<Figure size 432x288 with 1 Axes>"
      ]
     },
     "metadata": {
      "needs_background": "light"
     },
     "output_type": "display_data"
    }
   ],
   "source": [
    "from sklearn.metrics import roc_curve\n",
    "from sklearn.metrics import roc_auc_score\n",
    "\n",
    "scores = {}\n",
    "\n",
    "\n",
    "Y_nbc_score = nbc.predict_proba(X_test)\n",
    "fprs, tprs, thresholds = roc_curve(Y_test, Y_nbc_score[:, 1])\n",
    "plt.plot(fprs, tprs, label=\"nbc\")\n",
    "scores[\"nbc\"] = roc_auc_score(Y_test, Y_nbc_score[:, 1])\n",
    "\n",
    "decision_scores = log_reg.decision_function(X_test)\n",
    "fprs, tprs, thresholds = roc_curve(Y_test, decision_scores)\n",
    "plt.plot(fprs, tprs, label=\"log_reg\")\n",
    "scores[\"log_reg\"] = roc_auc_score(Y_test, decision_scores)\n",
    "\n",
    "\n",
    "decision_scores = poly_log_reg2.decision_function(X_test)\n",
    "fprs, tprs, thresholds = roc_curve(Y_test, decision_scores)\n",
    "plt.plot(fprs, tprs, label=\"poly_log_reg2\")\n",
    "scores[\"poly_log_reg2\"] = roc_auc_score(Y_test, decision_scores)\n",
    "\n",
    "\n",
    "decision_scores = poly_log_reg3.decision_function(X_test)\n",
    "fprs, tprs, thresholds = roc_curve(Y_test, decision_scores)\n",
    "plt.plot(fprs, tprs, label=\"poly_log_reg3\")\n",
    "scores[\"poly_log_reg3\"] = roc_auc_score(Y_test, decision_scores)\n",
    "\n",
    "decision_scores = lda.decision_function(X_test)\n",
    "fprs, tprs, thresholds = roc_curve(Y_test, decision_scores)\n",
    "plt.plot(fprs, tprs, label=\"lda\")\n",
    "scores[\"lda\"] = roc_auc_score(Y_test, decision_scores)\n",
    "\n",
    "\n",
    "\n",
    "decision_scores = svc.decision_function(X_test)\n",
    "fprs, tprs, thresholds = roc_curve(Y_test, decision_scores)\n",
    "plt.plot(fprs, tprs, label=\"svc\")\n",
    "scores[\"svc\"] = roc_auc_score(Y_test, decision_scores)\n",
    "\n",
    "\n",
    "decision_scores = poly_svc2.decision_function(X_test)\n",
    "fprs, tprs, thresholds = roc_curve(Y_test, decision_scores)\n",
    "plt.plot(fprs, tprs, label=\"poly_svc2\")\n",
    "scores[\"poly_svc2\"] = roc_auc_score(Y_test, decision_scores)\n",
    "\n",
    "\n",
    "decision_scores = poly_svc3.decision_function(X_test)\n",
    "fprs, tprs, thresholds = roc_curve(Y_test, decision_scores)\n",
    "plt.plot(fprs, tprs, label=\"poly_svc3\")\n",
    "scores[\"poly_svc3\"] = roc_auc_score(Y_test, decision_scores)\n",
    "\n",
    "\n",
    "plt.xlabel(\"FPR\")\n",
    "plt.ylabel(\"TPR\")\n",
    "plt.title(\"ROC_curve\")\n",
    "plt.legend();"
   ]
  },
  {
   "cell_type": "markdown",
   "id": "d3be35e0",
   "metadata": {},
   "source": [
    "10. Определим лучший метод бинарной классификации набора данных по показателю ROC_AUC."
   ]
  },
  {
   "cell_type": "code",
   "execution_count": 31,
   "id": "53bf69b0",
   "metadata": {},
   "outputs": [
    {
     "data": {
      "text/plain": [
       "{'nbc': 0.537771129394166,\n",
       " 'log_reg': 0.537771129394166,\n",
       " 'poly_log_reg2': 0.6544502617801048,\n",
       " 'poly_log_reg3': 0.7038145100972326,\n",
       " 'lda': 0.537771129394166,\n",
       " 'svc': 0.537771129394166,\n",
       " 'poly_svc2': 0.7038145100972326,\n",
       " 'poly_svc3': 0.7038145100972325}"
      ]
     },
     "execution_count": 31,
     "metadata": {},
     "output_type": "execute_result"
    }
   ],
   "source": [
    "scores"
   ]
  },
  {
   "cell_type": "code",
   "execution_count": 32,
   "id": "85a34bbf",
   "metadata": {},
   "outputs": [
    {
     "name": "stdout",
     "output_type": "stream",
     "text": [
      "Максимальное значение ROC_AUC: poly_log_reg3 = 0.7038145100972326\n"
     ]
    }
   ],
   "source": [
    "k = max(scores, key=scores.get)\n",
    "print(\"Максимальное значение ROC_AUC: {} = {}\".format(k, scores[k]))"
   ]
  }
 ],
 "metadata": {
  "kernelspec": {
   "display_name": "Python 3 (ipykernel)",
   "language": "python",
   "name": "python3"
  },
  "language_info": {
   "codemirror_mode": {
    "name": "ipython",
    "version": 3
   },
   "file_extension": ".py",
   "mimetype": "text/x-python",
   "name": "python",
   "nbconvert_exporter": "python",
   "pygments_lexer": "ipython3",
   "version": "3.9.12"
  }
 },
 "nbformat": 4,
 "nbformat_minor": 5
}
