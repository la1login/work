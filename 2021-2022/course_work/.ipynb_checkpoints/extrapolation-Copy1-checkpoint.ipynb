{
 "cells": [
  {
   "cell_type": "code",
   "execution_count": 1,
   "id": "cb710d41",
   "metadata": {},
   "outputs": [],
   "source": [
    "import numpy as np\n",
    "import pandas as pd"
   ]
  },
  {
   "cell_type": "code",
   "execution_count": 17,
   "id": "ebdf47ec",
   "metadata": {},
   "outputs": [
    {
     "data": {
      "text/html": [
       "<div>\n",
       "<style scoped>\n",
       "    .dataframe tbody tr th:only-of-type {\n",
       "        vertical-align: middle;\n",
       "    }\n",
       "\n",
       "    .dataframe tbody tr th {\n",
       "        vertical-align: top;\n",
       "    }\n",
       "\n",
       "    .dataframe thead th {\n",
       "        text-align: right;\n",
       "    }\n",
       "</style>\n",
       "<table border=\"1\" class=\"dataframe\">\n",
       "  <thead>\n",
       "    <tr style=\"text-align: right;\">\n",
       "      <th></th>\n",
       "      <th>Год</th>\n",
       "      <th>Все типы квартир</th>\n",
       "      <th>Квартиры низкого качества</th>\n",
       "      <th>Квартиры среднего качества (типовые)</th>\n",
       "      <th>Квартиры улучшенного качества</th>\n",
       "      <th>Элитные квартиры</th>\n",
       "    </tr>\n",
       "  </thead>\n",
       "  <tbody>\n",
       "    <tr>\n",
       "      <th>0</th>\n",
       "      <td>1998</td>\n",
       "      <td>4941</td>\n",
       "      <td>3943</td>\n",
       "      <td>4431</td>\n",
       "      <td>5400</td>\n",
       "      <td>8247</td>\n",
       "    </tr>\n",
       "    <tr>\n",
       "      <th>1</th>\n",
       "      <td>1999</td>\n",
       "      <td>6151</td>\n",
       "      <td>4548</td>\n",
       "      <td>5371</td>\n",
       "      <td>6605</td>\n",
       "      <td>12130</td>\n",
       "    </tr>\n",
       "    <tr>\n",
       "      <th>2</th>\n",
       "      <td>2000</td>\n",
       "      <td>6590</td>\n",
       "      <td>5483</td>\n",
       "      <td>6422</td>\n",
       "      <td>7422</td>\n",
       "      <td>12009</td>\n",
       "    </tr>\n",
       "    <tr>\n",
       "      <th>3</th>\n",
       "      <td>2001</td>\n",
       "      <td>9072</td>\n",
       "      <td>7152</td>\n",
       "      <td>8789</td>\n",
       "      <td>9927</td>\n",
       "      <td>15476</td>\n",
       "    </tr>\n",
       "    <tr>\n",
       "      <th>4</th>\n",
       "      <td>2002</td>\n",
       "      <td>11557</td>\n",
       "      <td>9183</td>\n",
       "      <td>11254</td>\n",
       "      <td>12467</td>\n",
       "      <td>16663</td>\n",
       "    </tr>\n",
       "    <tr>\n",
       "      <th>5</th>\n",
       "      <td>2003</td>\n",
       "      <td>13967</td>\n",
       "      <td>12004</td>\n",
       "      <td>13659</td>\n",
       "      <td>14720</td>\n",
       "      <td>22906</td>\n",
       "    </tr>\n",
       "    <tr>\n",
       "      <th>6</th>\n",
       "      <td>2004</td>\n",
       "      <td>17931</td>\n",
       "      <td>15457</td>\n",
       "      <td>17911</td>\n",
       "      <td>18929</td>\n",
       "      <td>30405</td>\n",
       "    </tr>\n",
       "    <tr>\n",
       "      <th>7</th>\n",
       "      <td>2005</td>\n",
       "      <td>22166</td>\n",
       "      <td>19247</td>\n",
       "      <td>21915</td>\n",
       "      <td>23486</td>\n",
       "      <td>34995</td>\n",
       "    </tr>\n",
       "    <tr>\n",
       "      <th>8</th>\n",
       "      <td>2006</td>\n",
       "      <td>36615</td>\n",
       "      <td>32961</td>\n",
       "      <td>36198</td>\n",
       "      <td>38616</td>\n",
       "      <td>67979</td>\n",
       "    </tr>\n",
       "    <tr>\n",
       "      <th>9</th>\n",
       "      <td>2007</td>\n",
       "      <td>47206</td>\n",
       "      <td>40589</td>\n",
       "      <td>44630</td>\n",
       "      <td>48383</td>\n",
       "      <td>71549</td>\n",
       "    </tr>\n",
       "    <tr>\n",
       "      <th>10</th>\n",
       "      <td>2008</td>\n",
       "      <td>56495</td>\n",
       "      <td>50010</td>\n",
       "      <td>53752</td>\n",
       "      <td>57506</td>\n",
       "      <td>83207</td>\n",
       "    </tr>\n",
       "    <tr>\n",
       "      <th>11</th>\n",
       "      <td>2009</td>\n",
       "      <td>52895</td>\n",
       "      <td>48439</td>\n",
       "      <td>48940</td>\n",
       "      <td>53956</td>\n",
       "      <td>88140</td>\n",
       "    </tr>\n",
       "    <tr>\n",
       "      <th>12</th>\n",
       "      <td>2010</td>\n",
       "      <td>59998</td>\n",
       "      <td>54203</td>\n",
       "      <td>56762</td>\n",
       "      <td>60814</td>\n",
       "      <td>105302</td>\n",
       "    </tr>\n",
       "    <tr>\n",
       "      <th>13</th>\n",
       "      <td>2011</td>\n",
       "      <td>48243</td>\n",
       "      <td>42368</td>\n",
       "      <td>44002</td>\n",
       "      <td>50858</td>\n",
       "      <td>73168</td>\n",
       "    </tr>\n",
       "    <tr>\n",
       "      <th>14</th>\n",
       "      <td>2012</td>\n",
       "      <td>56370</td>\n",
       "      <td>48102</td>\n",
       "      <td>51279</td>\n",
       "      <td>60847</td>\n",
       "      <td>84525</td>\n",
       "    </tr>\n",
       "    <tr>\n",
       "      <th>15</th>\n",
       "      <td>2013</td>\n",
       "      <td>56478</td>\n",
       "      <td>49289</td>\n",
       "      <td>51419</td>\n",
       "      <td>60738</td>\n",
       "      <td>97811</td>\n",
       "    </tr>\n",
       "    <tr>\n",
       "      <th>16</th>\n",
       "      <td>2014</td>\n",
       "      <td>58085</td>\n",
       "      <td>51584</td>\n",
       "      <td>52664</td>\n",
       "      <td>62288</td>\n",
       "      <td>99261</td>\n",
       "    </tr>\n",
       "    <tr>\n",
       "      <th>17</th>\n",
       "      <td>2015</td>\n",
       "      <td>56283</td>\n",
       "      <td>49769</td>\n",
       "      <td>51574</td>\n",
       "      <td>60347</td>\n",
       "      <td>85084</td>\n",
       "    </tr>\n",
       "    <tr>\n",
       "      <th>18</th>\n",
       "      <td>2016</td>\n",
       "      <td>53983</td>\n",
       "      <td>45149</td>\n",
       "      <td>49359</td>\n",
       "      <td>59051</td>\n",
       "      <td>75256</td>\n",
       "    </tr>\n",
       "    <tr>\n",
       "      <th>19</th>\n",
       "      <td>2017</td>\n",
       "      <td>52350</td>\n",
       "      <td>42486</td>\n",
       "      <td>48159</td>\n",
       "      <td>57673</td>\n",
       "      <td>75032</td>\n",
       "    </tr>\n",
       "    <tr>\n",
       "      <th>20</th>\n",
       "      <td>2018</td>\n",
       "      <td>54924</td>\n",
       "      <td>47050</td>\n",
       "      <td>51157</td>\n",
       "      <td>59248</td>\n",
       "      <td>78245</td>\n",
       "    </tr>\n",
       "    <tr>\n",
       "      <th>21</th>\n",
       "      <td>2019</td>\n",
       "      <td>58528</td>\n",
       "      <td>49122</td>\n",
       "      <td>53864</td>\n",
       "      <td>63117</td>\n",
       "      <td>84334</td>\n",
       "    </tr>\n",
       "    <tr>\n",
       "      <th>22</th>\n",
       "      <td>2020</td>\n",
       "      <td>66712</td>\n",
       "      <td>52569</td>\n",
       "      <td>61020</td>\n",
       "      <td>72486</td>\n",
       "      <td>103043</td>\n",
       "    </tr>\n",
       "  </tbody>\n",
       "</table>\n",
       "</div>"
      ],
      "text/plain": [
       "     Год  Все типы квартир  Квартиры низкого качества  \\\n",
       "0   1998              4941                       3943   \n",
       "1   1999              6151                       4548   \n",
       "2   2000              6590                       5483   \n",
       "3   2001              9072                       7152   \n",
       "4   2002             11557                       9183   \n",
       "5   2003             13967                      12004   \n",
       "6   2004             17931                      15457   \n",
       "7   2005             22166                      19247   \n",
       "8   2006             36615                      32961   \n",
       "9   2007             47206                      40589   \n",
       "10  2008             56495                      50010   \n",
       "11  2009             52895                      48439   \n",
       "12  2010             59998                      54203   \n",
       "13  2011             48243                      42368   \n",
       "14  2012             56370                      48102   \n",
       "15  2013             56478                      49289   \n",
       "16  2014             58085                      51584   \n",
       "17  2015             56283                      49769   \n",
       "18  2016             53983                      45149   \n",
       "19  2017             52350                      42486   \n",
       "20  2018             54924                      47050   \n",
       "21  2019             58528                      49122   \n",
       "22  2020             66712                      52569   \n",
       "\n",
       "    Квартиры среднего качества (типовые)  Квартиры улучшенного качества  \\\n",
       "0                                   4431                           5400   \n",
       "1                                   5371                           6605   \n",
       "2                                   6422                           7422   \n",
       "3                                   8789                           9927   \n",
       "4                                  11254                          12467   \n",
       "5                                  13659                          14720   \n",
       "6                                  17911                          18929   \n",
       "7                                  21915                          23486   \n",
       "8                                  36198                          38616   \n",
       "9                                  44630                          48383   \n",
       "10                                 53752                          57506   \n",
       "11                                 48940                          53956   \n",
       "12                                 56762                          60814   \n",
       "13                                 44002                          50858   \n",
       "14                                 51279                          60847   \n",
       "15                                 51419                          60738   \n",
       "16                                 52664                          62288   \n",
       "17                                 51574                          60347   \n",
       "18                                 49359                          59051   \n",
       "19                                 48159                          57673   \n",
       "20                                 51157                          59248   \n",
       "21                                 53864                          63117   \n",
       "22                                 61020                          72486   \n",
       "\n",
       "    Элитные квартиры  \n",
       "0               8247  \n",
       "1              12130  \n",
       "2              12009  \n",
       "3              15476  \n",
       "4              16663  \n",
       "5              22906  \n",
       "6              30405  \n",
       "7              34995  \n",
       "8              67979  \n",
       "9              71549  \n",
       "10             83207  \n",
       "11             88140  \n",
       "12            105302  \n",
       "13             73168  \n",
       "14             84525  \n",
       "15             97811  \n",
       "16             99261  \n",
       "17             85084  \n",
       "18             75256  \n",
       "19             75032  \n",
       "20             78245  \n",
       "21             84334  \n",
       "22            103043  "
      ]
     },
     "execution_count": 17,
     "metadata": {},
     "output_type": "execute_result"
    }
   ],
   "source": [
    "data = pd.read_csv('appartment_ave_prices.csv', sep = ';')\n",
    "data\n"
   ]
  },
  {
   "cell_type": "code",
   "execution_count": 18,
   "id": "565ad67d",
   "metadata": {},
   "outputs": [],
   "source": [
    "data = data.drop([0, 1, 2, 3, 4, 5, 22], axis = 0)"
   ]
  },
  {
   "cell_type": "code",
   "execution_count": 39,
   "id": "93254c1a",
   "metadata": {},
   "outputs": [
    {
     "data": {
      "text/plain": [
       "1      1\n",
       "2      2\n",
       "3      3\n",
       "4      4\n",
       "5      5\n",
       "6      6\n",
       "7      7\n",
       "8      8\n",
       "9      9\n",
       "10    10\n",
       "11    11\n",
       "12    12\n",
       "13    13\n",
       "14    14\n",
       "15    15\n",
       "16    16\n",
       "Name: Год, dtype: int64"
      ]
     },
     "execution_count": 39,
     "metadata": {},
     "output_type": "execute_result"
    }
   ],
   "source": [
    "X = data[\"Год\"]\n",
    "X.index = np.arange(1, len(X) + 1)\n",
    "for i in range(1,17):\n",
    "    X = X.replace({X[i]: i})\n",
    "X"
   ]
  },
  {
   "cell_type": "code",
   "execution_count": 32,
   "id": "e7b69526",
   "metadata": {},
   "outputs": [
    {
     "data": {
      "text/plain": [
       "1     17931\n",
       "2     22166\n",
       "3     36615\n",
       "4     47206\n",
       "5     56495\n",
       "6     52895\n",
       "7     59998\n",
       "8     48243\n",
       "9     56370\n",
       "10    56478\n",
       "11    58085\n",
       "12    56283\n",
       "13    53983\n",
       "14    52350\n",
       "15    54924\n",
       "16    58528\n",
       "Name: Все типы квартир, dtype: int64"
      ]
     },
     "execution_count": 32,
     "metadata": {},
     "output_type": "execute_result"
    }
   ],
   "source": [
    "Y = data[\"Все типы квартир\"]\n",
    "Y.index = np.arange(1, len(Y) + 1)\n",
    "Y"
   ]
  },
  {
   "cell_type": "code",
   "execution_count": 430,
   "id": "cc9bf50c",
   "metadata": {},
   "outputs": [
    {
     "data": {
      "text/plain": [
       "136"
      ]
     },
     "execution_count": 430,
     "metadata": {},
     "output_type": "execute_result"
    }
   ],
   "source": [
    "x = np.array([1, 2, 3, 4, 5, 6, 7, 8, 9, 10, 11, 12, 13, 14, 15, 16])\n",
    "sum(x)"
   ]
  },
  {
   "cell_type": "code",
   "execution_count": 431,
   "id": "2c936bb6",
   "metadata": {},
   "outputs": [
    {
     "data": {
      "text/plain": [
       "16"
      ]
     },
     "execution_count": 431,
     "metadata": {},
     "output_type": "execute_result"
    }
   ],
   "source": [
    "y = np.array([17931, 22166, 36615, 47206, 56495, 52895, 59998, 48243, 56370, 56478, 58085,\n",
    "             56283, 53983, 52350, 54924, 58528])\n",
    "len(y)"
   ]
  },
  {
   "cell_type": "code",
   "execution_count": 33,
   "id": "8710df4a",
   "metadata": {},
   "outputs": [
    {
     "data": {
      "text/plain": [
       "16"
      ]
     },
     "execution_count": 33,
     "metadata": {},
     "output_type": "execute_result"
    }
   ],
   "source": [
    "if X.size == Y.size:\n",
    "    n = X.size\n",
    "n"
   ]
  },
  {
   "cell_type": "code",
   "execution_count": 433,
   "id": "281a7076",
   "metadata": {},
   "outputs": [
    {
     "data": {
      "text/plain": [
       "7348135"
      ]
     },
     "execution_count": 433,
     "metadata": {},
     "output_type": "execute_result"
    }
   ],
   "source": [
    "yf_x = y * x\n",
    "sum(yf_x)"
   ]
  },
  {
   "cell_type": "code",
   "execution_count": 40,
   "id": "8e0e39d8",
   "metadata": {},
   "outputs": [
    {
     "data": {
      "text/plain": [
       "7348135"
      ]
     },
     "execution_count": 40,
     "metadata": {},
     "output_type": "execute_result"
    }
   ],
   "source": [
    "Yf_X = Y * X\n",
    "sum(Yf_X)"
   ]
  },
  {
   "cell_type": "code",
   "execution_count": 42,
   "id": "bb3cb8f0",
   "metadata": {},
   "outputs": [
    {
     "data": {
      "text/plain": [
       "1496"
      ]
     },
     "execution_count": 42,
     "metadata": {},
     "output_type": "execute_result"
    }
   ],
   "source": [
    "X2 = X ** 2\n",
    "sum(X2)"
   ]
  },
  {
   "cell_type": "code",
   "execution_count": 435,
   "id": "48cd3988",
   "metadata": {},
   "outputs": [],
   "source": [
    "a = (sum(yf_x) - (sum(x) * sum(y)) / n) / (sum(x2) - (sum(x)**2)/n)"
   ]
  },
  {
   "cell_type": "code",
   "execution_count": 436,
   "id": "15ff23ed",
   "metadata": {},
   "outputs": [
    {
     "data": {
      "text/plain": [
       "1898.4117647058824"
      ]
     },
     "execution_count": 436,
     "metadata": {},
     "output_type": "execute_result"
    }
   ],
   "source": [
    "a"
   ]
  },
  {
   "cell_type": "code",
   "execution_count": 437,
   "id": "0303c219",
   "metadata": {},
   "outputs": [],
   "source": [
    "b = sum(y) / n - a *sum(x) / n"
   ]
  },
  {
   "cell_type": "code",
   "execution_count": 438,
   "id": "10f978b7",
   "metadata": {},
   "outputs": [
    {
     "data": {
      "text/plain": [
       "33147.875"
      ]
     },
     "execution_count": 438,
     "metadata": {},
     "output_type": "execute_result"
    }
   ],
   "source": [
    "b"
   ]
  },
  {
   "cell_type": "code",
   "execution_count": 439,
   "id": "e2afdf97",
   "metadata": {},
   "outputs": [
    {
     "data": {
      "text/plain": [
       "65420.875"
      ]
     },
     "execution_count": 439,
     "metadata": {},
     "output_type": "execute_result"
    }
   ],
   "source": [
    "predict = a * (n+1) + b\n",
    "predict"
   ]
  },
  {
   "cell_type": "code",
   "execution_count": 440,
   "id": "b606405b",
   "metadata": {},
   "outputs": [],
   "source": [
    "def s(x, w, z):\n",
    "    med = (y[x] + y[w] + y[z])/3\n",
    "    return med"
   ]
  },
  {
   "cell_type": "code",
   "execution_count": 441,
   "id": "8351d1a3",
   "metadata": {},
   "outputs": [],
   "source": [
    "listok = [0]"
   ]
  },
  {
   "cell_type": "code",
   "execution_count": 442,
   "id": "ed67c679",
   "metadata": {},
   "outputs": [],
   "source": [
    "for i in range(1,15):\n",
    "    listok.append(s(i-1, i, i+1))"
   ]
  },
  {
   "cell_type": "code",
   "execution_count": 443,
   "id": "3f1da0c2",
   "metadata": {},
   "outputs": [
    {
     "data": {
      "text/plain": [
       "[0,\n",
       " 25570.666666666668,\n",
       " 35329.0,\n",
       " 46772.0,\n",
       " 52198.666666666664,\n",
       " 56462.666666666664,\n",
       " 53712.0,\n",
       " 54870.333333333336,\n",
       " 53697.0,\n",
       " 56977.666666666664,\n",
       " 56948.666666666664,\n",
       " 56117.0,\n",
       " 54205.333333333336,\n",
       " 53752.333333333336,\n",
       " 55267.333333333336]"
      ]
     },
     "execution_count": 443,
     "metadata": {},
     "output_type": "execute_result"
    }
   ],
   "source": [
    "listok"
   ]
  },
  {
   "cell_type": "code",
   "execution_count": 444,
   "id": "5cf6d379",
   "metadata": {},
   "outputs": [],
   "source": [
    "listok.append(0)"
   ]
  },
  {
   "cell_type": "code",
   "execution_count": 445,
   "id": "0844e994",
   "metadata": {},
   "outputs": [
    {
     "data": {
      "text/plain": [
       "[0,\n",
       " 25570.666666666668,\n",
       " 35329.0,\n",
       " 46772.0,\n",
       " 52198.666666666664,\n",
       " 56462.666666666664,\n",
       " 53712.0,\n",
       " 54870.333333333336,\n",
       " 53697.0,\n",
       " 56977.666666666664,\n",
       " 56948.666666666664,\n",
       " 56117.0,\n",
       " 54205.333333333336,\n",
       " 53752.333333333336,\n",
       " 55267.333333333336,\n",
       " 0]"
      ]
     },
     "execution_count": 445,
     "metadata": {},
     "output_type": "execute_result"
    }
   ],
   "source": [
    "listok"
   ]
  },
  {
   "cell_type": "code",
   "execution_count": 446,
   "id": "3e49cbcb",
   "metadata": {},
   "outputs": [
    {
     "data": {
      "text/plain": [
       "16"
      ]
     },
     "execution_count": 446,
     "metadata": {},
     "output_type": "execute_result"
    }
   ],
   "source": [
    "len(listok)"
   ]
  },
  {
   "cell_type": "code",
   "execution_count": 447,
   "id": "2403553e",
   "metadata": {},
   "outputs": [
    {
     "data": {
      "text/plain": [
       "56468.66666666667"
      ]
     },
     "execution_count": 447,
     "metadata": {},
     "output_type": "execute_result"
    }
   ],
   "source": [
    "pred = listok[14] + 1/3 * (y[15] - y[14])\n",
    "pred"
   ]
  },
  {
   "cell_type": "code",
   "execution_count": 448,
   "id": "fa46ff5c",
   "metadata": {},
   "outputs": [],
   "source": [
    "a = 2 / 19"
   ]
  },
  {
   "cell_type": "code",
   "execution_count": 449,
   "id": "09069d49",
   "metadata": {},
   "outputs": [
    {
     "data": {
      "text/plain": [
       "49284.375"
      ]
     },
     "execution_count": 449,
     "metadata": {},
     "output_type": "execute_result"
    }
   ],
   "source": [
    "u0 = np.mean(y)\n",
    "u0"
   ]
  },
  {
   "cell_type": "code",
   "execution_count": 450,
   "id": "5f458ae7",
   "metadata": {},
   "outputs": [],
   "source": [
    "u = [u0]"
   ]
  },
  {
   "cell_type": "code",
   "execution_count": 451,
   "id": "f030f2cd",
   "metadata": {},
   "outputs": [],
   "source": [
    "for i in range(1, 16):\n",
    "    u.append(a * y[i-1] + (1 - a) * u[i-1])"
   ]
  },
  {
   "cell_type": "code",
   "execution_count": 452,
   "id": "90f44e23",
   "metadata": {},
   "outputs": [
    {
     "data": {
      "text/plain": [
       "16"
      ]
     },
     "execution_count": 452,
     "metadata": {},
     "output_type": "execute_result"
    }
   ],
   "source": [
    "len(u)"
   ]
  },
  {
   "cell_type": "code",
   "execution_count": 453,
   "id": "5a2194e1",
   "metadata": {},
   "outputs": [
    {
     "data": {
      "text/plain": [
       "52257.56335863652"
      ]
     },
     "execution_count": 453,
     "metadata": {},
     "output_type": "execute_result"
    }
   ],
   "source": [
    "a * y[15] + (1 - a) * u[15]"
   ]
  },
  {
   "cell_type": "code",
   "execution_count": null,
   "id": "151fae2a",
   "metadata": {},
   "outputs": [],
   "source": []
  }
 ],
 "metadata": {
  "kernelspec": {
   "display_name": "Python 3",
   "language": "python",
   "name": "python3"
  },
  "language_info": {
   "codemirror_mode": {
    "name": "ipython",
    "version": 3
   },
   "file_extension": ".py",
   "mimetype": "text/x-python",
   "name": "python",
   "nbconvert_exporter": "python",
   "pygments_lexer": "ipython3",
   "version": "3.8.8"
  }
 },
 "nbformat": 4,
 "nbformat_minor": 5
}
