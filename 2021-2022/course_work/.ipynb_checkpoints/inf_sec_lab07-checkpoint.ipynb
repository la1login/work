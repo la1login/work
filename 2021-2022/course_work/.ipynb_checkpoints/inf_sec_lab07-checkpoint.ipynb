{
 "cells": [
  {
   "cell_type": "code",
   "execution_count": 35,
   "id": "ff7698be",
   "metadata": {},
   "outputs": [],
   "source": [
    "from itertools import zip_longest\n",
    "def gamma_cr(text, key):\n",
    "    shifr = ''\n",
    "    for (x, y) in zip_longest(text, key):\n",
    "        if not x:\n",
    "            break\n",
    "        shifr += chr((ord(x) ^ ord(y)))\n",
    "    return shifr"
   ]
  },
  {
   "cell_type": "code",
   "execution_count": 36,
   "id": "cd229179",
   "metadata": {},
   "outputs": [],
   "source": [
    "text1 = 'привет дорогой друг'"
   ]
  },
  {
   "cell_type": "code",
   "execution_count": 37,
   "id": "b5bfa3df",
   "metadata": {},
   "outputs": [
    {
     "data": {
      "text/plain": [
       "19"
      ]
     },
     "execution_count": 37,
     "metadata": {},
     "output_type": "execute_result"
    }
   ],
   "source": [
    "len(text1)"
   ]
  },
  {
   "cell_type": "code",
   "execution_count": 40,
   "id": "3a0cbbf1",
   "metadata": {},
   "outputs": [],
   "source": [
    "key1 = '2134frewhjko568445m'"
   ]
  },
  {
   "cell_type": "code",
   "execution_count": 41,
   "id": "a6f35178",
   "metadata": {},
   "outputs": [
    {
     "data": {
      "text/plain": [
       "19"
      ]
     },
     "execution_count": 41,
     "metadata": {},
     "output_type": "execute_result"
    }
   ],
   "source": [
    "len(key1)"
   ]
  },
  {
   "cell_type": "code",
   "execution_count": 42,
   "id": "e973e538",
   "metadata": {},
   "outputs": [
    {
     "name": "stdout",
     "output_type": "stream",
     "text": [
      "ЍѱЋІѓаEуіЪѕќЋЏ\u0018ЀѴѶў\n"
     ]
    }
   ],
   "source": [
    "shifr1 = gamma_cr(text1, key1)\n",
    "print(shifr1)"
   ]
  },
  {
   "cell_type": "code",
   "execution_count": 43,
   "id": "71a37dce",
   "metadata": {},
   "outputs": [
    {
     "data": {
      "text/plain": [
       "19"
      ]
     },
     "execution_count": 43,
     "metadata": {},
     "output_type": "execute_result"
    }
   ],
   "source": [
    "len(shifr1)"
   ]
  },
  {
   "cell_type": "code",
   "execution_count": 45,
   "id": "338ae70e",
   "metadata": {},
   "outputs": [
    {
     "name": "stdout",
     "output_type": "stream",
     "text": [
      "привет дорогой друг\n"
     ]
    }
   ],
   "source": [
    "text2 = gamma_cr(shifr1, key1)\n",
    "print(text2)"
   ]
  },
  {
   "cell_type": "code",
   "execution_count": 46,
   "id": "83a2ec34",
   "metadata": {},
   "outputs": [
    {
     "name": "stdout",
     "output_type": "stream",
     "text": [
      "2134frewhjko568445m\n"
     ]
    }
   ],
   "source": [
    "key2 = gamma_cr(text1, shifr1)\n",
    "print(key2)"
   ]
  },
  {
   "cell_type": "code",
   "execution_count": 47,
   "id": "d634f8e2",
   "metadata": {},
   "outputs": [
    {
     "data": {
      "text/plain": [
       "True"
      ]
     },
     "execution_count": 47,
     "metadata": {},
     "output_type": "execute_result"
    }
   ],
   "source": [
    "key2 == key1"
   ]
  },
  {
   "cell_type": "code",
   "execution_count": 48,
   "id": "55a96aef",
   "metadata": {},
   "outputs": [
    {
     "name": "stdout",
     "output_type": "stream",
     "text": [
      "2134frewhjko56824Fm\n"
     ]
    }
   ],
   "source": [
    "key3 = gamma_cr(shifr1, 'привет дорогой враг')\n",
    "print(key3)"
   ]
  },
  {
   "cell_type": "code",
   "execution_count": 49,
   "id": "5e80a96b",
   "metadata": {},
   "outputs": [
    {
     "name": "stdout",
     "output_type": "stream",
     "text": [
      "привет дорогой враг\n"
     ]
    }
   ],
   "source": [
    "print(gamma_cr(shifr1, key3))"
   ]
  },
  {
   "cell_type": "code",
   "execution_count": 54,
   "id": "45850381",
   "metadata": {},
   "outputs": [],
   "source": [
    "key4 = (gamma_cr('Этот текст из 22  симв','C Новым Годом, друзья!'))"
   ]
  },
  {
   "cell_type": "code",
   "execution_count": 55,
   "id": "b51eaec5",
   "metadata": {},
   "outputs": [
    {
     "name": "stdout",
     "output_type": "stream",
     "text": [
      "ѮѢ#|В\t\tКR|Д\u0006\u000b",
      "\f",
      "\u0012ІѠѣvtsГ\n"
     ]
    },
    {
     "data": {
      "text/plain": [
       "22"
      ]
     },
     "execution_count": 55,
     "metadata": {},
     "output_type": "execute_result"
    }
   ],
   "source": [
    "print(key4)\n",
    "len(key4)"
   ]
  },
  {
   "cell_type": "code",
   "execution_count": 57,
   "id": "c9d6bb50",
   "metadata": {},
   "outputs": [
    {
     "name": "stdout",
     "output_type": "stream",
     "text": [
      "C Новым Годом, друзья!\n"
     ]
    }
   ],
   "source": [
    "print(gamma_cr('Этот текст из 22  симв', key4))"
   ]
  },
  {
   "cell_type": "code",
   "execution_count": null,
   "id": "2361a757",
   "metadata": {},
   "outputs": [],
   "source": []
  }
 ],
 "metadata": {
  "kernelspec": {
   "display_name": "Python 3",
   "language": "python",
   "name": "python3"
  },
  "language_info": {
   "codemirror_mode": {
    "name": "ipython",
    "version": 3
   },
   "file_extension": ".py",
   "mimetype": "text/x-python",
   "name": "python",
   "nbconvert_exporter": "python",
   "pygments_lexer": "ipython3",
   "version": "3.8.8"
  }
 },
 "nbformat": 4,
 "nbformat_minor": 5
}
