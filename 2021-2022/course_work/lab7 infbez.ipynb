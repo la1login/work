{
 "cells": [
  {
   "cell_type": "code",
   "execution_count": 100,
   "id": "0b21d0d4",
   "metadata": {},
   "outputs": [
    {
     "name": "stdout",
     "output_type": "stream",
     "text": [
      "ЎѲЋЁЇѳ\n",
      "привет\n",
      "с новы\n"
     ]
    }
   ],
   "source": [
    "from itertools import zip_longest, cycle\n",
    " \n",
    " \n",
    "def xor_crypt_string(data: str, key: str):\n",
    "    xored = ''\n",
    "    for (x, y) in zip_longest(data, cycle(key)):\n",
    "        if not x:\n",
    "            break\n",
    "        xored += chr((ord(x) ^ ord(y)))\n",
    "    return xored"
   ]
  },
  {
   "cell_type": "code",
   "execution_count": 96,
   "id": "70b6c8af",
   "metadata": {},
   "outputs": [],
   "source": [
    "b = xor_crypt_string('привет дорогой друг', 'это просто ключ')"
   ]
  },
  {
   "cell_type": "code",
   "execution_count": 97,
   "id": "ee34d42b",
   "metadata": {},
   "outputs": [
    {
     "name": "stdout",
     "output_type": "stream",
     "text": [
      "r\u0002\u0006В\n",
      "\u0002Оu|~О\t\u0005wѧy\u0002}Г\n"
     ]
    }
   ],
   "source": [
    "print(b)"
   ]
  },
  {
   "cell_type": "code",
   "execution_count": 98,
   "id": "87de6df9",
   "metadata": {},
   "outputs": [
    {
     "name": "stdout",
     "output_type": "stream",
     "text": [
      "привет дорогой друг\n"
     ]
    }
   ],
   "source": [
    "print(xor_crypt_string(b, 'это просто ключ'))"
   ]
  },
  {
   "cell_type": "code",
   "execution_count": 38,
   "id": "49d01050",
   "metadata": {},
   "outputs": [],
   "source": [
    "alphabeth = 'abcdefghijklmnopqrstuvwxyz'\n",
    "def encrypt(text, gamma):\n",
    "    textLen = len(text)\n",
    "    gammaLen = len(gamma)\n",
    "\n",
    "    #Формируем ключевое слово(растягиваем гамму на длину текста)\n",
    "    keyText = []\n",
    "    for i in range(textLen // gammaLen):\n",
    "        for symb in gamma:\n",
    "            keyText.append(symb)\n",
    "    for i in range(textLen % gammaLen):\n",
    "        keyText.append(gamma[i])\n",
    "\n",
    "    #Шифрование\n",
    "    code = []\n",
    "    for i in range(textLen):\n",
    "        code.append(alphabeth[(alphabeth.index(text[i]) + alphabeth.index(keyText[i])) % 26])\n",
    "\n",
    "    return code"
   ]
  },
  {
   "cell_type": "code",
   "execution_count": 48,
   "id": "132c3827",
   "metadata": {},
   "outputs": [],
   "source": [
    "a = encrypt('hellomydearfriend', 'itsaverysimplekey')"
   ]
  },
  {
   "cell_type": "code",
   "execution_count": 49,
   "id": "f1392631",
   "metadata": {},
   "outputs": [
    {
     "name": "stdout",
     "output_type": "stream",
     "text": [
      "['p', 'x', 'd', 'l', 'j', 'q', 'p', 'b', 'w', 'i', 'd', 'u', 'c', 'm', 'o', 'r', 'b']\n"
     ]
    }
   ],
   "source": [
    "print(a)"
   ]
  },
  {
   "cell_type": "code",
   "execution_count": 67,
   "id": "58c3e290",
   "metadata": {},
   "outputs": [],
   "source": [
    "def decrypt(code, gamma):\n",
    "    codeLen = len(code)\n",
    "    gammaLen = len(gamma)\n",
    "\n",
    "    #Формируем ключевое слово(растягиваем гамму на длину текста)\n",
    "    keyText = []\n",
    "    for i in range(codeLen // gammaLen):\n",
    "        for symb in gamma:\n",
    "            keyText.append(symb)\n",
    "    for i in range(codeLen % gammaLen):\n",
    "        keyText.append(gamma[i])\n",
    "\n",
    "    #Расшифровка\n",
    "    text = []\n",
    "    for i in range(codeLen):\n",
    "        text.append(alphabeth[(alphabeth.index(code[i]) - alphabeth.index(keyText[i]) + 26) % 26]) \n",
    "\n",
    "    return text"
   ]
  },
  {
   "cell_type": "code",
   "execution_count": 51,
   "id": "9a2911b4",
   "metadata": {},
   "outputs": [
    {
     "name": "stdout",
     "output_type": "stream",
     "text": [
      "['h', 'e', 'l', 'l', 'o', 'm', 'y', 'd', 'e', 'a', 'r', 'f', 'r', 'i', 'e', 'n', 'd']\n"
     ]
    }
   ],
   "source": [
    "print(decrypt(a, 'itsaverysimplekey'))"
   ]
  },
  {
   "cell_type": "code",
   "execution_count": 53,
   "id": "6a488f2a",
   "metadata": {},
   "outputs": [
    {
     "name": "stdout",
     "output_type": "stream",
     "text": [
      "['h', 'e', 'l', 't', 'b', 'e', 'a', 'q', 's', 'i', 't', 'q', 'e', 'e', 'v', 'z', 'j']\n"
     ]
    }
   ],
   "source": [
    "print(decrypt(a, 'itssimpleakey'))"
   ]
  },
  {
   "cell_type": "code",
   "execution_count": 76,
   "id": "b505c490",
   "metadata": {},
   "outputs": [],
   "source": [
    "def key_search(text, shifr):\n",
    "    tlen = len(text)\n",
    "    slen = len(shifr)\n",
    "    key = []\n",
    "    \n",
    "    if(tlen == slen):\n",
    "        for i in range(tlen):\n",
    "            key.append(alphabeth[(alphabeth.index(text[i]) ^ alphabeth.index(shifr[i])) % 26])\n",
    "    return key"
   ]
  },
  {
   "cell_type": "code",
   "execution_count": 77,
   "id": "141dd17a",
   "metadata": {},
   "outputs": [
    {
     "name": "stdout",
     "output_type": "stream",
     "text": [
      "['i', 't', 'i', 'a', 'h', 'c', 'x', 'c', 's', 'i', 's', 'r', 't', 'e', 'k', 'c', 'c']\n"
     ]
    }
   ],
   "source": [
    "print(key_search('hellomydearfriend', a))"
   ]
  },
  {
   "cell_type": "code",
   "execution_count": 78,
   "id": "f4dd7002",
   "metadata": {},
   "outputs": [
    {
     "name": "stdout",
     "output_type": "stream",
     "text": [
      "['h', 'e', 'l', 'l', 'o', 's', 'y', 'd', 'e', 'a', 'r', 'f', 'r', 'i', 'e', 't', 'd']\n"
     ]
    }
   ],
   "source": [
    "print(decrypt(a, key_search('hellomydearfriend', a)))"
   ]
  },
  {
   "cell_type": "code",
   "execution_count": null,
   "id": "5223ca57",
   "metadata": {},
   "outputs": [],
   "source": []
  }
 ],
 "metadata": {
  "kernelspec": {
   "display_name": "Python 3",
   "language": "python",
   "name": "python3"
  },
  "language_info": {
   "codemirror_mode": {
    "name": "ipython",
    "version": 3
   },
   "file_extension": ".py",
   "mimetype": "text/x-python",
   "name": "python",
   "nbconvert_exporter": "python",
   "pygments_lexer": "ipython3",
   "version": "3.8.8"
  }
 },
 "nbformat": 4,
 "nbformat_minor": 5
}
